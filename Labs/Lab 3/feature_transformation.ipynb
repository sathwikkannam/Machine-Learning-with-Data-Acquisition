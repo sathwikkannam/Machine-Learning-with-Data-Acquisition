{
 "cells": [
  {
   "cell_type": "code",
   "execution_count": null,
   "outputs": [],
   "source": [
    "import pandas as pd\n",
    "from common import get_set, sns_cm\n",
    "from sklearn.model_selection import train_test_split\n",
    "from sklearn.metrics import accuracy_score\n",
    "from sklearn.tree import plot_tree, DecisionTreeClassifier\n",
    "from sklearn.model_selection import GridSearchCV, KFold\n",
    "from sklearn.neighbors import KNeighborsClassifier"
   ],
   "metadata": {
    "collapsed": false
   },
   "id": "161ececb4166f2e5"
  },
  {
   "cell_type": "markdown",
   "source": [
    "##### Hyperparameters"
   ],
   "metadata": {
    "collapsed": false
   },
   "id": "5e7faab615385c83"
  },
  {
   "cell_type": "code",
   "execution_count": null,
   "outputs": [],
   "source": [
    "folds = KFold(n_splits=20)\n",
    "k_range = list(range(1, 50))\n",
    "\n",
    "param_grid = {\n",
    "    'max_depth': list(range(1, 50)),\n",
    "    'criterion': ['gini', 'entropy']\n",
    "}"
   ],
   "metadata": {
    "collapsed": false
   },
   "id": "28ab17a8adaa0730"
  },
  {
   "cell_type": "code",
   "execution_count": null,
   "outputs": [],
   "source": [
    "grid_knn = GridSearchCV(estimator=KNeighborsClassifier(),\n",
    "                        param_grid=dict(n_neighbors=k_range),\n",
    "                        cv=folds,\n",
    "                        scoring='accuracy',\n",
    "                        return_train_score=False)\n",
    "\n",
    "grid_dt = GridSearchCV(estimator=DecisionTreeClassifier(),\n",
    "                       param_grid=param_grid,\n",
    "                       cv=folds,\n",
    "                       scoring='accuracy',\n",
    "                       return_train_score=False)"
   ],
   "metadata": {
    "collapsed": false
   },
   "id": "83db54f877048fb7"
  },
  {
   "cell_type": "code",
   "execution_count": null,
   "id": "initial_id",
   "metadata": {
    "collapsed": true
   },
   "outputs": [],
   "source": [
    "classes = get_set(\"Class Dataframes\")"
   ]
  },
  {
   "cell_type": "markdown",
   "source": [
    "# Feature Transformation"
   ],
   "metadata": {
    "collapsed": false
   },
   "id": "e7082f060107050f"
  },
  {
   "cell_type": "markdown",
   "source": [
    "#### Transform all features using rolling with the parameter 10. Tip: store the transformed dataframes in new pickle files. You never know if you need them later"
   ],
   "metadata": {
    "collapsed": false
   },
   "id": "4128d3338b2a8497"
  },
  {
   "cell_type": "code",
   "execution_count": null,
   "outputs": [],
   "source": [
    "ROLLING_WINDOW = 10"
   ],
   "metadata": {
    "collapsed": false
   },
   "id": "54790a58fe5a264e"
  },
  {
   "cell_type": "code",
   "execution_count": null,
   "outputs": [],
   "source": [
    "for _class in classes:\n",
    "    transformed_df = pd.rolling(window=ROLLING_WINDOW).transform(lambda x: x + ROLLING_WINDOW)\n",
    "    transformed_df.to_pickle(f\"../Binaries/Transformed/{_class['class'][0]}.pkl\")"
   ],
   "metadata": {
    "collapsed": false
   },
   "id": "ba48647db10a963b"
  },
  {
   "cell_type": "markdown",
   "source": [
    "#### What does the parameter (.rolling(10)) mean?"
   ],
   "metadata": {
    "collapsed": false
   },
   "id": "33a924db5691b7fd"
  },
  {
   "cell_type": "code",
   "execution_count": null,
   "outputs": [],
   "source": [
    "transformed_classes = get_set(folder=\"Transformed\")\n",
    "transformed_df = pd.concat(transformed_classes, axis='rows', ignore_index=True)"
   ],
   "metadata": {
    "collapsed": false
   },
   "id": "b963801bb5224093"
  },
  {
   "cell_type": "markdown",
   "source": [
    "# Make the classification again (same classes as above) as previously, with KNN or Decision Trees. Compare the results with previous, untransformed features. Is the result improved?"
   ],
   "metadata": {
    "collapsed": false
   },
   "id": "c95222058185445e"
  },
  {
   "cell_type": "code",
   "execution_count": null,
   "outputs": [],
   "source": [
    "X = transformed_df.drop('class')\n",
    "y = transformed_df['class']\n",
    "\n",
    "X_train, X_test, y_train, y_test = train_test_split(X, y, test_size=0.30, shuffle=True)"
   ],
   "metadata": {
    "collapsed": false
   },
   "id": "e907d37b87a96e12"
  },
  {
   "cell_type": "markdown",
   "source": [
    "# KNN with transformed"
   ],
   "metadata": {
    "collapsed": false
   },
   "id": "795b9b8958c221fd"
  },
  {
   "cell_type": "code",
   "execution_count": null,
   "outputs": [],
   "source": [
    "grid_knn.fit(X_train, y_train)"
   ],
   "metadata": {
    "collapsed": false
   },
   "id": "dddfe8c51efeaa01"
  },
  {
   "cell_type": "markdown",
   "source": [
    "##### What is the optimal k-value?"
   ],
   "metadata": {
    "collapsed": false
   },
   "id": "4fd6ce14e8e830a3"
  },
  {
   "cell_type": "code",
   "execution_count": null,
   "outputs": [],
   "source": [
    "grid_knn.best_params_"
   ],
   "metadata": {
    "collapsed": false
   },
   "id": "cc7c0619e99a22f2"
  },
  {
   "cell_type": "markdown",
   "source": [
    "##### What is the accuracy?"
   ],
   "metadata": {
    "collapsed": false
   },
   "id": "b840bb8d9a41c49c"
  },
  {
   "cell_type": "code",
   "execution_count": null,
   "outputs": [],
   "source": [
    "grid_knn.best_score_"
   ],
   "metadata": {
    "collapsed": false
   },
   "id": "4770e48bd9a8de91"
  },
  {
   "cell_type": "markdown",
   "source": [
    "##### Display scores"
   ],
   "metadata": {
    "collapsed": false
   },
   "id": "d03b2e6a4f7bed39"
  },
  {
   "cell_type": "code",
   "execution_count": null,
   "outputs": [],
   "source": [
    "scores = pd.DataFrame(grid_knn.cv_results_)"
   ],
   "metadata": {
    "collapsed": false
   },
   "id": "f4b7874c8e224837"
  },
  {
   "cell_type": "code",
   "execution_count": null,
   "outputs": [],
   "source": [
    "scores"
   ],
   "metadata": {
    "collapsed": false
   },
   "id": "a7751928a2a5ca5d"
  },
  {
   "cell_type": "markdown",
   "source": [
    "##### Plot the accuracy as a function of the k-value."
   ],
   "metadata": {
    "collapsed": false
   },
   "id": "c8794f860678b1c1"
  },
  {
   "cell_type": "code",
   "execution_count": null,
   "outputs": [],
   "source": [
    "scores['mean_test_score'].plot(title='Accuracy', xlabel='k')"
   ],
   "metadata": {
    "collapsed": false
   },
   "id": "c73289d0b4b7ad28"
  },
  {
   "cell_type": "markdown",
   "source": [
    "##### Predict"
   ],
   "metadata": {
    "collapsed": false
   },
   "id": "2ac22bac75d9f040"
  },
  {
   "cell_type": "code",
   "execution_count": null,
   "outputs": [],
   "source": [
    "y_pred_knn = grid_knn.predict(X=X_test)"
   ],
   "metadata": {
    "collapsed": false
   },
   "id": "766676039fe0de87"
  },
  {
   "cell_type": "code",
   "execution_count": null,
   "outputs": [],
   "source": [
    "accuracy_score(y_true=y_test, y_pred=y_pred_knn)"
   ],
   "metadata": {
    "collapsed": false
   },
   "id": "1cea2d7080cb7c7d"
  },
  {
   "cell_type": "markdown",
   "source": [
    "##### Confusion matrix"
   ],
   "metadata": {
    "collapsed": false
   },
   "id": "4f2886d31b858dcd"
  },
  {
   "cell_type": "code",
   "execution_count": null,
   "outputs": [],
   "source": [
    "sns_cm(y_test, y_pred_knn)"
   ],
   "metadata": {
    "collapsed": false
   },
   "id": "dd7331a64d624c27"
  },
  {
   "cell_type": "markdown",
   "source": [
    "# Decision tree transformed"
   ],
   "metadata": {
    "collapsed": false
   },
   "id": "b1db562f1bdb7347"
  },
  {
   "cell_type": "code",
   "execution_count": null,
   "outputs": [],
   "source": [
    "grid_dt.fit(X_train, y_train)"
   ],
   "metadata": {
    "collapsed": false
   },
   "id": "f015534d1537771f"
  },
  {
   "cell_type": "markdown",
   "source": [
    "##### Best hyper parameters"
   ],
   "metadata": {
    "collapsed": false
   },
   "id": "f4359b2b1234881b"
  },
  {
   "cell_type": "code",
   "execution_count": null,
   "outputs": [],
   "source": [
    "grid_dt.best_params_"
   ],
   "metadata": {
    "collapsed": false
   },
   "id": "7a907d39bcda4842"
  },
  {
   "cell_type": "markdown",
   "source": [
    "##### What is the accuracy?"
   ],
   "metadata": {
    "collapsed": false
   },
   "id": "182503c8d5901435"
  },
  {
   "cell_type": "code",
   "execution_count": null,
   "outputs": [],
   "source": [
    "grid_dt.best_score_"
   ],
   "metadata": {
    "collapsed": false
   },
   "id": "e6970de9a73d4ca6"
  },
  {
   "cell_type": "markdown",
   "source": [
    "##### Display scores"
   ],
   "metadata": {
    "collapsed": false
   },
   "id": "a7a5845e42ea9376"
  },
  {
   "cell_type": "code",
   "execution_count": null,
   "outputs": [],
   "source": [
    "scores_dt = pd.DataFrame(grid_knn.cv_results_)"
   ],
   "metadata": {
    "collapsed": false
   },
   "id": "25ecac052c2070d4"
  },
  {
   "cell_type": "markdown",
   "source": [
    "##### Does the criterion have an impact on the accuracy? Make an investigation so you can answer this question"
   ],
   "metadata": {
    "collapsed": false
   },
   "id": "5e6e9922dd701cbf"
  },
  {
   "cell_type": "code",
   "execution_count": null,
   "outputs": [],
   "source": [
    "scores_dt"
   ],
   "metadata": {
    "collapsed": false
   },
   "id": "21e6fbe74081dbc5"
  },
  {
   "cell_type": "markdown",
   "source": [
    "##### Tree"
   ],
   "metadata": {
    "collapsed": false
   },
   "id": "42ce966fcb405d9d"
  },
  {
   "cell_type": "code",
   "execution_count": null,
   "outputs": [],
   "source": [
    "plot_tree(\n",
    "    decision_tree=grid_dt.best_estimator_,\n",
    "    feature_names=['ax', 'ay', 'az', 'gx', 'gy', 'gz'],\n",
    "    class_names=['Squats', 'Jumping', 'Running', 'Walking'],\n",
    "    fontsize=7,\n",
    "    max_depth=3\n",
    ")"
   ],
   "metadata": {
    "collapsed": false
   },
   "id": "9e548b15e0bae75b"
  },
  {
   "cell_type": "markdown",
   "source": [
    "##### Predict"
   ],
   "metadata": {
    "collapsed": false
   },
   "id": "e454f9f76889eb5a"
  },
  {
   "cell_type": "code",
   "execution_count": null,
   "outputs": [],
   "source": [
    "y_pred_dt = grid_knn.predict(X=X_test)"
   ],
   "metadata": {
    "collapsed": false
   },
   "id": "456d15348f7a2603"
  },
  {
   "cell_type": "code",
   "execution_count": null,
   "outputs": [],
   "source": [
    "accuracy_score(y_true=y_test, y_pred=y_pred_dt)"
   ],
   "metadata": {
    "collapsed": false
   },
   "id": "6a444932af74baaa"
  },
  {
   "cell_type": "markdown",
   "source": [
    "##### Confusion matrix"
   ],
   "metadata": {
    "collapsed": false
   },
   "id": "e3dff4eb6d65a46c"
  },
  {
   "cell_type": "code",
   "execution_count": null,
   "outputs": [],
   "source": [
    "sns_cm(y_test, y_pred_dt)"
   ],
   "metadata": {
    "collapsed": false
   },
   "id": "a0d45f38b3f7c5fd"
  },
  {
   "cell_type": "markdown",
   "source": [
    "#### Try with a larger parameter, for example, 50. Is the result improved?"
   ],
   "metadata": {
    "collapsed": false
   },
   "id": "d66856b8f84b6406"
  }
 ],
 "metadata": {
  "kernelspec": {
   "display_name": "Python 3",
   "language": "python",
   "name": "python3"
  },
  "language_info": {
   "codemirror_mode": {
    "name": "ipython",
    "version": 2
   },
   "file_extension": ".py",
   "mimetype": "text/x-python",
   "name": "python",
   "nbconvert_exporter": "python",
   "pygments_lexer": "ipython2",
   "version": "2.7.6"
  }
 },
 "nbformat": 4,
 "nbformat_minor": 5
}
