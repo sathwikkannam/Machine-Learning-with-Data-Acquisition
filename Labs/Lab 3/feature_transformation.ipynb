{
 "cells": [
  {
   "cell_type": "markdown",
   "source": [
    "# Feature Transformation"
   ],
   "metadata": {
    "collapsed": false
   },
   "id": "e7082f060107050f"
  },
  {
   "cell_type": "markdown",
   "source": [
    "#### Transform all features using rolling with the parameter 10. Tip: store the transformed dataframes in new pickle files. You never know if you need them later"
   ],
   "metadata": {
    "collapsed": false
   },
   "id": "4128d3338b2a8497"
  },
  {
   "cell_type": "markdown",
   "source": [
    "#### What does the parameter (.rolling(10)) mean?"
   ],
   "metadata": {
    "collapsed": false
   },
   "id": "33a924db5691b7fd"
  },
  {
   "cell_type": "markdown",
   "source": [
    "#### Make the classification again (same classes as above) as previously, with KNN or Decision Trees. Compare the results with previous, untransformed features. Is the result improved?"
   ],
   "metadata": {
    "collapsed": false
   },
   "id": "c95222058185445e"
  },
  {
   "cell_type": "markdown",
   "source": [
    "#### Try with a larger parameter, for example, 50. Is the result improved?"
   ],
   "metadata": {
    "collapsed": false
   },
   "id": "d66856b8f84b6406"
  },
  {
   "cell_type": "code",
   "execution_count": null,
   "id": "initial_id",
   "metadata": {
    "collapsed": true
   },
   "outputs": [],
   "source": []
  }
 ],
 "metadata": {
  "kernelspec": {
   "display_name": "Python 3",
   "language": "python",
   "name": "python3"
  },
  "language_info": {
   "codemirror_mode": {
    "name": "ipython",
    "version": 2
   },
   "file_extension": ".py",
   "mimetype": "text/x-python",
   "name": "python",
   "nbconvert_exporter": "python",
   "pygments_lexer": "ipython2",
   "version": "2.7.6"
  }
 },
 "nbformat": 4,
 "nbformat_minor": 5
}
