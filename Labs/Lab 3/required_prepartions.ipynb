{
 "cells": [
  {
   "cell_type": "code",
   "execution_count": null,
   "id": "initial_id",
   "metadata": {
    "collapsed": true
   },
   "outputs": [],
   "source": [
    "import pandas as pd\n",
    "from common import get_set\n",
    "import import_ipynb as ipynb\n",
    "import os"
   ]
  },
  {
   "cell_type": "code",
   "execution_count": null,
   "outputs": [],
   "source": [
    "%%capture\n",
    "os.chdir(\"../Lab 1\")\n",
    "lab_1 = ipynb.NotebookLoader().load_module('lab1')\n",
    "os.chdir(\"../Lab 2\")"
   ],
   "metadata": {
    "collapsed": false
   },
   "id": "44d6b989dbb7c1be"
  },
  {
   "cell_type": "markdown",
   "source": [
    "##### Update the training folder, so you include the new training data in each pickle-file. That is in the training folder you should have 7 pickle files one for each class. Each file contains at least 4500 instances with seven colums."
   ],
   "metadata": {
    "collapsed": false
   },
   "id": "290e6bb850428d93"
  },
  {
   "cell_type": "code",
   "execution_count": null,
   "outputs": [],
   "source": [
    "all_classes = ['Jumping', 'Laying_down', 'Running', 'Sitting', 'Squats', 'Standing_up', 'Walking']"
   ],
   "metadata": {
    "collapsed": false
   },
   "id": "1903d4d22e45702c"
  },
  {
   "cell_type": "code",
   "execution_count": null,
   "outputs": [],
   "source": [
    "dfs = {}\n",
    "\n",
    "for pos in all_classes:\n",
    "    processed_dataframe = lab_1.pre_process_file(acc_file=f\"../Data/ML_Lab_1_{pos}_4/Accelerometer.csv\",\n",
    "                                                 rate_gyro_file=f\"../Data/ML_Lab_1_{pos}_4/Gyroscope.csv\",\n",
    "                                                 n=0)\n",
    "    processed_dataframe['class'] = pos\n",
    "    dfs[f\"{pos}\"] = processed_dataframe"
   ],
   "metadata": {
    "collapsed": false
   },
   "id": "bb92d5dbab91fe75"
  },
  {
   "cell_type": "code",
   "execution_count": null,
   "outputs": [],
   "source": [
    "previous_classes = get_set(folder = 'Class dataframes')"
   ],
   "metadata": {
    "collapsed": false
   },
   "id": "10c33cc89d85d24f"
  },
  {
   "cell_type": "code",
   "execution_count": null,
   "outputs": [],
   "source": [
    "for key in dfs:\n",
    "    for _class in previous_classes:\n",
    "        if str(_class['class'][0]) == key:\n",
    "            df = pd.concat([_class, dfs[key]], axis='rows', ignore_index=True)\n",
    "            df.to_pickle(f\"../Binaries/Class dataframes/{key}.pkl\")\n",
    "            print(df)"
   ],
   "metadata": {
    "collapsed": false
   },
   "id": "2fd0074fcbb59c49"
  }
 ],
 "metadata": {
  "kernelspec": {
   "display_name": "Python 3",
   "language": "python",
   "name": "python3"
  },
  "language_info": {
   "codemirror_mode": {
    "name": "ipython",
    "version": 2
   },
   "file_extension": ".py",
   "mimetype": "text/x-python",
   "name": "python",
   "nbconvert_exporter": "python",
   "pygments_lexer": "ipython2",
   "version": "2.7.6"
  }
 },
 "nbformat": 4,
 "nbformat_minor": 5
}
