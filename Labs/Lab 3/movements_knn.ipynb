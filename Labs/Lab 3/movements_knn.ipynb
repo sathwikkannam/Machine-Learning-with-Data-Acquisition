{
 "cells": [
  {
   "cell_type": "code",
   "execution_count": 31,
   "id": "initial_id",
   "metadata": {
    "collapsed": true,
    "ExecuteTime": {
     "end_time": "2023-09-19T17:06:30.568351Z",
     "start_time": "2023-09-19T17:06:30.465257300Z"
    }
   },
   "outputs": [],
   "source": [
    "from common import sns_cm, get_set, display_accuracy, scatter_plot\n",
    "import pandas as pd\n",
    "\n",
    "from sklearn.model_selection import train_test_split\n",
    "from sklearn.neighbors import KNeighborsClassifier\n",
    "from sklearn.metrics import accuracy_score\n",
    "from sklearn.model_selection import GridSearchCV\n",
    "from sklearn.model_selection import KFold"
   ]
  },
  {
   "cell_type": "markdown",
   "source": [
    "##### Change directories and load Lab 1"
   ],
   "metadata": {
    "collapsed": false
   },
   "id": "60aa30163b7c9a2b"
  },
  {
   "cell_type": "markdown",
   "source": [
    "# Classification of different positions"
   ],
   "metadata": {
    "collapsed": false
   },
   "id": "16a0cb07ad43388d"
  },
  {
   "cell_type": "markdown",
   "source": [
    "#### We will use the K-nearest neighbor algorithm and decision trees in this lab. In this part you should only work with the movement positions:\n",
    "- Squats\n",
    "- Jumping\n",
    "- Running\n",
    "- Walking"
   ],
   "metadata": {
    "collapsed": false
   },
   "id": "eb7ab2144325fded"
  },
  {
   "cell_type": "code",
   "execution_count": 38,
   "outputs": [],
   "source": [
    "movement_positions : list[str] = ['Squats', 'Jumping', 'Running', 'Walking']"
   ],
   "metadata": {
    "collapsed": false,
    "ExecuteTime": {
     "end_time": "2023-09-19T17:06:33.640424700Z",
     "start_time": "2023-09-19T17:06:33.574782200Z"
    }
   },
   "id": "a0af184b293f9703"
  },
  {
   "cell_type": "code",
   "execution_count": 39,
   "outputs": [],
   "source": [
    "training_sets = get_set(positions=movement_positions, folder='Class Dataframes')\n",
    "testing_sets = get_set(positions=movement_positions, folder='Test')"
   ],
   "metadata": {
    "collapsed": false,
    "ExecuteTime": {
     "end_time": "2023-09-19T17:06:33.651521700Z",
     "start_time": "2023-09-19T17:06:33.590131500Z"
    }
   },
   "id": "81e7755012181bad"
  },
  {
   "cell_type": "code",
   "execution_count": 40,
   "outputs": [],
   "source": [
    "testing_set = pd.concat(testing_sets, axis='rows')\n",
    "df = pd.concat(training_sets, axis='rows')"
   ],
   "metadata": {
    "collapsed": false,
    "ExecuteTime": {
     "end_time": "2023-09-19T17:06:33.652517Z",
     "start_time": "2023-09-19T17:06:33.635918900Z"
    }
   },
   "id": "52c8eda27b27aa54"
  },
  {
   "cell_type": "markdown",
   "source": [
    "#### We start with working with the KNN algorithm. You should use crossvalidation for evaluating the model."
   ],
   "metadata": {
    "collapsed": false
   },
   "id": "5d675cb01468bb28"
  },
  {
   "cell_type": "code",
   "execution_count": 41,
   "outputs": [],
   "source": [
    "knn = KNeighborsClassifier()"
   ],
   "metadata": {
    "collapsed": false,
    "ExecuteTime": {
     "end_time": "2023-09-19T17:06:33.683056900Z",
     "start_time": "2023-09-19T17:06:33.652517Z"
    }
   },
   "id": "adf83d3c308db958"
  },
  {
   "cell_type": "code",
   "execution_count": 42,
   "outputs": [
    {
     "data": {
      "text/plain": "            ax        ay         az        gx        gy        gz        class\n0     0.066700 -0.497707  -9.903594 -0.007330  0.003054 -0.004123  Laying_down\n1     0.021236 -0.492921  -9.970892 -0.007330 -0.001833 -0.000458  Laying_down\n2    -0.007478 -0.500100 -10.028319 -0.004887 -0.015271  0.003207  Laying_down\n3    -0.019442 -0.512064  -9.822238 -0.002443 -0.021380  0.006872  Laying_down\n4    -0.050548 -0.524028  -9.800702 -0.000000 -0.007941  0.009315  Laying_down\n...        ...       ...        ...       ...       ...       ...          ...\n3051 -2.784647 -9.422935   0.091525 -0.002443  0.037262 -0.006567  Standing_up\n3052 -2.799004 -9.420543   0.101097 -0.003665  0.045814 -0.009010  Standing_up\n3053 -2.789433 -9.430114   0.093918 -0.003665  0.048257 -0.006567  Standing_up\n3054 -2.806183 -9.434899   0.062812 -0.003665  0.040927 -0.005345  Standing_up\n3055 -2.825325 -9.430114   0.038883 -0.003665  0.028710 -0.002902  Standing_up\n\n[9281 rows x 7 columns]",
      "text/html": "<div>\n<style scoped>\n    .dataframe tbody tr th:only-of-type {\n        vertical-align: middle;\n    }\n\n    .dataframe tbody tr th {\n        vertical-align: top;\n    }\n\n    .dataframe thead th {\n        text-align: right;\n    }\n</style>\n<table border=\"1\" class=\"dataframe\">\n  <thead>\n    <tr style=\"text-align: right;\">\n      <th></th>\n      <th>ax</th>\n      <th>ay</th>\n      <th>az</th>\n      <th>gx</th>\n      <th>gy</th>\n      <th>gz</th>\n      <th>class</th>\n    </tr>\n  </thead>\n  <tbody>\n    <tr>\n      <th>0</th>\n      <td>0.066700</td>\n      <td>-0.497707</td>\n      <td>-9.903594</td>\n      <td>-0.007330</td>\n      <td>0.003054</td>\n      <td>-0.004123</td>\n      <td>Laying_down</td>\n    </tr>\n    <tr>\n      <th>1</th>\n      <td>0.021236</td>\n      <td>-0.492921</td>\n      <td>-9.970892</td>\n      <td>-0.007330</td>\n      <td>-0.001833</td>\n      <td>-0.000458</td>\n      <td>Laying_down</td>\n    </tr>\n    <tr>\n      <th>2</th>\n      <td>-0.007478</td>\n      <td>-0.500100</td>\n      <td>-10.028319</td>\n      <td>-0.004887</td>\n      <td>-0.015271</td>\n      <td>0.003207</td>\n      <td>Laying_down</td>\n    </tr>\n    <tr>\n      <th>3</th>\n      <td>-0.019442</td>\n      <td>-0.512064</td>\n      <td>-9.822238</td>\n      <td>-0.002443</td>\n      <td>-0.021380</td>\n      <td>0.006872</td>\n      <td>Laying_down</td>\n    </tr>\n    <tr>\n      <th>4</th>\n      <td>-0.050548</td>\n      <td>-0.524028</td>\n      <td>-9.800702</td>\n      <td>-0.000000</td>\n      <td>-0.007941</td>\n      <td>0.009315</td>\n      <td>Laying_down</td>\n    </tr>\n    <tr>\n      <th>...</th>\n      <td>...</td>\n      <td>...</td>\n      <td>...</td>\n      <td>...</td>\n      <td>...</td>\n      <td>...</td>\n      <td>...</td>\n    </tr>\n    <tr>\n      <th>3051</th>\n      <td>-2.784647</td>\n      <td>-9.422935</td>\n      <td>0.091525</td>\n      <td>-0.002443</td>\n      <td>0.037262</td>\n      <td>-0.006567</td>\n      <td>Standing_up</td>\n    </tr>\n    <tr>\n      <th>3052</th>\n      <td>-2.799004</td>\n      <td>-9.420543</td>\n      <td>0.101097</td>\n      <td>-0.003665</td>\n      <td>0.045814</td>\n      <td>-0.009010</td>\n      <td>Standing_up</td>\n    </tr>\n    <tr>\n      <th>3053</th>\n      <td>-2.789433</td>\n      <td>-9.430114</td>\n      <td>0.093918</td>\n      <td>-0.003665</td>\n      <td>0.048257</td>\n      <td>-0.006567</td>\n      <td>Standing_up</td>\n    </tr>\n    <tr>\n      <th>3054</th>\n      <td>-2.806183</td>\n      <td>-9.434899</td>\n      <td>0.062812</td>\n      <td>-0.003665</td>\n      <td>0.040927</td>\n      <td>-0.005345</td>\n      <td>Standing_up</td>\n    </tr>\n    <tr>\n      <th>3055</th>\n      <td>-2.825325</td>\n      <td>-9.430114</td>\n      <td>0.038883</td>\n      <td>-0.003665</td>\n      <td>0.028710</td>\n      <td>-0.002902</td>\n      <td>Standing_up</td>\n    </tr>\n  </tbody>\n</table>\n<p>9281 rows × 7 columns</p>\n</div>"
     },
     "execution_count": 42,
     "metadata": {},
     "output_type": "execute_result"
    }
   ],
   "source": [
    "df"
   ],
   "metadata": {
    "collapsed": false,
    "ExecuteTime": {
     "end_time": "2023-09-19T17:06:33.685054200Z",
     "start_time": "2023-09-19T17:06:33.668536700Z"
    }
   },
   "id": "c460097053886694"
  },
  {
   "cell_type": "code",
   "execution_count": 43,
   "outputs": [],
   "source": [
    "X = df.drop('class', axis='columns')\n",
    "y = df['class']"
   ],
   "metadata": {
    "collapsed": false,
    "ExecuteTime": {
     "end_time": "2023-09-19T17:06:33.697577900Z",
     "start_time": "2023-09-19T17:06:33.683056900Z"
    }
   },
   "id": "f95d19cd1832869f"
  },
  {
   "cell_type": "markdown",
   "source": [
    "##### Make a choice of the number of subsets that you use for your crossvalidation. Motivate the choice"
   ],
   "metadata": {
    "collapsed": false
   },
   "id": "df86cc12782f8bbc"
  },
  {
   "cell_type": "code",
   "execution_count": 44,
   "outputs": [],
   "source": [
    "folds = KFold(n_splits=20)"
   ],
   "metadata": {
    "collapsed": false,
    "ExecuteTime": {
     "end_time": "2023-09-19T17:06:33.751199700Z",
     "start_time": "2023-09-19T17:06:33.697577900Z"
    }
   },
   "id": "51d94ad8ba99d728"
  },
  {
   "cell_type": "markdown",
   "source": [
    "#### For the gridsearch use GridSearchCV which you find in the previous weeks ́ exercise. The hyperparameter you will use for the gridsearch is k, that is the number of neighbours."
   ],
   "metadata": {
    "collapsed": false
   },
   "id": "90fc18162e24940e"
  },
  {
   "cell_type": "markdown",
   "source": [
    "##### Make a choice of the range of k-values you will use. Motivate the choice.\n",
    "Too large K values will 'classify' each instance of 'df'."
   ],
   "metadata": {
    "collapsed": false
   },
   "id": "e96b7c053fe1f945"
  },
  {
   "cell_type": "code",
   "execution_count": 45,
   "outputs": [],
   "source": [
    "k_range = list(range(1, 50))"
   ],
   "metadata": {
    "collapsed": false,
    "ExecuteTime": {
     "end_time": "2023-09-19T17:06:33.773249100Z",
     "start_time": "2023-09-19T17:06:33.714108200Z"
    }
   },
   "id": "7f8cdf49095faf1e"
  },
  {
   "cell_type": "markdown",
   "source": [
    "##### Split data"
   ],
   "metadata": {
    "collapsed": false
   },
   "id": "844cd5182de68e6f"
  },
  {
   "cell_type": "code",
   "execution_count": 46,
   "outputs": [],
   "source": [
    "X_train, X_test, y_train, y_test = train_test_split(X, y, test_size=0.30, shuffle=True)"
   ],
   "metadata": {
    "collapsed": false,
    "ExecuteTime": {
     "end_time": "2023-09-19T17:06:33.773249100Z",
     "start_time": "2023-09-19T17:06:33.730127800Z"
    }
   },
   "id": "87176b2d87983a90"
  },
  {
   "cell_type": "markdown",
   "source": [
    "##### Train the model."
   ],
   "metadata": {
    "collapsed": false
   },
   "id": "dec9eca329f2dba9"
  },
  {
   "cell_type": "code",
   "execution_count": 47,
   "outputs": [],
   "source": [
    "grid = GridSearchCV(estimator=knn,\n",
    "                    param_grid=dict(n_neighbors=k_range),\n",
    "                    cv=folds,\n",
    "                    scoring='accuracy',\n",
    "                    return_train_score=False)"
   ],
   "metadata": {
    "collapsed": false,
    "ExecuteTime": {
     "end_time": "2023-09-19T17:06:33.805168600Z",
     "start_time": "2023-09-19T17:06:33.745191600Z"
    }
   },
   "id": "423518951fd83643"
  },
  {
   "cell_type": "code",
   "execution_count": 48,
   "outputs": [],
   "source": [
    "grid_search = grid.fit(X=X_train, y=y_train)"
   ],
   "metadata": {
    "collapsed": false,
    "ExecuteTime": {
     "end_time": "2023-09-19T17:06:48.437949500Z",
     "start_time": "2023-09-19T17:06:33.761326100Z"
    }
   },
   "id": "a53b8cca5e1eb9ae"
  },
  {
   "cell_type": "markdown",
   "source": [
    "##### What is the optimal k-value?"
   ],
   "metadata": {
    "collapsed": false
   },
   "id": "e590eae3f03714b3"
  },
  {
   "cell_type": "code",
   "execution_count": 49,
   "outputs": [
    {
     "data": {
      "text/plain": "{'n_neighbors': 1}"
     },
     "execution_count": 49,
     "metadata": {},
     "output_type": "execute_result"
    }
   ],
   "source": [
    "grid.best_params_"
   ],
   "metadata": {
    "collapsed": false,
    "ExecuteTime": {
     "end_time": "2023-09-19T17:06:48.456003900Z",
     "start_time": "2023-09-19T17:06:48.439453700Z"
    }
   },
   "id": "f0bd8146a67d1291"
  },
  {
   "cell_type": "markdown",
   "source": [
    "##### What is the accuracy?"
   ],
   "metadata": {
    "collapsed": false
   },
   "id": "3c8ab563467e747d"
  },
  {
   "cell_type": "code",
   "execution_count": 50,
   "outputs": [
    {
     "data": {
      "text/plain": "1.0"
     },
     "execution_count": 50,
     "metadata": {},
     "output_type": "execute_result"
    }
   ],
   "source": [
    "grid.best_score_"
   ],
   "metadata": {
    "collapsed": false,
    "ExecuteTime": {
     "end_time": "2023-09-19T17:06:48.511120300Z",
     "start_time": "2023-09-19T17:06:48.456003900Z"
    }
   },
   "id": "262150ccca472781"
  },
  {
   "cell_type": "code",
   "execution_count": 51,
   "outputs": [],
   "source": [
    "scores = pd.DataFrame(grid.cv_results_)"
   ],
   "metadata": {
    "collapsed": false,
    "ExecuteTime": {
     "end_time": "2023-09-19T17:06:48.512123100Z",
     "start_time": "2023-09-19T17:06:48.470497200Z"
    }
   },
   "id": "4402c46accebc9b8"
  },
  {
   "cell_type": "markdown",
   "source": [
    "##### Display scores"
   ],
   "metadata": {
    "collapsed": false
   },
   "id": "9e19bdd932e9b850"
  },
  {
   "cell_type": "code",
   "execution_count": 52,
   "outputs": [
    {
     "data": {
      "text/plain": "    mean_fit_time  std_fit_time  mean_score_time  std_score_time  \\\n0        0.005956      0.000604         0.006830        0.001029   \n1        0.007279      0.003288         0.009903        0.005963   \n2        0.006270      0.000436         0.007942        0.000693   \n3        0.006013      0.000746         0.007466        0.000546   \n4        0.006320      0.001034         0.007847        0.000626   \n5        0.006034      0.000516         0.007982        0.000700   \n6        0.006276      0.000519         0.007978        0.000953   \n7        0.006343      0.000575         0.008272        0.000584   \n8        0.005858      0.000329         0.007889        0.000661   \n9        0.005734      0.000416         0.007337        0.000602   \n10       0.005965      0.000530         0.008353        0.000709   \n11       0.005937      0.000513         0.008210        0.000648   \n12       0.005856      0.000501         0.007884        0.000846   \n13       0.006175      0.000317         0.008524        0.000494   \n14       0.006105      0.000509         0.008067        0.000718   \n15       0.006011      0.000436         0.008295        0.000426   \n16       0.006041      0.000398         0.008213        0.000671   \n17       0.006211      0.000426         0.009122        0.000703   \n18       0.006330      0.000580         0.008682        0.001493   \n19       0.005517      0.000513         0.008353        0.000615   \n20       0.006139      0.000555         0.008351        0.000636   \n21       0.006096      0.000282         0.008626        0.000593   \n22       0.006229      0.000488         0.008457        0.000698   \n23       0.006449      0.000481         0.008838        0.000497   \n24       0.006098      0.000461         0.008960        0.000361   \n25       0.006206      0.000418         0.008788        0.000593   \n26       0.006227      0.000602         0.009063        0.000650   \n27       0.005893      0.000372         0.008919        0.000785   \n28       0.006059      0.000503         0.009193        0.000731   \n29       0.006173      0.000608         0.009303        0.000909   \n30       0.006184      0.000517         0.009457        0.000513   \n31       0.005775      0.000490         0.008544        0.000945   \n32       0.005987      0.000520         0.008866        0.000690   \n33       0.006303      0.000580         0.009410        0.000474   \n34       0.006047      0.000642         0.008846        0.000780   \n35       0.006625      0.001080         0.010074        0.001122   \n36       0.006320      0.000820         0.009934        0.001336   \n37       0.006015      0.000399         0.008652        0.000498   \n38       0.005885      0.000417         0.008957        0.000554   \n39       0.005948      0.000576         0.008842        0.000569   \n40       0.005827      0.000587         0.008690        0.000719   \n41       0.005651      0.000549         0.008747        0.000496   \n42       0.005774      0.000438         0.009107        0.000762   \n43       0.005848      0.000440         0.009054        0.000772   \n44       0.005851      0.000479         0.009274        0.001279   \n45       0.005923      0.000573         0.009130        0.000970   \n46       0.005943      0.000381         0.009116        0.000771   \n47       0.005665      0.000402         0.009071        0.000713   \n48       0.005769      0.000533         0.009137        0.000373   \n\n   param_n_neighbors               params  split0_test_score  \\\n0                  1   {'n_neighbors': 1}                1.0   \n1                  2   {'n_neighbors': 2}                1.0   \n2                  3   {'n_neighbors': 3}                1.0   \n3                  4   {'n_neighbors': 4}                1.0   \n4                  5   {'n_neighbors': 5}                1.0   \n5                  6   {'n_neighbors': 6}                1.0   \n6                  7   {'n_neighbors': 7}                1.0   \n7                  8   {'n_neighbors': 8}                1.0   \n8                  9   {'n_neighbors': 9}                1.0   \n9                 10  {'n_neighbors': 10}                1.0   \n10                11  {'n_neighbors': 11}                1.0   \n11                12  {'n_neighbors': 12}                1.0   \n12                13  {'n_neighbors': 13}                1.0   \n13                14  {'n_neighbors': 14}                1.0   \n14                15  {'n_neighbors': 15}                1.0   \n15                16  {'n_neighbors': 16}                1.0   \n16                17  {'n_neighbors': 17}                1.0   \n17                18  {'n_neighbors': 18}                1.0   \n18                19  {'n_neighbors': 19}                1.0   \n19                20  {'n_neighbors': 20}                1.0   \n20                21  {'n_neighbors': 21}                1.0   \n21                22  {'n_neighbors': 22}                1.0   \n22                23  {'n_neighbors': 23}                1.0   \n23                24  {'n_neighbors': 24}                1.0   \n24                25  {'n_neighbors': 25}                1.0   \n25                26  {'n_neighbors': 26}                1.0   \n26                27  {'n_neighbors': 27}                1.0   \n27                28  {'n_neighbors': 28}                1.0   \n28                29  {'n_neighbors': 29}                1.0   \n29                30  {'n_neighbors': 30}                1.0   \n30                31  {'n_neighbors': 31}                1.0   \n31                32  {'n_neighbors': 32}                1.0   \n32                33  {'n_neighbors': 33}                1.0   \n33                34  {'n_neighbors': 34}                1.0   \n34                35  {'n_neighbors': 35}                1.0   \n35                36  {'n_neighbors': 36}                1.0   \n36                37  {'n_neighbors': 37}                1.0   \n37                38  {'n_neighbors': 38}                1.0   \n38                39  {'n_neighbors': 39}                1.0   \n39                40  {'n_neighbors': 40}                1.0   \n40                41  {'n_neighbors': 41}                1.0   \n41                42  {'n_neighbors': 42}                1.0   \n42                43  {'n_neighbors': 43}                1.0   \n43                44  {'n_neighbors': 44}                1.0   \n44                45  {'n_neighbors': 45}                1.0   \n45                46  {'n_neighbors': 46}                1.0   \n46                47  {'n_neighbors': 47}                1.0   \n47                48  {'n_neighbors': 48}                1.0   \n48                49  {'n_neighbors': 49}                1.0   \n\n    split1_test_score  split2_test_score  split3_test_score  ...  \\\n0                 1.0                1.0                1.0  ...   \n1                 1.0                1.0                1.0  ...   \n2                 1.0                1.0                1.0  ...   \n3                 1.0                1.0                1.0  ...   \n4                 1.0                1.0                1.0  ...   \n5                 1.0                1.0                1.0  ...   \n6                 1.0                1.0                1.0  ...   \n7                 1.0                1.0                1.0  ...   \n8                 1.0                1.0                1.0  ...   \n9                 1.0                1.0                1.0  ...   \n10                1.0                1.0                1.0  ...   \n11                1.0                1.0                1.0  ...   \n12                1.0                1.0                1.0  ...   \n13                1.0                1.0                1.0  ...   \n14                1.0                1.0                1.0  ...   \n15                1.0                1.0                1.0  ...   \n16                1.0                1.0                1.0  ...   \n17                1.0                1.0                1.0  ...   \n18                1.0                1.0                1.0  ...   \n19                1.0                1.0                1.0  ...   \n20                1.0                1.0                1.0  ...   \n21                1.0                1.0                1.0  ...   \n22                1.0                1.0                1.0  ...   \n23                1.0                1.0                1.0  ...   \n24                1.0                1.0                1.0  ...   \n25                1.0                1.0                1.0  ...   \n26                1.0                1.0                1.0  ...   \n27                1.0                1.0                1.0  ...   \n28                1.0                1.0                1.0  ...   \n29                1.0                1.0                1.0  ...   \n30                1.0                1.0                1.0  ...   \n31                1.0                1.0                1.0  ...   \n32                1.0                1.0                1.0  ...   \n33                1.0                1.0                1.0  ...   \n34                1.0                1.0                1.0  ...   \n35                1.0                1.0                1.0  ...   \n36                1.0                1.0                1.0  ...   \n37                1.0                1.0                1.0  ...   \n38                1.0                1.0                1.0  ...   \n39                1.0                1.0                1.0  ...   \n40                1.0                1.0                1.0  ...   \n41                1.0                1.0                1.0  ...   \n42                1.0                1.0                1.0  ...   \n43                1.0                1.0                1.0  ...   \n44                1.0                1.0                1.0  ...   \n45                1.0                1.0                1.0  ...   \n46                1.0                1.0                1.0  ...   \n47                1.0                1.0                1.0  ...   \n48                1.0                1.0                1.0  ...   \n\n    split13_test_score  split14_test_score  split15_test_score  \\\n0                  1.0                 1.0                 1.0   \n1                  1.0                 1.0                 1.0   \n2                  1.0                 1.0                 1.0   \n3                  1.0                 1.0                 1.0   \n4                  1.0                 1.0                 1.0   \n5                  1.0                 1.0                 1.0   \n6                  1.0                 1.0                 1.0   \n7                  1.0                 1.0                 1.0   \n8                  1.0                 1.0                 1.0   \n9                  1.0                 1.0                 1.0   \n10                 1.0                 1.0                 1.0   \n11                 1.0                 1.0                 1.0   \n12                 1.0                 1.0                 1.0   \n13                 1.0                 1.0                 1.0   \n14                 1.0                 1.0                 1.0   \n15                 1.0                 1.0                 1.0   \n16                 1.0                 1.0                 1.0   \n17                 1.0                 1.0                 1.0   \n18                 1.0                 1.0                 1.0   \n19                 1.0                 1.0                 1.0   \n20                 1.0                 1.0                 1.0   \n21                 1.0                 1.0                 1.0   \n22                 1.0                 1.0                 1.0   \n23                 1.0                 1.0                 1.0   \n24                 1.0                 1.0                 1.0   \n25                 1.0                 1.0                 1.0   \n26                 1.0                 1.0                 1.0   \n27                 1.0                 1.0                 1.0   \n28                 1.0                 1.0                 1.0   \n29                 1.0                 1.0                 1.0   \n30                 1.0                 1.0                 1.0   \n31                 1.0                 1.0                 1.0   \n32                 1.0                 1.0                 1.0   \n33                 1.0                 1.0                 1.0   \n34                 1.0                 1.0                 1.0   \n35                 1.0                 1.0                 1.0   \n36                 1.0                 1.0                 1.0   \n37                 1.0                 1.0                 1.0   \n38                 1.0                 1.0                 1.0   \n39                 1.0                 1.0                 1.0   \n40                 1.0                 1.0                 1.0   \n41                 1.0                 1.0                 1.0   \n42                 1.0                 1.0                 1.0   \n43                 1.0                 1.0                 1.0   \n44                 1.0                 1.0                 1.0   \n45                 1.0                 1.0                 1.0   \n46                 1.0                 1.0                 1.0   \n47                 1.0                 1.0                 1.0   \n48                 1.0                 1.0                 1.0   \n\n    split16_test_score  split17_test_score  split18_test_score  \\\n0                  1.0                 1.0                 1.0   \n1                  1.0                 1.0                 1.0   \n2                  1.0                 1.0                 1.0   \n3                  1.0                 1.0                 1.0   \n4                  1.0                 1.0                 1.0   \n5                  1.0                 1.0                 1.0   \n6                  1.0                 1.0                 1.0   \n7                  1.0                 1.0                 1.0   \n8                  1.0                 1.0                 1.0   \n9                  1.0                 1.0                 1.0   \n10                 1.0                 1.0                 1.0   \n11                 1.0                 1.0                 1.0   \n12                 1.0                 1.0                 1.0   \n13                 1.0                 1.0                 1.0   \n14                 1.0                 1.0                 1.0   \n15                 1.0                 1.0                 1.0   \n16                 1.0                 1.0                 1.0   \n17                 1.0                 1.0                 1.0   \n18                 1.0                 1.0                 1.0   \n19                 1.0                 1.0                 1.0   \n20                 1.0                 1.0                 1.0   \n21                 1.0                 1.0                 1.0   \n22                 1.0                 1.0                 1.0   \n23                 1.0                 1.0                 1.0   \n24                 1.0                 1.0                 1.0   \n25                 1.0                 1.0                 1.0   \n26                 1.0                 1.0                 1.0   \n27                 1.0                 1.0                 1.0   \n28                 1.0                 1.0                 1.0   \n29                 1.0                 1.0                 1.0   \n30                 1.0                 1.0                 1.0   \n31                 1.0                 1.0                 1.0   \n32                 1.0                 1.0                 1.0   \n33                 1.0                 1.0                 1.0   \n34                 1.0                 1.0                 1.0   \n35                 1.0                 1.0                 1.0   \n36                 1.0                 1.0                 1.0   \n37                 1.0                 1.0                 1.0   \n38                 1.0                 1.0                 1.0   \n39                 1.0                 1.0                 1.0   \n40                 1.0                 1.0                 1.0   \n41                 1.0                 1.0                 1.0   \n42                 1.0                 1.0                 1.0   \n43                 1.0                 1.0                 1.0   \n44                 1.0                 1.0                 1.0   \n45                 1.0                 1.0                 1.0   \n46                 1.0                 1.0                 1.0   \n47                 1.0                 1.0                 1.0   \n48                 1.0                 1.0                 1.0   \n\n    split19_test_score  mean_test_score  std_test_score  rank_test_score  \n0                  1.0              1.0             0.0                1  \n1                  1.0              1.0             0.0                1  \n2                  1.0              1.0             0.0                1  \n3                  1.0              1.0             0.0                1  \n4                  1.0              1.0             0.0                1  \n5                  1.0              1.0             0.0                1  \n6                  1.0              1.0             0.0                1  \n7                  1.0              1.0             0.0                1  \n8                  1.0              1.0             0.0                1  \n9                  1.0              1.0             0.0                1  \n10                 1.0              1.0             0.0                1  \n11                 1.0              1.0             0.0                1  \n12                 1.0              1.0             0.0                1  \n13                 1.0              1.0             0.0                1  \n14                 1.0              1.0             0.0                1  \n15                 1.0              1.0             0.0                1  \n16                 1.0              1.0             0.0                1  \n17                 1.0              1.0             0.0                1  \n18                 1.0              1.0             0.0                1  \n19                 1.0              1.0             0.0                1  \n20                 1.0              1.0             0.0                1  \n21                 1.0              1.0             0.0                1  \n22                 1.0              1.0             0.0                1  \n23                 1.0              1.0             0.0                1  \n24                 1.0              1.0             0.0                1  \n25                 1.0              1.0             0.0                1  \n26                 1.0              1.0             0.0                1  \n27                 1.0              1.0             0.0                1  \n28                 1.0              1.0             0.0                1  \n29                 1.0              1.0             0.0                1  \n30                 1.0              1.0             0.0                1  \n31                 1.0              1.0             0.0                1  \n32                 1.0              1.0             0.0                1  \n33                 1.0              1.0             0.0                1  \n34                 1.0              1.0             0.0                1  \n35                 1.0              1.0             0.0                1  \n36                 1.0              1.0             0.0                1  \n37                 1.0              1.0             0.0                1  \n38                 1.0              1.0             0.0                1  \n39                 1.0              1.0             0.0                1  \n40                 1.0              1.0             0.0                1  \n41                 1.0              1.0             0.0                1  \n42                 1.0              1.0             0.0                1  \n43                 1.0              1.0             0.0                1  \n44                 1.0              1.0             0.0                1  \n45                 1.0              1.0             0.0                1  \n46                 1.0              1.0             0.0                1  \n47                 1.0              1.0             0.0                1  \n48                 1.0              1.0             0.0                1  \n\n[49 rows x 29 columns]",
      "text/html": "<div>\n<style scoped>\n    .dataframe tbody tr th:only-of-type {\n        vertical-align: middle;\n    }\n\n    .dataframe tbody tr th {\n        vertical-align: top;\n    }\n\n    .dataframe thead th {\n        text-align: right;\n    }\n</style>\n<table border=\"1\" class=\"dataframe\">\n  <thead>\n    <tr style=\"text-align: right;\">\n      <th></th>\n      <th>mean_fit_time</th>\n      <th>std_fit_time</th>\n      <th>mean_score_time</th>\n      <th>std_score_time</th>\n      <th>param_n_neighbors</th>\n      <th>params</th>\n      <th>split0_test_score</th>\n      <th>split1_test_score</th>\n      <th>split2_test_score</th>\n      <th>split3_test_score</th>\n      <th>...</th>\n      <th>split13_test_score</th>\n      <th>split14_test_score</th>\n      <th>split15_test_score</th>\n      <th>split16_test_score</th>\n      <th>split17_test_score</th>\n      <th>split18_test_score</th>\n      <th>split19_test_score</th>\n      <th>mean_test_score</th>\n      <th>std_test_score</th>\n      <th>rank_test_score</th>\n    </tr>\n  </thead>\n  <tbody>\n    <tr>\n      <th>0</th>\n      <td>0.005956</td>\n      <td>0.000604</td>\n      <td>0.006830</td>\n      <td>0.001029</td>\n      <td>1</td>\n      <td>{'n_neighbors': 1}</td>\n      <td>1.0</td>\n      <td>1.0</td>\n      <td>1.0</td>\n      <td>1.0</td>\n      <td>...</td>\n      <td>1.0</td>\n      <td>1.0</td>\n      <td>1.0</td>\n      <td>1.0</td>\n      <td>1.0</td>\n      <td>1.0</td>\n      <td>1.0</td>\n      <td>1.0</td>\n      <td>0.0</td>\n      <td>1</td>\n    </tr>\n    <tr>\n      <th>1</th>\n      <td>0.007279</td>\n      <td>0.003288</td>\n      <td>0.009903</td>\n      <td>0.005963</td>\n      <td>2</td>\n      <td>{'n_neighbors': 2}</td>\n      <td>1.0</td>\n      <td>1.0</td>\n      <td>1.0</td>\n      <td>1.0</td>\n      <td>...</td>\n      <td>1.0</td>\n      <td>1.0</td>\n      <td>1.0</td>\n      <td>1.0</td>\n      <td>1.0</td>\n      <td>1.0</td>\n      <td>1.0</td>\n      <td>1.0</td>\n      <td>0.0</td>\n      <td>1</td>\n    </tr>\n    <tr>\n      <th>2</th>\n      <td>0.006270</td>\n      <td>0.000436</td>\n      <td>0.007942</td>\n      <td>0.000693</td>\n      <td>3</td>\n      <td>{'n_neighbors': 3}</td>\n      <td>1.0</td>\n      <td>1.0</td>\n      <td>1.0</td>\n      <td>1.0</td>\n      <td>...</td>\n      <td>1.0</td>\n      <td>1.0</td>\n      <td>1.0</td>\n      <td>1.0</td>\n      <td>1.0</td>\n      <td>1.0</td>\n      <td>1.0</td>\n      <td>1.0</td>\n      <td>0.0</td>\n      <td>1</td>\n    </tr>\n    <tr>\n      <th>3</th>\n      <td>0.006013</td>\n      <td>0.000746</td>\n      <td>0.007466</td>\n      <td>0.000546</td>\n      <td>4</td>\n      <td>{'n_neighbors': 4}</td>\n      <td>1.0</td>\n      <td>1.0</td>\n      <td>1.0</td>\n      <td>1.0</td>\n      <td>...</td>\n      <td>1.0</td>\n      <td>1.0</td>\n      <td>1.0</td>\n      <td>1.0</td>\n      <td>1.0</td>\n      <td>1.0</td>\n      <td>1.0</td>\n      <td>1.0</td>\n      <td>0.0</td>\n      <td>1</td>\n    </tr>\n    <tr>\n      <th>4</th>\n      <td>0.006320</td>\n      <td>0.001034</td>\n      <td>0.007847</td>\n      <td>0.000626</td>\n      <td>5</td>\n      <td>{'n_neighbors': 5}</td>\n      <td>1.0</td>\n      <td>1.0</td>\n      <td>1.0</td>\n      <td>1.0</td>\n      <td>...</td>\n      <td>1.0</td>\n      <td>1.0</td>\n      <td>1.0</td>\n      <td>1.0</td>\n      <td>1.0</td>\n      <td>1.0</td>\n      <td>1.0</td>\n      <td>1.0</td>\n      <td>0.0</td>\n      <td>1</td>\n    </tr>\n    <tr>\n      <th>5</th>\n      <td>0.006034</td>\n      <td>0.000516</td>\n      <td>0.007982</td>\n      <td>0.000700</td>\n      <td>6</td>\n      <td>{'n_neighbors': 6}</td>\n      <td>1.0</td>\n      <td>1.0</td>\n      <td>1.0</td>\n      <td>1.0</td>\n      <td>...</td>\n      <td>1.0</td>\n      <td>1.0</td>\n      <td>1.0</td>\n      <td>1.0</td>\n      <td>1.0</td>\n      <td>1.0</td>\n      <td>1.0</td>\n      <td>1.0</td>\n      <td>0.0</td>\n      <td>1</td>\n    </tr>\n    <tr>\n      <th>6</th>\n      <td>0.006276</td>\n      <td>0.000519</td>\n      <td>0.007978</td>\n      <td>0.000953</td>\n      <td>7</td>\n      <td>{'n_neighbors': 7}</td>\n      <td>1.0</td>\n      <td>1.0</td>\n      <td>1.0</td>\n      <td>1.0</td>\n      <td>...</td>\n      <td>1.0</td>\n      <td>1.0</td>\n      <td>1.0</td>\n      <td>1.0</td>\n      <td>1.0</td>\n      <td>1.0</td>\n      <td>1.0</td>\n      <td>1.0</td>\n      <td>0.0</td>\n      <td>1</td>\n    </tr>\n    <tr>\n      <th>7</th>\n      <td>0.006343</td>\n      <td>0.000575</td>\n      <td>0.008272</td>\n      <td>0.000584</td>\n      <td>8</td>\n      <td>{'n_neighbors': 8}</td>\n      <td>1.0</td>\n      <td>1.0</td>\n      <td>1.0</td>\n      <td>1.0</td>\n      <td>...</td>\n      <td>1.0</td>\n      <td>1.0</td>\n      <td>1.0</td>\n      <td>1.0</td>\n      <td>1.0</td>\n      <td>1.0</td>\n      <td>1.0</td>\n      <td>1.0</td>\n      <td>0.0</td>\n      <td>1</td>\n    </tr>\n    <tr>\n      <th>8</th>\n      <td>0.005858</td>\n      <td>0.000329</td>\n      <td>0.007889</td>\n      <td>0.000661</td>\n      <td>9</td>\n      <td>{'n_neighbors': 9}</td>\n      <td>1.0</td>\n      <td>1.0</td>\n      <td>1.0</td>\n      <td>1.0</td>\n      <td>...</td>\n      <td>1.0</td>\n      <td>1.0</td>\n      <td>1.0</td>\n      <td>1.0</td>\n      <td>1.0</td>\n      <td>1.0</td>\n      <td>1.0</td>\n      <td>1.0</td>\n      <td>0.0</td>\n      <td>1</td>\n    </tr>\n    <tr>\n      <th>9</th>\n      <td>0.005734</td>\n      <td>0.000416</td>\n      <td>0.007337</td>\n      <td>0.000602</td>\n      <td>10</td>\n      <td>{'n_neighbors': 10}</td>\n      <td>1.0</td>\n      <td>1.0</td>\n      <td>1.0</td>\n      <td>1.0</td>\n      <td>...</td>\n      <td>1.0</td>\n      <td>1.0</td>\n      <td>1.0</td>\n      <td>1.0</td>\n      <td>1.0</td>\n      <td>1.0</td>\n      <td>1.0</td>\n      <td>1.0</td>\n      <td>0.0</td>\n      <td>1</td>\n    </tr>\n    <tr>\n      <th>10</th>\n      <td>0.005965</td>\n      <td>0.000530</td>\n      <td>0.008353</td>\n      <td>0.000709</td>\n      <td>11</td>\n      <td>{'n_neighbors': 11}</td>\n      <td>1.0</td>\n      <td>1.0</td>\n      <td>1.0</td>\n      <td>1.0</td>\n      <td>...</td>\n      <td>1.0</td>\n      <td>1.0</td>\n      <td>1.0</td>\n      <td>1.0</td>\n      <td>1.0</td>\n      <td>1.0</td>\n      <td>1.0</td>\n      <td>1.0</td>\n      <td>0.0</td>\n      <td>1</td>\n    </tr>\n    <tr>\n      <th>11</th>\n      <td>0.005937</td>\n      <td>0.000513</td>\n      <td>0.008210</td>\n      <td>0.000648</td>\n      <td>12</td>\n      <td>{'n_neighbors': 12}</td>\n      <td>1.0</td>\n      <td>1.0</td>\n      <td>1.0</td>\n      <td>1.0</td>\n      <td>...</td>\n      <td>1.0</td>\n      <td>1.0</td>\n      <td>1.0</td>\n      <td>1.0</td>\n      <td>1.0</td>\n      <td>1.0</td>\n      <td>1.0</td>\n      <td>1.0</td>\n      <td>0.0</td>\n      <td>1</td>\n    </tr>\n    <tr>\n      <th>12</th>\n      <td>0.005856</td>\n      <td>0.000501</td>\n      <td>0.007884</td>\n      <td>0.000846</td>\n      <td>13</td>\n      <td>{'n_neighbors': 13}</td>\n      <td>1.0</td>\n      <td>1.0</td>\n      <td>1.0</td>\n      <td>1.0</td>\n      <td>...</td>\n      <td>1.0</td>\n      <td>1.0</td>\n      <td>1.0</td>\n      <td>1.0</td>\n      <td>1.0</td>\n      <td>1.0</td>\n      <td>1.0</td>\n      <td>1.0</td>\n      <td>0.0</td>\n      <td>1</td>\n    </tr>\n    <tr>\n      <th>13</th>\n      <td>0.006175</td>\n      <td>0.000317</td>\n      <td>0.008524</td>\n      <td>0.000494</td>\n      <td>14</td>\n      <td>{'n_neighbors': 14}</td>\n      <td>1.0</td>\n      <td>1.0</td>\n      <td>1.0</td>\n      <td>1.0</td>\n      <td>...</td>\n      <td>1.0</td>\n      <td>1.0</td>\n      <td>1.0</td>\n      <td>1.0</td>\n      <td>1.0</td>\n      <td>1.0</td>\n      <td>1.0</td>\n      <td>1.0</td>\n      <td>0.0</td>\n      <td>1</td>\n    </tr>\n    <tr>\n      <th>14</th>\n      <td>0.006105</td>\n      <td>0.000509</td>\n      <td>0.008067</td>\n      <td>0.000718</td>\n      <td>15</td>\n      <td>{'n_neighbors': 15}</td>\n      <td>1.0</td>\n      <td>1.0</td>\n      <td>1.0</td>\n      <td>1.0</td>\n      <td>...</td>\n      <td>1.0</td>\n      <td>1.0</td>\n      <td>1.0</td>\n      <td>1.0</td>\n      <td>1.0</td>\n      <td>1.0</td>\n      <td>1.0</td>\n      <td>1.0</td>\n      <td>0.0</td>\n      <td>1</td>\n    </tr>\n    <tr>\n      <th>15</th>\n      <td>0.006011</td>\n      <td>0.000436</td>\n      <td>0.008295</td>\n      <td>0.000426</td>\n      <td>16</td>\n      <td>{'n_neighbors': 16}</td>\n      <td>1.0</td>\n      <td>1.0</td>\n      <td>1.0</td>\n      <td>1.0</td>\n      <td>...</td>\n      <td>1.0</td>\n      <td>1.0</td>\n      <td>1.0</td>\n      <td>1.0</td>\n      <td>1.0</td>\n      <td>1.0</td>\n      <td>1.0</td>\n      <td>1.0</td>\n      <td>0.0</td>\n      <td>1</td>\n    </tr>\n    <tr>\n      <th>16</th>\n      <td>0.006041</td>\n      <td>0.000398</td>\n      <td>0.008213</td>\n      <td>0.000671</td>\n      <td>17</td>\n      <td>{'n_neighbors': 17}</td>\n      <td>1.0</td>\n      <td>1.0</td>\n      <td>1.0</td>\n      <td>1.0</td>\n      <td>...</td>\n      <td>1.0</td>\n      <td>1.0</td>\n      <td>1.0</td>\n      <td>1.0</td>\n      <td>1.0</td>\n      <td>1.0</td>\n      <td>1.0</td>\n      <td>1.0</td>\n      <td>0.0</td>\n      <td>1</td>\n    </tr>\n    <tr>\n      <th>17</th>\n      <td>0.006211</td>\n      <td>0.000426</td>\n      <td>0.009122</td>\n      <td>0.000703</td>\n      <td>18</td>\n      <td>{'n_neighbors': 18}</td>\n      <td>1.0</td>\n      <td>1.0</td>\n      <td>1.0</td>\n      <td>1.0</td>\n      <td>...</td>\n      <td>1.0</td>\n      <td>1.0</td>\n      <td>1.0</td>\n      <td>1.0</td>\n      <td>1.0</td>\n      <td>1.0</td>\n      <td>1.0</td>\n      <td>1.0</td>\n      <td>0.0</td>\n      <td>1</td>\n    </tr>\n    <tr>\n      <th>18</th>\n      <td>0.006330</td>\n      <td>0.000580</td>\n      <td>0.008682</td>\n      <td>0.001493</td>\n      <td>19</td>\n      <td>{'n_neighbors': 19}</td>\n      <td>1.0</td>\n      <td>1.0</td>\n      <td>1.0</td>\n      <td>1.0</td>\n      <td>...</td>\n      <td>1.0</td>\n      <td>1.0</td>\n      <td>1.0</td>\n      <td>1.0</td>\n      <td>1.0</td>\n      <td>1.0</td>\n      <td>1.0</td>\n      <td>1.0</td>\n      <td>0.0</td>\n      <td>1</td>\n    </tr>\n    <tr>\n      <th>19</th>\n      <td>0.005517</td>\n      <td>0.000513</td>\n      <td>0.008353</td>\n      <td>0.000615</td>\n      <td>20</td>\n      <td>{'n_neighbors': 20}</td>\n      <td>1.0</td>\n      <td>1.0</td>\n      <td>1.0</td>\n      <td>1.0</td>\n      <td>...</td>\n      <td>1.0</td>\n      <td>1.0</td>\n      <td>1.0</td>\n      <td>1.0</td>\n      <td>1.0</td>\n      <td>1.0</td>\n      <td>1.0</td>\n      <td>1.0</td>\n      <td>0.0</td>\n      <td>1</td>\n    </tr>\n    <tr>\n      <th>20</th>\n      <td>0.006139</td>\n      <td>0.000555</td>\n      <td>0.008351</td>\n      <td>0.000636</td>\n      <td>21</td>\n      <td>{'n_neighbors': 21}</td>\n      <td>1.0</td>\n      <td>1.0</td>\n      <td>1.0</td>\n      <td>1.0</td>\n      <td>...</td>\n      <td>1.0</td>\n      <td>1.0</td>\n      <td>1.0</td>\n      <td>1.0</td>\n      <td>1.0</td>\n      <td>1.0</td>\n      <td>1.0</td>\n      <td>1.0</td>\n      <td>0.0</td>\n      <td>1</td>\n    </tr>\n    <tr>\n      <th>21</th>\n      <td>0.006096</td>\n      <td>0.000282</td>\n      <td>0.008626</td>\n      <td>0.000593</td>\n      <td>22</td>\n      <td>{'n_neighbors': 22}</td>\n      <td>1.0</td>\n      <td>1.0</td>\n      <td>1.0</td>\n      <td>1.0</td>\n      <td>...</td>\n      <td>1.0</td>\n      <td>1.0</td>\n      <td>1.0</td>\n      <td>1.0</td>\n      <td>1.0</td>\n      <td>1.0</td>\n      <td>1.0</td>\n      <td>1.0</td>\n      <td>0.0</td>\n      <td>1</td>\n    </tr>\n    <tr>\n      <th>22</th>\n      <td>0.006229</td>\n      <td>0.000488</td>\n      <td>0.008457</td>\n      <td>0.000698</td>\n      <td>23</td>\n      <td>{'n_neighbors': 23}</td>\n      <td>1.0</td>\n      <td>1.0</td>\n      <td>1.0</td>\n      <td>1.0</td>\n      <td>...</td>\n      <td>1.0</td>\n      <td>1.0</td>\n      <td>1.0</td>\n      <td>1.0</td>\n      <td>1.0</td>\n      <td>1.0</td>\n      <td>1.0</td>\n      <td>1.0</td>\n      <td>0.0</td>\n      <td>1</td>\n    </tr>\n    <tr>\n      <th>23</th>\n      <td>0.006449</td>\n      <td>0.000481</td>\n      <td>0.008838</td>\n      <td>0.000497</td>\n      <td>24</td>\n      <td>{'n_neighbors': 24}</td>\n      <td>1.0</td>\n      <td>1.0</td>\n      <td>1.0</td>\n      <td>1.0</td>\n      <td>...</td>\n      <td>1.0</td>\n      <td>1.0</td>\n      <td>1.0</td>\n      <td>1.0</td>\n      <td>1.0</td>\n      <td>1.0</td>\n      <td>1.0</td>\n      <td>1.0</td>\n      <td>0.0</td>\n      <td>1</td>\n    </tr>\n    <tr>\n      <th>24</th>\n      <td>0.006098</td>\n      <td>0.000461</td>\n      <td>0.008960</td>\n      <td>0.000361</td>\n      <td>25</td>\n      <td>{'n_neighbors': 25}</td>\n      <td>1.0</td>\n      <td>1.0</td>\n      <td>1.0</td>\n      <td>1.0</td>\n      <td>...</td>\n      <td>1.0</td>\n      <td>1.0</td>\n      <td>1.0</td>\n      <td>1.0</td>\n      <td>1.0</td>\n      <td>1.0</td>\n      <td>1.0</td>\n      <td>1.0</td>\n      <td>0.0</td>\n      <td>1</td>\n    </tr>\n    <tr>\n      <th>25</th>\n      <td>0.006206</td>\n      <td>0.000418</td>\n      <td>0.008788</td>\n      <td>0.000593</td>\n      <td>26</td>\n      <td>{'n_neighbors': 26}</td>\n      <td>1.0</td>\n      <td>1.0</td>\n      <td>1.0</td>\n      <td>1.0</td>\n      <td>...</td>\n      <td>1.0</td>\n      <td>1.0</td>\n      <td>1.0</td>\n      <td>1.0</td>\n      <td>1.0</td>\n      <td>1.0</td>\n      <td>1.0</td>\n      <td>1.0</td>\n      <td>0.0</td>\n      <td>1</td>\n    </tr>\n    <tr>\n      <th>26</th>\n      <td>0.006227</td>\n      <td>0.000602</td>\n      <td>0.009063</td>\n      <td>0.000650</td>\n      <td>27</td>\n      <td>{'n_neighbors': 27}</td>\n      <td>1.0</td>\n      <td>1.0</td>\n      <td>1.0</td>\n      <td>1.0</td>\n      <td>...</td>\n      <td>1.0</td>\n      <td>1.0</td>\n      <td>1.0</td>\n      <td>1.0</td>\n      <td>1.0</td>\n      <td>1.0</td>\n      <td>1.0</td>\n      <td>1.0</td>\n      <td>0.0</td>\n      <td>1</td>\n    </tr>\n    <tr>\n      <th>27</th>\n      <td>0.005893</td>\n      <td>0.000372</td>\n      <td>0.008919</td>\n      <td>0.000785</td>\n      <td>28</td>\n      <td>{'n_neighbors': 28}</td>\n      <td>1.0</td>\n      <td>1.0</td>\n      <td>1.0</td>\n      <td>1.0</td>\n      <td>...</td>\n      <td>1.0</td>\n      <td>1.0</td>\n      <td>1.0</td>\n      <td>1.0</td>\n      <td>1.0</td>\n      <td>1.0</td>\n      <td>1.0</td>\n      <td>1.0</td>\n      <td>0.0</td>\n      <td>1</td>\n    </tr>\n    <tr>\n      <th>28</th>\n      <td>0.006059</td>\n      <td>0.000503</td>\n      <td>0.009193</td>\n      <td>0.000731</td>\n      <td>29</td>\n      <td>{'n_neighbors': 29}</td>\n      <td>1.0</td>\n      <td>1.0</td>\n      <td>1.0</td>\n      <td>1.0</td>\n      <td>...</td>\n      <td>1.0</td>\n      <td>1.0</td>\n      <td>1.0</td>\n      <td>1.0</td>\n      <td>1.0</td>\n      <td>1.0</td>\n      <td>1.0</td>\n      <td>1.0</td>\n      <td>0.0</td>\n      <td>1</td>\n    </tr>\n    <tr>\n      <th>29</th>\n      <td>0.006173</td>\n      <td>0.000608</td>\n      <td>0.009303</td>\n      <td>0.000909</td>\n      <td>30</td>\n      <td>{'n_neighbors': 30}</td>\n      <td>1.0</td>\n      <td>1.0</td>\n      <td>1.0</td>\n      <td>1.0</td>\n      <td>...</td>\n      <td>1.0</td>\n      <td>1.0</td>\n      <td>1.0</td>\n      <td>1.0</td>\n      <td>1.0</td>\n      <td>1.0</td>\n      <td>1.0</td>\n      <td>1.0</td>\n      <td>0.0</td>\n      <td>1</td>\n    </tr>\n    <tr>\n      <th>30</th>\n      <td>0.006184</td>\n      <td>0.000517</td>\n      <td>0.009457</td>\n      <td>0.000513</td>\n      <td>31</td>\n      <td>{'n_neighbors': 31}</td>\n      <td>1.0</td>\n      <td>1.0</td>\n      <td>1.0</td>\n      <td>1.0</td>\n      <td>...</td>\n      <td>1.0</td>\n      <td>1.0</td>\n      <td>1.0</td>\n      <td>1.0</td>\n      <td>1.0</td>\n      <td>1.0</td>\n      <td>1.0</td>\n      <td>1.0</td>\n      <td>0.0</td>\n      <td>1</td>\n    </tr>\n    <tr>\n      <th>31</th>\n      <td>0.005775</td>\n      <td>0.000490</td>\n      <td>0.008544</td>\n      <td>0.000945</td>\n      <td>32</td>\n      <td>{'n_neighbors': 32}</td>\n      <td>1.0</td>\n      <td>1.0</td>\n      <td>1.0</td>\n      <td>1.0</td>\n      <td>...</td>\n      <td>1.0</td>\n      <td>1.0</td>\n      <td>1.0</td>\n      <td>1.0</td>\n      <td>1.0</td>\n      <td>1.0</td>\n      <td>1.0</td>\n      <td>1.0</td>\n      <td>0.0</td>\n      <td>1</td>\n    </tr>\n    <tr>\n      <th>32</th>\n      <td>0.005987</td>\n      <td>0.000520</td>\n      <td>0.008866</td>\n      <td>0.000690</td>\n      <td>33</td>\n      <td>{'n_neighbors': 33}</td>\n      <td>1.0</td>\n      <td>1.0</td>\n      <td>1.0</td>\n      <td>1.0</td>\n      <td>...</td>\n      <td>1.0</td>\n      <td>1.0</td>\n      <td>1.0</td>\n      <td>1.0</td>\n      <td>1.0</td>\n      <td>1.0</td>\n      <td>1.0</td>\n      <td>1.0</td>\n      <td>0.0</td>\n      <td>1</td>\n    </tr>\n    <tr>\n      <th>33</th>\n      <td>0.006303</td>\n      <td>0.000580</td>\n      <td>0.009410</td>\n      <td>0.000474</td>\n      <td>34</td>\n      <td>{'n_neighbors': 34}</td>\n      <td>1.0</td>\n      <td>1.0</td>\n      <td>1.0</td>\n      <td>1.0</td>\n      <td>...</td>\n      <td>1.0</td>\n      <td>1.0</td>\n      <td>1.0</td>\n      <td>1.0</td>\n      <td>1.0</td>\n      <td>1.0</td>\n      <td>1.0</td>\n      <td>1.0</td>\n      <td>0.0</td>\n      <td>1</td>\n    </tr>\n    <tr>\n      <th>34</th>\n      <td>0.006047</td>\n      <td>0.000642</td>\n      <td>0.008846</td>\n      <td>0.000780</td>\n      <td>35</td>\n      <td>{'n_neighbors': 35}</td>\n      <td>1.0</td>\n      <td>1.0</td>\n      <td>1.0</td>\n      <td>1.0</td>\n      <td>...</td>\n      <td>1.0</td>\n      <td>1.0</td>\n      <td>1.0</td>\n      <td>1.0</td>\n      <td>1.0</td>\n      <td>1.0</td>\n      <td>1.0</td>\n      <td>1.0</td>\n      <td>0.0</td>\n      <td>1</td>\n    </tr>\n    <tr>\n      <th>35</th>\n      <td>0.006625</td>\n      <td>0.001080</td>\n      <td>0.010074</td>\n      <td>0.001122</td>\n      <td>36</td>\n      <td>{'n_neighbors': 36}</td>\n      <td>1.0</td>\n      <td>1.0</td>\n      <td>1.0</td>\n      <td>1.0</td>\n      <td>...</td>\n      <td>1.0</td>\n      <td>1.0</td>\n      <td>1.0</td>\n      <td>1.0</td>\n      <td>1.0</td>\n      <td>1.0</td>\n      <td>1.0</td>\n      <td>1.0</td>\n      <td>0.0</td>\n      <td>1</td>\n    </tr>\n    <tr>\n      <th>36</th>\n      <td>0.006320</td>\n      <td>0.000820</td>\n      <td>0.009934</td>\n      <td>0.001336</td>\n      <td>37</td>\n      <td>{'n_neighbors': 37}</td>\n      <td>1.0</td>\n      <td>1.0</td>\n      <td>1.0</td>\n      <td>1.0</td>\n      <td>...</td>\n      <td>1.0</td>\n      <td>1.0</td>\n      <td>1.0</td>\n      <td>1.0</td>\n      <td>1.0</td>\n      <td>1.0</td>\n      <td>1.0</td>\n      <td>1.0</td>\n      <td>0.0</td>\n      <td>1</td>\n    </tr>\n    <tr>\n      <th>37</th>\n      <td>0.006015</td>\n      <td>0.000399</td>\n      <td>0.008652</td>\n      <td>0.000498</td>\n      <td>38</td>\n      <td>{'n_neighbors': 38}</td>\n      <td>1.0</td>\n      <td>1.0</td>\n      <td>1.0</td>\n      <td>1.0</td>\n      <td>...</td>\n      <td>1.0</td>\n      <td>1.0</td>\n      <td>1.0</td>\n      <td>1.0</td>\n      <td>1.0</td>\n      <td>1.0</td>\n      <td>1.0</td>\n      <td>1.0</td>\n      <td>0.0</td>\n      <td>1</td>\n    </tr>\n    <tr>\n      <th>38</th>\n      <td>0.005885</td>\n      <td>0.000417</td>\n      <td>0.008957</td>\n      <td>0.000554</td>\n      <td>39</td>\n      <td>{'n_neighbors': 39}</td>\n      <td>1.0</td>\n      <td>1.0</td>\n      <td>1.0</td>\n      <td>1.0</td>\n      <td>...</td>\n      <td>1.0</td>\n      <td>1.0</td>\n      <td>1.0</td>\n      <td>1.0</td>\n      <td>1.0</td>\n      <td>1.0</td>\n      <td>1.0</td>\n      <td>1.0</td>\n      <td>0.0</td>\n      <td>1</td>\n    </tr>\n    <tr>\n      <th>39</th>\n      <td>0.005948</td>\n      <td>0.000576</td>\n      <td>0.008842</td>\n      <td>0.000569</td>\n      <td>40</td>\n      <td>{'n_neighbors': 40}</td>\n      <td>1.0</td>\n      <td>1.0</td>\n      <td>1.0</td>\n      <td>1.0</td>\n      <td>...</td>\n      <td>1.0</td>\n      <td>1.0</td>\n      <td>1.0</td>\n      <td>1.0</td>\n      <td>1.0</td>\n      <td>1.0</td>\n      <td>1.0</td>\n      <td>1.0</td>\n      <td>0.0</td>\n      <td>1</td>\n    </tr>\n    <tr>\n      <th>40</th>\n      <td>0.005827</td>\n      <td>0.000587</td>\n      <td>0.008690</td>\n      <td>0.000719</td>\n      <td>41</td>\n      <td>{'n_neighbors': 41}</td>\n      <td>1.0</td>\n      <td>1.0</td>\n      <td>1.0</td>\n      <td>1.0</td>\n      <td>...</td>\n      <td>1.0</td>\n      <td>1.0</td>\n      <td>1.0</td>\n      <td>1.0</td>\n      <td>1.0</td>\n      <td>1.0</td>\n      <td>1.0</td>\n      <td>1.0</td>\n      <td>0.0</td>\n      <td>1</td>\n    </tr>\n    <tr>\n      <th>41</th>\n      <td>0.005651</td>\n      <td>0.000549</td>\n      <td>0.008747</td>\n      <td>0.000496</td>\n      <td>42</td>\n      <td>{'n_neighbors': 42}</td>\n      <td>1.0</td>\n      <td>1.0</td>\n      <td>1.0</td>\n      <td>1.0</td>\n      <td>...</td>\n      <td>1.0</td>\n      <td>1.0</td>\n      <td>1.0</td>\n      <td>1.0</td>\n      <td>1.0</td>\n      <td>1.0</td>\n      <td>1.0</td>\n      <td>1.0</td>\n      <td>0.0</td>\n      <td>1</td>\n    </tr>\n    <tr>\n      <th>42</th>\n      <td>0.005774</td>\n      <td>0.000438</td>\n      <td>0.009107</td>\n      <td>0.000762</td>\n      <td>43</td>\n      <td>{'n_neighbors': 43}</td>\n      <td>1.0</td>\n      <td>1.0</td>\n      <td>1.0</td>\n      <td>1.0</td>\n      <td>...</td>\n      <td>1.0</td>\n      <td>1.0</td>\n      <td>1.0</td>\n      <td>1.0</td>\n      <td>1.0</td>\n      <td>1.0</td>\n      <td>1.0</td>\n      <td>1.0</td>\n      <td>0.0</td>\n      <td>1</td>\n    </tr>\n    <tr>\n      <th>43</th>\n      <td>0.005848</td>\n      <td>0.000440</td>\n      <td>0.009054</td>\n      <td>0.000772</td>\n      <td>44</td>\n      <td>{'n_neighbors': 44}</td>\n      <td>1.0</td>\n      <td>1.0</td>\n      <td>1.0</td>\n      <td>1.0</td>\n      <td>...</td>\n      <td>1.0</td>\n      <td>1.0</td>\n      <td>1.0</td>\n      <td>1.0</td>\n      <td>1.0</td>\n      <td>1.0</td>\n      <td>1.0</td>\n      <td>1.0</td>\n      <td>0.0</td>\n      <td>1</td>\n    </tr>\n    <tr>\n      <th>44</th>\n      <td>0.005851</td>\n      <td>0.000479</td>\n      <td>0.009274</td>\n      <td>0.001279</td>\n      <td>45</td>\n      <td>{'n_neighbors': 45}</td>\n      <td>1.0</td>\n      <td>1.0</td>\n      <td>1.0</td>\n      <td>1.0</td>\n      <td>...</td>\n      <td>1.0</td>\n      <td>1.0</td>\n      <td>1.0</td>\n      <td>1.0</td>\n      <td>1.0</td>\n      <td>1.0</td>\n      <td>1.0</td>\n      <td>1.0</td>\n      <td>0.0</td>\n      <td>1</td>\n    </tr>\n    <tr>\n      <th>45</th>\n      <td>0.005923</td>\n      <td>0.000573</td>\n      <td>0.009130</td>\n      <td>0.000970</td>\n      <td>46</td>\n      <td>{'n_neighbors': 46}</td>\n      <td>1.0</td>\n      <td>1.0</td>\n      <td>1.0</td>\n      <td>1.0</td>\n      <td>...</td>\n      <td>1.0</td>\n      <td>1.0</td>\n      <td>1.0</td>\n      <td>1.0</td>\n      <td>1.0</td>\n      <td>1.0</td>\n      <td>1.0</td>\n      <td>1.0</td>\n      <td>0.0</td>\n      <td>1</td>\n    </tr>\n    <tr>\n      <th>46</th>\n      <td>0.005943</td>\n      <td>0.000381</td>\n      <td>0.009116</td>\n      <td>0.000771</td>\n      <td>47</td>\n      <td>{'n_neighbors': 47}</td>\n      <td>1.0</td>\n      <td>1.0</td>\n      <td>1.0</td>\n      <td>1.0</td>\n      <td>...</td>\n      <td>1.0</td>\n      <td>1.0</td>\n      <td>1.0</td>\n      <td>1.0</td>\n      <td>1.0</td>\n      <td>1.0</td>\n      <td>1.0</td>\n      <td>1.0</td>\n      <td>0.0</td>\n      <td>1</td>\n    </tr>\n    <tr>\n      <th>47</th>\n      <td>0.005665</td>\n      <td>0.000402</td>\n      <td>0.009071</td>\n      <td>0.000713</td>\n      <td>48</td>\n      <td>{'n_neighbors': 48}</td>\n      <td>1.0</td>\n      <td>1.0</td>\n      <td>1.0</td>\n      <td>1.0</td>\n      <td>...</td>\n      <td>1.0</td>\n      <td>1.0</td>\n      <td>1.0</td>\n      <td>1.0</td>\n      <td>1.0</td>\n      <td>1.0</td>\n      <td>1.0</td>\n      <td>1.0</td>\n      <td>0.0</td>\n      <td>1</td>\n    </tr>\n    <tr>\n      <th>48</th>\n      <td>0.005769</td>\n      <td>0.000533</td>\n      <td>0.009137</td>\n      <td>0.000373</td>\n      <td>49</td>\n      <td>{'n_neighbors': 49}</td>\n      <td>1.0</td>\n      <td>1.0</td>\n      <td>1.0</td>\n      <td>1.0</td>\n      <td>...</td>\n      <td>1.0</td>\n      <td>1.0</td>\n      <td>1.0</td>\n      <td>1.0</td>\n      <td>1.0</td>\n      <td>1.0</td>\n      <td>1.0</td>\n      <td>1.0</td>\n      <td>0.0</td>\n      <td>1</td>\n    </tr>\n  </tbody>\n</table>\n<p>49 rows × 29 columns</p>\n</div>"
     },
     "execution_count": 52,
     "metadata": {},
     "output_type": "execute_result"
    }
   ],
   "source": [
    "scores"
   ],
   "metadata": {
    "collapsed": false,
    "ExecuteTime": {
     "end_time": "2023-09-19T17:06:48.560449300Z",
     "start_time": "2023-09-19T17:06:48.485936200Z"
    }
   },
   "id": "a53f93396199eb00"
  },
  {
   "cell_type": "markdown",
   "source": [
    "##### Plot the accuracy as a function of the k-value. You need to extract that information from the model. How sensitive is the performance of the model for different k-values?"
   ],
   "metadata": {
    "collapsed": false
   },
   "id": "45a2f13074af7a2b"
  },
  {
   "cell_type": "code",
   "execution_count": 53,
   "outputs": [],
   "source": [
    "mean_test_score = scores['mean_test_score']"
   ],
   "metadata": {
    "collapsed": false,
    "ExecuteTime": {
     "end_time": "2023-09-19T17:06:48.561452900Z",
     "start_time": "2023-09-19T17:06:48.532394300Z"
    }
   },
   "id": "fdbdf422e44d97e1"
  },
  {
   "cell_type": "code",
   "execution_count": 54,
   "outputs": [
    {
     "data": {
      "text/plain": "0     1.0\n1     1.0\n2     1.0\n3     1.0\n4     1.0\n5     1.0\n6     1.0\n7     1.0\n8     1.0\n9     1.0\n10    1.0\n11    1.0\n12    1.0\n13    1.0\n14    1.0\n15    1.0\n16    1.0\n17    1.0\n18    1.0\n19    1.0\n20    1.0\n21    1.0\n22    1.0\n23    1.0\n24    1.0\n25    1.0\n26    1.0\n27    1.0\n28    1.0\n29    1.0\n30    1.0\n31    1.0\n32    1.0\n33    1.0\n34    1.0\n35    1.0\n36    1.0\n37    1.0\n38    1.0\n39    1.0\n40    1.0\n41    1.0\n42    1.0\n43    1.0\n44    1.0\n45    1.0\n46    1.0\n47    1.0\n48    1.0\nName: mean_test_score, dtype: float64"
     },
     "execution_count": 54,
     "metadata": {},
     "output_type": "execute_result"
    }
   ],
   "source": [
    "mean_test_score"
   ],
   "metadata": {
    "collapsed": false,
    "ExecuteTime": {
     "end_time": "2023-09-19T17:06:48.587351300Z",
     "start_time": "2023-09-19T17:06:48.548405Z"
    }
   },
   "id": "5768b9bab72500ca"
  },
  {
   "cell_type": "code",
   "execution_count": 55,
   "outputs": [
    {
     "data": {
      "text/plain": "<Axes: title={'center': 'Accuracy'}, xlabel='k'>"
     },
     "execution_count": 55,
     "metadata": {},
     "output_type": "execute_result"
    },
    {
     "data": {
      "text/plain": "<Figure size 640x480 with 1 Axes>",
      "image/png": "[encoded data removed]"
     },
     "metadata": {},
     "output_type": "display_data"
    }
   ],
   "source": [
    "mean_test_score.plot(title = 'Accuracy', xlabel='k')"
   ],
   "metadata": {
    "collapsed": false,
    "ExecuteTime": {
     "end_time": "2023-09-19T17:06:48.709404400Z",
     "start_time": "2023-09-19T17:06:48.565761300Z"
    }
   },
   "id": "c91eb6fbfa244d03"
  },
  {
   "cell_type": "markdown",
   "source": [
    "#### Now it is time to look at the test set with the optimal k-value"
   ],
   "metadata": {
    "collapsed": false
   },
   "id": "efa8072fa80deb3e"
  },
  {
   "cell_type": "markdown",
   "source": [
    "##### Use the model on the test set and acquire both the accuracy and the plot the confusion matrix"
   ],
   "metadata": {
    "collapsed": false
   },
   "id": "229378e30ea60e96"
  },
  {
   "cell_type": "code",
   "execution_count": 56,
   "outputs": [],
   "source": [
    "y_pred = grid.predict(X=X_test)"
   ],
   "metadata": {
    "collapsed": false,
    "ExecuteTime": {
     "end_time": "2023-09-19T17:06:48.766751200Z",
     "start_time": "2023-09-19T17:06:48.690275600Z"
    }
   },
   "id": "eff4a8d658b74dce"
  },
  {
   "cell_type": "code",
   "execution_count": 57,
   "outputs": [
    {
     "data": {
      "text/plain": "1.0"
     },
     "execution_count": 57,
     "metadata": {},
     "output_type": "execute_result"
    }
   ],
   "source": [
    "accuracy_score(y_true=y_test, y_pred=y_pred)"
   ],
   "metadata": {
    "collapsed": false,
    "ExecuteTime": {
     "end_time": "2023-09-19T17:06:48.782823500Z",
     "start_time": "2023-09-19T17:06:48.752197600Z"
    }
   },
   "id": "a3ec4f0df6bb6bf6"
  },
  {
   "cell_type": "code",
   "execution_count": 58,
   "outputs": [],
   "source": [
    "X_test_sample = testing_set.drop('class', axis='columns')\n",
    "y_true_sample = testing_set['class']\n",
    "y_test_pred = grid.predict(X=X_test_sample)"
   ],
   "metadata": {
    "collapsed": false,
    "ExecuteTime": {
     "end_time": "2023-09-19T17:06:48.867248900Z",
     "start_time": "2023-09-19T17:06:48.769256100Z"
    }
   },
   "id": "95ab247cb456cc58"
  },
  {
   "cell_type": "code",
   "execution_count": 59,
   "outputs": [
    {
     "name": "stdout",
     "output_type": "stream",
     "text": [
      "Validation set accuracy: 1.0\n",
      "Test set accuracy: 1.0\n"
     ]
    }
   ],
   "source": [
    "display_accuracy(accuracy_score(y_true=y_test, y_pred=y_pred), accuracy_score(y_true=y_true_sample, y_pred=y_test_pred))"
   ],
   "metadata": {
    "collapsed": false,
    "ExecuteTime": {
     "end_time": "2023-09-19T17:06:48.879374700Z",
     "start_time": "2023-09-19T17:06:48.864249900Z"
    }
   },
   "id": "f43ed1a0f4557285"
  },
  {
   "cell_type": "markdown",
   "source": [
    "##### Explain the result in the confusion matrix"
   ],
   "metadata": {
    "collapsed": false
   },
   "id": "6054195921d0157d"
  },
  {
   "cell_type": "code",
   "execution_count": 60,
   "outputs": [
    {
     "data": {
      "text/plain": "<Figure size 640x480 with 1 Axes>",
      "image/png": "[encoded data removed]"
     },
     "metadata": {},
     "output_type": "display_data"
    }
   ],
   "source": [
    "sns_cm(y_test, y_pred)"
   ],
   "metadata": {
    "collapsed": false,
    "ExecuteTime": {
     "end_time": "2023-09-19T17:06:48.955776200Z",
     "start_time": "2023-09-19T17:06:48.877816Z"
    }
   },
   "id": "5629cfbb66dc20b8"
  },
  {
   "cell_type": "code",
   "execution_count": 61,
   "outputs": [
    {
     "data": {
      "text/plain": "<Figure size 640x480 with 1 Axes>",
      "image/png": "[encoded data removed]"
     },
     "metadata": {},
     "output_type": "display_data"
    }
   ],
   "source": [
    "sns_cm(y_true_sample, y_test_pred)"
   ],
   "metadata": {
    "collapsed": false,
    "ExecuteTime": {
     "end_time": "2023-09-19T17:06:49.036771Z",
     "start_time": "2023-09-19T17:06:48.956776700Z"
    }
   },
   "id": "6960928fc65bdff0"
  },
  {
   "cell_type": "markdown",
   "source": [
    "##### Scatter plot of training sets\n"
   ],
   "metadata": {
    "collapsed": false
   },
   "id": "f38c44f09723b086"
  },
  {
   "cell_type": "code",
   "execution_count": 62,
   "outputs": [
    {
     "data": {
      "text/plain": "<Figure size 640x480 with 1 Axes>",
      "image/png": "[encoded data removed]"
     },
     "metadata": {},
     "output_type": "display_data"
    }
   ],
   "source": [
    "scatter_plot(training_sets)"
   ],
   "metadata": {
    "collapsed": false,
    "ExecuteTime": {
     "end_time": "2023-09-19T17:06:49.237164200Z",
     "start_time": "2023-09-19T17:06:49.035769700Z"
    }
   },
   "id": "41ae5d49b76763fc"
  },
  {
   "cell_type": "markdown",
   "source": [
    "##### Scatter plot of testing sets\n"
   ],
   "metadata": {
    "collapsed": false
   },
   "id": "8e31fd6723011571"
  },
  {
   "cell_type": "code",
   "execution_count": 63,
   "outputs": [
    {
     "data": {
      "text/plain": "<Figure size 640x480 with 1 Axes>",
      "image/png": "[encoded data removed]"
     },
     "metadata": {},
     "output_type": "display_data"
    }
   ],
   "source": [
    "scatter_plot(testing_sets)"
   ],
   "metadata": {
    "collapsed": false,
    "ExecuteTime": {
     "end_time": "2023-09-19T17:06:49.410194300Z",
     "start_time": "2023-09-19T17:06:49.238166800Z"
    }
   },
   "id": "56acdcf4b9a67aab"
  }
 ],
 "metadata": {
  "kernelspec": {
   "display_name": "Python 3",
   "language": "python",
   "name": "python3"
  },
  "language_info": {
   "codemirror_mode": {
    "name": "ipython",
    "version": 2
   },
   "file_extension": ".py",
   "mimetype": "text/x-python",
   "name": "python",
   "nbconvert_exporter": "python",
   "pygments_lexer": "ipython2",
   "version": "2.7.6"
  }
 },
 "nbformat": 4,
 "nbformat_minor": 5
}
