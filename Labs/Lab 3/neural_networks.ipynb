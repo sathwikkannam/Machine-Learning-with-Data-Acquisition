{
 "cells": [
  {
   "cell_type": "code",
   "execution_count": null,
   "outputs": [],
   "source": [
    "import tensorflow as tf\n",
    "from common import acc_names, rate_gyro_names, get_set"
   ],
   "metadata": {
    "collapsed": false
   },
   "id": "587ec297b4d09bd0"
  },
  {
   "cell_type": "code",
   "execution_count": null,
   "outputs": [],
   "source": [
    "movement_classes = ['Squats', 'Jumping', 'Running', 'Walking']\n",
    "features = acc_names + rate_gyro_names"
   ],
   "metadata": {
    "collapsed": false
   },
   "id": "fcf5f05c9cec7845"
  },
  {
   "cell_type": "markdown",
   "source": [
    "## Build a feedforward neural network that has 6 features as input and 4 classes as output. The network should have 2 hidden layers. You should try the network with 10 and 50 neurons in each layer. That is, you need two different models."
   ],
   "metadata": {
    "collapsed": false
   },
   "id": "11bd36b4c800d162"
  },
  {
   "cell_type": "markdown",
   "source": [
    "## 10 Neurons"
   ],
   "metadata": {
    "collapsed": false
   },
   "id": "2dd281f7f3ee5cd8"
  },
  {
   "cell_type": "code",
   "execution_count": null,
   "id": "d433b221bedcde22",
   "metadata": {
    "collapsed": true
   },
   "outputs": [],
   "source": [
    "model_10 = tf.keras.Sequential([\n",
    "    tf.keras.layers.Dense(units=10, activation='relu', input_shape=(features,)),\n",
    "    tf.keras.layers.Dense(units=10, activation='relu'),\n",
    "    tf.keras.layers.Dense(movement_classes, activation='softmax')\n",
    "])"
   ]
  },
  {
   "cell_type": "markdown",
   "source": [
    "## 50 Neurons"
   ],
   "metadata": {
    "collapsed": false
   },
   "id": "c93fb3a2cd03ae83"
  },
  {
   "cell_type": "code",
   "execution_count": null,
   "outputs": [],
   "source": [
    "model_50 = tf.keras.Sequential([\n",
    "    tf.keras.layers.Dense(units=50, activation='relu', input_shape=(features,)),\n",
    "    tf.keras.layers.Dense(units=50, activation='relu'),\n",
    "    tf.keras.layers.Dense(movement_classes, activation='softmax')\n",
    "])"
   ],
   "metadata": {
    "collapsed": false
   },
   "id": "initial_id"
  },
  {
   "cell_type": "markdown",
   "source": [
    "##### Compile the models"
   ],
   "metadata": {
    "collapsed": false
   },
   "id": "99a12efdcd282283"
  },
  {
   "cell_type": "code",
   "execution_count": null,
   "outputs": [],
   "source": [
    "model_10.compile(optimizer='adam', loss='categorical_crossentropy', metrics=['accuracy'])\n",
    "model_50.compile(optimizer='adam', loss='categorical_crossentropy', metrics=['accuracy'])"
   ],
   "metadata": {
    "collapsed": false
   },
   "id": "6137ce378e081c62"
  },
  {
   "cell_type": "markdown",
   "source": [
    "##### Train the models"
   ],
   "metadata": {
    "collapsed": false
   },
   "id": "a1306bc8104694f2"
  },
  {
   "cell_type": "code",
   "execution_count": null,
   "outputs": [],
   "source": [],
   "metadata": {
    "collapsed": false
   },
   "id": "fd37ff451a24cccd"
  }
 ],
 "metadata": {
  "kernelspec": {
   "display_name": "Python 3",
   "language": "python",
   "name": "python3"
  },
  "language_info": {
   "codemirror_mode": {
    "name": "ipython",
    "version": 2
   },
   "file_extension": ".py",
   "mimetype": "text/x-python",
   "name": "python",
   "nbconvert_exporter": "python",
   "pygments_lexer": "ipython2",
   "version": "2.7.6"
  }
 },
 "nbformat": 4,
 "nbformat_minor": 5
}
