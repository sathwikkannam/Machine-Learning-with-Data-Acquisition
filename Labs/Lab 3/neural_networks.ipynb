{
 "cells": [
  {
   "cell_type": "code",
   "execution_count": null,
   "outputs": [],
   "source": [
    "import tensorflow as tf\n",
    "from keras.models import Sequential\n",
    "from keras.layers import Dense\n",
    "from common import acc_names, rate_gyro_names\n",
    "from sklearn.model_selection import train_test_split\n",
    "import import_ipynb as ipynb"
   ],
   "metadata": {
    "collapsed": false
   },
   "id": "587ec297b4d09bd0"
  },
  {
   "cell_type": "code",
   "execution_count": null,
   "outputs": [],
   "source": [
    "%%capture\n",
    "m_knn = ipynb.NotebookLoader().load_module('movements_knn')"
   ],
   "metadata": {
    "collapsed": false
   },
   "id": "4e49f8f85f9eaa"
  },
  {
   "cell_type": "markdown",
   "source": [
    "## Data"
   ],
   "metadata": {
    "collapsed": false
   },
   "id": "2e68dda5525d1719"
  },
  {
   "cell_type": "code",
   "execution_count": null,
   "outputs": [],
   "source": [
    "movement_classes = ['Squats', 'Jumping', 'Running', 'Walking']\n",
    "features = acc_names + rate_gyro_names"
   ],
   "metadata": {
    "collapsed": false
   },
   "id": "4878947e00a3e83b"
  },
  {
   "cell_type": "code",
   "execution_count": null,
   "outputs": [],
   "source": [
    "X = m_knn.X\n",
    "y = m_knn.y\n",
    "X_sample = m_knn.X_test_sample\n",
    "y_sample_true = m_knn.y_true_sample"
   ],
   "metadata": {
    "collapsed": false
   },
   "id": "88f911d203eec7"
  },
  {
   "cell_type": "code",
   "execution_count": null,
   "outputs": [],
   "source": [
    "X_train, X_test, y_train, y_test = train_test_split(X, y, test_size=0.20, shuffle=True)"
   ],
   "metadata": {
    "collapsed": false
   },
   "id": "98fb2208a262edc2"
  },
  {
   "cell_type": "markdown",
   "source": [
    "## Build a feedforward neural network that has 6 features as input and 4 classes as output. The network should have 2 hidden layers. You should try the network with 10 and 50 neurons in each layer. That is, you need two different models."
   ],
   "metadata": {
    "collapsed": false
   },
   "id": "11bd36b4c800d162"
  },
  {
   "cell_type": "markdown",
   "source": [
    "## 10 Neurons"
   ],
   "metadata": {
    "collapsed": false
   },
   "id": "2dd281f7f3ee5cd8"
  },
  {
   "cell_type": "code",
   "execution_count": null,
   "id": "d433b221bedcde22",
   "metadata": {
    "collapsed": true
   },
   "outputs": [],
   "source": [
    "model_10 = Sequential([\n",
    "    Dense(units=10, activation='relu', input_shape=(features,)),\n",
    "    Dense(units=10, activation='relu'),\n",
    "    Dense(movement_classes, activation='softmax')\n",
    "])"
   ]
  },
  {
   "cell_type": "markdown",
   "source": [
    "## 50 Neurons"
   ],
   "metadata": {
    "collapsed": false
   },
   "id": "c93fb3a2cd03ae83"
  },
  {
   "cell_type": "code",
   "execution_count": null,
   "outputs": [],
   "source": [
    "model_50 = Sequential([\n",
    "    Dense(units=50, activation='relu', input_shape=(features,)),\n",
    "    Dense(units=50, activation='relu'),\n",
    "    Dense(movement_classes, activation='softmax')\n",
    "])"
   ],
   "metadata": {
    "collapsed": false
   },
   "id": "initial_id"
  },
  {
   "cell_type": "markdown",
   "source": [
    "##### Compile the models"
   ],
   "metadata": {
    "collapsed": false
   },
   "id": "99a12efdcd282283"
  },
  {
   "cell_type": "code",
   "execution_count": null,
   "outputs": [],
   "source": [
    "model_10.compile(optimizer='adam', loss='categorical_crossentropy', metrics=['accuracy'])\n",
    "model_50.compile(optimizer='adam', loss='categorical_crossentropy', metrics=['accuracy'])"
   ],
   "metadata": {
    "collapsed": false
   },
   "id": "6137ce378e081c62"
  },
  {
   "cell_type": "markdown",
   "source": [
    "### Train the models"
   ],
   "metadata": {
    "collapsed": false
   },
   "id": "a1306bc8104694f2"
  },
  {
   "cell_type": "markdown",
   "source": [
    "#### Evaluate the model for validation set"
   ],
   "metadata": {
    "collapsed": false
   },
   "id": "a666d5238df3ed14"
  },
  {
   "cell_type": "code",
   "execution_count": null,
   "outputs": [],
   "source": [
    "val_loss_10, val_accuracy_10 = model_10.evaluate(X_test, y_test, verbose=0)\n",
    "val_loss_50, val_accuracy_50 = model_50.evaluate(X_test, y_test, verbose=0)"
   ],
   "metadata": {
    "collapsed": false
   },
   "id": "fd37ff451a24cccd"
  },
  {
   "cell_type": "markdown",
   "source": [
    "#### Evaluate the model for training set"
   ],
   "metadata": {
    "collapsed": false
   },
   "id": "3914cf01374134b"
  },
  {
   "cell_type": "code",
   "execution_count": null,
   "outputs": [],
   "source": [
    "train_loss_10, train_accuracy_10 = model_10.evaluate(X_test, y_test, verbose=0)\n",
    "train_loss_50, train_accuracy_50 = model_50.evaluate(X_test, y_test, verbose=0)"
   ],
   "metadata": {
    "collapsed": false
   },
   "id": "6e2c117ff2c88d95"
  },
  {
   "cell_type": "markdown",
   "source": [
    "#### Evaluate the model for testing set"
   ],
   "metadata": {
    "collapsed": false
   },
   "id": "fc292b71f44a2cce"
  },
  {
   "cell_type": "code",
   "execution_count": null,
   "outputs": [],
   "source": [
    "test_loss_10, test_accuracy_10 = model_10.evaluate(X_test, y_test, verbose=0)\n",
    "test_loss_50, test_accuracy_50 = model_50.evaluate(X_test, y_test, verbose=0)"
   ],
   "metadata": {
    "collapsed": false
   },
   "id": "6f47797d7387c7da"
  },
  {
   "cell_type": "markdown",
   "source": [
    "### For calculating the confusion matrix should you use evaluate or predict?\n",
    "#### Calculate the confusion matrix and plot it. Explain the result."
   ],
   "metadata": {
    "collapsed": false
   },
   "id": "878f85b5dded86b4"
  }
 ],
 "metadata": {
  "kernelspec": {
   "display_name": "Python 3",
   "language": "python",
   "name": "python3"
  },
  "language_info": {
   "codemirror_mode": {
    "name": "ipython",
    "version": 2
   },
   "file_extension": ".py",
   "mimetype": "text/x-python",
   "name": "python",
   "nbconvert_exporter": "python",
   "pygments_lexer": "ipython2",
   "version": "2.7.6"
  }
 },
 "nbformat": 4,
 "nbformat_minor": 5
}
