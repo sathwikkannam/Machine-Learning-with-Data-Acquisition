{
 "cells": [
  {
   "cell_type": "code",
   "execution_count": null,
   "id": "initial_id",
   "metadata": {
    "collapsed": true
   },
   "outputs": [],
   "source": [
    "import pandas as pd\n",
    "import import_ipynb as ipynb\n",
    "import os"
   ]
  },
  {
   "cell_type": "code",
   "execution_count": null,
   "outputs": [],
   "source": [
    "%%capture\n",
    "os.chdir(\"../Lab 1\")\n",
    "lab_1 = ipynb.NotebookLoader().load_module('lab1')\n",
    "os.chdir(\"../Lab 4\")"
   ],
   "metadata": {
    "collapsed": false
   },
   "id": "39e63e4005cee9e9"
  },
  {
   "cell_type": "code",
   "execution_count": null,
   "outputs": [],
   "source": [
    "dfs = []"
   ],
   "metadata": {
    "collapsed": false
   },
   "id": "86abefc86116974b"
  },
  {
   "cell_type": "code",
   "execution_count": null,
   "outputs": [],
   "source": [
    "for pos in ['Squats', 'Jumping', 'Running', 'Walking']:\n",
    "    processed_dataframe = lab_1.pre_process_file(acc_file=f\"../Data/ML_Lab_1_{pos}_5/Accelerometer.csv\",\n",
    "                                                 rate_gyro_file=f\"../Data/ML_Lab_1_{pos}_5/Gyroscope.csv\",\n",
    "                                                 n=0)\n",
    "    processed_dataframe['class'] = pos\n",
    "    dfs.append(processed_dataframe)"
   ],
   "metadata": {
    "collapsed": false
   },
   "id": "73899118f3173a49"
  },
  {
   "cell_type": "code",
   "execution_count": null,
   "outputs": [],
   "source": [
    "df = pd.concat(dfs, axis='rows', ignore_index=True)"
   ],
   "metadata": {
    "collapsed": false
   },
   "id": "3b5ef83bac9a0754"
  },
  {
   "cell_type": "code",
   "execution_count": null,
   "outputs": [],
   "source": [
    "df"
   ],
   "metadata": {
    "collapsed": false
   },
   "id": "c22e8acd604c6944"
  },
  {
   "cell_type": "code",
   "execution_count": null,
   "outputs": [],
   "source": [
    "df.to_pickle(\"neural_test_set.pkl\")\n",
    "\n",
    "# Or\n",
    "\n",
    "df.to_pickle(\"../Binaries/Test/neural_test_set.pkl\")"
   ],
   "metadata": {
    "collapsed": false
   },
   "id": "7970e27c69ae015"
  }
 ],
 "metadata": {
  "kernelspec": {
   "display_name": "Python 3",
   "language": "python",
   "name": "python3"
  },
  "language_info": {
   "codemirror_mode": {
    "name": "ipython",
    "version": 2
   },
   "file_extension": ".py",
   "mimetype": "text/x-python",
   "name": "python",
   "nbconvert_exporter": "python",
   "pygments_lexer": "ipython2",
   "version": "2.7.6"
  }
 },
 "nbformat": 4,
 "nbformat_minor": 5
}
