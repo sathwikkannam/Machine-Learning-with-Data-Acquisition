{
 "cells": [
  {
   "cell_type": "code",
   "execution_count": 1,
   "id": "initial_id",
   "metadata": {
    "collapsed": true,
    "ExecuteTime": {
     "end_time": "2023-10-16T17:30:19.192505300Z",
     "start_time": "2023-10-16T17:30:18.669539600Z"
    }
   },
   "outputs": [],
   "source": [
    "import pandas as pd\n",
    "import import_ipynb as ipynb\n",
    "import os"
   ]
  },
  {
   "cell_type": "code",
   "execution_count": 2,
   "outputs": [],
   "source": [
    "%%capture\n",
    "os.chdir(\"../Lab 1\")\n",
    "lab_1 = ipynb.NotebookLoader().load_module('lab1')\n",
    "os.chdir(\"../Lab 4\")"
   ],
   "metadata": {
    "collapsed": false,
    "ExecuteTime": {
     "end_time": "2023-10-16T17:30:23.246336900Z",
     "start_time": "2023-10-16T17:30:19.193720300Z"
    }
   },
   "id": "39e63e4005cee9e9"
  },
  {
   "cell_type": "code",
   "execution_count": 3,
   "outputs": [],
   "source": [
    "dfs = []"
   ],
   "metadata": {
    "collapsed": false,
    "ExecuteTime": {
     "end_time": "2023-10-16T17:30:23.262476100Z",
     "start_time": "2023-10-16T17:30:23.248448700Z"
    }
   },
   "id": "86abefc86116974b"
  },
  {
   "cell_type": "code",
   "execution_count": 4,
   "outputs": [],
   "source": [
    "for pos in ['Squats', 'Jumping', 'Running', 'Walking']:\n",
    "    processed_dataframe = lab_1.pre_process_file(acc_file=f\"../Data/ML_Lab_1_{pos}_5/Accelerometer.csv\",\n",
    "                                                 rate_gyro_file=f\"../Data/ML_Lab_1_{pos}_5/Gyroscope.csv\",\n",
    "                                                 n=0)\n",
    "    processed_dataframe['class'] = pos\n",
    "    dfs.append(processed_dataframe)"
   ],
   "metadata": {
    "collapsed": false,
    "ExecuteTime": {
     "end_time": "2023-10-16T17:30:23.418173400Z",
     "start_time": "2023-10-16T17:30:23.264478100Z"
    }
   },
   "id": "73899118f3173a49"
  },
  {
   "cell_type": "code",
   "execution_count": 5,
   "outputs": [],
   "source": [
    "df = pd.concat(dfs, axis='rows', ignore_index=True)"
   ],
   "metadata": {
    "collapsed": false,
    "ExecuteTime": {
     "end_time": "2023-10-16T17:30:23.433626400Z",
     "start_time": "2023-10-16T17:30:23.419173500Z"
    }
   },
   "id": "3b5ef83bac9a0754"
  },
  {
   "cell_type": "code",
   "execution_count": 6,
   "outputs": [
    {
     "data": {
      "text/plain": "            ax        ay        az        gx        gy        gz    class\n0    -4.745565 -6.080760 -4.469194  1.933026 -1.349514  0.113770   Squats\n1    -4.513163 -6.418447 -4.186543  2.255553 -1.187029 -0.220974   Squats\n2    -3.921836 -6.686444 -4.141078  2.257997 -1.169925 -0.108578   Squats\n3    -2.796612 -6.770193 -4.157828  2.303200 -1.074633 -0.013286   Squats\n4    -1.398605 -6.808478 -4.462016  2.352067 -0.992779  0.041690   Squats\n...        ...       ...       ...       ...       ...       ...      ...\n6173 -2.595614 -5.566005  0.098704 -0.168441 -0.138815 -0.133012  Walking\n6174 -2.700899 -5.831907  0.053240 -0.029168 -0.107051 -0.112243  Walking\n6175 -2.676970 -6.171688  0.024526  0.107662 -0.064292 -0.064597  Walking\n6176 -2.581257 -6.514161 -0.068794  0.242048 -0.049631 -0.009621  Walking\n6177 -2.483152 -6.765407 -0.267398  0.371548 -0.081395  0.041690  Walking\n\n[6178 rows x 7 columns]",
      "text/html": "<div>\n<style scoped>\n    .dataframe tbody tr th:only-of-type {\n        vertical-align: middle;\n    }\n\n    .dataframe tbody tr th {\n        vertical-align: top;\n    }\n\n    .dataframe thead th {\n        text-align: right;\n    }\n</style>\n<table border=\"1\" class=\"dataframe\">\n  <thead>\n    <tr style=\"text-align: right;\">\n      <th></th>\n      <th>ax</th>\n      <th>ay</th>\n      <th>az</th>\n      <th>gx</th>\n      <th>gy</th>\n      <th>gz</th>\n      <th>class</th>\n    </tr>\n  </thead>\n  <tbody>\n    <tr>\n      <th>0</th>\n      <td>-4.745565</td>\n      <td>-6.080760</td>\n      <td>-4.469194</td>\n      <td>1.933026</td>\n      <td>-1.349514</td>\n      <td>0.113770</td>\n      <td>Squats</td>\n    </tr>\n    <tr>\n      <th>1</th>\n      <td>-4.513163</td>\n      <td>-6.418447</td>\n      <td>-4.186543</td>\n      <td>2.255553</td>\n      <td>-1.187029</td>\n      <td>-0.220974</td>\n      <td>Squats</td>\n    </tr>\n    <tr>\n      <th>2</th>\n      <td>-3.921836</td>\n      <td>-6.686444</td>\n      <td>-4.141078</td>\n      <td>2.257997</td>\n      <td>-1.169925</td>\n      <td>-0.108578</td>\n      <td>Squats</td>\n    </tr>\n    <tr>\n      <th>3</th>\n      <td>-2.796612</td>\n      <td>-6.770193</td>\n      <td>-4.157828</td>\n      <td>2.303200</td>\n      <td>-1.074633</td>\n      <td>-0.013286</td>\n      <td>Squats</td>\n    </tr>\n    <tr>\n      <th>4</th>\n      <td>-1.398605</td>\n      <td>-6.808478</td>\n      <td>-4.462016</td>\n      <td>2.352067</td>\n      <td>-0.992779</td>\n      <td>0.041690</td>\n      <td>Squats</td>\n    </tr>\n    <tr>\n      <th>...</th>\n      <td>...</td>\n      <td>...</td>\n      <td>...</td>\n      <td>...</td>\n      <td>...</td>\n      <td>...</td>\n      <td>...</td>\n    </tr>\n    <tr>\n      <th>6173</th>\n      <td>-2.595614</td>\n      <td>-5.566005</td>\n      <td>0.098704</td>\n      <td>-0.168441</td>\n      <td>-0.138815</td>\n      <td>-0.133012</td>\n      <td>Walking</td>\n    </tr>\n    <tr>\n      <th>6174</th>\n      <td>-2.700899</td>\n      <td>-5.831907</td>\n      <td>0.053240</td>\n      <td>-0.029168</td>\n      <td>-0.107051</td>\n      <td>-0.112243</td>\n      <td>Walking</td>\n    </tr>\n    <tr>\n      <th>6175</th>\n      <td>-2.676970</td>\n      <td>-6.171688</td>\n      <td>0.024526</td>\n      <td>0.107662</td>\n      <td>-0.064292</td>\n      <td>-0.064597</td>\n      <td>Walking</td>\n    </tr>\n    <tr>\n      <th>6176</th>\n      <td>-2.581257</td>\n      <td>-6.514161</td>\n      <td>-0.068794</td>\n      <td>0.242048</td>\n      <td>-0.049631</td>\n      <td>-0.009621</td>\n      <td>Walking</td>\n    </tr>\n    <tr>\n      <th>6177</th>\n      <td>-2.483152</td>\n      <td>-6.765407</td>\n      <td>-0.267398</td>\n      <td>0.371548</td>\n      <td>-0.081395</td>\n      <td>0.041690</td>\n      <td>Walking</td>\n    </tr>\n  </tbody>\n</table>\n<p>6178 rows × 7 columns</p>\n</div>"
     },
     "execution_count": 6,
     "metadata": {},
     "output_type": "execute_result"
    }
   ],
   "source": [
    "df"
   ],
   "metadata": {
    "collapsed": false,
    "ExecuteTime": {
     "end_time": "2023-10-16T17:30:23.464094600Z",
     "start_time": "2023-10-16T17:30:23.434624700Z"
    }
   },
   "id": "c22e8acd604c6944"
  },
  {
   "cell_type": "code",
   "execution_count": 7,
   "outputs": [],
   "source": [
    "df.to_pickle(\"neural_test_set.pkl\")"
   ],
   "metadata": {
    "collapsed": false,
    "ExecuteTime": {
     "end_time": "2023-10-16T17:30:23.493552100Z",
     "start_time": "2023-10-16T17:30:23.450283800Z"
    }
   },
   "id": "7970e27c69ae015"
  }
 ],
 "metadata": {
  "kernelspec": {
   "display_name": "Python 3",
   "language": "python",
   "name": "python3"
  },
  "language_info": {
   "codemirror_mode": {
    "name": "ipython",
    "version": 2
   },
   "file_extension": ".py",
   "mimetype": "text/x-python",
   "name": "python",
   "nbconvert_exporter": "python",
   "pygments_lexer": "ipython2",
   "version": "2.7.6"
  }
 },
 "nbformat": 4,
 "nbformat_minor": 5
}
