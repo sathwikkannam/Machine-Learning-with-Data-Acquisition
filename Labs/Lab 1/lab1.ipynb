{
 "cells": [
  {
   "cell_type": "code",
   "execution_count": 132,
   "outputs": [],
   "source": [
    "import pandas as pd"
   ],
   "metadata": {
    "collapsed": false,
    "ExecuteTime": {
     "end_time": "2023-09-16T15:40:17.062810900Z",
     "start_time": "2023-09-16T15:40:17.009955200Z"
    }
   },
   "id": "initial_id"
  },
  {
   "cell_type": "code",
   "execution_count": 133,
   "outputs": [],
   "source": [
    "acc_names = ['ax', 'ay', 'az']\n",
    "rate_gyro_names = ['gx', 'gy', 'gz']\n",
    "lab_1_positions = [\"Laying_down\", \"Standing_up\", \"Walking\"]\n",
    "sensors = [\"Accelerometer\", \"Gyroscope\"]"
   ],
   "metadata": {
    "collapsed": false,
    "ExecuteTime": {
     "end_time": "2023-09-16T15:40:17.113634Z",
     "start_time": "2023-09-16T15:40:17.015818100Z"
    }
   },
   "id": "51826f4cae1bec0a"
  },
  {
   "cell_type": "markdown",
   "source": [
    "# Helper functions"
   ],
   "metadata": {
    "collapsed": false
   },
   "id": "12a81bf78b7b6cf"
  },
  {
   "cell_type": "code",
   "execution_count": 134,
   "outputs": [],
   "source": [
    "def get_paths_based_on(positions: list[str], set_name: str) -> list[list[str]]:\n",
    "    return [\n",
    "        [f\"../Binaries/{set_name}/{pos}-1.pkl\", f\"../Binaries/{set_name}/{pos}-2.pkl\"]\n",
    "        for pos in positions\n",
    "    ]"
   ],
   "metadata": {
    "collapsed": false,
    "ExecuteTime": {
     "end_time": "2023-09-16T15:40:17.125678900Z",
     "start_time": "2023-09-16T15:40:17.030535Z"
    }
   },
   "id": "92485dbc2fb0e556"
  },
  {
   "cell_type": "markdown",
   "source": [
    "# Data analysis"
   ],
   "metadata": {
    "collapsed": false
   },
   "id": "72a16f9192500118"
  },
  {
   "cell_type": "code",
   "execution_count": 135,
   "outputs": [],
   "source": [
    "def read_csv(filename: str, names: list[str]) -> pd.DataFrame:\n",
    "    return pd.read_csv(filename, usecols=[1, 2, 3], names=names, skiprows=[0])"
   ],
   "metadata": {
    "collapsed": false,
    "ExecuteTime": {
     "end_time": "2023-09-16T15:40:17.142591400Z",
     "start_time": "2023-09-16T15:40:17.047636400Z"
    }
   },
   "id": "40af569b91ed3456"
  },
  {
   "cell_type": "code",
   "execution_count": 136,
   "outputs": [],
   "source": [
    "def read_recordings(positions: list[str] = lab_1_positions) -> dict[str:pd.DataFrame]:\n",
    "    recordings = {}\n",
    "\n",
    "    for position in positions:\n",
    "        for i in range(1, 4):\n",
    "            for sensor in sensors:\n",
    "                dataframe = (\n",
    "                    read_csv(f\"../Data/ML_Lab_1_{position}_{i}/{sensor}.csv\", names=acc_names\n",
    "                    if sensor == \"Accelerometer\"\n",
    "                    else rate_gyro_names)\n",
    "                )\n",
    "                recordings[f\"{position} {sensor} {i}\"] = dataframe\n",
    "\n",
    "    return recordings\n",
    "        "
   ],
   "metadata": {
    "collapsed": false,
    "ExecuteTime": {
     "end_time": "2023-09-16T15:40:17.143591700Z",
     "start_time": "2023-09-16T15:40:17.061808700Z"
    }
   },
   "id": "4df64da17db8de69"
  },
  {
   "cell_type": "markdown",
   "source": [
    "##### Plot the accelerometer values using the plot functions accessible for panda dataframes. Plot all accelerometer values, i.e. all samples for all components of the accelerometer vector."
   ],
   "metadata": {
    "collapsed": false
   },
   "id": "3d202767d9214e79"
  },
  {
   "cell_type": "code",
   "execution_count": null,
   "outputs": [],
   "source": [
    "raw_dfs = read_recordings()\n",
    "\n",
    "for key in raw_dfs:\n",
    "    raw_dfs[key].plot(title=key)"
   ],
   "metadata": {
    "collapsed": false
   },
   "id": "15ee80900b6f6d3a"
  },
  {
   "cell_type": "markdown",
   "source": [
    "##### What are we measuring with the accelerometer and rate_gyro?\n",
    "The Accelerometer measures the rotation of the device. Hence, we can determine the orientation of the device.\n",
    "In Laying down position, the z-axis reports -9.8m/s^2, hence the screen-side of the phone is pointing down. The z-axis pointing out of the screen is negative. \n",
    "\n",
    "Note: Walking includes turning.\n",
    "\n",
    "Gyroscope measures the angular acceleration in each axis."
   ],
   "metadata": {
    "collapsed": false
   },
   "id": "7240f826d8e4c3ef"
  },
  {
   "cell_type": "markdown",
   "source": [
    "# Preprocessing the data\n",
    "#### Once again plot the data for each recording. You should see some irregular data in the beginning of the recording and in the end of the recording."
   ],
   "metadata": {
    "collapsed": false
   },
   "id": "ab67163a1913baed"
  },
  {
   "cell_type": "markdown",
   "source": [
    "##### Why do you have these irregularities in your recordings? Or maybe you do not, how come?\n",
    "Collected the data with the 7 seconds delay in the beginning to get in position."
   ],
   "metadata": {
    "collapsed": false
   },
   "id": "3f846c9566152260"
  },
  {
   "cell_type": "markdown",
   "source": [
    "##### Create a python function that can read one accelerometer file and one rategyro file, remove a specific number of samples in the beginning and in the end and output a dataframe with six columns, that is all the accelerometer and rateygyro attributes. What do you need as input to the function?"
   ],
   "metadata": {
    "collapsed": false
   },
   "id": "4660a4b0b3030b9e"
  },
  {
   "cell_type": "code",
   "execution_count": 138,
   "outputs": [],
   "source": [
    "def pre_process_file(acc_file: str, rate_gyro_file: str, n: int) -> pd.DataFrame:\n",
    "    acc_frame = read_csv(acc_file, acc_names)\n",
    "    rate_gyro_frame = read_csv(rate_gyro_file, rate_gyro_names)\n",
    "\n",
    "    acc_frame.drop(acc_frame.head(n).add(acc_frame.tail(n)).index, inplace=True)\n",
    "    rate_gyro_frame.drop(rate_gyro_frame.head(n).add(rate_gyro_frame.tail(n)).index, inplace=True)\n",
    "\n",
    "    return (pd\n",
    "            .concat([acc_frame, rate_gyro_frame], axis='columns', ignore_index=True)\n",
    "            .rename({index: label for index, label in enumerate(acc_names + rate_gyro_names)}, axis='columns')\n",
    "            .dropna(how='any'))"
   ],
   "metadata": {
    "collapsed": false,
    "ExecuteTime": {
     "end_time": "2023-09-16T15:40:19.708571300Z",
     "start_time": "2023-09-16T15:40:19.660520Z"
    }
   },
   "id": "4e063e0853b398cd"
  },
  {
   "cell_type": "markdown",
   "source": [
    "##### Calls pre_process_file() for all accelerometer and rate_gyro csv's for each class/position"
   ],
   "metadata": {
    "collapsed": false
   },
   "id": "a0de818de1feb70e"
  },
  {
   "cell_type": "code",
   "execution_count": 139,
   "outputs": [],
   "source": [
    "def merger(remove_n: int, positions: list[str] = lab_1_positions) -> dict[str:pd.DataFrame]:\n",
    "    dfs = {}\n",
    "\n",
    "    for pos in positions:\n",
    "        for x in range(1, 4):\n",
    "            processed_dataframe = pre_process_file(f\"../Data/ML_Lab_1_{pos}_{x}/Accelerometer.csv\",\n",
    "                                                   f\"../Data/ML_Lab_1_{pos}_{x}/Gyroscope.csv\", remove_n)\n",
    "            dfs[f\"{pos}-{x}\"] = processed_dataframe\n",
    "    \n",
    "    return dfs"
   ],
   "metadata": {
    "collapsed": false,
    "ExecuteTime": {
     "end_time": "2023-09-16T15:40:19.708571300Z",
     "start_time": "2023-09-16T15:40:19.676854Z"
    }
   },
   "id": "60380a64e7d87577"
  },
  {
   "cell_type": "code",
   "execution_count": 140,
   "outputs": [],
   "source": [
    "pre_processed_dataframes = merger(remove_n=3)"
   ],
   "metadata": {
    "collapsed": false,
    "ExecuteTime": {
     "end_time": "2023-09-16T15:40:19.740038800Z",
     "start_time": "2023-09-16T15:40:19.692944800Z"
    }
   },
   "id": "9bf173698be80b85"
  },
  {
   "cell_type": "markdown",
   "source": [
    "##### Processed dataframes"
   ],
   "metadata": {
    "collapsed": false
   },
   "id": "d25df57caf55ddf8"
  },
  {
   "cell_type": "code",
   "execution_count": 141,
   "outputs": [
    {
     "name": "stdout",
     "output_type": "stream",
     "text": [
      "Laying_down-1\n",
      "            ax        ay         az        gx        gy        gz\n",
      "3     0.066700 -0.497707  -9.903594 -0.007330  0.003054 -0.004123\n",
      "4     0.021236 -0.492921  -9.970892 -0.007330 -0.001833 -0.000458\n",
      "5    -0.007478 -0.500100 -10.028319 -0.004887 -0.015271  0.003207\n",
      "6    -0.019442 -0.512064  -9.822238 -0.002443 -0.021380  0.006872\n",
      "7    -0.050548 -0.524028  -9.800702 -0.000000 -0.007941  0.009315\n",
      "...        ...       ...        ...       ...       ...       ...\n",
      "1620  0.150449 -0.464208  -9.843773  0.002443  0.018936  0.006872\n",
      "1621  0.100199 -0.411565  -9.800702  0.019547  0.003054  0.006872\n",
      "1622  0.090628 -0.368495  -9.762417  0.028099 -0.005498  0.004429\n",
      "1623  0.095414 -0.390030  -9.819845  0.028099 -0.003054  0.004429\n",
      "1624  0.124128 -0.435494  -9.920643  0.018325  0.005498  0.004429\n",
      "\n",
      "[1622 rows x 6 columns]\n",
      "Laying_down-2\n",
      "            ax        ay         az        gx        gy        gz\n",
      "3     0.507278 -0.564706  -9.831809  0.007330  0.004276  0.001985\n",
      "4     0.543171 -0.538385  -9.831809  0.003665  0.003054  0.003207\n",
      "5     0.574277 -0.531207  -9.812667 -0.002443  0.009163  0.004429\n",
      "6     0.636491 -0.533599  -9.858130 -0.006108  0.010384  0.005650\n",
      "7     0.650848 -0.521635  -9.932607 -0.000000  0.000611  0.003207\n",
      "...        ...       ...        ...       ...       ...       ...\n",
      "1525  0.485743 -0.533599  -9.932607 -0.014660  0.020158  0.006872\n",
      "1526  0.519243 -0.528814  -9.973285 -0.006108  0.001833  0.003207\n",
      "1527  0.571885 -0.473779 -10.018748  0.008552 -0.010384  0.003207\n",
      "1528  0.593420 -0.445065  -9.975677  0.018325 -0.012828  0.001985\n",
      "1529  0.622134 -0.416351  -9.886844  0.018325 -0.011606 -0.001680\n",
      "\n",
      "[1527 rows x 6 columns]\n",
      "Laying_down-3\n",
      "            ax        ay        az        gx        gy        gz\n",
      "3     1.606182 -0.775574 -9.731311 -0.002443 -0.005498  0.003207\n",
      "4     1.589432 -0.766002 -9.767203 -0.001222 -0.007941  0.004429\n",
      "5     1.565504 -0.770788 -9.776774 -0.001222 -0.007941  0.001985\n",
      "6     1.577468 -0.766002 -9.786345 -0.000000 -0.003054  0.001985\n",
      "7     1.587040 -0.782752 -9.752846 -0.001222 -0.003054  0.001985\n",
      "...        ...       ...       ...       ...       ...       ...\n",
      "1526  1.526920 -0.775574 -9.762417 -0.001222 -0.000611  0.001985\n",
      "1527  1.543670 -0.756431 -9.755239 -0.000000 -0.003054 -0.000458\n",
      "1528  1.543670 -0.751645 -9.752846 -0.000000 -0.004276 -0.000458\n",
      "1529  1.555634 -0.766002 -9.769596 -0.000000 -0.006719 -0.002902\n",
      "1530  1.563111 -0.754038 -9.762417 -0.000000 -0.009163 -0.001680\n",
      "\n",
      "[1528 rows x 6 columns]\n",
      "Standing_up-1\n",
      "            ax        ay        az        gx        gy        gz\n",
      "3    -3.589234 -9.183653  0.103490 -0.000000 -0.031153 -0.000458\n",
      "4    -3.558127 -9.193225  0.115454  0.004887 -0.028710 -0.004123\n",
      "5    -3.507878 -9.200403  0.105882  0.007330 -0.016493 -0.005345\n",
      "6    -3.495914 -9.183653  0.115454  0.007330 -0.001833 -0.004123\n",
      "7    -3.517449 -9.176475  0.120239  0.004887  0.015271 -0.002902\n",
      "...        ...       ...       ...       ...       ...       ...\n",
      "1526 -3.481258 -9.214760 -0.085543  0.009774 -0.001833  0.005650\n",
      "1527 -3.558127 -9.221938 -0.054437 -0.002443 -0.010384  0.009315\n",
      "1528 -3.565306 -9.226724 -0.097508 -0.013439 -0.014049  0.011759\n",
      "1529 -3.527021 -9.224331 -0.157328 -0.019547 -0.020158  0.010537\n",
      "1530 -3.498307 -9.209974 -0.164507 -0.015882 -0.029932  0.008094\n",
      "\n",
      "[1528 rows x 6 columns]\n",
      "Standing_up-2\n",
      "            ax        ay        az        gx        gy        gz\n",
      "3    -2.760719 -9.461221 -0.111864 -0.015882  0.055587  0.003207\n",
      "4    -2.729612 -9.480363 -0.116650 -0.010995  0.045814  0.000764\n",
      "5    -2.734398 -9.504292 -0.126221 -0.006108  0.027488 -0.001680\n",
      "6    -2.741576 -9.497113 -0.121436 -0.002443  0.006719 -0.005345\n",
      "7    -2.746362 -9.480363 -0.121436  0.001222 -0.010384 -0.007788\n",
      "...        ...       ...       ...       ...       ...       ...\n",
      "1526 -2.784647 -9.422935  0.091525 -0.002443  0.037262 -0.006567\n",
      "1527 -2.799004 -9.420543  0.101097 -0.003665  0.045814 -0.009010\n",
      "1528 -2.789433 -9.430114  0.093918 -0.003665  0.048257 -0.006567\n",
      "1529 -2.806183 -9.434899  0.062812 -0.003665  0.040927 -0.005345\n",
      "1530 -2.825325 -9.430114  0.038883 -0.003665  0.028710 -0.002902\n",
      "\n",
      "[1528 rows x 6 columns]\n",
      "Standing_up-3\n",
      "            ax        ay        az        gx        gy        gz\n",
      "3    -3.122334 -9.315259 -0.025723 -0.002443  0.026266 -0.000458\n",
      "4    -3.148655 -9.320045  0.041276  0.001222  0.036040  0.000764\n",
      "5    -3.182155 -9.320045  0.077169  0.002443  0.034818 -0.000458\n",
      "6    -3.196512 -9.324830  0.093918  0.003665  0.027488  0.001985\n",
      "7    -3.218047 -9.317652  0.074776  0.002443  0.017715  0.001985\n",
      "...        ...       ...       ...       ...       ...       ...\n",
      "1525 -3.222833 -9.253045  0.165703  0.010995  0.032375  0.000764\n",
      "1526 -3.241976 -9.238688  0.139382  0.001222  0.031153  0.000764\n",
      "1527 -3.265904 -9.255438  0.081954 -0.010995  0.032375 -0.002902\n",
      "1528 -3.275475 -9.279366  0.014955 -0.018325  0.037262 -0.004123\n",
      "1529 -3.249154 -9.327223 -0.052044 -0.017104  0.040927 -0.005345\n",
      "\n",
      "[1527 rows x 6 columns]\n",
      "Walking-1\n",
      "            ax         ay        az        gx        gy        gz\n",
      "3    -0.850349 -10.117153 -2.621038  0.350626  0.372006 -0.122628\n",
      "4    -0.847957 -10.028619 -2.719144  0.334744  0.503949 -0.138510\n",
      "5    -0.979562  -9.849157 -2.560918  0.295650  0.582137 -0.147061\n",
      "6    -1.113560  -9.657731 -2.221138  0.233344  0.578472 -0.132401\n",
      "7    -1.156631  -9.509077 -1.830808  0.152712  0.491732 -0.100637\n",
      "...        ...        ...       ...       ...       ...       ...\n",
      "1525 -2.162214  -6.133403 -0.308076  1.987697 -0.816703 -0.914286\n",
      "1526 -2.078465  -6.142974 -0.284148  2.206380 -0.505171 -0.757909\n",
      "1527 -1.910968  -6.171688 -0.095115  2.178281 -0.106898 -0.617414\n",
      "1528 -1.865504  -6.176474  0.146560  1.761683  0.383001 -0.592980\n",
      "1529 -1.997110  -6.164509  0.163310  1.054322  0.814259 -0.652843\n",
      "\n",
      "[1527 rows x 6 columns]\n",
      "Walking-2\n",
      "            ax         ay        az        gx        gy        gz\n",
      "3    -0.309272  -7.249056 -2.192424  0.525329 -0.275492  0.131485\n",
      "4    -0.773779  -7.110272 -0.966700  0.715913 -0.397662  0.100943\n",
      "5    -1.223630  -6.964310 -0.083151  0.905276 -0.473407  0.053296\n",
      "6    -1.539781  -6.978667  0.850648  1.089751 -0.506392 -0.021227\n",
      "7    -1.994717  -6.832705  1.382154  1.268119 -0.529605 -0.118963\n",
      "...        ...        ...       ...       ...       ...       ...\n",
      "1526 -4.175775  -9.944870 -0.786940  1.016450 -0.075134 -0.100637\n",
      "1527 -4.398307 -11.419746 -1.720739  1.186265  0.442864  0.005650\n",
      "1528 -2.854039 -12.147463 -2.383850  1.271784  0.937651  0.170579\n",
      "1529 -0.661017 -11.979965 -3.434897  1.299883  1.327371  0.337951\n",
      "1530 -0.168096 -11.295020 -4.801797  1.297440  1.537503  0.467451\n",
      "\n",
      "[1528 rows x 6 columns]\n",
      "Walking-3\n",
      "            ax         ay        az        gx        gy        gz\n",
      "3    -0.479163  -8.012965 -2.266601  0.511890  0.743401  0.348946\n",
      "4    -0.048156  -7.818847 -1.919343  0.774554  1.133122  0.251211\n",
      "5     0.315553  -9.020642 -2.728715  0.874733  1.359135  0.225555\n",
      "6     0.981057 -10.390234 -3.078067  0.834417  1.438545  0.241437\n",
      "7     2.058426 -10.790134 -1.902593  0.724465  1.431215  0.269536\n",
      "...        ...        ...       ...       ...       ...       ...\n",
      "1526 -1.197309  -9.207582 -4.869095  0.426371 -0.583359 -0.077425\n",
      "1527 -1.702493  -9.516255 -3.351148  0.593744 -0.384223 -0.107967\n",
      "1528 -1.802992  -9.667302 -1.881058  0.750120 -0.183865 -0.148283\n",
      "1529 -1.824826  -9.487542 -0.719940  0.890615 -0.000611 -0.197151\n",
      "1530 -1.752743  -9.116654  0.170489  1.022558  0.149658 -0.248462\n",
      "\n",
      "[1528 rows x 6 columns]\n"
     ]
    }
   ],
   "source": [
    "for i in pre_processed_dataframes:\n",
    "    print(f\"{i}\\n{pre_processed_dataframes[i]}\")"
   ],
   "metadata": {
    "collapsed": false,
    "ExecuteTime": {
     "end_time": "2023-09-16T15:40:19.780514400Z",
     "start_time": "2023-09-16T15:40:19.738864300Z"
    }
   },
   "id": "f933af8137b3ac9e"
  },
  {
   "cell_type": "markdown",
   "source": [
    "# Python\n",
    "#### Store each dataframe, one for each recording, in a binary file using the to_pickle function, and divide the data into two sets, training set and test set. Store 2 of 3 files in the training folder and 1 of 3 files in the test folder. Note: it is the binary pickle files we talk about"
   ],
   "metadata": {
    "collapsed": false
   },
   "id": "5aac8aa622a8955b"
  },
  {
   "cell_type": "code",
   "execution_count": 142,
   "outputs": [],
   "source": [
    "def split_train_test_sets(processed_dataframes: dict[str:pd.DataFrame]):\n",
    "    for i in processed_dataframes:\n",
    "        if i.__contains__(\"-1\") or i.__contains__(\"-2\"):\n",
    "            processed_dataframes[i].to_pickle(f\"../Binaries/Training/{i}.pkl\")\n",
    "\n",
    "        else:\n",
    "            processed_dataframes[i].to_pickle(f\"../Binaries/Test/{i}.pkl\")"
   ],
   "metadata": {
    "collapsed": false,
    "ExecuteTime": {
     "end_time": "2023-09-16T15:40:19.787079800Z",
     "start_time": "2023-09-16T15:40:19.770750Z"
    }
   },
   "id": "2033106acb357c25"
  },
  {
   "cell_type": "code",
   "execution_count": 143,
   "outputs": [],
   "source": [
    "split_train_test_sets(pre_processed_dataframes)"
   ],
   "metadata": {
    "collapsed": false,
    "ExecuteTime": {
     "end_time": "2023-09-16T15:40:19.800644700Z",
     "start_time": "2023-09-16T15:40:19.786533700Z"
    }
   },
   "id": "1b287cfcd1c78105"
  },
  {
   "cell_type": "markdown",
   "source": [
    "##### Create a python function that can read all binary-files from one class. The function should return a dataframe x with all the data and also a column with information of which class the data belongs to. The dataframe has now 7 columns.\n",
    "\n",
    "##### Note: Only applied to the training set"
   ],
   "metadata": {
    "collapsed": false
   },
   "id": "67c3dc89bd3b313f"
  },
  {
   "cell_type": "code",
   "execution_count": 144,
   "outputs": [],
   "source": [
    "def merge_measurements_by_class(\n",
    "        recordings: list[str],\n",
    "        class_name: str,\n",
    "        store_as_pickle: bool = False,\n",
    "        directory: str = \"../Binaries/Class dataframes/\"\n",
    ") -> pd.DataFrame:\n",
    "    \n",
    "    df = pd.concat(list(map(lambda i: pd.read_pickle(i), recordings)), axis='rows', ignore_index=True)\n",
    "    df['class'] = class_name\n",
    "\n",
    "    if store_as_pickle:\n",
    "        df.to_pickle(directory + df['class'][0] + \".pkl\")\n",
    "\n",
    "    return df"
   ],
   "metadata": {
    "collapsed": false,
    "ExecuteTime": {
     "end_time": "2023-09-16T15:40:19.818708900Z",
     "start_time": "2023-09-16T15:40:19.801911400Z"
    }
   },
   "id": "c2a2cf22541883f"
  },
  {
   "cell_type": "markdown",
   "source": [
    "##### Merge the training set into three dataframes (one for each class) and store it as a pickle file"
   ],
   "metadata": {
    "collapsed": false
   },
   "id": "3cc672eab19a0b7"
  },
  {
   "cell_type": "code",
   "execution_count": 145,
   "outputs": [],
   "source": [
    "def merge_recordings_by_rows(classes : list[str], set_name: str = 'Training') -> list[pd.DataFrame]:\n",
    "    return [\n",
    "        merge_measurements_by_class(\n",
    "            recordings=_class,\n",
    "            class_name=_class[0].replace(\"../Binaries/Training/\", \"\").replace(\"-1.pkl\", \"\"),\n",
    "            store_as_pickle=True)\n",
    "\n",
    "        for _class in get_paths_based_on(positions=classes, set_name=set_name)\n",
    "    ]"
   ],
   "metadata": {
    "collapsed": false,
    "ExecuteTime": {
     "end_time": "2023-09-16T15:40:19.832757400Z",
     "start_time": "2023-09-16T15:40:19.817708200Z"
    }
   },
   "id": "6ef5b53ffabad4e2"
  },
  {
   "cell_type": "code",
   "execution_count": 146,
   "outputs": [],
   "source": [
    "class_dfs = merge_recordings_by_rows(lab_1_positions)"
   ],
   "metadata": {
    "collapsed": false,
    "ExecuteTime": {
     "end_time": "2023-09-16T15:40:19.862711300Z",
     "start_time": "2023-09-16T15:40:19.833762100Z"
    }
   },
   "id": "da609d1d9c638b6"
  },
  {
   "cell_type": "markdown",
   "source": [
    "##### Display the three classes"
   ],
   "metadata": {
    "collapsed": false
   },
   "id": "faeb93520de5b6b9"
  },
  {
   "cell_type": "code",
   "execution_count": 147,
   "outputs": [
    {
     "name": "stdout",
     "output_type": "stream",
     "text": [
      "            ax        ay         az        gx        gy        gz        class\n",
      "0     0.066700 -0.497707  -9.903594 -0.007330  0.003054 -0.004123  Laying_down\n",
      "1     0.021236 -0.492921  -9.970892 -0.007330 -0.001833 -0.000458  Laying_down\n",
      "2    -0.007478 -0.500100 -10.028319 -0.004887 -0.015271  0.003207  Laying_down\n",
      "3    -0.019442 -0.512064  -9.822238 -0.002443 -0.021380  0.006872  Laying_down\n",
      "4    -0.050548 -0.524028  -9.800702 -0.000000 -0.007941  0.009315  Laying_down\n",
      "...        ...       ...        ...       ...       ...       ...          ...\n",
      "3144  0.485743 -0.533599  -9.932607 -0.014660  0.020158  0.006872  Laying_down\n",
      "3145  0.519243 -0.528814  -9.973285 -0.006108  0.001833  0.003207  Laying_down\n",
      "3146  0.571885 -0.473779 -10.018748  0.008552 -0.010384  0.003207  Laying_down\n",
      "3147  0.593420 -0.445065  -9.975677  0.018325 -0.012828  0.001985  Laying_down\n",
      "3148  0.622134 -0.416351  -9.886844  0.018325 -0.011606 -0.001680  Laying_down\n",
      "\n",
      "[3149 rows x 7 columns]\n",
      "            ax        ay        az        gx        gy        gz        class\n",
      "0    -3.589234 -9.183653  0.103490 -0.000000 -0.031153 -0.000458  Standing_up\n",
      "1    -3.558127 -9.193225  0.115454  0.004887 -0.028710 -0.004123  Standing_up\n",
      "2    -3.507878 -9.200403  0.105882  0.007330 -0.016493 -0.005345  Standing_up\n",
      "3    -3.495914 -9.183653  0.115454  0.007330 -0.001833 -0.004123  Standing_up\n",
      "4    -3.517449 -9.176475  0.120239  0.004887  0.015271 -0.002902  Standing_up\n",
      "...        ...       ...       ...       ...       ...       ...          ...\n",
      "3051 -2.784647 -9.422935  0.091525 -0.002443  0.037262 -0.006567  Standing_up\n",
      "3052 -2.799004 -9.420543  0.101097 -0.003665  0.045814 -0.009010  Standing_up\n",
      "3053 -2.789433 -9.430114  0.093918 -0.003665  0.048257 -0.006567  Standing_up\n",
      "3054 -2.806183 -9.434899  0.062812 -0.003665  0.040927 -0.005345  Standing_up\n",
      "3055 -2.825325 -9.430114  0.038883 -0.003665  0.028710 -0.002902  Standing_up\n",
      "\n",
      "[3056 rows x 7 columns]\n",
      "            ax         ay        az        gx        gy        gz    class\n",
      "0    -0.850349 -10.117153 -2.621038  0.350626  0.372006 -0.122628  Walking\n",
      "1    -0.847957 -10.028619 -2.719144  0.334744  0.503949 -0.138510  Walking\n",
      "2    -0.979562  -9.849157 -2.560918  0.295650  0.582137 -0.147061  Walking\n",
      "3    -1.113560  -9.657731 -2.221138  0.233344  0.578472 -0.132401  Walking\n",
      "4    -1.156631  -9.509077 -1.830808  0.152712  0.491732 -0.100637  Walking\n",
      "...        ...        ...       ...       ...       ...       ...      ...\n",
      "3050 -4.175775  -9.944870 -0.786940  1.016450 -0.075134 -0.100637  Walking\n",
      "3051 -4.398307 -11.419746 -1.720739  1.186265  0.442864  0.005650  Walking\n",
      "3052 -2.854039 -12.147463 -2.383850  1.271784  0.937651  0.170579  Walking\n",
      "3053 -0.661017 -11.979965 -3.434897  1.299883  1.327371  0.337951  Walking\n",
      "3054 -0.168096 -11.295020 -4.801797  1.297440  1.537503  0.467451  Walking\n",
      "\n",
      "[3055 rows x 7 columns]\n"
     ]
    }
   ],
   "source": [
    "print(*class_dfs, sep='\\n')"
   ],
   "metadata": {
    "collapsed": false,
    "ExecuteTime": {
     "end_time": "2023-09-16T15:40:19.879342Z",
     "start_time": "2023-09-16T15:40:19.864712200Z"
    }
   },
   "id": "ec7cf8b4efc96c4b"
  }
 ],
 "metadata": {
  "kernelspec": {
   "display_name": "Python 3",
   "language": "python",
   "name": "python3"
  },
  "language_info": {
   "codemirror_mode": {
    "name": "ipython",
    "version": 2
   },
   "file_extension": ".py",
   "mimetype": "text/x-python",
   "name": "python",
   "nbconvert_exporter": "python",
   "pygments_lexer": "ipython2",
   "version": "2.7.6"
  }
 },
 "nbformat": 4,
 "nbformat_minor": 5
}
