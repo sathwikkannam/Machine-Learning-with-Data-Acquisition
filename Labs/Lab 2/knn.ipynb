{
 "cells": [
  {
   "cell_type": "code",
   "execution_count": 286,
   "id": "initial_id",
   "metadata": {
    "collapsed": true,
    "ExecuteTime": {
     "end_time": "2023-09-17T17:20:55.855136700Z",
     "start_time": "2023-09-17T17:20:55.646966400Z"
    }
   },
   "outputs": [],
   "source": [
    "import import_ipynb as ipynb\n",
    "import os\n",
    "from pathlib import Path\n",
    "import pandas as pd\n",
    "\n",
    "from sklearn.model_selection import train_test_split\n",
    "from sklearn.neighbors import KNeighborsClassifier\n",
    "from sklearn.metrics import confusion_matrix, accuracy_score\n",
    "from sklearn.model_selection import GridSearchCV\n",
    "from sklearn.model_selection import KFold"
   ]
  },
  {
   "cell_type": "markdown",
   "source": [
    "##### Change directories and load Lab 1"
   ],
   "metadata": {
    "collapsed": false
   },
   "id": "60aa30163b7c9a2b"
  },
  {
   "cell_type": "code",
   "execution_count": null,
   "outputs": [],
   "source": [
    "os.chdir(\"../Lab 1\")\n",
    "lab_1 = ipynb.NotebookLoader().load_module('lab1')\n",
    "os.chdir(\"../Lab 2\")"
   ],
   "metadata": {
    "collapsed": false
   },
   "id": "323c4b1522734a"
  },
  {
   "cell_type": "markdown",
   "source": [
    "# Required Preparations"
   ],
   "metadata": {
    "collapsed": false
   },
   "id": "e450f61089170a96"
  },
  {
   "cell_type": "code",
   "execution_count": 359,
   "outputs": [],
   "source": [
    "lab_2_positions = ['Sitting', 'Running', 'Jumping', 'Squats']"
   ],
   "metadata": {
    "collapsed": false,
    "ExecuteTime": {
     "end_time": "2023-09-17T18:22:09.524363700Z",
     "start_time": "2023-09-17T18:22:09.425263700Z"
    }
   },
   "id": "35a74c24fe8c1457"
  },
  {
   "cell_type": "markdown",
   "source": [
    "##### 'recordings' are used if we want to plot each recording."
   ],
   "metadata": {
    "collapsed": false
   },
   "id": "5493407bc397a4ef"
  },
  {
   "cell_type": "code",
   "execution_count": 360,
   "outputs": [],
   "source": [
    "recordings : dict[str: pd.DataFrame] = lab_1.read_recordings(positions=lab_2_positions)"
   ],
   "metadata": {
    "collapsed": false,
    "ExecuteTime": {
     "end_time": "2023-09-17T18:22:09.659967900Z",
     "start_time": "2023-09-17T18:22:09.437260900Z"
    }
   },
   "id": "b74e1779de76b009"
  },
  {
   "cell_type": "markdown",
   "source": [
    "##### merger() will read files based on the positions and concatenate the acceleratometer and rate_gyro columns, and a return a dictionary."
   ],
   "metadata": {
    "collapsed": false
   },
   "id": "b2cf62337477fd1a"
  },
  {
   "cell_type": "code",
   "execution_count": 361,
   "outputs": [],
   "source": [
    "merged_dfs: dict = lab_1.merger(positions=lab_2_positions, remove_n=0)\n",
    "lab_1.split_train_test_sets(processed_dataframes=merged_dfs)"
   ],
   "metadata": {
    "collapsed": false,
    "ExecuteTime": {
     "end_time": "2023-09-17T18:22:09.693966900Z",
     "start_time": "2023-09-17T18:22:09.482772600Z"
    }
   },
   "id": "d861a772b10c838d"
  },
  {
   "cell_type": "markdown",
   "source": [
    "##### Display the four classes"
   ],
   "metadata": {
    "collapsed": false
   },
   "id": "749b2d2f62d931d2"
  },
  {
   "cell_type": "code",
   "execution_count": 362,
   "outputs": [],
   "source": [
    "class_dfs = lab_1.merge_recordings_by_rows(classes=lab_2_positions)"
   ],
   "metadata": {
    "collapsed": false,
    "ExecuteTime": {
     "end_time": "2023-09-17T18:22:09.806221200Z",
     "start_time": "2023-09-17T18:22:09.547364800Z"
    }
   },
   "id": "622745a387d4a5f"
  },
  {
   "cell_type": "code",
   "execution_count": 363,
   "outputs": [
    {
     "name": "stdout",
     "output_type": "stream",
     "text": [
      "            ax        ay        az        gx        gy        gz    class\n",
      "0    -2.004288 -1.069891 -9.671490 -0.000458  0.002291  0.003665  Sitting\n",
      "1    -1.987538 -1.077069 -9.657133 -0.000458  0.002291  0.003665  Sitting\n",
      "2    -1.982753 -1.081855 -9.649955  0.004429 -0.001374  0.004887  Sitting\n",
      "3    -1.989931 -1.079462 -9.645169  0.003207  0.001069  0.004887  Sitting\n",
      "4    -1.989931 -1.057927 -9.642776  0.004429  0.001069  0.002443  Sitting\n",
      "...        ...       ...       ...       ...       ...       ...      ...\n",
      "3071 -2.044966 -0.581456 -9.676275  0.003207  0.001069  0.002443  Sitting\n",
      "3072 -2.035395 -0.581456 -9.704989  0.003207  0.002291  0.002443  Sitting\n",
      "3073 -2.035395 -0.593420 -9.721740  0.003207  0.003512  0.002443  Sitting\n",
      "3074 -2.033002 -0.600598 -9.731311  0.003207  0.004734  0.002443  Sitting\n",
      "3075 -2.030609 -0.610170 -9.721740  0.003207  0.003512  0.003665  Sitting\n",
      "\n",
      "[3076 rows x 7 columns]\n",
      "            ax         ay         az        gx        gy        gz    class\n",
      "0     1.184746 -13.277473  -3.549752 -0.732100  0.454470  0.623980  Running\n",
      "1     1.191925 -11.752348  -4.715655 -1.487108  0.372617  0.487151  Running\n",
      "2     0.018843 -10.335199  -5.060521 -2.155375  0.207688  0.324665  Running\n",
      "3    -1.779064  -9.250652  -4.600800 -2.712467 -0.044134  0.158362  Running\n",
      "4    -3.490829  -9.025428  -4.320839 -3.143725 -0.282364  0.005650  Running\n",
      "...        ...        ...        ...       ...       ...       ...      ...\n",
      "3063 -3.342474  -7.124629 -13.724632 -4.725973  0.955365  1.084559  Running\n",
      "3064 -0.979562  -7.332805 -16.501802 -4.608690  1.480694  1.554912  Running\n",
      "3065  1.536491  -7.742277 -17.188841 -4.028232  1.638292  1.578124  Running\n",
      "3066  4.050450  -8.185248 -15.640087 -3.491908  1.323095  1.297134  Running\n",
      "3067  5.405386  -8.156534 -12.206985 -3.093636  0.642611  0.915965  Running\n",
      "\n",
      "[3068 rows x 7 columns]\n",
      "            ax         ay        az        gx        gy        gz    class\n",
      "0    -2.837289 -16.732111 -5.967700  1.946007  1.308435  0.363760  Jumping\n",
      "1    -2.212464 -14.917455 -4.124329  1.974106  1.288888  0.380863  Jumping\n",
      "2    -1.274178 -13.732409 -2.247459  1.916686  1.043327  0.395524  Jumping\n",
      "3    -0.354736 -12.463615 -0.779761  1.811620  0.621843  0.391859  Jumping\n",
      "4     0.516850 -11.177772  0.309571  1.704111  0.091474  0.361316  Jumping\n",
      "...        ...        ...       ...       ...       ...       ...      ...\n",
      "3085  0.835095  -1.941476 -1.268196 -0.249531  0.415376  0.511585  Jumping\n",
      "3086  1.642075  -2.108974 -0.983450 -0.385139  0.376282  0.459052  Jumping\n",
      "3087  2.443969  -2.298007 -0.569193 -0.517082  0.340853  0.351543  Jumping\n",
      "3088  2.855834  -2.432304 -0.018544 -0.618483  0.285877  0.213338  Jumping\n",
      "3089  3.066402  -2.657230  0.489033 -0.684454  0.175924  0.048410  Jumping\n",
      "\n",
      "[3090 rows x 7 columns]\n",
      "            ax        ay         az        gx        gy        gz   class\n",
      "0    -3.026622 -2.231008 -10.459028  2.388260 -0.229831  0.097277  Squats\n",
      "1    -2.918645 -2.645265 -10.100104  2.385817 -0.337340  0.072844  Squats\n",
      "2    -2.796612 -2.982953 -10.897213  2.338171 -0.510821 -0.023670  Squats\n",
      "3    -2.574079 -3.100201 -10.674681  2.306406 -0.667198 -0.142175  Squats\n",
      "4    -2.365604 -2.796013 -11.026426  2.295411 -0.771042 -0.247240  Squats\n",
      "...        ...       ...        ...       ...       ...       ...     ...\n",
      "3063 -1.175773 -8.599505  -3.578466  2.451788 -0.453401 -0.828767  Squats\n",
      "3064 -0.098405 -8.798110  -2.860320  2.461562 -0.425302 -0.781121  Squats\n",
      "3065  0.681954 -8.860323  -2.108675  2.417581 -0.525481 -0.737140  Squats\n",
      "3066  1.256531 -9.269794  -2.050948  2.318624 -0.569462 -0.721258  Squats\n",
      "3067  0.813560 -8.927322  -1.866701  2.191567 -0.402090 -0.728588  Squats\n",
      "\n",
      "[3068 rows x 7 columns]\n"
     ]
    }
   ],
   "source": [
    "print(*class_dfs, sep='\\n')"
   ],
   "metadata": {
    "collapsed": false,
    "ExecuteTime": {
     "end_time": "2023-09-17T18:22:09.818221400Z",
     "start_time": "2023-09-17T18:22:09.800214600Z"
    }
   },
   "id": "c97522183bdb6c0f"
  },
  {
   "cell_type": "markdown",
   "source": [
    "# Classification of different positions"
   ],
   "metadata": {
    "collapsed": false
   },
   "id": "16a0cb07ad43388d"
  },
  {
   "cell_type": "markdown",
   "source": [
    "#### We will use the K-nearest neighbor algorithm and decision trees in this lab. In this part you should only work with the stationary positions:\n",
    "- Standing\n",
    "- Sitting\n",
    "- Laying down"
   ],
   "metadata": {
    "collapsed": false
   },
   "id": "eb7ab2144325fded"
  },
  {
   "cell_type": "code",
   "execution_count": 364,
   "outputs": [],
   "source": [
    "stationary_positions : list[str] = ['Standing_up', 'Sitting', 'Laying_down']"
   ],
   "metadata": {
    "collapsed": false,
    "ExecuteTime": {
     "end_time": "2023-09-17T18:22:09.845434300Z",
     "start_time": "2023-09-17T18:22:09.815221600Z"
    }
   },
   "id": "a0af184b293f9703"
  },
  {
   "cell_type": "code",
   "execution_count": 365,
   "outputs": [],
   "source": [
    "stationary_positions_dfs = []\n",
    "\n",
    "for _class in Path(\"../Binaries/Class dataframes\").rglob(\"*.pkl\"):\n",
    "    for stat_pos in stationary_positions:\n",
    "        if str(_class).__contains__(stat_pos):\n",
    "            stationary_positions_dfs.append(pd.read_pickle(_class))"
   ],
   "metadata": {
    "collapsed": false,
    "ExecuteTime": {
     "end_time": "2023-09-17T18:22:09.845434300Z",
     "start_time": "2023-09-17T18:22:09.832222300Z"
    }
   },
   "id": "a4b5b0f41ee5c97c"
  },
  {
   "cell_type": "markdown",
   "source": [
    "#### We start with working with the KNN algorithm. You should use crossvalidation for evaluating the model."
   ],
   "metadata": {
    "collapsed": false
   },
   "id": "5d675cb01468bb28"
  },
  {
   "cell_type": "code",
   "execution_count": 366,
   "outputs": [],
   "source": [
    "knn = KNeighborsClassifier()"
   ],
   "metadata": {
    "collapsed": false,
    "ExecuteTime": {
     "end_time": "2023-09-17T18:22:09.860979600Z",
     "start_time": "2023-09-17T18:22:09.846435Z"
    }
   },
   "id": "adf83d3c308db958"
  },
  {
   "cell_type": "code",
   "execution_count": 367,
   "outputs": [],
   "source": [
    "df = pd.concat(stationary_positions_dfs, axis='rows')"
   ],
   "metadata": {
    "collapsed": false,
    "ExecuteTime": {
     "end_time": "2023-09-17T18:22:09.881984600Z",
     "start_time": "2023-09-17T18:22:09.862984800Z"
    }
   },
   "id": "384f17fafa7e037c"
  },
  {
   "cell_type": "code",
   "execution_count": 368,
   "outputs": [
    {
     "data": {
      "text/plain": "            ax        ay         az        gx        gy        gz        class\n0     0.066700 -0.497707  -9.903594 -0.007330  0.003054 -0.004123  Laying_down\n1     0.021236 -0.492921  -9.970892 -0.007330 -0.001833 -0.000458  Laying_down\n2    -0.007478 -0.500100 -10.028319 -0.004887 -0.015271  0.003207  Laying_down\n3    -0.019442 -0.512064  -9.822238 -0.002443 -0.021380  0.006872  Laying_down\n4    -0.050548 -0.524028  -9.800702 -0.000000 -0.007941  0.009315  Laying_down\n...        ...       ...        ...       ...       ...       ...          ...\n3051 -2.784647 -9.422935   0.091525 -0.002443  0.037262 -0.006567  Standing_up\n3052 -2.799004 -9.420543   0.101097 -0.003665  0.045814 -0.009010  Standing_up\n3053 -2.789433 -9.430114   0.093918 -0.003665  0.048257 -0.006567  Standing_up\n3054 -2.806183 -9.434899   0.062812 -0.003665  0.040927 -0.005345  Standing_up\n3055 -2.825325 -9.430114   0.038883 -0.003665  0.028710 -0.002902  Standing_up\n\n[9281 rows x 7 columns]",
      "text/html": "<div>\n<style scoped>\n    .dataframe tbody tr th:only-of-type {\n        vertical-align: middle;\n    }\n\n    .dataframe tbody tr th {\n        vertical-align: top;\n    }\n\n    .dataframe thead th {\n        text-align: right;\n    }\n</style>\n<table border=\"1\" class=\"dataframe\">\n  <thead>\n    <tr style=\"text-align: right;\">\n      <th></th>\n      <th>ax</th>\n      <th>ay</th>\n      <th>az</th>\n      <th>gx</th>\n      <th>gy</th>\n      <th>gz</th>\n      <th>class</th>\n    </tr>\n  </thead>\n  <tbody>\n    <tr>\n      <th>0</th>\n      <td>0.066700</td>\n      <td>-0.497707</td>\n      <td>-9.903594</td>\n      <td>-0.007330</td>\n      <td>0.003054</td>\n      <td>-0.004123</td>\n      <td>Laying_down</td>\n    </tr>\n    <tr>\n      <th>1</th>\n      <td>0.021236</td>\n      <td>-0.492921</td>\n      <td>-9.970892</td>\n      <td>-0.007330</td>\n      <td>-0.001833</td>\n      <td>-0.000458</td>\n      <td>Laying_down</td>\n    </tr>\n    <tr>\n      <th>2</th>\n      <td>-0.007478</td>\n      <td>-0.500100</td>\n      <td>-10.028319</td>\n      <td>-0.004887</td>\n      <td>-0.015271</td>\n      <td>0.003207</td>\n      <td>Laying_down</td>\n    </tr>\n    <tr>\n      <th>3</th>\n      <td>-0.019442</td>\n      <td>-0.512064</td>\n      <td>-9.822238</td>\n      <td>-0.002443</td>\n      <td>-0.021380</td>\n      <td>0.006872</td>\n      <td>Laying_down</td>\n    </tr>\n    <tr>\n      <th>4</th>\n      <td>-0.050548</td>\n      <td>-0.524028</td>\n      <td>-9.800702</td>\n      <td>-0.000000</td>\n      <td>-0.007941</td>\n      <td>0.009315</td>\n      <td>Laying_down</td>\n    </tr>\n    <tr>\n      <th>...</th>\n      <td>...</td>\n      <td>...</td>\n      <td>...</td>\n      <td>...</td>\n      <td>...</td>\n      <td>...</td>\n      <td>...</td>\n    </tr>\n    <tr>\n      <th>3051</th>\n      <td>-2.784647</td>\n      <td>-9.422935</td>\n      <td>0.091525</td>\n      <td>-0.002443</td>\n      <td>0.037262</td>\n      <td>-0.006567</td>\n      <td>Standing_up</td>\n    </tr>\n    <tr>\n      <th>3052</th>\n      <td>-2.799004</td>\n      <td>-9.420543</td>\n      <td>0.101097</td>\n      <td>-0.003665</td>\n      <td>0.045814</td>\n      <td>-0.009010</td>\n      <td>Standing_up</td>\n    </tr>\n    <tr>\n      <th>3053</th>\n      <td>-2.789433</td>\n      <td>-9.430114</td>\n      <td>0.093918</td>\n      <td>-0.003665</td>\n      <td>0.048257</td>\n      <td>-0.006567</td>\n      <td>Standing_up</td>\n    </tr>\n    <tr>\n      <th>3054</th>\n      <td>-2.806183</td>\n      <td>-9.434899</td>\n      <td>0.062812</td>\n      <td>-0.003665</td>\n      <td>0.040927</td>\n      <td>-0.005345</td>\n      <td>Standing_up</td>\n    </tr>\n    <tr>\n      <th>3055</th>\n      <td>-2.825325</td>\n      <td>-9.430114</td>\n      <td>0.038883</td>\n      <td>-0.003665</td>\n      <td>0.028710</td>\n      <td>-0.002902</td>\n      <td>Standing_up</td>\n    </tr>\n  </tbody>\n</table>\n<p>9281 rows × 7 columns</p>\n</div>"
     },
     "execution_count": 368,
     "metadata": {},
     "output_type": "execute_result"
    }
   ],
   "source": [
    "df"
   ],
   "metadata": {
    "collapsed": false,
    "ExecuteTime": {
     "end_time": "2023-09-17T18:22:09.889984200Z",
     "start_time": "2023-09-17T18:22:09.875985200Z"
    }
   },
   "id": "c460097053886694"
  },
  {
   "cell_type": "code",
   "execution_count": 369,
   "outputs": [],
   "source": [
    "X = df.drop('class', axis='columns')\n",
    "y = df['class']"
   ],
   "metadata": {
    "collapsed": false,
    "ExecuteTime": {
     "end_time": "2023-09-17T18:22:09.936133600Z",
     "start_time": "2023-09-17T18:22:09.891986200Z"
    }
   },
   "id": "f95d19cd1832869f"
  },
  {
   "cell_type": "code",
   "execution_count": 370,
   "outputs": [
    {
     "data": {
      "text/plain": "            ax        ay         az        gx        gy        gz\n0     0.066700 -0.497707  -9.903594 -0.007330  0.003054 -0.004123\n1     0.021236 -0.492921  -9.970892 -0.007330 -0.001833 -0.000458\n2    -0.007478 -0.500100 -10.028319 -0.004887 -0.015271  0.003207\n3    -0.019442 -0.512064  -9.822238 -0.002443 -0.021380  0.006872\n4    -0.050548 -0.524028  -9.800702 -0.000000 -0.007941  0.009315\n...        ...       ...        ...       ...       ...       ...\n3051 -2.784647 -9.422935   0.091525 -0.002443  0.037262 -0.006567\n3052 -2.799004 -9.420543   0.101097 -0.003665  0.045814 -0.009010\n3053 -2.789433 -9.430114   0.093918 -0.003665  0.048257 -0.006567\n3054 -2.806183 -9.434899   0.062812 -0.003665  0.040927 -0.005345\n3055 -2.825325 -9.430114   0.038883 -0.003665  0.028710 -0.002902\n\n[9281 rows x 6 columns]",
      "text/html": "<div>\n<style scoped>\n    .dataframe tbody tr th:only-of-type {\n        vertical-align: middle;\n    }\n\n    .dataframe tbody tr th {\n        vertical-align: top;\n    }\n\n    .dataframe thead th {\n        text-align: right;\n    }\n</style>\n<table border=\"1\" class=\"dataframe\">\n  <thead>\n    <tr style=\"text-align: right;\">\n      <th></th>\n      <th>ax</th>\n      <th>ay</th>\n      <th>az</th>\n      <th>gx</th>\n      <th>gy</th>\n      <th>gz</th>\n    </tr>\n  </thead>\n  <tbody>\n    <tr>\n      <th>0</th>\n      <td>0.066700</td>\n      <td>-0.497707</td>\n      <td>-9.903594</td>\n      <td>-0.007330</td>\n      <td>0.003054</td>\n      <td>-0.004123</td>\n    </tr>\n    <tr>\n      <th>1</th>\n      <td>0.021236</td>\n      <td>-0.492921</td>\n      <td>-9.970892</td>\n      <td>-0.007330</td>\n      <td>-0.001833</td>\n      <td>-0.000458</td>\n    </tr>\n    <tr>\n      <th>2</th>\n      <td>-0.007478</td>\n      <td>-0.500100</td>\n      <td>-10.028319</td>\n      <td>-0.004887</td>\n      <td>-0.015271</td>\n      <td>0.003207</td>\n    </tr>\n    <tr>\n      <th>3</th>\n      <td>-0.019442</td>\n      <td>-0.512064</td>\n      <td>-9.822238</td>\n      <td>-0.002443</td>\n      <td>-0.021380</td>\n      <td>0.006872</td>\n    </tr>\n    <tr>\n      <th>4</th>\n      <td>-0.050548</td>\n      <td>-0.524028</td>\n      <td>-9.800702</td>\n      <td>-0.000000</td>\n      <td>-0.007941</td>\n      <td>0.009315</td>\n    </tr>\n    <tr>\n      <th>...</th>\n      <td>...</td>\n      <td>...</td>\n      <td>...</td>\n      <td>...</td>\n      <td>...</td>\n      <td>...</td>\n    </tr>\n    <tr>\n      <th>3051</th>\n      <td>-2.784647</td>\n      <td>-9.422935</td>\n      <td>0.091525</td>\n      <td>-0.002443</td>\n      <td>0.037262</td>\n      <td>-0.006567</td>\n    </tr>\n    <tr>\n      <th>3052</th>\n      <td>-2.799004</td>\n      <td>-9.420543</td>\n      <td>0.101097</td>\n      <td>-0.003665</td>\n      <td>0.045814</td>\n      <td>-0.009010</td>\n    </tr>\n    <tr>\n      <th>3053</th>\n      <td>-2.789433</td>\n      <td>-9.430114</td>\n      <td>0.093918</td>\n      <td>-0.003665</td>\n      <td>0.048257</td>\n      <td>-0.006567</td>\n    </tr>\n    <tr>\n      <th>3054</th>\n      <td>-2.806183</td>\n      <td>-9.434899</td>\n      <td>0.062812</td>\n      <td>-0.003665</td>\n      <td>0.040927</td>\n      <td>-0.005345</td>\n    </tr>\n    <tr>\n      <th>3055</th>\n      <td>-2.825325</td>\n      <td>-9.430114</td>\n      <td>0.038883</td>\n      <td>-0.003665</td>\n      <td>0.028710</td>\n      <td>-0.002902</td>\n    </tr>\n  </tbody>\n</table>\n<p>9281 rows × 6 columns</p>\n</div>"
     },
     "execution_count": 370,
     "metadata": {},
     "output_type": "execute_result"
    }
   ],
   "source": [
    "X"
   ],
   "metadata": {
    "collapsed": false,
    "ExecuteTime": {
     "end_time": "2023-09-17T18:22:09.959008500Z",
     "start_time": "2023-09-17T18:22:09.907984600Z"
    }
   },
   "id": "97f0b1039dc9441"
  },
  {
   "cell_type": "code",
   "execution_count": 371,
   "outputs": [
    {
     "data": {
      "text/plain": "0       Laying_down\n1       Laying_down\n2       Laying_down\n3       Laying_down\n4       Laying_down\n           ...     \n3051    Standing_up\n3052    Standing_up\n3053    Standing_up\n3054    Standing_up\n3055    Standing_up\nName: class, Length: 9281, dtype: object"
     },
     "execution_count": 371,
     "metadata": {},
     "output_type": "execute_result"
    }
   ],
   "source": [
    "y"
   ],
   "metadata": {
    "collapsed": false,
    "ExecuteTime": {
     "end_time": "2023-09-17T18:22:09.973012400Z",
     "start_time": "2023-09-17T18:22:09.923985700Z"
    }
   },
   "id": "f562c4bbae00c0b4"
  },
  {
   "cell_type": "markdown",
   "source": [
    "##### Make a choice of the number of subsets that you use for your crossvalidation. Motivate the choice"
   ],
   "metadata": {
    "collapsed": false
   },
   "id": "df86cc12782f8bbc"
  },
  {
   "cell_type": "code",
   "execution_count": 372,
   "outputs": [],
   "source": [
    "folds = KFold(n_splits=20)"
   ],
   "metadata": {
    "collapsed": false,
    "ExecuteTime": {
     "end_time": "2023-09-17T18:22:09.973012400Z",
     "start_time": "2023-09-17T18:22:09.939134700Z"
    }
   },
   "id": "51d94ad8ba99d728"
  },
  {
   "cell_type": "markdown",
   "source": [
    "#### For the gridsearch use GridSearchCV which you find in the previous weeks ́ exercise. The hyperparameter you will use for the gridsearch is k, that is the number of neighbours."
   ],
   "metadata": {
    "collapsed": false
   },
   "id": "90fc18162e24940e"
  },
  {
   "cell_type": "markdown",
   "source": [
    "##### Make a choice of the range of k-values you will use. Motivate the choice."
   ],
   "metadata": {
    "collapsed": false
   },
   "id": "e96b7c053fe1f945"
  },
  {
   "cell_type": "code",
   "execution_count": 373,
   "outputs": [],
   "source": [
    "k_range = list(range(1, 50))"
   ],
   "metadata": {
    "collapsed": false,
    "ExecuteTime": {
     "end_time": "2023-09-17T18:22:09.986013400Z",
     "start_time": "2023-09-17T18:22:09.956649100Z"
    }
   },
   "id": "7f8cdf49095faf1e"
  },
  {
   "cell_type": "markdown",
   "source": [
    "##### Split data"
   ],
   "metadata": {
    "collapsed": false
   },
   "id": "844cd5182de68e6f"
  },
  {
   "cell_type": "code",
   "execution_count": 374,
   "outputs": [],
   "source": [
    "X_train, X_test, y_train, y_test = train_test_split(X, y, test_size=0.30, shuffle=True)"
   ],
   "metadata": {
    "collapsed": false,
    "ExecuteTime": {
     "end_time": "2023-09-17T18:22:10.018012200Z",
     "start_time": "2023-09-17T18:22:09.971014100Z"
    }
   },
   "id": "87176b2d87983a90"
  },
  {
   "cell_type": "markdown",
   "source": [
    "##### Train the model."
   ],
   "metadata": {
    "collapsed": false
   },
   "id": "dec9eca329f2dba9"
  },
  {
   "cell_type": "code",
   "execution_count": 375,
   "outputs": [],
   "source": [
    "grid = GridSearchCV(estimator=knn,\n",
    "                    param_grid=dict(n_neighbors=k_range),\n",
    "                    cv=folds,\n",
    "                    scoring='accuracy',\n",
    "                    return_train_score=False)"
   ],
   "metadata": {
    "collapsed": false,
    "ExecuteTime": {
     "end_time": "2023-09-17T18:22:10.046015300Z",
     "start_time": "2023-09-17T18:22:09.986013400Z"
    }
   },
   "id": "423518951fd83643"
  },
  {
   "cell_type": "code",
   "execution_count": 376,
   "outputs": [],
   "source": [
    "grid_search = grid.fit(X=X_train, y=y_train)"
   ],
   "metadata": {
    "collapsed": false,
    "ExecuteTime": {
     "end_time": "2023-09-17T18:22:23.994691Z",
     "start_time": "2023-09-17T18:22:10.002013900Z"
    }
   },
   "id": "a53b8cca5e1eb9ae"
  },
  {
   "cell_type": "markdown",
   "source": [
    "##### What is the optimal k-value?"
   ],
   "metadata": {
    "collapsed": false
   },
   "id": "e590eae3f03714b3"
  },
  {
   "cell_type": "code",
   "execution_count": 377,
   "outputs": [
    {
     "data": {
      "text/plain": "{'n_neighbors': 1}"
     },
     "execution_count": 377,
     "metadata": {},
     "output_type": "execute_result"
    }
   ],
   "source": [
    "grid.best_params_"
   ],
   "metadata": {
    "collapsed": false,
    "ExecuteTime": {
     "end_time": "2023-09-17T18:22:24.010704300Z",
     "start_time": "2023-09-17T18:22:23.995691800Z"
    }
   },
   "id": "f0bd8146a67d1291"
  },
  {
   "cell_type": "markdown",
   "source": [
    "##### What is the accuracy?"
   ],
   "metadata": {
    "collapsed": false
   },
   "id": "3c8ab563467e747d"
  },
  {
   "cell_type": "code",
   "execution_count": 378,
   "outputs": [
    {
     "data": {
      "text/plain": "1.0"
     },
     "execution_count": 378,
     "metadata": {},
     "output_type": "execute_result"
    }
   ],
   "source": [
    "grid.best_score_"
   ],
   "metadata": {
    "collapsed": false,
    "ExecuteTime": {
     "end_time": "2023-09-17T18:22:24.047690Z",
     "start_time": "2023-09-17T18:22:24.011693600Z"
    }
   },
   "id": "262150ccca472781"
  },
  {
   "cell_type": "markdown",
   "source": [
    "##### Plot the accuracy as a function of the k-value. You need to extract that information from the model. How sensitive is the performance of the model for different k-values?"
   ],
   "metadata": {
    "collapsed": false
   },
   "id": "45a2f13074af7a2b"
  },
  {
   "cell_type": "code",
   "execution_count": 379,
   "outputs": [],
   "source": [
    "scores = pd.DataFrame(grid.cv_results_)"
   ],
   "metadata": {
    "collapsed": false,
    "ExecuteTime": {
     "end_time": "2023-09-17T18:22:24.057692800Z",
     "start_time": "2023-09-17T18:22:24.026691900Z"
    }
   },
   "id": "4402c46accebc9b8"
  },
  {
   "cell_type": "markdown",
   "source": [
    "##### Display scores"
   ],
   "metadata": {
    "collapsed": false
   },
   "id": "9e19bdd932e9b850"
  },
  {
   "cell_type": "code",
   "execution_count": 380,
   "outputs": [
    {
     "data": {
      "text/plain": "    mean_fit_time  std_fit_time  mean_score_time  std_score_time  \\\n0        0.006200      0.000696         0.007176        0.000618   \n1        0.008514      0.004065         0.012714        0.009079   \n2        0.006168      0.000771         0.008303        0.001258   \n3        0.006210      0.000521         0.007296        0.000482   \n4        0.006167      0.000378         0.007586        0.000832   \n5        0.006317      0.000603         0.007698        0.000602   \n6        0.006084      0.000489         0.007776        0.000580   \n7        0.005582      0.000480         0.007069        0.000526   \n8        0.006030      0.000303         0.006973        0.000543   \n9        0.005834      0.000580         0.007746        0.000679   \n10       0.006280      0.000449         0.007903        0.000562   \n11       0.006201      0.000430         0.007827        0.000657   \n12       0.006252      0.000434         0.007631        0.000567   \n13       0.006071      0.000239         0.007169        0.000453   \n14       0.006236      0.000546         0.007801        0.000643   \n15       0.005903      0.000324         0.007786        0.000450   \n16       0.005802      0.000366         0.007601        0.000516   \n17       0.006031      0.000377         0.007923        0.000548   \n18       0.006027      0.000506         0.008050        0.000613   \n19       0.005734      0.000399         0.007539        0.000530   \n20       0.005929      0.000240         0.007650        0.000599   \n21       0.006082      0.000440         0.007920        0.000554   \n22       0.005771      0.000485         0.007526        0.000582   \n23       0.005850      0.000357         0.008268        0.000622   \n24       0.005906      0.000302         0.008152        0.000527   \n25       0.005875      0.000589         0.007851        0.000503   \n26       0.006021      0.000305         0.008189        0.000516   \n27       0.006112      0.000377         0.007853        0.000505   \n28       0.005734      0.000539         0.007746        0.000512   \n29       0.005849      0.000482         0.008601        0.000718   \n30       0.005706      0.000428         0.008344        0.000662   \n31       0.005636      0.000459         0.008099        0.000696   \n32       0.005757      0.000431         0.008190        0.000448   \n33       0.005609      0.000531         0.008155        0.000545   \n34       0.005700      0.000458         0.008197        0.000395   \n35       0.005751      0.000403         0.008014        0.000452   \n36       0.005707      0.000489         0.008429        0.000535   \n37       0.005820      0.000525         0.008039        0.000525   \n38       0.005730      0.000582         0.008126        0.000473   \n39       0.005899      0.000339         0.008453        0.000609   \n40       0.005847      0.000518         0.008660        0.000674   \n41       0.005730      0.000576         0.008612        0.000476   \n42       0.006027      0.000402         0.008822        0.000677   \n43       0.005780      0.000565         0.008676        0.000694   \n44       0.005650      0.000477         0.008601        0.000436   \n45       0.005738      0.000445         0.008353        0.000478   \n46       0.005750      0.000433         0.008676        0.000531   \n47       0.005601      0.000464         0.008583        0.000638   \n48       0.005654      0.000452         0.008624        0.000608   \n\n   param_n_neighbors               params  split0_test_score  \\\n0                  1   {'n_neighbors': 1}                1.0   \n1                  2   {'n_neighbors': 2}                1.0   \n2                  3   {'n_neighbors': 3}                1.0   \n3                  4   {'n_neighbors': 4}                1.0   \n4                  5   {'n_neighbors': 5}                1.0   \n5                  6   {'n_neighbors': 6}                1.0   \n6                  7   {'n_neighbors': 7}                1.0   \n7                  8   {'n_neighbors': 8}                1.0   \n8                  9   {'n_neighbors': 9}                1.0   \n9                 10  {'n_neighbors': 10}                1.0   \n10                11  {'n_neighbors': 11}                1.0   \n11                12  {'n_neighbors': 12}                1.0   \n12                13  {'n_neighbors': 13}                1.0   \n13                14  {'n_neighbors': 14}                1.0   \n14                15  {'n_neighbors': 15}                1.0   \n15                16  {'n_neighbors': 16}                1.0   \n16                17  {'n_neighbors': 17}                1.0   \n17                18  {'n_neighbors': 18}                1.0   \n18                19  {'n_neighbors': 19}                1.0   \n19                20  {'n_neighbors': 20}                1.0   \n20                21  {'n_neighbors': 21}                1.0   \n21                22  {'n_neighbors': 22}                1.0   \n22                23  {'n_neighbors': 23}                1.0   \n23                24  {'n_neighbors': 24}                1.0   \n24                25  {'n_neighbors': 25}                1.0   \n25                26  {'n_neighbors': 26}                1.0   \n26                27  {'n_neighbors': 27}                1.0   \n27                28  {'n_neighbors': 28}                1.0   \n28                29  {'n_neighbors': 29}                1.0   \n29                30  {'n_neighbors': 30}                1.0   \n30                31  {'n_neighbors': 31}                1.0   \n31                32  {'n_neighbors': 32}                1.0   \n32                33  {'n_neighbors': 33}                1.0   \n33                34  {'n_neighbors': 34}                1.0   \n34                35  {'n_neighbors': 35}                1.0   \n35                36  {'n_neighbors': 36}                1.0   \n36                37  {'n_neighbors': 37}                1.0   \n37                38  {'n_neighbors': 38}                1.0   \n38                39  {'n_neighbors': 39}                1.0   \n39                40  {'n_neighbors': 40}                1.0   \n40                41  {'n_neighbors': 41}                1.0   \n41                42  {'n_neighbors': 42}                1.0   \n42                43  {'n_neighbors': 43}                1.0   \n43                44  {'n_neighbors': 44}                1.0   \n44                45  {'n_neighbors': 45}                1.0   \n45                46  {'n_neighbors': 46}                1.0   \n46                47  {'n_neighbors': 47}                1.0   \n47                48  {'n_neighbors': 48}                1.0   \n48                49  {'n_neighbors': 49}                1.0   \n\n    split1_test_score  split2_test_score  split3_test_score  ...  \\\n0                 1.0                1.0                1.0  ...   \n1                 1.0                1.0                1.0  ...   \n2                 1.0                1.0                1.0  ...   \n3                 1.0                1.0                1.0  ...   \n4                 1.0                1.0                1.0  ...   \n5                 1.0                1.0                1.0  ...   \n6                 1.0                1.0                1.0  ...   \n7                 1.0                1.0                1.0  ...   \n8                 1.0                1.0                1.0  ...   \n9                 1.0                1.0                1.0  ...   \n10                1.0                1.0                1.0  ...   \n11                1.0                1.0                1.0  ...   \n12                1.0                1.0                1.0  ...   \n13                1.0                1.0                1.0  ...   \n14                1.0                1.0                1.0  ...   \n15                1.0                1.0                1.0  ...   \n16                1.0                1.0                1.0  ...   \n17                1.0                1.0                1.0  ...   \n18                1.0                1.0                1.0  ...   \n19                1.0                1.0                1.0  ...   \n20                1.0                1.0                1.0  ...   \n21                1.0                1.0                1.0  ...   \n22                1.0                1.0                1.0  ...   \n23                1.0                1.0                1.0  ...   \n24                1.0                1.0                1.0  ...   \n25                1.0                1.0                1.0  ...   \n26                1.0                1.0                1.0  ...   \n27                1.0                1.0                1.0  ...   \n28                1.0                1.0                1.0  ...   \n29                1.0                1.0                1.0  ...   \n30                1.0                1.0                1.0  ...   \n31                1.0                1.0                1.0  ...   \n32                1.0                1.0                1.0  ...   \n33                1.0                1.0                1.0  ...   \n34                1.0                1.0                1.0  ...   \n35                1.0                1.0                1.0  ...   \n36                1.0                1.0                1.0  ...   \n37                1.0                1.0                1.0  ...   \n38                1.0                1.0                1.0  ...   \n39                1.0                1.0                1.0  ...   \n40                1.0                1.0                1.0  ...   \n41                1.0                1.0                1.0  ...   \n42                1.0                1.0                1.0  ...   \n43                1.0                1.0                1.0  ...   \n44                1.0                1.0                1.0  ...   \n45                1.0                1.0                1.0  ...   \n46                1.0                1.0                1.0  ...   \n47                1.0                1.0                1.0  ...   \n48                1.0                1.0                1.0  ...   \n\n    split13_test_score  split14_test_score  split15_test_score  \\\n0                  1.0                 1.0                 1.0   \n1                  1.0                 1.0                 1.0   \n2                  1.0                 1.0                 1.0   \n3                  1.0                 1.0                 1.0   \n4                  1.0                 1.0                 1.0   \n5                  1.0                 1.0                 1.0   \n6                  1.0                 1.0                 1.0   \n7                  1.0                 1.0                 1.0   \n8                  1.0                 1.0                 1.0   \n9                  1.0                 1.0                 1.0   \n10                 1.0                 1.0                 1.0   \n11                 1.0                 1.0                 1.0   \n12                 1.0                 1.0                 1.0   \n13                 1.0                 1.0                 1.0   \n14                 1.0                 1.0                 1.0   \n15                 1.0                 1.0                 1.0   \n16                 1.0                 1.0                 1.0   \n17                 1.0                 1.0                 1.0   \n18                 1.0                 1.0                 1.0   \n19                 1.0                 1.0                 1.0   \n20                 1.0                 1.0                 1.0   \n21                 1.0                 1.0                 1.0   \n22                 1.0                 1.0                 1.0   \n23                 1.0                 1.0                 1.0   \n24                 1.0                 1.0                 1.0   \n25                 1.0                 1.0                 1.0   \n26                 1.0                 1.0                 1.0   \n27                 1.0                 1.0                 1.0   \n28                 1.0                 1.0                 1.0   \n29                 1.0                 1.0                 1.0   \n30                 1.0                 1.0                 1.0   \n31                 1.0                 1.0                 1.0   \n32                 1.0                 1.0                 1.0   \n33                 1.0                 1.0                 1.0   \n34                 1.0                 1.0                 1.0   \n35                 1.0                 1.0                 1.0   \n36                 1.0                 1.0                 1.0   \n37                 1.0                 1.0                 1.0   \n38                 1.0                 1.0                 1.0   \n39                 1.0                 1.0                 1.0   \n40                 1.0                 1.0                 1.0   \n41                 1.0                 1.0                 1.0   \n42                 1.0                 1.0                 1.0   \n43                 1.0                 1.0                 1.0   \n44                 1.0                 1.0                 1.0   \n45                 1.0                 1.0                 1.0   \n46                 1.0                 1.0                 1.0   \n47                 1.0                 1.0                 1.0   \n48                 1.0                 1.0                 1.0   \n\n    split16_test_score  split17_test_score  split18_test_score  \\\n0                  1.0                 1.0                 1.0   \n1                  1.0                 1.0                 1.0   \n2                  1.0                 1.0                 1.0   \n3                  1.0                 1.0                 1.0   \n4                  1.0                 1.0                 1.0   \n5                  1.0                 1.0                 1.0   \n6                  1.0                 1.0                 1.0   \n7                  1.0                 1.0                 1.0   \n8                  1.0                 1.0                 1.0   \n9                  1.0                 1.0                 1.0   \n10                 1.0                 1.0                 1.0   \n11                 1.0                 1.0                 1.0   \n12                 1.0                 1.0                 1.0   \n13                 1.0                 1.0                 1.0   \n14                 1.0                 1.0                 1.0   \n15                 1.0                 1.0                 1.0   \n16                 1.0                 1.0                 1.0   \n17                 1.0                 1.0                 1.0   \n18                 1.0                 1.0                 1.0   \n19                 1.0                 1.0                 1.0   \n20                 1.0                 1.0                 1.0   \n21                 1.0                 1.0                 1.0   \n22                 1.0                 1.0                 1.0   \n23                 1.0                 1.0                 1.0   \n24                 1.0                 1.0                 1.0   \n25                 1.0                 1.0                 1.0   \n26                 1.0                 1.0                 1.0   \n27                 1.0                 1.0                 1.0   \n28                 1.0                 1.0                 1.0   \n29                 1.0                 1.0                 1.0   \n30                 1.0                 1.0                 1.0   \n31                 1.0                 1.0                 1.0   \n32                 1.0                 1.0                 1.0   \n33                 1.0                 1.0                 1.0   \n34                 1.0                 1.0                 1.0   \n35                 1.0                 1.0                 1.0   \n36                 1.0                 1.0                 1.0   \n37                 1.0                 1.0                 1.0   \n38                 1.0                 1.0                 1.0   \n39                 1.0                 1.0                 1.0   \n40                 1.0                 1.0                 1.0   \n41                 1.0                 1.0                 1.0   \n42                 1.0                 1.0                 1.0   \n43                 1.0                 1.0                 1.0   \n44                 1.0                 1.0                 1.0   \n45                 1.0                 1.0                 1.0   \n46                 1.0                 1.0                 1.0   \n47                 1.0                 1.0                 1.0   \n48                 1.0                 1.0                 1.0   \n\n    split19_test_score  mean_test_score  std_test_score  rank_test_score  \n0                  1.0              1.0             0.0                1  \n1                  1.0              1.0             0.0                1  \n2                  1.0              1.0             0.0                1  \n3                  1.0              1.0             0.0                1  \n4                  1.0              1.0             0.0                1  \n5                  1.0              1.0             0.0                1  \n6                  1.0              1.0             0.0                1  \n7                  1.0              1.0             0.0                1  \n8                  1.0              1.0             0.0                1  \n9                  1.0              1.0             0.0                1  \n10                 1.0              1.0             0.0                1  \n11                 1.0              1.0             0.0                1  \n12                 1.0              1.0             0.0                1  \n13                 1.0              1.0             0.0                1  \n14                 1.0              1.0             0.0                1  \n15                 1.0              1.0             0.0                1  \n16                 1.0              1.0             0.0                1  \n17                 1.0              1.0             0.0                1  \n18                 1.0              1.0             0.0                1  \n19                 1.0              1.0             0.0                1  \n20                 1.0              1.0             0.0                1  \n21                 1.0              1.0             0.0                1  \n22                 1.0              1.0             0.0                1  \n23                 1.0              1.0             0.0                1  \n24                 1.0              1.0             0.0                1  \n25                 1.0              1.0             0.0                1  \n26                 1.0              1.0             0.0                1  \n27                 1.0              1.0             0.0                1  \n28                 1.0              1.0             0.0                1  \n29                 1.0              1.0             0.0                1  \n30                 1.0              1.0             0.0                1  \n31                 1.0              1.0             0.0                1  \n32                 1.0              1.0             0.0                1  \n33                 1.0              1.0             0.0                1  \n34                 1.0              1.0             0.0                1  \n35                 1.0              1.0             0.0                1  \n36                 1.0              1.0             0.0                1  \n37                 1.0              1.0             0.0                1  \n38                 1.0              1.0             0.0                1  \n39                 1.0              1.0             0.0                1  \n40                 1.0              1.0             0.0                1  \n41                 1.0              1.0             0.0                1  \n42                 1.0              1.0             0.0                1  \n43                 1.0              1.0             0.0                1  \n44                 1.0              1.0             0.0                1  \n45                 1.0              1.0             0.0                1  \n46                 1.0              1.0             0.0                1  \n47                 1.0              1.0             0.0                1  \n48                 1.0              1.0             0.0                1  \n\n[49 rows x 29 columns]",
      "text/html": "<div>\n<style scoped>\n    .dataframe tbody tr th:only-of-type {\n        vertical-align: middle;\n    }\n\n    .dataframe tbody tr th {\n        vertical-align: top;\n    }\n\n    .dataframe thead th {\n        text-align: right;\n    }\n</style>\n<table border=\"1\" class=\"dataframe\">\n  <thead>\n    <tr style=\"text-align: right;\">\n      <th></th>\n      <th>mean_fit_time</th>\n      <th>std_fit_time</th>\n      <th>mean_score_time</th>\n      <th>std_score_time</th>\n      <th>param_n_neighbors</th>\n      <th>params</th>\n      <th>split0_test_score</th>\n      <th>split1_test_score</th>\n      <th>split2_test_score</th>\n      <th>split3_test_score</th>\n      <th>...</th>\n      <th>split13_test_score</th>\n      <th>split14_test_score</th>\n      <th>split15_test_score</th>\n      <th>split16_test_score</th>\n      <th>split17_test_score</th>\n      <th>split18_test_score</th>\n      <th>split19_test_score</th>\n      <th>mean_test_score</th>\n      <th>std_test_score</th>\n      <th>rank_test_score</th>\n    </tr>\n  </thead>\n  <tbody>\n    <tr>\n      <th>0</th>\n      <td>0.006200</td>\n      <td>0.000696</td>\n      <td>0.007176</td>\n      <td>0.000618</td>\n      <td>1</td>\n      <td>{'n_neighbors': 1}</td>\n      <td>1.0</td>\n      <td>1.0</td>\n      <td>1.0</td>\n      <td>1.0</td>\n      <td>...</td>\n      <td>1.0</td>\n      <td>1.0</td>\n      <td>1.0</td>\n      <td>1.0</td>\n      <td>1.0</td>\n      <td>1.0</td>\n      <td>1.0</td>\n      <td>1.0</td>\n      <td>0.0</td>\n      <td>1</td>\n    </tr>\n    <tr>\n      <th>1</th>\n      <td>0.008514</td>\n      <td>0.004065</td>\n      <td>0.012714</td>\n      <td>0.009079</td>\n      <td>2</td>\n      <td>{'n_neighbors': 2}</td>\n      <td>1.0</td>\n      <td>1.0</td>\n      <td>1.0</td>\n      <td>1.0</td>\n      <td>...</td>\n      <td>1.0</td>\n      <td>1.0</td>\n      <td>1.0</td>\n      <td>1.0</td>\n      <td>1.0</td>\n      <td>1.0</td>\n      <td>1.0</td>\n      <td>1.0</td>\n      <td>0.0</td>\n      <td>1</td>\n    </tr>\n    <tr>\n      <th>2</th>\n      <td>0.006168</td>\n      <td>0.000771</td>\n      <td>0.008303</td>\n      <td>0.001258</td>\n      <td>3</td>\n      <td>{'n_neighbors': 3}</td>\n      <td>1.0</td>\n      <td>1.0</td>\n      <td>1.0</td>\n      <td>1.0</td>\n      <td>...</td>\n      <td>1.0</td>\n      <td>1.0</td>\n      <td>1.0</td>\n      <td>1.0</td>\n      <td>1.0</td>\n      <td>1.0</td>\n      <td>1.0</td>\n      <td>1.0</td>\n      <td>0.0</td>\n      <td>1</td>\n    </tr>\n    <tr>\n      <th>3</th>\n      <td>0.006210</td>\n      <td>0.000521</td>\n      <td>0.007296</td>\n      <td>0.000482</td>\n      <td>4</td>\n      <td>{'n_neighbors': 4}</td>\n      <td>1.0</td>\n      <td>1.0</td>\n      <td>1.0</td>\n      <td>1.0</td>\n      <td>...</td>\n      <td>1.0</td>\n      <td>1.0</td>\n      <td>1.0</td>\n      <td>1.0</td>\n      <td>1.0</td>\n      <td>1.0</td>\n      <td>1.0</td>\n      <td>1.0</td>\n      <td>0.0</td>\n      <td>1</td>\n    </tr>\n    <tr>\n      <th>4</th>\n      <td>0.006167</td>\n      <td>0.000378</td>\n      <td>0.007586</td>\n      <td>0.000832</td>\n      <td>5</td>\n      <td>{'n_neighbors': 5}</td>\n      <td>1.0</td>\n      <td>1.0</td>\n      <td>1.0</td>\n      <td>1.0</td>\n      <td>...</td>\n      <td>1.0</td>\n      <td>1.0</td>\n      <td>1.0</td>\n      <td>1.0</td>\n      <td>1.0</td>\n      <td>1.0</td>\n      <td>1.0</td>\n      <td>1.0</td>\n      <td>0.0</td>\n      <td>1</td>\n    </tr>\n    <tr>\n      <th>5</th>\n      <td>0.006317</td>\n      <td>0.000603</td>\n      <td>0.007698</td>\n      <td>0.000602</td>\n      <td>6</td>\n      <td>{'n_neighbors': 6}</td>\n      <td>1.0</td>\n      <td>1.0</td>\n      <td>1.0</td>\n      <td>1.0</td>\n      <td>...</td>\n      <td>1.0</td>\n      <td>1.0</td>\n      <td>1.0</td>\n      <td>1.0</td>\n      <td>1.0</td>\n      <td>1.0</td>\n      <td>1.0</td>\n      <td>1.0</td>\n      <td>0.0</td>\n      <td>1</td>\n    </tr>\n    <tr>\n      <th>6</th>\n      <td>0.006084</td>\n      <td>0.000489</td>\n      <td>0.007776</td>\n      <td>0.000580</td>\n      <td>7</td>\n      <td>{'n_neighbors': 7}</td>\n      <td>1.0</td>\n      <td>1.0</td>\n      <td>1.0</td>\n      <td>1.0</td>\n      <td>...</td>\n      <td>1.0</td>\n      <td>1.0</td>\n      <td>1.0</td>\n      <td>1.0</td>\n      <td>1.0</td>\n      <td>1.0</td>\n      <td>1.0</td>\n      <td>1.0</td>\n      <td>0.0</td>\n      <td>1</td>\n    </tr>\n    <tr>\n      <th>7</th>\n      <td>0.005582</td>\n      <td>0.000480</td>\n      <td>0.007069</td>\n      <td>0.000526</td>\n      <td>8</td>\n      <td>{'n_neighbors': 8}</td>\n      <td>1.0</td>\n      <td>1.0</td>\n      <td>1.0</td>\n      <td>1.0</td>\n      <td>...</td>\n      <td>1.0</td>\n      <td>1.0</td>\n      <td>1.0</td>\n      <td>1.0</td>\n      <td>1.0</td>\n      <td>1.0</td>\n      <td>1.0</td>\n      <td>1.0</td>\n      <td>0.0</td>\n      <td>1</td>\n    </tr>\n    <tr>\n      <th>8</th>\n      <td>0.006030</td>\n      <td>0.000303</td>\n      <td>0.006973</td>\n      <td>0.000543</td>\n      <td>9</td>\n      <td>{'n_neighbors': 9}</td>\n      <td>1.0</td>\n      <td>1.0</td>\n      <td>1.0</td>\n      <td>1.0</td>\n      <td>...</td>\n      <td>1.0</td>\n      <td>1.0</td>\n      <td>1.0</td>\n      <td>1.0</td>\n      <td>1.0</td>\n      <td>1.0</td>\n      <td>1.0</td>\n      <td>1.0</td>\n      <td>0.0</td>\n      <td>1</td>\n    </tr>\n    <tr>\n      <th>9</th>\n      <td>0.005834</td>\n      <td>0.000580</td>\n      <td>0.007746</td>\n      <td>0.000679</td>\n      <td>10</td>\n      <td>{'n_neighbors': 10}</td>\n      <td>1.0</td>\n      <td>1.0</td>\n      <td>1.0</td>\n      <td>1.0</td>\n      <td>...</td>\n      <td>1.0</td>\n      <td>1.0</td>\n      <td>1.0</td>\n      <td>1.0</td>\n      <td>1.0</td>\n      <td>1.0</td>\n      <td>1.0</td>\n      <td>1.0</td>\n      <td>0.0</td>\n      <td>1</td>\n    </tr>\n    <tr>\n      <th>10</th>\n      <td>0.006280</td>\n      <td>0.000449</td>\n      <td>0.007903</td>\n      <td>0.000562</td>\n      <td>11</td>\n      <td>{'n_neighbors': 11}</td>\n      <td>1.0</td>\n      <td>1.0</td>\n      <td>1.0</td>\n      <td>1.0</td>\n      <td>...</td>\n      <td>1.0</td>\n      <td>1.0</td>\n      <td>1.0</td>\n      <td>1.0</td>\n      <td>1.0</td>\n      <td>1.0</td>\n      <td>1.0</td>\n      <td>1.0</td>\n      <td>0.0</td>\n      <td>1</td>\n    </tr>\n    <tr>\n      <th>11</th>\n      <td>0.006201</td>\n      <td>0.000430</td>\n      <td>0.007827</td>\n      <td>0.000657</td>\n      <td>12</td>\n      <td>{'n_neighbors': 12}</td>\n      <td>1.0</td>\n      <td>1.0</td>\n      <td>1.0</td>\n      <td>1.0</td>\n      <td>...</td>\n      <td>1.0</td>\n      <td>1.0</td>\n      <td>1.0</td>\n      <td>1.0</td>\n      <td>1.0</td>\n      <td>1.0</td>\n      <td>1.0</td>\n      <td>1.0</td>\n      <td>0.0</td>\n      <td>1</td>\n    </tr>\n    <tr>\n      <th>12</th>\n      <td>0.006252</td>\n      <td>0.000434</td>\n      <td>0.007631</td>\n      <td>0.000567</td>\n      <td>13</td>\n      <td>{'n_neighbors': 13}</td>\n      <td>1.0</td>\n      <td>1.0</td>\n      <td>1.0</td>\n      <td>1.0</td>\n      <td>...</td>\n      <td>1.0</td>\n      <td>1.0</td>\n      <td>1.0</td>\n      <td>1.0</td>\n      <td>1.0</td>\n      <td>1.0</td>\n      <td>1.0</td>\n      <td>1.0</td>\n      <td>0.0</td>\n      <td>1</td>\n    </tr>\n    <tr>\n      <th>13</th>\n      <td>0.006071</td>\n      <td>0.000239</td>\n      <td>0.007169</td>\n      <td>0.000453</td>\n      <td>14</td>\n      <td>{'n_neighbors': 14}</td>\n      <td>1.0</td>\n      <td>1.0</td>\n      <td>1.0</td>\n      <td>1.0</td>\n      <td>...</td>\n      <td>1.0</td>\n      <td>1.0</td>\n      <td>1.0</td>\n      <td>1.0</td>\n      <td>1.0</td>\n      <td>1.0</td>\n      <td>1.0</td>\n      <td>1.0</td>\n      <td>0.0</td>\n      <td>1</td>\n    </tr>\n    <tr>\n      <th>14</th>\n      <td>0.006236</td>\n      <td>0.000546</td>\n      <td>0.007801</td>\n      <td>0.000643</td>\n      <td>15</td>\n      <td>{'n_neighbors': 15}</td>\n      <td>1.0</td>\n      <td>1.0</td>\n      <td>1.0</td>\n      <td>1.0</td>\n      <td>...</td>\n      <td>1.0</td>\n      <td>1.0</td>\n      <td>1.0</td>\n      <td>1.0</td>\n      <td>1.0</td>\n      <td>1.0</td>\n      <td>1.0</td>\n      <td>1.0</td>\n      <td>0.0</td>\n      <td>1</td>\n    </tr>\n    <tr>\n      <th>15</th>\n      <td>0.005903</td>\n      <td>0.000324</td>\n      <td>0.007786</td>\n      <td>0.000450</td>\n      <td>16</td>\n      <td>{'n_neighbors': 16}</td>\n      <td>1.0</td>\n      <td>1.0</td>\n      <td>1.0</td>\n      <td>1.0</td>\n      <td>...</td>\n      <td>1.0</td>\n      <td>1.0</td>\n      <td>1.0</td>\n      <td>1.0</td>\n      <td>1.0</td>\n      <td>1.0</td>\n      <td>1.0</td>\n      <td>1.0</td>\n      <td>0.0</td>\n      <td>1</td>\n    </tr>\n    <tr>\n      <th>16</th>\n      <td>0.005802</td>\n      <td>0.000366</td>\n      <td>0.007601</td>\n      <td>0.000516</td>\n      <td>17</td>\n      <td>{'n_neighbors': 17}</td>\n      <td>1.0</td>\n      <td>1.0</td>\n      <td>1.0</td>\n      <td>1.0</td>\n      <td>...</td>\n      <td>1.0</td>\n      <td>1.0</td>\n      <td>1.0</td>\n      <td>1.0</td>\n      <td>1.0</td>\n      <td>1.0</td>\n      <td>1.0</td>\n      <td>1.0</td>\n      <td>0.0</td>\n      <td>1</td>\n    </tr>\n    <tr>\n      <th>17</th>\n      <td>0.006031</td>\n      <td>0.000377</td>\n      <td>0.007923</td>\n      <td>0.000548</td>\n      <td>18</td>\n      <td>{'n_neighbors': 18}</td>\n      <td>1.0</td>\n      <td>1.0</td>\n      <td>1.0</td>\n      <td>1.0</td>\n      <td>...</td>\n      <td>1.0</td>\n      <td>1.0</td>\n      <td>1.0</td>\n      <td>1.0</td>\n      <td>1.0</td>\n      <td>1.0</td>\n      <td>1.0</td>\n      <td>1.0</td>\n      <td>0.0</td>\n      <td>1</td>\n    </tr>\n    <tr>\n      <th>18</th>\n      <td>0.006027</td>\n      <td>0.000506</td>\n      <td>0.008050</td>\n      <td>0.000613</td>\n      <td>19</td>\n      <td>{'n_neighbors': 19}</td>\n      <td>1.0</td>\n      <td>1.0</td>\n      <td>1.0</td>\n      <td>1.0</td>\n      <td>...</td>\n      <td>1.0</td>\n      <td>1.0</td>\n      <td>1.0</td>\n      <td>1.0</td>\n      <td>1.0</td>\n      <td>1.0</td>\n      <td>1.0</td>\n      <td>1.0</td>\n      <td>0.0</td>\n      <td>1</td>\n    </tr>\n    <tr>\n      <th>19</th>\n      <td>0.005734</td>\n      <td>0.000399</td>\n      <td>0.007539</td>\n      <td>0.000530</td>\n      <td>20</td>\n      <td>{'n_neighbors': 20}</td>\n      <td>1.0</td>\n      <td>1.0</td>\n      <td>1.0</td>\n      <td>1.0</td>\n      <td>...</td>\n      <td>1.0</td>\n      <td>1.0</td>\n      <td>1.0</td>\n      <td>1.0</td>\n      <td>1.0</td>\n      <td>1.0</td>\n      <td>1.0</td>\n      <td>1.0</td>\n      <td>0.0</td>\n      <td>1</td>\n    </tr>\n    <tr>\n      <th>20</th>\n      <td>0.005929</td>\n      <td>0.000240</td>\n      <td>0.007650</td>\n      <td>0.000599</td>\n      <td>21</td>\n      <td>{'n_neighbors': 21}</td>\n      <td>1.0</td>\n      <td>1.0</td>\n      <td>1.0</td>\n      <td>1.0</td>\n      <td>...</td>\n      <td>1.0</td>\n      <td>1.0</td>\n      <td>1.0</td>\n      <td>1.0</td>\n      <td>1.0</td>\n      <td>1.0</td>\n      <td>1.0</td>\n      <td>1.0</td>\n      <td>0.0</td>\n      <td>1</td>\n    </tr>\n    <tr>\n      <th>21</th>\n      <td>0.006082</td>\n      <td>0.000440</td>\n      <td>0.007920</td>\n      <td>0.000554</td>\n      <td>22</td>\n      <td>{'n_neighbors': 22}</td>\n      <td>1.0</td>\n      <td>1.0</td>\n      <td>1.0</td>\n      <td>1.0</td>\n      <td>...</td>\n      <td>1.0</td>\n      <td>1.0</td>\n      <td>1.0</td>\n      <td>1.0</td>\n      <td>1.0</td>\n      <td>1.0</td>\n      <td>1.0</td>\n      <td>1.0</td>\n      <td>0.0</td>\n      <td>1</td>\n    </tr>\n    <tr>\n      <th>22</th>\n      <td>0.005771</td>\n      <td>0.000485</td>\n      <td>0.007526</td>\n      <td>0.000582</td>\n      <td>23</td>\n      <td>{'n_neighbors': 23}</td>\n      <td>1.0</td>\n      <td>1.0</td>\n      <td>1.0</td>\n      <td>1.0</td>\n      <td>...</td>\n      <td>1.0</td>\n      <td>1.0</td>\n      <td>1.0</td>\n      <td>1.0</td>\n      <td>1.0</td>\n      <td>1.0</td>\n      <td>1.0</td>\n      <td>1.0</td>\n      <td>0.0</td>\n      <td>1</td>\n    </tr>\n    <tr>\n      <th>23</th>\n      <td>0.005850</td>\n      <td>0.000357</td>\n      <td>0.008268</td>\n      <td>0.000622</td>\n      <td>24</td>\n      <td>{'n_neighbors': 24}</td>\n      <td>1.0</td>\n      <td>1.0</td>\n      <td>1.0</td>\n      <td>1.0</td>\n      <td>...</td>\n      <td>1.0</td>\n      <td>1.0</td>\n      <td>1.0</td>\n      <td>1.0</td>\n      <td>1.0</td>\n      <td>1.0</td>\n      <td>1.0</td>\n      <td>1.0</td>\n      <td>0.0</td>\n      <td>1</td>\n    </tr>\n    <tr>\n      <th>24</th>\n      <td>0.005906</td>\n      <td>0.000302</td>\n      <td>0.008152</td>\n      <td>0.000527</td>\n      <td>25</td>\n      <td>{'n_neighbors': 25}</td>\n      <td>1.0</td>\n      <td>1.0</td>\n      <td>1.0</td>\n      <td>1.0</td>\n      <td>...</td>\n      <td>1.0</td>\n      <td>1.0</td>\n      <td>1.0</td>\n      <td>1.0</td>\n      <td>1.0</td>\n      <td>1.0</td>\n      <td>1.0</td>\n      <td>1.0</td>\n      <td>0.0</td>\n      <td>1</td>\n    </tr>\n    <tr>\n      <th>25</th>\n      <td>0.005875</td>\n      <td>0.000589</td>\n      <td>0.007851</td>\n      <td>0.000503</td>\n      <td>26</td>\n      <td>{'n_neighbors': 26}</td>\n      <td>1.0</td>\n      <td>1.0</td>\n      <td>1.0</td>\n      <td>1.0</td>\n      <td>...</td>\n      <td>1.0</td>\n      <td>1.0</td>\n      <td>1.0</td>\n      <td>1.0</td>\n      <td>1.0</td>\n      <td>1.0</td>\n      <td>1.0</td>\n      <td>1.0</td>\n      <td>0.0</td>\n      <td>1</td>\n    </tr>\n    <tr>\n      <th>26</th>\n      <td>0.006021</td>\n      <td>0.000305</td>\n      <td>0.008189</td>\n      <td>0.000516</td>\n      <td>27</td>\n      <td>{'n_neighbors': 27}</td>\n      <td>1.0</td>\n      <td>1.0</td>\n      <td>1.0</td>\n      <td>1.0</td>\n      <td>...</td>\n      <td>1.0</td>\n      <td>1.0</td>\n      <td>1.0</td>\n      <td>1.0</td>\n      <td>1.0</td>\n      <td>1.0</td>\n      <td>1.0</td>\n      <td>1.0</td>\n      <td>0.0</td>\n      <td>1</td>\n    </tr>\n    <tr>\n      <th>27</th>\n      <td>0.006112</td>\n      <td>0.000377</td>\n      <td>0.007853</td>\n      <td>0.000505</td>\n      <td>28</td>\n      <td>{'n_neighbors': 28}</td>\n      <td>1.0</td>\n      <td>1.0</td>\n      <td>1.0</td>\n      <td>1.0</td>\n      <td>...</td>\n      <td>1.0</td>\n      <td>1.0</td>\n      <td>1.0</td>\n      <td>1.0</td>\n      <td>1.0</td>\n      <td>1.0</td>\n      <td>1.0</td>\n      <td>1.0</td>\n      <td>0.0</td>\n      <td>1</td>\n    </tr>\n    <tr>\n      <th>28</th>\n      <td>0.005734</td>\n      <td>0.000539</td>\n      <td>0.007746</td>\n      <td>0.000512</td>\n      <td>29</td>\n      <td>{'n_neighbors': 29}</td>\n      <td>1.0</td>\n      <td>1.0</td>\n      <td>1.0</td>\n      <td>1.0</td>\n      <td>...</td>\n      <td>1.0</td>\n      <td>1.0</td>\n      <td>1.0</td>\n      <td>1.0</td>\n      <td>1.0</td>\n      <td>1.0</td>\n      <td>1.0</td>\n      <td>1.0</td>\n      <td>0.0</td>\n      <td>1</td>\n    </tr>\n    <tr>\n      <th>29</th>\n      <td>0.005849</td>\n      <td>0.000482</td>\n      <td>0.008601</td>\n      <td>0.000718</td>\n      <td>30</td>\n      <td>{'n_neighbors': 30}</td>\n      <td>1.0</td>\n      <td>1.0</td>\n      <td>1.0</td>\n      <td>1.0</td>\n      <td>...</td>\n      <td>1.0</td>\n      <td>1.0</td>\n      <td>1.0</td>\n      <td>1.0</td>\n      <td>1.0</td>\n      <td>1.0</td>\n      <td>1.0</td>\n      <td>1.0</td>\n      <td>0.0</td>\n      <td>1</td>\n    </tr>\n    <tr>\n      <th>30</th>\n      <td>0.005706</td>\n      <td>0.000428</td>\n      <td>0.008344</td>\n      <td>0.000662</td>\n      <td>31</td>\n      <td>{'n_neighbors': 31}</td>\n      <td>1.0</td>\n      <td>1.0</td>\n      <td>1.0</td>\n      <td>1.0</td>\n      <td>...</td>\n      <td>1.0</td>\n      <td>1.0</td>\n      <td>1.0</td>\n      <td>1.0</td>\n      <td>1.0</td>\n      <td>1.0</td>\n      <td>1.0</td>\n      <td>1.0</td>\n      <td>0.0</td>\n      <td>1</td>\n    </tr>\n    <tr>\n      <th>31</th>\n      <td>0.005636</td>\n      <td>0.000459</td>\n      <td>0.008099</td>\n      <td>0.000696</td>\n      <td>32</td>\n      <td>{'n_neighbors': 32}</td>\n      <td>1.0</td>\n      <td>1.0</td>\n      <td>1.0</td>\n      <td>1.0</td>\n      <td>...</td>\n      <td>1.0</td>\n      <td>1.0</td>\n      <td>1.0</td>\n      <td>1.0</td>\n      <td>1.0</td>\n      <td>1.0</td>\n      <td>1.0</td>\n      <td>1.0</td>\n      <td>0.0</td>\n      <td>1</td>\n    </tr>\n    <tr>\n      <th>32</th>\n      <td>0.005757</td>\n      <td>0.000431</td>\n      <td>0.008190</td>\n      <td>0.000448</td>\n      <td>33</td>\n      <td>{'n_neighbors': 33}</td>\n      <td>1.0</td>\n      <td>1.0</td>\n      <td>1.0</td>\n      <td>1.0</td>\n      <td>...</td>\n      <td>1.0</td>\n      <td>1.0</td>\n      <td>1.0</td>\n      <td>1.0</td>\n      <td>1.0</td>\n      <td>1.0</td>\n      <td>1.0</td>\n      <td>1.0</td>\n      <td>0.0</td>\n      <td>1</td>\n    </tr>\n    <tr>\n      <th>33</th>\n      <td>0.005609</td>\n      <td>0.000531</td>\n      <td>0.008155</td>\n      <td>0.000545</td>\n      <td>34</td>\n      <td>{'n_neighbors': 34}</td>\n      <td>1.0</td>\n      <td>1.0</td>\n      <td>1.0</td>\n      <td>1.0</td>\n      <td>...</td>\n      <td>1.0</td>\n      <td>1.0</td>\n      <td>1.0</td>\n      <td>1.0</td>\n      <td>1.0</td>\n      <td>1.0</td>\n      <td>1.0</td>\n      <td>1.0</td>\n      <td>0.0</td>\n      <td>1</td>\n    </tr>\n    <tr>\n      <th>34</th>\n      <td>0.005700</td>\n      <td>0.000458</td>\n      <td>0.008197</td>\n      <td>0.000395</td>\n      <td>35</td>\n      <td>{'n_neighbors': 35}</td>\n      <td>1.0</td>\n      <td>1.0</td>\n      <td>1.0</td>\n      <td>1.0</td>\n      <td>...</td>\n      <td>1.0</td>\n      <td>1.0</td>\n      <td>1.0</td>\n      <td>1.0</td>\n      <td>1.0</td>\n      <td>1.0</td>\n      <td>1.0</td>\n      <td>1.0</td>\n      <td>0.0</td>\n      <td>1</td>\n    </tr>\n    <tr>\n      <th>35</th>\n      <td>0.005751</td>\n      <td>0.000403</td>\n      <td>0.008014</td>\n      <td>0.000452</td>\n      <td>36</td>\n      <td>{'n_neighbors': 36}</td>\n      <td>1.0</td>\n      <td>1.0</td>\n      <td>1.0</td>\n      <td>1.0</td>\n      <td>...</td>\n      <td>1.0</td>\n      <td>1.0</td>\n      <td>1.0</td>\n      <td>1.0</td>\n      <td>1.0</td>\n      <td>1.0</td>\n      <td>1.0</td>\n      <td>1.0</td>\n      <td>0.0</td>\n      <td>1</td>\n    </tr>\n    <tr>\n      <th>36</th>\n      <td>0.005707</td>\n      <td>0.000489</td>\n      <td>0.008429</td>\n      <td>0.000535</td>\n      <td>37</td>\n      <td>{'n_neighbors': 37}</td>\n      <td>1.0</td>\n      <td>1.0</td>\n      <td>1.0</td>\n      <td>1.0</td>\n      <td>...</td>\n      <td>1.0</td>\n      <td>1.0</td>\n      <td>1.0</td>\n      <td>1.0</td>\n      <td>1.0</td>\n      <td>1.0</td>\n      <td>1.0</td>\n      <td>1.0</td>\n      <td>0.0</td>\n      <td>1</td>\n    </tr>\n    <tr>\n      <th>37</th>\n      <td>0.005820</td>\n      <td>0.000525</td>\n      <td>0.008039</td>\n      <td>0.000525</td>\n      <td>38</td>\n      <td>{'n_neighbors': 38}</td>\n      <td>1.0</td>\n      <td>1.0</td>\n      <td>1.0</td>\n      <td>1.0</td>\n      <td>...</td>\n      <td>1.0</td>\n      <td>1.0</td>\n      <td>1.0</td>\n      <td>1.0</td>\n      <td>1.0</td>\n      <td>1.0</td>\n      <td>1.0</td>\n      <td>1.0</td>\n      <td>0.0</td>\n      <td>1</td>\n    </tr>\n    <tr>\n      <th>38</th>\n      <td>0.005730</td>\n      <td>0.000582</td>\n      <td>0.008126</td>\n      <td>0.000473</td>\n      <td>39</td>\n      <td>{'n_neighbors': 39}</td>\n      <td>1.0</td>\n      <td>1.0</td>\n      <td>1.0</td>\n      <td>1.0</td>\n      <td>...</td>\n      <td>1.0</td>\n      <td>1.0</td>\n      <td>1.0</td>\n      <td>1.0</td>\n      <td>1.0</td>\n      <td>1.0</td>\n      <td>1.0</td>\n      <td>1.0</td>\n      <td>0.0</td>\n      <td>1</td>\n    </tr>\n    <tr>\n      <th>39</th>\n      <td>0.005899</td>\n      <td>0.000339</td>\n      <td>0.008453</td>\n      <td>0.000609</td>\n      <td>40</td>\n      <td>{'n_neighbors': 40}</td>\n      <td>1.0</td>\n      <td>1.0</td>\n      <td>1.0</td>\n      <td>1.0</td>\n      <td>...</td>\n      <td>1.0</td>\n      <td>1.0</td>\n      <td>1.0</td>\n      <td>1.0</td>\n      <td>1.0</td>\n      <td>1.0</td>\n      <td>1.0</td>\n      <td>1.0</td>\n      <td>0.0</td>\n      <td>1</td>\n    </tr>\n    <tr>\n      <th>40</th>\n      <td>0.005847</td>\n      <td>0.000518</td>\n      <td>0.008660</td>\n      <td>0.000674</td>\n      <td>41</td>\n      <td>{'n_neighbors': 41}</td>\n      <td>1.0</td>\n      <td>1.0</td>\n      <td>1.0</td>\n      <td>1.0</td>\n      <td>...</td>\n      <td>1.0</td>\n      <td>1.0</td>\n      <td>1.0</td>\n      <td>1.0</td>\n      <td>1.0</td>\n      <td>1.0</td>\n      <td>1.0</td>\n      <td>1.0</td>\n      <td>0.0</td>\n      <td>1</td>\n    </tr>\n    <tr>\n      <th>41</th>\n      <td>0.005730</td>\n      <td>0.000576</td>\n      <td>0.008612</td>\n      <td>0.000476</td>\n      <td>42</td>\n      <td>{'n_neighbors': 42}</td>\n      <td>1.0</td>\n      <td>1.0</td>\n      <td>1.0</td>\n      <td>1.0</td>\n      <td>...</td>\n      <td>1.0</td>\n      <td>1.0</td>\n      <td>1.0</td>\n      <td>1.0</td>\n      <td>1.0</td>\n      <td>1.0</td>\n      <td>1.0</td>\n      <td>1.0</td>\n      <td>0.0</td>\n      <td>1</td>\n    </tr>\n    <tr>\n      <th>42</th>\n      <td>0.006027</td>\n      <td>0.000402</td>\n      <td>0.008822</td>\n      <td>0.000677</td>\n      <td>43</td>\n      <td>{'n_neighbors': 43}</td>\n      <td>1.0</td>\n      <td>1.0</td>\n      <td>1.0</td>\n      <td>1.0</td>\n      <td>...</td>\n      <td>1.0</td>\n      <td>1.0</td>\n      <td>1.0</td>\n      <td>1.0</td>\n      <td>1.0</td>\n      <td>1.0</td>\n      <td>1.0</td>\n      <td>1.0</td>\n      <td>0.0</td>\n      <td>1</td>\n    </tr>\n    <tr>\n      <th>43</th>\n      <td>0.005780</td>\n      <td>0.000565</td>\n      <td>0.008676</td>\n      <td>0.000694</td>\n      <td>44</td>\n      <td>{'n_neighbors': 44}</td>\n      <td>1.0</td>\n      <td>1.0</td>\n      <td>1.0</td>\n      <td>1.0</td>\n      <td>...</td>\n      <td>1.0</td>\n      <td>1.0</td>\n      <td>1.0</td>\n      <td>1.0</td>\n      <td>1.0</td>\n      <td>1.0</td>\n      <td>1.0</td>\n      <td>1.0</td>\n      <td>0.0</td>\n      <td>1</td>\n    </tr>\n    <tr>\n      <th>44</th>\n      <td>0.005650</td>\n      <td>0.000477</td>\n      <td>0.008601</td>\n      <td>0.000436</td>\n      <td>45</td>\n      <td>{'n_neighbors': 45}</td>\n      <td>1.0</td>\n      <td>1.0</td>\n      <td>1.0</td>\n      <td>1.0</td>\n      <td>...</td>\n      <td>1.0</td>\n      <td>1.0</td>\n      <td>1.0</td>\n      <td>1.0</td>\n      <td>1.0</td>\n      <td>1.0</td>\n      <td>1.0</td>\n      <td>1.0</td>\n      <td>0.0</td>\n      <td>1</td>\n    </tr>\n    <tr>\n      <th>45</th>\n      <td>0.005738</td>\n      <td>0.000445</td>\n      <td>0.008353</td>\n      <td>0.000478</td>\n      <td>46</td>\n      <td>{'n_neighbors': 46}</td>\n      <td>1.0</td>\n      <td>1.0</td>\n      <td>1.0</td>\n      <td>1.0</td>\n      <td>...</td>\n      <td>1.0</td>\n      <td>1.0</td>\n      <td>1.0</td>\n      <td>1.0</td>\n      <td>1.0</td>\n      <td>1.0</td>\n      <td>1.0</td>\n      <td>1.0</td>\n      <td>0.0</td>\n      <td>1</td>\n    </tr>\n    <tr>\n      <th>46</th>\n      <td>0.005750</td>\n      <td>0.000433</td>\n      <td>0.008676</td>\n      <td>0.000531</td>\n      <td>47</td>\n      <td>{'n_neighbors': 47}</td>\n      <td>1.0</td>\n      <td>1.0</td>\n      <td>1.0</td>\n      <td>1.0</td>\n      <td>...</td>\n      <td>1.0</td>\n      <td>1.0</td>\n      <td>1.0</td>\n      <td>1.0</td>\n      <td>1.0</td>\n      <td>1.0</td>\n      <td>1.0</td>\n      <td>1.0</td>\n      <td>0.0</td>\n      <td>1</td>\n    </tr>\n    <tr>\n      <th>47</th>\n      <td>0.005601</td>\n      <td>0.000464</td>\n      <td>0.008583</td>\n      <td>0.000638</td>\n      <td>48</td>\n      <td>{'n_neighbors': 48}</td>\n      <td>1.0</td>\n      <td>1.0</td>\n      <td>1.0</td>\n      <td>1.0</td>\n      <td>...</td>\n      <td>1.0</td>\n      <td>1.0</td>\n      <td>1.0</td>\n      <td>1.0</td>\n      <td>1.0</td>\n      <td>1.0</td>\n      <td>1.0</td>\n      <td>1.0</td>\n      <td>0.0</td>\n      <td>1</td>\n    </tr>\n    <tr>\n      <th>48</th>\n      <td>0.005654</td>\n      <td>0.000452</td>\n      <td>0.008624</td>\n      <td>0.000608</td>\n      <td>49</td>\n      <td>{'n_neighbors': 49}</td>\n      <td>1.0</td>\n      <td>1.0</td>\n      <td>1.0</td>\n      <td>1.0</td>\n      <td>...</td>\n      <td>1.0</td>\n      <td>1.0</td>\n      <td>1.0</td>\n      <td>1.0</td>\n      <td>1.0</td>\n      <td>1.0</td>\n      <td>1.0</td>\n      <td>1.0</td>\n      <td>0.0</td>\n      <td>1</td>\n    </tr>\n  </tbody>\n</table>\n<p>49 rows × 29 columns</p>\n</div>"
     },
     "execution_count": 380,
     "metadata": {},
     "output_type": "execute_result"
    }
   ],
   "source": [
    "scores"
   ],
   "metadata": {
    "collapsed": false,
    "ExecuteTime": {
     "end_time": "2023-09-17T18:22:24.093031100Z",
     "start_time": "2023-09-17T18:22:24.042690900Z"
    }
   },
   "id": "a53f93396199eb00"
  },
  {
   "cell_type": "code",
   "execution_count": 381,
   "outputs": [],
   "source": [
    "mean_test_score = scores['mean_test_score']"
   ],
   "metadata": {
    "collapsed": false,
    "ExecuteTime": {
     "end_time": "2023-09-17T18:22:24.111030500Z",
     "start_time": "2023-09-17T18:22:24.090030500Z"
    }
   },
   "id": "fdbdf422e44d97e1"
  },
  {
   "cell_type": "code",
   "execution_count": 382,
   "outputs": [
    {
     "data": {
      "text/plain": "0     1.0\n1     1.0\n2     1.0\n3     1.0\n4     1.0\n5     1.0\n6     1.0\n7     1.0\n8     1.0\n9     1.0\n10    1.0\n11    1.0\n12    1.0\n13    1.0\n14    1.0\n15    1.0\n16    1.0\n17    1.0\n18    1.0\n19    1.0\n20    1.0\n21    1.0\n22    1.0\n23    1.0\n24    1.0\n25    1.0\n26    1.0\n27    1.0\n28    1.0\n29    1.0\n30    1.0\n31    1.0\n32    1.0\n33    1.0\n34    1.0\n35    1.0\n36    1.0\n37    1.0\n38    1.0\n39    1.0\n40    1.0\n41    1.0\n42    1.0\n43    1.0\n44    1.0\n45    1.0\n46    1.0\n47    1.0\n48    1.0\nName: mean_test_score, dtype: float64"
     },
     "execution_count": 382,
     "metadata": {},
     "output_type": "execute_result"
    }
   ],
   "source": [
    "mean_test_score"
   ],
   "metadata": {
    "collapsed": false,
    "ExecuteTime": {
     "end_time": "2023-09-17T18:22:24.153739400Z",
     "start_time": "2023-09-17T18:22:24.108031Z"
    }
   },
   "id": "5768b9bab72500ca"
  },
  {
   "cell_type": "code",
   "execution_count": 383,
   "outputs": [
    {
     "data": {
      "text/plain": "<Axes: title={'center': 'Accuracy'}, xlabel='k'>"
     },
     "execution_count": 383,
     "metadata": {},
     "output_type": "execute_result"
    },
    {
     "data": {
      "text/plain": "<Figure size 640x480 with 1 Axes>",
      "image/png": "[encoded data removed]"
     },
     "metadata": {},
     "output_type": "display_data"
    }
   ],
   "source": [
    "mean_test_score.plot(title = 'Accuracy', xlabel='k')"
   ],
   "metadata": {
    "collapsed": false,
    "ExecuteTime": {
     "end_time": "2023-09-17T18:22:24.231253500Z",
     "start_time": "2023-09-17T18:22:24.122032200Z"
    }
   },
   "id": "c91eb6fbfa244d03"
  },
  {
   "cell_type": "markdown",
   "source": [
    "#### Now it is time to look at the test set with the optimal k-value"
   ],
   "metadata": {
    "collapsed": false
   },
   "id": "efa8072fa80deb3e"
  },
  {
   "cell_type": "markdown",
   "source": [
    "##### Use the model on the test set and acquire both the accuracy and the plot the confusion matrix"
   ],
   "metadata": {
    "collapsed": false
   },
   "id": "229378e30ea60e96"
  },
  {
   "cell_type": "code",
   "execution_count": 384,
   "outputs": [],
   "source": [
    "y_pred = grid.predict(X=X_test)"
   ],
   "metadata": {
    "collapsed": false,
    "ExecuteTime": {
     "end_time": "2023-09-17T18:22:24.293413Z",
     "start_time": "2023-09-17T18:22:24.232253400Z"
    }
   },
   "id": "eff4a8d658b74dce"
  },
  {
   "cell_type": "code",
   "execution_count": 385,
   "outputs": [
    {
     "data": {
      "text/plain": "array(['Sitting', 'Standing_up', 'Sitting', ..., 'Standing_up', 'Sitting',\n       'Sitting'], dtype=object)"
     },
     "execution_count": 385,
     "metadata": {},
     "output_type": "execute_result"
    }
   ],
   "source": [
    "grid.predict(X=X_test)"
   ],
   "metadata": {
    "collapsed": false,
    "ExecuteTime": {
     "end_time": "2023-09-17T18:22:24.356322200Z",
     "start_time": "2023-09-17T18:22:24.294413Z"
    }
   },
   "id": "a418a8d36f3ea80d"
  },
  {
   "cell_type": "code",
   "execution_count": 386,
   "outputs": [
    {
     "data": {
      "text/plain": "712         Sitting\n1149    Standing_up\n105         Sitting\n301     Laying_down\n630     Laying_down\n           ...     \n643     Laying_down\n912     Standing_up\n1960    Standing_up\n684         Sitting\n2128        Sitting\nName: class, Length: 2785, dtype: object"
     },
     "execution_count": 386,
     "metadata": {},
     "output_type": "execute_result"
    }
   ],
   "source": [
    "y_test"
   ],
   "metadata": {
    "collapsed": false,
    "ExecuteTime": {
     "end_time": "2023-09-17T18:22:24.372030Z",
     "start_time": "2023-09-17T18:22:24.357322100Z"
    }
   },
   "id": "471349e8e04e6636"
  },
  {
   "cell_type": "code",
   "execution_count": 387,
   "outputs": [
    {
     "data": {
      "text/plain": "1.0"
     },
     "execution_count": 387,
     "metadata": {},
     "output_type": "execute_result"
    }
   ],
   "source": [
    "accuracy_score(y_true=y_test, y_pred=y_pred)"
   ],
   "metadata": {
    "collapsed": false,
    "ExecuteTime": {
     "end_time": "2023-09-17T18:22:24.394029200Z",
     "start_time": "2023-09-17T18:22:24.373030800Z"
    }
   },
   "id": "a3ec4f0df6bb6bf6"
  },
  {
   "cell_type": "markdown",
   "source": [
    "##### Explain the difference between the accuracy for the validation set and the test set"
   ],
   "metadata": {
    "collapsed": false
   },
   "id": "d1c78b8b6f18b09"
  },
  {
   "cell_type": "code",
   "execution_count": 388,
   "outputs": [
    {
     "name": "stdout",
     "output_type": "stream",
     "text": [
      "Validation set accuracy: 1.0\n",
      "Test set accuracy: 1.0\n"
     ]
    }
   ],
   "source": [
    "print(f\"Validation set accuracy: {grid.best_score_}\\nTest set accuracy: {accuracy_score(y_test, y_pred)}\")"
   ],
   "metadata": {
    "collapsed": false,
    "ExecuteTime": {
     "end_time": "2023-09-17T18:22:24.431028900Z",
     "start_time": "2023-09-17T18:22:24.389032200Z"
    }
   },
   "id": "f43ed1a0f4557285"
  },
  {
   "cell_type": "markdown",
   "source": [
    "##### Explain the result in the confusion matrix"
   ],
   "metadata": {
    "collapsed": false
   },
   "id": "6054195921d0157d"
  },
  {
   "cell_type": "code",
   "execution_count": 389,
   "outputs": [
    {
     "data": {
      "text/plain": "array([[951,   0,   0],\n       [  0, 919,   0],\n       [  0,   0, 915]], dtype=int64)"
     },
     "execution_count": 389,
     "metadata": {},
     "output_type": "execute_result"
    }
   ],
   "source": [
    "confusion_matrix(y_true=y_test, y_pred=y_pred)"
   ],
   "metadata": {
    "collapsed": false,
    "ExecuteTime": {
     "end_time": "2023-09-17T18:22:24.441029200Z",
     "start_time": "2023-09-17T18:22:24.405030500Z"
    }
   },
   "id": "832267dacab15092"
  }
 ],
 "metadata": {
  "kernelspec": {
   "display_name": "Python 3",
   "language": "python",
   "name": "python3"
  },
  "language_info": {
   "codemirror_mode": {
    "name": "ipython",
    "version": 2
   },
   "file_extension": ".py",
   "mimetype": "text/x-python",
   "name": "python",
   "nbconvert_exporter": "python",
   "pygments_lexer": "ipython2",
   "version": "2.7.6"
  }
 },
 "nbformat": 4,
 "nbformat_minor": 5
}
