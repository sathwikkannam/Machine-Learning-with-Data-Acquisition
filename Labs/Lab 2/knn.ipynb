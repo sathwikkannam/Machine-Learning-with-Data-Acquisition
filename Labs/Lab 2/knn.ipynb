{
 "cells": [
  {
   "cell_type": "code",
   "execution_count": 2,
   "id": "initial_id",
   "metadata": {
    "collapsed": true,
    "ExecuteTime": {
     "end_time": "2023-09-17T15:33:42.840195100Z",
     "start_time": "2023-09-17T15:33:42.825322Z"
    }
   },
   "outputs": [],
   "source": [
    "import import_ipynb as ipynb\n",
    "import os\n",
    "from pathlib import Path\n",
    "import pandas as pd\n",
    "\n",
    "from sklearn.model_selection import train_test_split\n",
    "from sklearn.neighbors import KNeighborsClassifier\n",
    "from sklearn.metrics import confusion_matrix, accuracy_score\n",
    "from sklearn.model_selection import GridSearchCV\n",
    "from sklearn.model_selection import KFold"
   ]
  },
  {
   "cell_type": "markdown",
   "source": [
    "##### Change directories and load Lab 1"
   ],
   "metadata": {
    "collapsed": false
   },
   "id": "60aa30163b7c9a2b"
  },
  {
   "cell_type": "code",
   "execution_count": null,
   "outputs": [],
   "source": [
    "os.chdir(\"../Lab 1\")\n",
    "lab_1 = ipynb.NotebookLoader().load_module('lab1')\n",
    "os.chdir(\"../Lab 2\")"
   ],
   "metadata": {
    "collapsed": false
   },
   "id": "323c4b1522734a"
  },
  {
   "cell_type": "markdown",
   "source": [
    "# Required Preparations"
   ],
   "metadata": {
    "collapsed": false
   },
   "id": "e450f61089170a96"
  },
  {
   "cell_type": "code",
   "execution_count": 4,
   "outputs": [],
   "source": [
    "lab_2_positions = ['Sitting', 'Running', 'Jumping', 'Squats']"
   ],
   "metadata": {
    "collapsed": false,
    "ExecuteTime": {
     "end_time": "2023-09-17T15:33:56.135134Z",
     "start_time": "2023-09-17T15:33:56.113979Z"
    }
   },
   "id": "35a74c24fe8c1457"
  },
  {
   "cell_type": "markdown",
   "source": [
    "##### 'recordings' are used if we want to plot each recording."
   ],
   "metadata": {
    "collapsed": false
   },
   "id": "5493407bc397a4ef"
  },
  {
   "cell_type": "code",
   "execution_count": 5,
   "outputs": [],
   "source": [
    "recordings : dict[str: pd.DataFrame] = lab_1.read_recordings(positions=lab_2_positions)"
   ],
   "metadata": {
    "collapsed": false,
    "ExecuteTime": {
     "end_time": "2023-09-17T15:33:57.200953900Z",
     "start_time": "2023-09-17T15:33:57.186950Z"
    }
   },
   "id": "b74e1779de76b009"
  },
  {
   "cell_type": "markdown",
   "source": [
    "##### merger() will read files based on the positions and concatenate the acceleratometer and rate_gyro columns, and a return a dictionary."
   ],
   "metadata": {
    "collapsed": false
   },
   "id": "b2cf62337477fd1a"
  },
  {
   "cell_type": "code",
   "execution_count": 6,
   "outputs": [],
   "source": [
    "merged_dfs: dict = lab_1.merger(positions=lab_2_positions, remove_n=0)\n",
    "lab_1.split_train_test_sets(processed_dataframes=merged_dfs)"
   ],
   "metadata": {
    "collapsed": false,
    "ExecuteTime": {
     "end_time": "2023-09-17T15:33:59.227498Z",
     "start_time": "2023-09-17T15:33:59.163533800Z"
    }
   },
   "id": "d861a772b10c838d"
  },
  {
   "cell_type": "markdown",
   "source": [
    "##### Display the four classes"
   ],
   "metadata": {
    "collapsed": false
   },
   "id": "749b2d2f62d931d2"
  },
  {
   "cell_type": "code",
   "execution_count": 7,
   "outputs": [],
   "source": [
    "class_dfs = lab_1.merge_recordings_by_rows(classes=lab_2_positions)"
   ],
   "metadata": {
    "collapsed": false,
    "ExecuteTime": {
     "end_time": "2023-09-17T15:34:09.749507700Z",
     "start_time": "2023-09-17T15:34:09.729503200Z"
    }
   },
   "id": "622745a387d4a5f"
  },
  {
   "cell_type": "code",
   "execution_count": 8,
   "outputs": [
    {
     "name": "stdout",
     "output_type": "stream",
     "text": [
      "            ax        ay        az        gx        gy        gz    class\n",
      "0    -2.004288 -1.069891 -9.671490 -0.000458  0.002291  0.003665  Sitting\n",
      "1    -1.987538 -1.077069 -9.657133 -0.000458  0.002291  0.003665  Sitting\n",
      "2    -1.982753 -1.081855 -9.649955  0.004429 -0.001374  0.004887  Sitting\n",
      "3    -1.989931 -1.079462 -9.645169  0.003207  0.001069  0.004887  Sitting\n",
      "4    -1.989931 -1.057927 -9.642776  0.004429  0.001069  0.002443  Sitting\n",
      "...        ...       ...       ...       ...       ...       ...      ...\n",
      "3071 -2.044966 -0.581456 -9.676275  0.003207  0.001069  0.002443  Sitting\n",
      "3072 -2.035395 -0.581456 -9.704989  0.003207  0.002291  0.002443  Sitting\n",
      "3073 -2.035395 -0.593420 -9.721740  0.003207  0.003512  0.002443  Sitting\n",
      "3074 -2.033002 -0.600598 -9.731311  0.003207  0.004734  0.002443  Sitting\n",
      "3075 -2.030609 -0.610170 -9.721740  0.003207  0.003512  0.003665  Sitting\n",
      "\n",
      "[3076 rows x 7 columns]\n",
      "            ax         ay         az        gx        gy        gz    class\n",
      "0     1.184746 -13.277473  -3.549752 -0.732100  0.454470  0.623980  Running\n",
      "1     1.191925 -11.752348  -4.715655 -1.487108  0.372617  0.487151  Running\n",
      "2     0.018843 -10.335199  -5.060521 -2.155375  0.207688  0.324665  Running\n",
      "3    -1.779064  -9.250652  -4.600800 -2.712467 -0.044134  0.158362  Running\n",
      "4    -3.490829  -9.025428  -4.320839 -3.143725 -0.282364  0.005650  Running\n",
      "...        ...        ...        ...       ...       ...       ...      ...\n",
      "3063 -3.342474  -7.124629 -13.724632 -4.725973  0.955365  1.084559  Running\n",
      "3064 -0.979562  -7.332805 -16.501802 -4.608690  1.480694  1.554912  Running\n",
      "3065  1.536491  -7.742277 -17.188841 -4.028232  1.638292  1.578124  Running\n",
      "3066  4.050450  -8.185248 -15.640087 -3.491908  1.323095  1.297134  Running\n",
      "3067  5.405386  -8.156534 -12.206985 -3.093636  0.642611  0.915965  Running\n",
      "\n",
      "[3068 rows x 7 columns]\n",
      "            ax         ay        az        gx        gy        gz    class\n",
      "0    -2.837289 -16.732111 -5.967700  1.946007  1.308435  0.363760  Jumping\n",
      "1    -2.212464 -14.917455 -4.124329  1.974106  1.288888  0.380863  Jumping\n",
      "2    -1.274178 -13.732409 -2.247459  1.916686  1.043327  0.395524  Jumping\n",
      "3    -0.354736 -12.463615 -0.779761  1.811620  0.621843  0.391859  Jumping\n",
      "4     0.516850 -11.177772  0.309571  1.704111  0.091474  0.361316  Jumping\n",
      "...        ...        ...       ...       ...       ...       ...      ...\n",
      "3085  0.835095  -1.941476 -1.268196 -0.249531  0.415376  0.511585  Jumping\n",
      "3086  1.642075  -2.108974 -0.983450 -0.385139  0.376282  0.459052  Jumping\n",
      "3087  2.443969  -2.298007 -0.569193 -0.517082  0.340853  0.351543  Jumping\n",
      "3088  2.855834  -2.432304 -0.018544 -0.618483  0.285877  0.213338  Jumping\n",
      "3089  3.066402  -2.657230  0.489033 -0.684454  0.175924  0.048410  Jumping\n",
      "\n",
      "[3090 rows x 7 columns]\n",
      "            ax        ay         az        gx        gy        gz   class\n",
      "0    -3.026622 -2.231008 -10.459028  2.388260 -0.229831  0.097277  Squats\n",
      "1    -2.918645 -2.645265 -10.100104  2.385817 -0.337340  0.072844  Squats\n",
      "2    -2.796612 -2.982953 -10.897213  2.338171 -0.510821 -0.023670  Squats\n",
      "3    -2.574079 -3.100201 -10.674681  2.306406 -0.667198 -0.142175  Squats\n",
      "4    -2.365604 -2.796013 -11.026426  2.295411 -0.771042 -0.247240  Squats\n",
      "...        ...       ...        ...       ...       ...       ...     ...\n",
      "3063 -1.175773 -8.599505  -3.578466  2.451788 -0.453401 -0.828767  Squats\n",
      "3064 -0.098405 -8.798110  -2.860320  2.461562 -0.425302 -0.781121  Squats\n",
      "3065  0.681954 -8.860323  -2.108675  2.417581 -0.525481 -0.737140  Squats\n",
      "3066  1.256531 -9.269794  -2.050948  2.318624 -0.569462 -0.721258  Squats\n",
      "3067  0.813560 -8.927322  -1.866701  2.191567 -0.402090 -0.728588  Squats\n",
      "\n",
      "[3068 rows x 7 columns]\n"
     ]
    }
   ],
   "source": [
    "print(*class_dfs, sep='\\n')"
   ],
   "metadata": {
    "collapsed": false,
    "ExecuteTime": {
     "end_time": "2023-09-17T15:34:11.247672800Z",
     "start_time": "2023-09-17T15:34:11.212001200Z"
    }
   },
   "id": "c97522183bdb6c0f"
  },
  {
   "cell_type": "markdown",
   "source": [
    "# Classification of different positions"
   ],
   "metadata": {
    "collapsed": false
   },
   "id": "16a0cb07ad43388d"
  },
  {
   "cell_type": "markdown",
   "source": [
    "#### We will use the K-nearest neighbor algorithm and decision trees in this lab. In this part you should only work with the stationary positions:\n",
    "- Standing\n",
    "- Sitting\n",
    "- Laying down"
   ],
   "metadata": {
    "collapsed": false
   },
   "id": "eb7ab2144325fded"
  },
  {
   "cell_type": "code",
   "execution_count": 9,
   "outputs": [],
   "source": [
    "stationary_positions = ['Standing_up', 'Sitting', 'Laying_down']"
   ],
   "metadata": {
    "collapsed": false,
    "ExecuteTime": {
     "end_time": "2023-09-17T15:34:21.272590600Z",
     "start_time": "2023-09-17T15:34:21.259083900Z"
    }
   },
   "id": "a0af184b293f9703"
  },
  {
   "cell_type": "code",
   "execution_count": null,
   "outputs": [],
   "source": [
    "stationary_positions_dfs = []\n",
    "\n",
    "for _class in Path(\"../Binaries/Class dataframes\").rglob(\"*.pkl\"):\n",
    "    for stat_pos in stationary_positions:\n",
    "        if str(_class).__contains__(stat_pos):\n",
    "            stationary_positions.append(pd.read_pickle(_class))"
   ],
   "metadata": {
    "collapsed": false
   },
   "id": "a4b5b0f41ee5c97c"
  },
  {
   "cell_type": "markdown",
   "source": [
    "#### We start with working with the KNN algorithm. You should use crossvalidation for evaluating the model."
   ],
   "metadata": {
    "collapsed": false
   },
   "id": "5d675cb01468bb28"
  },
  {
   "cell_type": "code",
   "execution_count": null,
   "outputs": [],
   "source": [
    "knn = KNeighborsClassifier()"
   ],
   "metadata": {
    "collapsed": false
   },
   "id": "adf83d3c308db958"
  },
  {
   "cell_type": "code",
   "execution_count": null,
   "outputs": [],
   "source": [
    "df = pd.concat(stationary_positions_dfs, axis='rows', ignore_index=True)"
   ],
   "metadata": {
    "collapsed": false
   },
   "id": "384f17fafa7e037c"
  },
  {
   "cell_type": "code",
   "execution_count": null,
   "outputs": [],
   "source": [
    "X = df.drop('class', axis='columns')\n",
    "y = df['class']"
   ],
   "metadata": {
    "collapsed": false
   },
   "id": "f95d19cd1832869f"
  },
  {
   "cell_type": "code",
   "execution_count": null,
   "outputs": [],
   "source": [
    "df"
   ],
   "metadata": {
    "collapsed": false
   },
   "id": "f47d303866e81cc0"
  },
  {
   "cell_type": "markdown",
   "source": [
    "##### Make a choice of the number of subsets that you use for your crossvalidation. Motivate the choice"
   ],
   "metadata": {
    "collapsed": false
   },
   "id": "df86cc12782f8bbc"
  },
  {
   "cell_type": "code",
   "execution_count": null,
   "outputs": [],
   "source": [
    "folds = KFold(n_splits=10, random_state=100)"
   ],
   "metadata": {
    "collapsed": false
   },
   "id": "51d94ad8ba99d728"
  },
  {
   "cell_type": "markdown",
   "source": [
    "#### For the gridsearch use GridSearchCV which you find in the previous weeks ́ exercise. The hyperparameter you will use for the gridsearch is k, that is the number of neighbours."
   ],
   "metadata": {
    "collapsed": false
   },
   "id": "90fc18162e24940e"
  },
  {
   "cell_type": "markdown",
   "source": [
    "##### Make a choice of the range of k-values you will use. Motivate the choice."
   ],
   "metadata": {
    "collapsed": false
   },
   "id": "e96b7c053fe1f945"
  },
  {
   "cell_type": "code",
   "execution_count": null,
   "outputs": [],
   "source": [
    "param_grid = {\n",
    "    'n_neighbors': list(range(1, 50))\n",
    "}"
   ],
   "metadata": {
    "collapsed": false
   },
   "id": "7f8cdf49095faf1e"
  },
  {
   "cell_type": "markdown",
   "source": [
    "##### Split data"
   ],
   "metadata": {
    "collapsed": false
   },
   "id": "844cd5182de68e6f"
  },
  {
   "cell_type": "code",
   "execution_count": null,
   "outputs": [],
   "source": [
    "X_train, X_test, y_train, y_test = train_test_split(X, y, test_size=0.25, random_state=50)"
   ],
   "metadata": {
    "collapsed": false
   },
   "id": "87176b2d87983a90"
  },
  {
   "cell_type": "markdown",
   "source": [
    "##### Train the model."
   ],
   "metadata": {
    "collapsed": false
   },
   "id": "dec9eca329f2dba9"
  },
  {
   "cell_type": "code",
   "execution_count": null,
   "outputs": [],
   "source": [
    "grid = GridSearchCV(estimator=knn,\n",
    "                    param_grid=param_grid,\n",
    "                    cv=folds,\n",
    "                    scoring='accuracy',\n",
    "                    return_train_score=False)"
   ],
   "metadata": {
    "collapsed": false
   },
   "id": "423518951fd83643"
  },
  {
   "cell_type": "code",
   "execution_count": null,
   "outputs": [],
   "source": [
    "grid_search = grid.fit(X_train, y_train)"
   ],
   "metadata": {
    "collapsed": false
   },
   "id": "a53b8cca5e1eb9ae"
  },
  {
   "cell_type": "markdown",
   "source": [
    "##### What is the optimal k-value?"
   ],
   "metadata": {
    "collapsed": false
   },
   "id": "e590eae3f03714b3"
  },
  {
   "cell_type": "code",
   "execution_count": null,
   "outputs": [],
   "source": [
    "grid.best_params_"
   ],
   "metadata": {
    "collapsed": false
   },
   "id": "f0bd8146a67d1291"
  },
  {
   "cell_type": "markdown",
   "source": [
    "##### What is the accuracy?"
   ],
   "metadata": {
    "collapsed": false
   },
   "id": "3c8ab563467e747d"
  },
  {
   "cell_type": "code",
   "execution_count": null,
   "outputs": [],
   "source": [
    "grid.best_score_"
   ],
   "metadata": {
    "collapsed": false
   },
   "id": "262150ccca472781"
  },
  {
   "cell_type": "markdown",
   "source": [
    "##### Plot the accuracy as a function of the k-value. You need to extract that information from the model. How sensitive is the performance of the model for different k-values?"
   ],
   "metadata": {
    "collapsed": false
   },
   "id": "45a2f13074af7a2b"
  },
  {
   "cell_type": "code",
   "execution_count": null,
   "outputs": [],
   "source": [
    "scores = pd.DataFrame(grid.cv_results_)"
   ],
   "metadata": {
    "collapsed": false
   },
   "id": "4402c46accebc9b8"
  },
  {
   "cell_type": "markdown",
   "source": [
    "##### Display scores"
   ],
   "metadata": {
    "collapsed": false
   },
   "id": "9e19bdd932e9b850"
  },
  {
   "cell_type": "code",
   "execution_count": null,
   "outputs": [],
   "source": [
    "scores"
   ],
   "metadata": {
    "collapsed": false
   },
   "id": "a53f93396199eb00"
  },
  {
   "cell_type": "code",
   "execution_count": null,
   "outputs": [],
   "source": [
    "mean_test_score = scores['mean_test_score']\n",
    "mean_test_score.rename({0: \"Accuracy\"}, axis='columns',inplace=True)\n",
    "mean_test_score.index.names = ['k']"
   ],
   "metadata": {
    "collapsed": false
   },
   "id": "e9b0a25c6ad797f"
  },
  {
   "cell_type": "code",
   "execution_count": null,
   "outputs": [],
   "source": [
    "mean_test_score.plot(title = 'Accuracy')"
   ],
   "metadata": {
    "collapsed": false
   },
   "id": "c91eb6fbfa244d03"
  },
  {
   "cell_type": "markdown",
   "source": [
    "#### Now it is time to look at the test set with the optimal k-value"
   ],
   "metadata": {
    "collapsed": false
   },
   "id": "efa8072fa80deb3e"
  },
  {
   "cell_type": "markdown",
   "source": [
    "##### Use the model on the test set and acquire both the accuracy and the plot the confusion matrix"
   ],
   "metadata": {
    "collapsed": false
   },
   "id": "229378e30ea60e96"
  },
  {
   "cell_type": "code",
   "execution_count": null,
   "outputs": [],
   "source": [
    "y_pred = grid.predict(X=X_test)"
   ],
   "metadata": {
    "collapsed": false
   },
   "id": "eff4a8d658b74dce"
  },
  {
   "cell_type": "code",
   "execution_count": null,
   "outputs": [],
   "source": [
    "accuracy_score(y_true=y_test, y_pred=y_pred)"
   ],
   "metadata": {
    "collapsed": false
   },
   "id": "a3ec4f0df6bb6bf6"
  },
  {
   "cell_type": "markdown",
   "source": [
    "##### Explain the difference between the accuracy for the validation set and the test set"
   ],
   "metadata": {
    "collapsed": false
   },
   "id": "d1c78b8b6f18b09"
  },
  {
   "cell_type": "code",
   "execution_count": null,
   "outputs": [],
   "source": [
    "print(f\"Validation set accuracy: {grid.best_score_}\\nTest set accuracy: {accuracy_score(y_test, y_pred)}\")"
   ],
   "metadata": {
    "collapsed": false
   },
   "id": "f43ed1a0f4557285"
  },
  {
   "cell_type": "markdown",
   "source": [
    "##### Explain the result in the confusion matrix"
   ],
   "metadata": {
    "collapsed": false
   },
   "id": "6054195921d0157d"
  },
  {
   "cell_type": "code",
   "execution_count": null,
   "outputs": [],
   "source": [
    "confusion_matrix(y_true=y_test, y_pred=y_pred)"
   ],
   "metadata": {
    "collapsed": false
   },
   "id": "832267dacab15092"
  }
 ],
 "metadata": {
  "kernelspec": {
   "display_name": "Python 3",
   "language": "python",
   "name": "python3"
  },
  "language_info": {
   "codemirror_mode": {
    "name": "ipython",
    "version": 2
   },
   "file_extension": ".py",
   "mimetype": "text/x-python",
   "name": "python",
   "nbconvert_exporter": "python",
   "pygments_lexer": "ipython2",
   "version": "2.7.6"
  }
 },
 "nbformat": 4,
 "nbformat_minor": 5
}
