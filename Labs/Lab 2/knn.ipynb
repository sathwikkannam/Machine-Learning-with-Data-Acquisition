{
 "cells": [
  {
   "cell_type": "code",
   "execution_count": 25,
   "id": "initial_id",
   "metadata": {
    "collapsed": true,
    "ExecuteTime": {
     "end_time": "2023-09-25T15:28:49.490705300Z",
     "start_time": "2023-09-25T15:28:49.364825500Z"
    }
   },
   "outputs": [],
   "source": [
    "from common import sns_cm, get_set, display_accuracy, scatter_plot\n",
    "import import_ipynb as ipynb\n",
    "import os\n",
    "import pandas as pd\n",
    "\n",
    "from sklearn.model_selection import train_test_split\n",
    "from sklearn.neighbors import KNeighborsClassifier\n",
    "from sklearn.metrics import accuracy_score\n",
    "from sklearn.model_selection import GridSearchCV\n",
    "from sklearn.model_selection import KFold"
   ]
  },
  {
   "cell_type": "markdown",
   "source": [
    "##### Change directories and load Lab 1"
   ],
   "metadata": {
    "collapsed": false
   },
   "id": "60aa30163b7c9a2b"
  },
  {
   "cell_type": "code",
   "execution_count": 26,
   "outputs": [],
   "source": [
    "%%capture\n",
    "os.chdir(\"../Lab 1\")\n",
    "lab_1 = ipynb.NotebookLoader().load_module('lab1')\n",
    "os.chdir(\"../Lab 2\")"
   ],
   "metadata": {
    "collapsed": false,
    "ExecuteTime": {
     "end_time": "2023-09-25T15:28:52.004537Z",
     "start_time": "2023-09-25T15:28:49.379033800Z"
    }
   },
   "id": "323c4b1522734a"
  },
  {
   "cell_type": "markdown",
   "source": [
    "# Required Preparations"
   ],
   "metadata": {
    "collapsed": false
   },
   "id": "e450f61089170a96"
  },
  {
   "cell_type": "code",
   "execution_count": 27,
   "outputs": [],
   "source": [
    "lab_2_positions = ['Sitting', 'Running', 'Jumping', 'Squats']"
   ],
   "metadata": {
    "collapsed": false,
    "ExecuteTime": {
     "end_time": "2023-09-25T15:28:52.020696800Z",
     "start_time": "2023-09-25T15:28:52.005536Z"
    }
   },
   "id": "35a74c24fe8c1457"
  },
  {
   "cell_type": "markdown",
   "source": [
    "##### 'recordings' are used if we want to plot each recording."
   ],
   "metadata": {
    "collapsed": false
   },
   "id": "5493407bc397a4ef"
  },
  {
   "cell_type": "code",
   "execution_count": 28,
   "outputs": [],
   "source": [
    "recordings : dict[str: pd.DataFrame] = lab_1.read_recordings(positions=lab_2_positions)"
   ],
   "metadata": {
    "collapsed": false,
    "ExecuteTime": {
     "end_time": "2023-09-25T15:28:52.067228Z",
     "start_time": "2023-09-25T15:28:52.021695100Z"
    }
   },
   "id": "b74e1779de76b009"
  },
  {
   "cell_type": "markdown",
   "source": [
    "##### merger() will read files based on the positions and concatenate the acceleratometer and rate_gyro columns, and a return a dictionary."
   ],
   "metadata": {
    "collapsed": false
   },
   "id": "b2cf62337477fd1a"
  },
  {
   "cell_type": "code",
   "execution_count": 29,
   "outputs": [],
   "source": [
    "merged_dfs: dict = lab_1.merger(positions=lab_2_positions, remove_n=0)\n",
    "lab_1.split_train_test_sets(processed_dataframes=merged_dfs)"
   ],
   "metadata": {
    "collapsed": false,
    "ExecuteTime": {
     "end_time": "2023-09-25T15:28:52.129302600Z",
     "start_time": "2023-09-25T15:28:52.067741400Z"
    }
   },
   "id": "d861a772b10c838d"
  },
  {
   "cell_type": "markdown",
   "source": [
    "##### Display the four classes"
   ],
   "metadata": {
    "collapsed": false
   },
   "id": "749b2d2f62d931d2"
  },
  {
   "cell_type": "code",
   "execution_count": 30,
   "outputs": [],
   "source": [
    "class_dfs = lab_1.merge_recordings_by_rows(classes=lab_2_positions)"
   ],
   "metadata": {
    "collapsed": false,
    "ExecuteTime": {
     "end_time": "2023-09-25T15:28:52.392970200Z",
     "start_time": "2023-09-25T15:28:52.129302600Z"
    }
   },
   "id": "622745a387d4a5f"
  },
  {
   "cell_type": "code",
   "execution_count": 31,
   "outputs": [
    {
     "name": "stdout",
     "output_type": "stream",
     "text": [
      "            ax        ay        az        gx        gy        gz    class\n",
      "0    -2.004288 -1.069891 -9.671490 -0.000458  0.002291  0.003665  Sitting\n",
      "1    -1.987538 -1.077069 -9.657133 -0.000458  0.002291  0.003665  Sitting\n",
      "2    -1.982753 -1.081855 -9.649955  0.004429 -0.001374  0.004887  Sitting\n",
      "3    -1.989931 -1.079462 -9.645169  0.003207  0.001069  0.004887  Sitting\n",
      "4    -1.989931 -1.057927 -9.642776  0.004429  0.001069  0.002443  Sitting\n",
      "...        ...       ...       ...       ...       ...       ...      ...\n",
      "3071 -2.044966 -0.581456 -9.676275  0.003207  0.001069  0.002443  Sitting\n",
      "3072 -2.035395 -0.581456 -9.704989  0.003207  0.002291  0.002443  Sitting\n",
      "3073 -2.035395 -0.593420 -9.721740  0.003207  0.003512  0.002443  Sitting\n",
      "3074 -2.033002 -0.600598 -9.731311  0.003207  0.004734  0.002443  Sitting\n",
      "3075 -2.030609 -0.610170 -9.721740  0.003207  0.003512  0.003665  Sitting\n",
      "\n",
      "[3076 rows x 7 columns]\n",
      "            ax         ay         az        gx        gy        gz    class\n",
      "0     1.184746 -13.277473  -3.549752 -0.732100  0.454470  0.623980  Running\n",
      "1     1.191925 -11.752348  -4.715655 -1.487108  0.372617  0.487151  Running\n",
      "2     0.018843 -10.335199  -5.060521 -2.155375  0.207688  0.324665  Running\n",
      "3    -1.779064  -9.250652  -4.600800 -2.712467 -0.044134  0.158362  Running\n",
      "4    -3.490829  -9.025428  -4.320839 -3.143725 -0.282364  0.005650  Running\n",
      "...        ...        ...        ...       ...       ...       ...      ...\n",
      "3063 -3.342474  -7.124629 -13.724632 -4.725973  0.955365  1.084559  Running\n",
      "3064 -0.979562  -7.332805 -16.501802 -4.608690  1.480694  1.554912  Running\n",
      "3065  1.536491  -7.742277 -17.188841 -4.028232  1.638292  1.578124  Running\n",
      "3066  4.050450  -8.185248 -15.640087 -3.491908  1.323095  1.297134  Running\n",
      "3067  5.405386  -8.156534 -12.206985 -3.093636  0.642611  0.915965  Running\n",
      "\n",
      "[3068 rows x 7 columns]\n",
      "            ax         ay        az        gx        gy        gz    class\n",
      "0    -2.837289 -16.732111 -5.967700  1.946007  1.308435  0.363760  Jumping\n",
      "1    -2.212464 -14.917455 -4.124329  1.974106  1.288888  0.380863  Jumping\n",
      "2    -1.274178 -13.732409 -2.247459  1.916686  1.043327  0.395524  Jumping\n",
      "3    -0.354736 -12.463615 -0.779761  1.811620  0.621843  0.391859  Jumping\n",
      "4     0.516850 -11.177772  0.309571  1.704111  0.091474  0.361316  Jumping\n",
      "...        ...        ...       ...       ...       ...       ...      ...\n",
      "3085  0.835095  -1.941476 -1.268196 -0.249531  0.415376  0.511585  Jumping\n",
      "3086  1.642075  -2.108974 -0.983450 -0.385139  0.376282  0.459052  Jumping\n",
      "3087  2.443969  -2.298007 -0.569193 -0.517082  0.340853  0.351543  Jumping\n",
      "3088  2.855834  -2.432304 -0.018544 -0.618483  0.285877  0.213338  Jumping\n",
      "3089  3.066402  -2.657230  0.489033 -0.684454  0.175924  0.048410  Jumping\n",
      "\n",
      "[3090 rows x 7 columns]\n",
      "            ax        ay         az        gx        gy        gz   class\n",
      "0    -3.026622 -2.231008 -10.459028  2.388260 -0.229831  0.097277  Squats\n",
      "1    -2.918645 -2.645265 -10.100104  2.385817 -0.337340  0.072844  Squats\n",
      "2    -2.796612 -2.982953 -10.897213  2.338171 -0.510821 -0.023670  Squats\n",
      "3    -2.574079 -3.100201 -10.674681  2.306406 -0.667198 -0.142175  Squats\n",
      "4    -2.365604 -2.796013 -11.026426  2.295411 -0.771042 -0.247240  Squats\n",
      "...        ...       ...        ...       ...       ...       ...     ...\n",
      "3063 -1.175773 -8.599505  -3.578466  2.451788 -0.453401 -0.828767  Squats\n",
      "3064 -0.098405 -8.798110  -2.860320  2.461562 -0.425302 -0.781121  Squats\n",
      "3065  0.681954 -8.860323  -2.108675  2.417581 -0.525481 -0.737140  Squats\n",
      "3066  1.256531 -9.269794  -2.050948  2.318624 -0.569462 -0.721258  Squats\n",
      "3067  0.813560 -8.927322  -1.866701  2.191567 -0.402090 -0.728588  Squats\n",
      "\n",
      "[3068 rows x 7 columns]\n"
     ]
    }
   ],
   "source": [
    "print(*class_dfs, sep='\\n')"
   ],
   "metadata": {
    "collapsed": false,
    "ExecuteTime": {
     "end_time": "2023-09-25T15:28:52.408023400Z",
     "start_time": "2023-09-25T15:28:52.393492700Z"
    }
   },
   "id": "c97522183bdb6c0f"
  },
  {
   "cell_type": "markdown",
   "source": [
    "# Classification of different positions"
   ],
   "metadata": {
    "collapsed": false
   },
   "id": "16a0cb07ad43388d"
  },
  {
   "cell_type": "markdown",
   "source": [
    "#### We will use the K-nearest neighbor algorithm and decision trees in this lab. In this part you should only work with the stationary positions:\n",
    "- Standing\n",
    "- Sitting\n",
    "- Laying down"
   ],
   "metadata": {
    "collapsed": false
   },
   "id": "eb7ab2144325fded"
  },
  {
   "cell_type": "code",
   "execution_count": 32,
   "outputs": [],
   "source": [
    "stationary_positions : list[str] = ['Standing_up', 'Sitting', 'Laying_down']"
   ],
   "metadata": {
    "collapsed": false,
    "ExecuteTime": {
     "end_time": "2023-09-25T15:28:52.454159800Z",
     "start_time": "2023-09-25T15:28:52.409423400Z"
    }
   },
   "id": "a0af184b293f9703"
  },
  {
   "cell_type": "code",
   "execution_count": 33,
   "outputs": [],
   "source": [
    "training_sets = get_set(positions=stationary_positions, folder='Class Dataframes')\n",
    "testing_sets = get_set(positions=stationary_positions, folder='Test')"
   ],
   "metadata": {
    "collapsed": false,
    "ExecuteTime": {
     "end_time": "2023-09-25T15:28:52.471760300Z",
     "start_time": "2023-09-25T15:28:52.425591400Z"
    }
   },
   "id": "81e7755012181bad"
  },
  {
   "cell_type": "code",
   "execution_count": 34,
   "outputs": [],
   "source": [
    "testing_set = (pd.concat(testing_sets, axis='rows'))\n",
    "df = (pd.concat(training_sets, axis='rows'))"
   ],
   "metadata": {
    "collapsed": false,
    "ExecuteTime": {
     "end_time": "2023-09-25T15:28:52.499886100Z",
     "start_time": "2023-09-25T15:28:52.472762Z"
    }
   },
   "id": "52c8eda27b27aa54"
  },
  {
   "cell_type": "markdown",
   "source": [
    "#### We start with working with the KNN algorithm. You should use crossvalidation for evaluating the model."
   ],
   "metadata": {
    "collapsed": false
   },
   "id": "5d675cb01468bb28"
  },
  {
   "cell_type": "code",
   "execution_count": 35,
   "outputs": [],
   "source": [
    "knn = KNeighborsClassifier()"
   ],
   "metadata": {
    "collapsed": false,
    "ExecuteTime": {
     "end_time": "2023-09-25T15:28:52.512436Z",
     "start_time": "2023-09-25T15:28:52.488969800Z"
    }
   },
   "id": "adf83d3c308db958"
  },
  {
   "cell_type": "code",
   "execution_count": 36,
   "outputs": [
    {
     "data": {
      "text/plain": "            ax        ay        az        gx        gy        gz        class\n0     0.102592 -0.543171 -9.910772  0.004887 -0.001833 -0.005345  Laying_down\n1     0.095414 -0.538385 -9.954143 -0.000000 -0.003054 -0.006567  Laying_down\n2     0.061914 -0.519243 -9.978070 -0.003665  0.001833 -0.005345  Laying_down\n3     0.066700 -0.497707 -9.903594 -0.007330  0.003054 -0.004123  Laying_down\n4     0.021236 -0.492921 -9.970892 -0.007330 -0.001833 -0.000458  Laying_down\n...        ...       ...       ...       ...       ...       ...          ...\n3063 -2.806183 -9.434899  0.062812 -0.003665  0.040927 -0.005345  Standing_up\n3064 -2.825325 -9.430114  0.038883 -0.003665  0.028710 -0.002902  Standing_up\n3065 -2.815754 -9.427721 -0.008973 -0.003665  0.012828 -0.000458  Standing_up\n3066 -2.796612 -9.420543 -0.047258 -0.006108 -0.004276  0.001985  Standing_up\n3067 -2.815754 -9.406186 -0.073579 -0.007330 -0.021380  0.004429  Standing_up\n\n[9305 rows x 7 columns]",
      "text/html": "<div>\n<style scoped>\n    .dataframe tbody tr th:only-of-type {\n        vertical-align: middle;\n    }\n\n    .dataframe tbody tr th {\n        vertical-align: top;\n    }\n\n    .dataframe thead th {\n        text-align: right;\n    }\n</style>\n<table border=\"1\" class=\"dataframe\">\n  <thead>\n    <tr style=\"text-align: right;\">\n      <th></th>\n      <th>ax</th>\n      <th>ay</th>\n      <th>az</th>\n      <th>gx</th>\n      <th>gy</th>\n      <th>gz</th>\n      <th>class</th>\n    </tr>\n  </thead>\n  <tbody>\n    <tr>\n      <th>0</th>\n      <td>0.102592</td>\n      <td>-0.543171</td>\n      <td>-9.910772</td>\n      <td>0.004887</td>\n      <td>-0.001833</td>\n      <td>-0.005345</td>\n      <td>Laying_down</td>\n    </tr>\n    <tr>\n      <th>1</th>\n      <td>0.095414</td>\n      <td>-0.538385</td>\n      <td>-9.954143</td>\n      <td>-0.000000</td>\n      <td>-0.003054</td>\n      <td>-0.006567</td>\n      <td>Laying_down</td>\n    </tr>\n    <tr>\n      <th>2</th>\n      <td>0.061914</td>\n      <td>-0.519243</td>\n      <td>-9.978070</td>\n      <td>-0.003665</td>\n      <td>0.001833</td>\n      <td>-0.005345</td>\n      <td>Laying_down</td>\n    </tr>\n    <tr>\n      <th>3</th>\n      <td>0.066700</td>\n      <td>-0.497707</td>\n      <td>-9.903594</td>\n      <td>-0.007330</td>\n      <td>0.003054</td>\n      <td>-0.004123</td>\n      <td>Laying_down</td>\n    </tr>\n    <tr>\n      <th>4</th>\n      <td>0.021236</td>\n      <td>-0.492921</td>\n      <td>-9.970892</td>\n      <td>-0.007330</td>\n      <td>-0.001833</td>\n      <td>-0.000458</td>\n      <td>Laying_down</td>\n    </tr>\n    <tr>\n      <th>...</th>\n      <td>...</td>\n      <td>...</td>\n      <td>...</td>\n      <td>...</td>\n      <td>...</td>\n      <td>...</td>\n      <td>...</td>\n    </tr>\n    <tr>\n      <th>3063</th>\n      <td>-2.806183</td>\n      <td>-9.434899</td>\n      <td>0.062812</td>\n      <td>-0.003665</td>\n      <td>0.040927</td>\n      <td>-0.005345</td>\n      <td>Standing_up</td>\n    </tr>\n    <tr>\n      <th>3064</th>\n      <td>-2.825325</td>\n      <td>-9.430114</td>\n      <td>0.038883</td>\n      <td>-0.003665</td>\n      <td>0.028710</td>\n      <td>-0.002902</td>\n      <td>Standing_up</td>\n    </tr>\n    <tr>\n      <th>3065</th>\n      <td>-2.815754</td>\n      <td>-9.427721</td>\n      <td>-0.008973</td>\n      <td>-0.003665</td>\n      <td>0.012828</td>\n      <td>-0.000458</td>\n      <td>Standing_up</td>\n    </tr>\n    <tr>\n      <th>3066</th>\n      <td>-2.796612</td>\n      <td>-9.420543</td>\n      <td>-0.047258</td>\n      <td>-0.006108</td>\n      <td>-0.004276</td>\n      <td>0.001985</td>\n      <td>Standing_up</td>\n    </tr>\n    <tr>\n      <th>3067</th>\n      <td>-2.815754</td>\n      <td>-9.406186</td>\n      <td>-0.073579</td>\n      <td>-0.007330</td>\n      <td>-0.021380</td>\n      <td>0.004429</td>\n      <td>Standing_up</td>\n    </tr>\n  </tbody>\n</table>\n<p>9305 rows × 7 columns</p>\n</div>"
     },
     "execution_count": 36,
     "metadata": {},
     "output_type": "execute_result"
    }
   ],
   "source": [
    "df"
   ],
   "metadata": {
    "collapsed": false,
    "ExecuteTime": {
     "end_time": "2023-09-25T15:28:52.521229Z",
     "start_time": "2023-09-25T15:28:52.504887400Z"
    }
   },
   "id": "c460097053886694"
  },
  {
   "cell_type": "code",
   "execution_count": 37,
   "outputs": [],
   "source": [
    "X = df.drop('class', axis='columns')\n",
    "y = df['class']"
   ],
   "metadata": {
    "collapsed": false,
    "ExecuteTime": {
     "end_time": "2023-09-25T15:28:52.547233800Z",
     "start_time": "2023-09-25T15:28:52.520227100Z"
    }
   },
   "id": "f95d19cd1832869f"
  },
  {
   "cell_type": "markdown",
   "source": [
    "##### Make a choice of the number of subsets that you use for your crossvalidation. Motivate the choice"
   ],
   "metadata": {
    "collapsed": false
   },
   "id": "df86cc12782f8bbc"
  },
  {
   "cell_type": "code",
   "execution_count": 38,
   "outputs": [],
   "source": [
    "folds = KFold(n_splits=20)"
   ],
   "metadata": {
    "collapsed": false,
    "ExecuteTime": {
     "end_time": "2023-09-25T15:28:52.627936900Z",
     "start_time": "2023-09-25T15:28:52.535814500Z"
    }
   },
   "id": "51d94ad8ba99d728"
  },
  {
   "cell_type": "markdown",
   "source": [
    "#### For the gridsearch use GridSearchCV which you find in the previous weeks ́ exercise. The hyperparameter you will use for the gridsearch is k, that is the number of neighbours."
   ],
   "metadata": {
    "collapsed": false
   },
   "id": "90fc18162e24940e"
  },
  {
   "cell_type": "markdown",
   "source": [
    "##### Make a choice of the range of k-values you will use. Motivate the choice.\n",
    "Too large K values will 'classify' each instance of 'df'."
   ],
   "metadata": {
    "collapsed": false
   },
   "id": "e96b7c053fe1f945"
  },
  {
   "cell_type": "code",
   "execution_count": 39,
   "outputs": [],
   "source": [
    "k_range = list(range(1, 50))"
   ],
   "metadata": {
    "collapsed": false,
    "ExecuteTime": {
     "end_time": "2023-09-25T15:28:52.635494900Z",
     "start_time": "2023-09-25T15:28:52.552749100Z"
    }
   },
   "id": "7f8cdf49095faf1e"
  },
  {
   "cell_type": "markdown",
   "source": [
    "##### Split data"
   ],
   "metadata": {
    "collapsed": false
   },
   "id": "844cd5182de68e6f"
  },
  {
   "cell_type": "code",
   "execution_count": 40,
   "outputs": [],
   "source": [
    "X_train, X_test, y_train, y_test = train_test_split(X, y, test_size=0.30, shuffle=True)"
   ],
   "metadata": {
    "collapsed": false,
    "ExecuteTime": {
     "end_time": "2023-09-25T15:28:52.667767900Z",
     "start_time": "2023-09-25T15:28:52.567786500Z"
    }
   },
   "id": "87176b2d87983a90"
  },
  {
   "cell_type": "markdown",
   "source": [
    "##### Train the model."
   ],
   "metadata": {
    "collapsed": false
   },
   "id": "dec9eca329f2dba9"
  },
  {
   "cell_type": "code",
   "execution_count": 41,
   "outputs": [],
   "source": [
    "grid = GridSearchCV(estimator=knn,\n",
    "                    param_grid=dict(n_neighbors=k_range),\n",
    "                    cv=folds,\n",
    "                    scoring='accuracy',\n",
    "                    return_train_score=False)"
   ],
   "metadata": {
    "collapsed": false,
    "ExecuteTime": {
     "end_time": "2023-09-25T15:28:52.667767900Z",
     "start_time": "2023-09-25T15:28:52.582905900Z"
    }
   },
   "id": "423518951fd83643"
  },
  {
   "cell_type": "code",
   "execution_count": 42,
   "outputs": [],
   "source": [
    "grid_search = grid.fit(X=X_train, y=y_train)"
   ],
   "metadata": {
    "collapsed": false,
    "ExecuteTime": {
     "end_time": "2023-09-25T15:29:07.257780500Z",
     "start_time": "2023-09-25T15:28:52.600043700Z"
    }
   },
   "id": "a53b8cca5e1eb9ae"
  },
  {
   "cell_type": "markdown",
   "source": [
    "##### What is the optimal k-value?"
   ],
   "metadata": {
    "collapsed": false
   },
   "id": "e590eae3f03714b3"
  },
  {
   "cell_type": "code",
   "execution_count": 43,
   "outputs": [
    {
     "data": {
      "text/plain": "{'n_neighbors': 1}"
     },
     "execution_count": 43,
     "metadata": {},
     "output_type": "execute_result"
    }
   ],
   "source": [
    "grid.best_params_"
   ],
   "metadata": {
    "collapsed": false,
    "ExecuteTime": {
     "end_time": "2023-09-25T15:29:07.281076500Z",
     "start_time": "2023-09-25T15:29:07.258908200Z"
    }
   },
   "id": "f0bd8146a67d1291"
  },
  {
   "cell_type": "markdown",
   "source": [
    "##### What is the accuracy?"
   ],
   "metadata": {
    "collapsed": false
   },
   "id": "3c8ab563467e747d"
  },
  {
   "cell_type": "code",
   "execution_count": 44,
   "outputs": [
    {
     "data": {
      "text/plain": "1.0"
     },
     "execution_count": 44,
     "metadata": {},
     "output_type": "execute_result"
    }
   ],
   "source": [
    "grid.best_score_"
   ],
   "metadata": {
    "collapsed": false,
    "ExecuteTime": {
     "end_time": "2023-09-25T15:29:07.292664800Z",
     "start_time": "2023-09-25T15:29:07.275401400Z"
    }
   },
   "id": "262150ccca472781"
  },
  {
   "cell_type": "code",
   "execution_count": 45,
   "outputs": [],
   "source": [
    "scores = pd.DataFrame(grid.cv_results_)"
   ],
   "metadata": {
    "collapsed": false,
    "ExecuteTime": {
     "end_time": "2023-09-25T15:29:07.305727700Z",
     "start_time": "2023-09-25T15:29:07.291155700Z"
    }
   },
   "id": "4402c46accebc9b8"
  },
  {
   "cell_type": "markdown",
   "source": [
    "##### Display scores"
   ],
   "metadata": {
    "collapsed": false
   },
   "id": "9e19bdd932e9b850"
  },
  {
   "cell_type": "code",
   "execution_count": 46,
   "outputs": [
    {
     "data": {
      "text/plain": "    mean_fit_time  std_fit_time  mean_score_time  std_score_time  \\\n0        0.005967      0.000589         0.007059        0.000802   \n1        0.007327      0.004268         0.011206        0.005341   \n2        0.007230      0.001067         0.008226        0.000962   \n3        0.006204      0.000684         0.007960        0.000693   \n4        0.006174      0.000393         0.007616        0.000587   \n5        0.006063      0.000749         0.007426        0.000565   \n6        0.006391      0.001069         0.007638        0.000709   \n7        0.006037      0.000590         0.007319        0.000479   \n8        0.005964      0.000635         0.007756        0.000721   \n9        0.006419      0.000838         0.008502        0.000980   \n10       0.006454      0.000484         0.008169        0.000940   \n11       0.006158      0.000378         0.007577        0.000599   \n12       0.006127      0.000641         0.007469        0.000560   \n13       0.006141      0.000356         0.007800        0.000787   \n14       0.006322      0.000537         0.008337        0.000921   \n15       0.006120      0.000466         0.007757        0.000482   \n16       0.005929      0.000472         0.008089        0.000634   \n17       0.006219      0.000367         0.009136        0.000900   \n18       0.005992      0.000364         0.008409        0.001470   \n19       0.005813      0.000574         0.008071        0.000583   \n20       0.006177      0.000533         0.008313        0.000645   \n21       0.005996      0.000567         0.008155        0.001254   \n22       0.005917      0.000553         0.008264        0.000498   \n23       0.006058      0.000404         0.008106        0.000670   \n24       0.005893      0.000505         0.008429        0.000577   \n25       0.006030      0.000666         0.008573        0.001076   \n26       0.006179      0.000661         0.008978        0.001025   \n27       0.005933      0.000553         0.008346        0.000619   \n28       0.006065      0.000532         0.008527        0.000550   \n29       0.006224      0.000622         0.008411        0.000403   \n30       0.006078      0.000510         0.008415        0.000767   \n31       0.005978      0.000605         0.008303        0.000559   \n32       0.006214      0.000550         0.009088        0.000935   \n33       0.006196      0.000507         0.009122        0.001141   \n34       0.006007      0.000481         0.008378        0.000575   \n35       0.005883      0.000419         0.008691        0.000729   \n36       0.006051      0.000465         0.008587        0.000426   \n37       0.005961      0.000661         0.008604        0.000664   \n38       0.005910      0.000460         0.008655        0.000473   \n39       0.006037      0.000448         0.008880        0.000563   \n40       0.006344      0.000551         0.009836        0.000861   \n41       0.006108      0.000463         0.008623        0.000623   \n42       0.006106      0.000568         0.008895        0.000476   \n43       0.006193      0.000519         0.009315        0.000586   \n44       0.006099      0.000508         0.009532        0.000549   \n45       0.006460      0.000769         0.009564        0.001109   \n46       0.006253      0.001101         0.011235        0.007727   \n47       0.006309      0.000437         0.010175        0.001088   \n48       0.006254      0.000349         0.009247        0.000842   \n\n   param_n_neighbors               params  split0_test_score  \\\n0                  1   {'n_neighbors': 1}                1.0   \n1                  2   {'n_neighbors': 2}                1.0   \n2                  3   {'n_neighbors': 3}                1.0   \n3                  4   {'n_neighbors': 4}                1.0   \n4                  5   {'n_neighbors': 5}                1.0   \n5                  6   {'n_neighbors': 6}                1.0   \n6                  7   {'n_neighbors': 7}                1.0   \n7                  8   {'n_neighbors': 8}                1.0   \n8                  9   {'n_neighbors': 9}                1.0   \n9                 10  {'n_neighbors': 10}                1.0   \n10                11  {'n_neighbors': 11}                1.0   \n11                12  {'n_neighbors': 12}                1.0   \n12                13  {'n_neighbors': 13}                1.0   \n13                14  {'n_neighbors': 14}                1.0   \n14                15  {'n_neighbors': 15}                1.0   \n15                16  {'n_neighbors': 16}                1.0   \n16                17  {'n_neighbors': 17}                1.0   \n17                18  {'n_neighbors': 18}                1.0   \n18                19  {'n_neighbors': 19}                1.0   \n19                20  {'n_neighbors': 20}                1.0   \n20                21  {'n_neighbors': 21}                1.0   \n21                22  {'n_neighbors': 22}                1.0   \n22                23  {'n_neighbors': 23}                1.0   \n23                24  {'n_neighbors': 24}                1.0   \n24                25  {'n_neighbors': 25}                1.0   \n25                26  {'n_neighbors': 26}                1.0   \n26                27  {'n_neighbors': 27}                1.0   \n27                28  {'n_neighbors': 28}                1.0   \n28                29  {'n_neighbors': 29}                1.0   \n29                30  {'n_neighbors': 30}                1.0   \n30                31  {'n_neighbors': 31}                1.0   \n31                32  {'n_neighbors': 32}                1.0   \n32                33  {'n_neighbors': 33}                1.0   \n33                34  {'n_neighbors': 34}                1.0   \n34                35  {'n_neighbors': 35}                1.0   \n35                36  {'n_neighbors': 36}                1.0   \n36                37  {'n_neighbors': 37}                1.0   \n37                38  {'n_neighbors': 38}                1.0   \n38                39  {'n_neighbors': 39}                1.0   \n39                40  {'n_neighbors': 40}                1.0   \n40                41  {'n_neighbors': 41}                1.0   \n41                42  {'n_neighbors': 42}                1.0   \n42                43  {'n_neighbors': 43}                1.0   \n43                44  {'n_neighbors': 44}                1.0   \n44                45  {'n_neighbors': 45}                1.0   \n45                46  {'n_neighbors': 46}                1.0   \n46                47  {'n_neighbors': 47}                1.0   \n47                48  {'n_neighbors': 48}                1.0   \n48                49  {'n_neighbors': 49}                1.0   \n\n    split1_test_score  split2_test_score  split3_test_score  ...  \\\n0                 1.0                1.0                1.0  ...   \n1                 1.0                1.0                1.0  ...   \n2                 1.0                1.0                1.0  ...   \n3                 1.0                1.0                1.0  ...   \n4                 1.0                1.0                1.0  ...   \n5                 1.0                1.0                1.0  ...   \n6                 1.0                1.0                1.0  ...   \n7                 1.0                1.0                1.0  ...   \n8                 1.0                1.0                1.0  ...   \n9                 1.0                1.0                1.0  ...   \n10                1.0                1.0                1.0  ...   \n11                1.0                1.0                1.0  ...   \n12                1.0                1.0                1.0  ...   \n13                1.0                1.0                1.0  ...   \n14                1.0                1.0                1.0  ...   \n15                1.0                1.0                1.0  ...   \n16                1.0                1.0                1.0  ...   \n17                1.0                1.0                1.0  ...   \n18                1.0                1.0                1.0  ...   \n19                1.0                1.0                1.0  ...   \n20                1.0                1.0                1.0  ...   \n21                1.0                1.0                1.0  ...   \n22                1.0                1.0                1.0  ...   \n23                1.0                1.0                1.0  ...   \n24                1.0                1.0                1.0  ...   \n25                1.0                1.0                1.0  ...   \n26                1.0                1.0                1.0  ...   \n27                1.0                1.0                1.0  ...   \n28                1.0                1.0                1.0  ...   \n29                1.0                1.0                1.0  ...   \n30                1.0                1.0                1.0  ...   \n31                1.0                1.0                1.0  ...   \n32                1.0                1.0                1.0  ...   \n33                1.0                1.0                1.0  ...   \n34                1.0                1.0                1.0  ...   \n35                1.0                1.0                1.0  ...   \n36                1.0                1.0                1.0  ...   \n37                1.0                1.0                1.0  ...   \n38                1.0                1.0                1.0  ...   \n39                1.0                1.0                1.0  ...   \n40                1.0                1.0                1.0  ...   \n41                1.0                1.0                1.0  ...   \n42                1.0                1.0                1.0  ...   \n43                1.0                1.0                1.0  ...   \n44                1.0                1.0                1.0  ...   \n45                1.0                1.0                1.0  ...   \n46                1.0                1.0                1.0  ...   \n47                1.0                1.0                1.0  ...   \n48                1.0                1.0                1.0  ...   \n\n    split13_test_score  split14_test_score  split15_test_score  \\\n0                  1.0                 1.0                 1.0   \n1                  1.0                 1.0                 1.0   \n2                  1.0                 1.0                 1.0   \n3                  1.0                 1.0                 1.0   \n4                  1.0                 1.0                 1.0   \n5                  1.0                 1.0                 1.0   \n6                  1.0                 1.0                 1.0   \n7                  1.0                 1.0                 1.0   \n8                  1.0                 1.0                 1.0   \n9                  1.0                 1.0                 1.0   \n10                 1.0                 1.0                 1.0   \n11                 1.0                 1.0                 1.0   \n12                 1.0                 1.0                 1.0   \n13                 1.0                 1.0                 1.0   \n14                 1.0                 1.0                 1.0   \n15                 1.0                 1.0                 1.0   \n16                 1.0                 1.0                 1.0   \n17                 1.0                 1.0                 1.0   \n18                 1.0                 1.0                 1.0   \n19                 1.0                 1.0                 1.0   \n20                 1.0                 1.0                 1.0   \n21                 1.0                 1.0                 1.0   \n22                 1.0                 1.0                 1.0   \n23                 1.0                 1.0                 1.0   \n24                 1.0                 1.0                 1.0   \n25                 1.0                 1.0                 1.0   \n26                 1.0                 1.0                 1.0   \n27                 1.0                 1.0                 1.0   \n28                 1.0                 1.0                 1.0   \n29                 1.0                 1.0                 1.0   \n30                 1.0                 1.0                 1.0   \n31                 1.0                 1.0                 1.0   \n32                 1.0                 1.0                 1.0   \n33                 1.0                 1.0                 1.0   \n34                 1.0                 1.0                 1.0   \n35                 1.0                 1.0                 1.0   \n36                 1.0                 1.0                 1.0   \n37                 1.0                 1.0                 1.0   \n38                 1.0                 1.0                 1.0   \n39                 1.0                 1.0                 1.0   \n40                 1.0                 1.0                 1.0   \n41                 1.0                 1.0                 1.0   \n42                 1.0                 1.0                 1.0   \n43                 1.0                 1.0                 1.0   \n44                 1.0                 1.0                 1.0   \n45                 1.0                 1.0                 1.0   \n46                 1.0                 1.0                 1.0   \n47                 1.0                 1.0                 1.0   \n48                 1.0                 1.0                 1.0   \n\n    split16_test_score  split17_test_score  split18_test_score  \\\n0                  1.0                 1.0                 1.0   \n1                  1.0                 1.0                 1.0   \n2                  1.0                 1.0                 1.0   \n3                  1.0                 1.0                 1.0   \n4                  1.0                 1.0                 1.0   \n5                  1.0                 1.0                 1.0   \n6                  1.0                 1.0                 1.0   \n7                  1.0                 1.0                 1.0   \n8                  1.0                 1.0                 1.0   \n9                  1.0                 1.0                 1.0   \n10                 1.0                 1.0                 1.0   \n11                 1.0                 1.0                 1.0   \n12                 1.0                 1.0                 1.0   \n13                 1.0                 1.0                 1.0   \n14                 1.0                 1.0                 1.0   \n15                 1.0                 1.0                 1.0   \n16                 1.0                 1.0                 1.0   \n17                 1.0                 1.0                 1.0   \n18                 1.0                 1.0                 1.0   \n19                 1.0                 1.0                 1.0   \n20                 1.0                 1.0                 1.0   \n21                 1.0                 1.0                 1.0   \n22                 1.0                 1.0                 1.0   \n23                 1.0                 1.0                 1.0   \n24                 1.0                 1.0                 1.0   \n25                 1.0                 1.0                 1.0   \n26                 1.0                 1.0                 1.0   \n27                 1.0                 1.0                 1.0   \n28                 1.0                 1.0                 1.0   \n29                 1.0                 1.0                 1.0   \n30                 1.0                 1.0                 1.0   \n31                 1.0                 1.0                 1.0   \n32                 1.0                 1.0                 1.0   \n33                 1.0                 1.0                 1.0   \n34                 1.0                 1.0                 1.0   \n35                 1.0                 1.0                 1.0   \n36                 1.0                 1.0                 1.0   \n37                 1.0                 1.0                 1.0   \n38                 1.0                 1.0                 1.0   \n39                 1.0                 1.0                 1.0   \n40                 1.0                 1.0                 1.0   \n41                 1.0                 1.0                 1.0   \n42                 1.0                 1.0                 1.0   \n43                 1.0                 1.0                 1.0   \n44                 1.0                 1.0                 1.0   \n45                 1.0                 1.0                 1.0   \n46                 1.0                 1.0                 1.0   \n47                 1.0                 1.0                 1.0   \n48                 1.0                 1.0                 1.0   \n\n    split19_test_score  mean_test_score  std_test_score  rank_test_score  \n0                  1.0              1.0             0.0                1  \n1                  1.0              1.0             0.0                1  \n2                  1.0              1.0             0.0                1  \n3                  1.0              1.0             0.0                1  \n4                  1.0              1.0             0.0                1  \n5                  1.0              1.0             0.0                1  \n6                  1.0              1.0             0.0                1  \n7                  1.0              1.0             0.0                1  \n8                  1.0              1.0             0.0                1  \n9                  1.0              1.0             0.0                1  \n10                 1.0              1.0             0.0                1  \n11                 1.0              1.0             0.0                1  \n12                 1.0              1.0             0.0                1  \n13                 1.0              1.0             0.0                1  \n14                 1.0              1.0             0.0                1  \n15                 1.0              1.0             0.0                1  \n16                 1.0              1.0             0.0                1  \n17                 1.0              1.0             0.0                1  \n18                 1.0              1.0             0.0                1  \n19                 1.0              1.0             0.0                1  \n20                 1.0              1.0             0.0                1  \n21                 1.0              1.0             0.0                1  \n22                 1.0              1.0             0.0                1  \n23                 1.0              1.0             0.0                1  \n24                 1.0              1.0             0.0                1  \n25                 1.0              1.0             0.0                1  \n26                 1.0              1.0             0.0                1  \n27                 1.0              1.0             0.0                1  \n28                 1.0              1.0             0.0                1  \n29                 1.0              1.0             0.0                1  \n30                 1.0              1.0             0.0                1  \n31                 1.0              1.0             0.0                1  \n32                 1.0              1.0             0.0                1  \n33                 1.0              1.0             0.0                1  \n34                 1.0              1.0             0.0                1  \n35                 1.0              1.0             0.0                1  \n36                 1.0              1.0             0.0                1  \n37                 1.0              1.0             0.0                1  \n38                 1.0              1.0             0.0                1  \n39                 1.0              1.0             0.0                1  \n40                 1.0              1.0             0.0                1  \n41                 1.0              1.0             0.0                1  \n42                 1.0              1.0             0.0                1  \n43                 1.0              1.0             0.0                1  \n44                 1.0              1.0             0.0                1  \n45                 1.0              1.0             0.0                1  \n46                 1.0              1.0             0.0                1  \n47                 1.0              1.0             0.0                1  \n48                 1.0              1.0             0.0                1  \n\n[49 rows x 29 columns]",
      "text/html": "<div>\n<style scoped>\n    .dataframe tbody tr th:only-of-type {\n        vertical-align: middle;\n    }\n\n    .dataframe tbody tr th {\n        vertical-align: top;\n    }\n\n    .dataframe thead th {\n        text-align: right;\n    }\n</style>\n<table border=\"1\" class=\"dataframe\">\n  <thead>\n    <tr style=\"text-align: right;\">\n      <th></th>\n      <th>mean_fit_time</th>\n      <th>std_fit_time</th>\n      <th>mean_score_time</th>\n      <th>std_score_time</th>\n      <th>param_n_neighbors</th>\n      <th>params</th>\n      <th>split0_test_score</th>\n      <th>split1_test_score</th>\n      <th>split2_test_score</th>\n      <th>split3_test_score</th>\n      <th>...</th>\n      <th>split13_test_score</th>\n      <th>split14_test_score</th>\n      <th>split15_test_score</th>\n      <th>split16_test_score</th>\n      <th>split17_test_score</th>\n      <th>split18_test_score</th>\n      <th>split19_test_score</th>\n      <th>mean_test_score</th>\n      <th>std_test_score</th>\n      <th>rank_test_score</th>\n    </tr>\n  </thead>\n  <tbody>\n    <tr>\n      <th>0</th>\n      <td>0.005967</td>\n      <td>0.000589</td>\n      <td>0.007059</td>\n      <td>0.000802</td>\n      <td>1</td>\n      <td>{'n_neighbors': 1}</td>\n      <td>1.0</td>\n      <td>1.0</td>\n      <td>1.0</td>\n      <td>1.0</td>\n      <td>...</td>\n      <td>1.0</td>\n      <td>1.0</td>\n      <td>1.0</td>\n      <td>1.0</td>\n      <td>1.0</td>\n      <td>1.0</td>\n      <td>1.0</td>\n      <td>1.0</td>\n      <td>0.0</td>\n      <td>1</td>\n    </tr>\n    <tr>\n      <th>1</th>\n      <td>0.007327</td>\n      <td>0.004268</td>\n      <td>0.011206</td>\n      <td>0.005341</td>\n      <td>2</td>\n      <td>{'n_neighbors': 2}</td>\n      <td>1.0</td>\n      <td>1.0</td>\n      <td>1.0</td>\n      <td>1.0</td>\n      <td>...</td>\n      <td>1.0</td>\n      <td>1.0</td>\n      <td>1.0</td>\n      <td>1.0</td>\n      <td>1.0</td>\n      <td>1.0</td>\n      <td>1.0</td>\n      <td>1.0</td>\n      <td>0.0</td>\n      <td>1</td>\n    </tr>\n    <tr>\n      <th>2</th>\n      <td>0.007230</td>\n      <td>0.001067</td>\n      <td>0.008226</td>\n      <td>0.000962</td>\n      <td>3</td>\n      <td>{'n_neighbors': 3}</td>\n      <td>1.0</td>\n      <td>1.0</td>\n      <td>1.0</td>\n      <td>1.0</td>\n      <td>...</td>\n      <td>1.0</td>\n      <td>1.0</td>\n      <td>1.0</td>\n      <td>1.0</td>\n      <td>1.0</td>\n      <td>1.0</td>\n      <td>1.0</td>\n      <td>1.0</td>\n      <td>0.0</td>\n      <td>1</td>\n    </tr>\n    <tr>\n      <th>3</th>\n      <td>0.006204</td>\n      <td>0.000684</td>\n      <td>0.007960</td>\n      <td>0.000693</td>\n      <td>4</td>\n      <td>{'n_neighbors': 4}</td>\n      <td>1.0</td>\n      <td>1.0</td>\n      <td>1.0</td>\n      <td>1.0</td>\n      <td>...</td>\n      <td>1.0</td>\n      <td>1.0</td>\n      <td>1.0</td>\n      <td>1.0</td>\n      <td>1.0</td>\n      <td>1.0</td>\n      <td>1.0</td>\n      <td>1.0</td>\n      <td>0.0</td>\n      <td>1</td>\n    </tr>\n    <tr>\n      <th>4</th>\n      <td>0.006174</td>\n      <td>0.000393</td>\n      <td>0.007616</td>\n      <td>0.000587</td>\n      <td>5</td>\n      <td>{'n_neighbors': 5}</td>\n      <td>1.0</td>\n      <td>1.0</td>\n      <td>1.0</td>\n      <td>1.0</td>\n      <td>...</td>\n      <td>1.0</td>\n      <td>1.0</td>\n      <td>1.0</td>\n      <td>1.0</td>\n      <td>1.0</td>\n      <td>1.0</td>\n      <td>1.0</td>\n      <td>1.0</td>\n      <td>0.0</td>\n      <td>1</td>\n    </tr>\n    <tr>\n      <th>5</th>\n      <td>0.006063</td>\n      <td>0.000749</td>\n      <td>0.007426</td>\n      <td>0.000565</td>\n      <td>6</td>\n      <td>{'n_neighbors': 6}</td>\n      <td>1.0</td>\n      <td>1.0</td>\n      <td>1.0</td>\n      <td>1.0</td>\n      <td>...</td>\n      <td>1.0</td>\n      <td>1.0</td>\n      <td>1.0</td>\n      <td>1.0</td>\n      <td>1.0</td>\n      <td>1.0</td>\n      <td>1.0</td>\n      <td>1.0</td>\n      <td>0.0</td>\n      <td>1</td>\n    </tr>\n    <tr>\n      <th>6</th>\n      <td>0.006391</td>\n      <td>0.001069</td>\n      <td>0.007638</td>\n      <td>0.000709</td>\n      <td>7</td>\n      <td>{'n_neighbors': 7}</td>\n      <td>1.0</td>\n      <td>1.0</td>\n      <td>1.0</td>\n      <td>1.0</td>\n      <td>...</td>\n      <td>1.0</td>\n      <td>1.0</td>\n      <td>1.0</td>\n      <td>1.0</td>\n      <td>1.0</td>\n      <td>1.0</td>\n      <td>1.0</td>\n      <td>1.0</td>\n      <td>0.0</td>\n      <td>1</td>\n    </tr>\n    <tr>\n      <th>7</th>\n      <td>0.006037</td>\n      <td>0.000590</td>\n      <td>0.007319</td>\n      <td>0.000479</td>\n      <td>8</td>\n      <td>{'n_neighbors': 8}</td>\n      <td>1.0</td>\n      <td>1.0</td>\n      <td>1.0</td>\n      <td>1.0</td>\n      <td>...</td>\n      <td>1.0</td>\n      <td>1.0</td>\n      <td>1.0</td>\n      <td>1.0</td>\n      <td>1.0</td>\n      <td>1.0</td>\n      <td>1.0</td>\n      <td>1.0</td>\n      <td>0.0</td>\n      <td>1</td>\n    </tr>\n    <tr>\n      <th>8</th>\n      <td>0.005964</td>\n      <td>0.000635</td>\n      <td>0.007756</td>\n      <td>0.000721</td>\n      <td>9</td>\n      <td>{'n_neighbors': 9}</td>\n      <td>1.0</td>\n      <td>1.0</td>\n      <td>1.0</td>\n      <td>1.0</td>\n      <td>...</td>\n      <td>1.0</td>\n      <td>1.0</td>\n      <td>1.0</td>\n      <td>1.0</td>\n      <td>1.0</td>\n      <td>1.0</td>\n      <td>1.0</td>\n      <td>1.0</td>\n      <td>0.0</td>\n      <td>1</td>\n    </tr>\n    <tr>\n      <th>9</th>\n      <td>0.006419</td>\n      <td>0.000838</td>\n      <td>0.008502</td>\n      <td>0.000980</td>\n      <td>10</td>\n      <td>{'n_neighbors': 10}</td>\n      <td>1.0</td>\n      <td>1.0</td>\n      <td>1.0</td>\n      <td>1.0</td>\n      <td>...</td>\n      <td>1.0</td>\n      <td>1.0</td>\n      <td>1.0</td>\n      <td>1.0</td>\n      <td>1.0</td>\n      <td>1.0</td>\n      <td>1.0</td>\n      <td>1.0</td>\n      <td>0.0</td>\n      <td>1</td>\n    </tr>\n    <tr>\n      <th>10</th>\n      <td>0.006454</td>\n      <td>0.000484</td>\n      <td>0.008169</td>\n      <td>0.000940</td>\n      <td>11</td>\n      <td>{'n_neighbors': 11}</td>\n      <td>1.0</td>\n      <td>1.0</td>\n      <td>1.0</td>\n      <td>1.0</td>\n      <td>...</td>\n      <td>1.0</td>\n      <td>1.0</td>\n      <td>1.0</td>\n      <td>1.0</td>\n      <td>1.0</td>\n      <td>1.0</td>\n      <td>1.0</td>\n      <td>1.0</td>\n      <td>0.0</td>\n      <td>1</td>\n    </tr>\n    <tr>\n      <th>11</th>\n      <td>0.006158</td>\n      <td>0.000378</td>\n      <td>0.007577</td>\n      <td>0.000599</td>\n      <td>12</td>\n      <td>{'n_neighbors': 12}</td>\n      <td>1.0</td>\n      <td>1.0</td>\n      <td>1.0</td>\n      <td>1.0</td>\n      <td>...</td>\n      <td>1.0</td>\n      <td>1.0</td>\n      <td>1.0</td>\n      <td>1.0</td>\n      <td>1.0</td>\n      <td>1.0</td>\n      <td>1.0</td>\n      <td>1.0</td>\n      <td>0.0</td>\n      <td>1</td>\n    </tr>\n    <tr>\n      <th>12</th>\n      <td>0.006127</td>\n      <td>0.000641</td>\n      <td>0.007469</td>\n      <td>0.000560</td>\n      <td>13</td>\n      <td>{'n_neighbors': 13}</td>\n      <td>1.0</td>\n      <td>1.0</td>\n      <td>1.0</td>\n      <td>1.0</td>\n      <td>...</td>\n      <td>1.0</td>\n      <td>1.0</td>\n      <td>1.0</td>\n      <td>1.0</td>\n      <td>1.0</td>\n      <td>1.0</td>\n      <td>1.0</td>\n      <td>1.0</td>\n      <td>0.0</td>\n      <td>1</td>\n    </tr>\n    <tr>\n      <th>13</th>\n      <td>0.006141</td>\n      <td>0.000356</td>\n      <td>0.007800</td>\n      <td>0.000787</td>\n      <td>14</td>\n      <td>{'n_neighbors': 14}</td>\n      <td>1.0</td>\n      <td>1.0</td>\n      <td>1.0</td>\n      <td>1.0</td>\n      <td>...</td>\n      <td>1.0</td>\n      <td>1.0</td>\n      <td>1.0</td>\n      <td>1.0</td>\n      <td>1.0</td>\n      <td>1.0</td>\n      <td>1.0</td>\n      <td>1.0</td>\n      <td>0.0</td>\n      <td>1</td>\n    </tr>\n    <tr>\n      <th>14</th>\n      <td>0.006322</td>\n      <td>0.000537</td>\n      <td>0.008337</td>\n      <td>0.000921</td>\n      <td>15</td>\n      <td>{'n_neighbors': 15}</td>\n      <td>1.0</td>\n      <td>1.0</td>\n      <td>1.0</td>\n      <td>1.0</td>\n      <td>...</td>\n      <td>1.0</td>\n      <td>1.0</td>\n      <td>1.0</td>\n      <td>1.0</td>\n      <td>1.0</td>\n      <td>1.0</td>\n      <td>1.0</td>\n      <td>1.0</td>\n      <td>0.0</td>\n      <td>1</td>\n    </tr>\n    <tr>\n      <th>15</th>\n      <td>0.006120</td>\n      <td>0.000466</td>\n      <td>0.007757</td>\n      <td>0.000482</td>\n      <td>16</td>\n      <td>{'n_neighbors': 16}</td>\n      <td>1.0</td>\n      <td>1.0</td>\n      <td>1.0</td>\n      <td>1.0</td>\n      <td>...</td>\n      <td>1.0</td>\n      <td>1.0</td>\n      <td>1.0</td>\n      <td>1.0</td>\n      <td>1.0</td>\n      <td>1.0</td>\n      <td>1.0</td>\n      <td>1.0</td>\n      <td>0.0</td>\n      <td>1</td>\n    </tr>\n    <tr>\n      <th>16</th>\n      <td>0.005929</td>\n      <td>0.000472</td>\n      <td>0.008089</td>\n      <td>0.000634</td>\n      <td>17</td>\n      <td>{'n_neighbors': 17}</td>\n      <td>1.0</td>\n      <td>1.0</td>\n      <td>1.0</td>\n      <td>1.0</td>\n      <td>...</td>\n      <td>1.0</td>\n      <td>1.0</td>\n      <td>1.0</td>\n      <td>1.0</td>\n      <td>1.0</td>\n      <td>1.0</td>\n      <td>1.0</td>\n      <td>1.0</td>\n      <td>0.0</td>\n      <td>1</td>\n    </tr>\n    <tr>\n      <th>17</th>\n      <td>0.006219</td>\n      <td>0.000367</td>\n      <td>0.009136</td>\n      <td>0.000900</td>\n      <td>18</td>\n      <td>{'n_neighbors': 18}</td>\n      <td>1.0</td>\n      <td>1.0</td>\n      <td>1.0</td>\n      <td>1.0</td>\n      <td>...</td>\n      <td>1.0</td>\n      <td>1.0</td>\n      <td>1.0</td>\n      <td>1.0</td>\n      <td>1.0</td>\n      <td>1.0</td>\n      <td>1.0</td>\n      <td>1.0</td>\n      <td>0.0</td>\n      <td>1</td>\n    </tr>\n    <tr>\n      <th>18</th>\n      <td>0.005992</td>\n      <td>0.000364</td>\n      <td>0.008409</td>\n      <td>0.001470</td>\n      <td>19</td>\n      <td>{'n_neighbors': 19}</td>\n      <td>1.0</td>\n      <td>1.0</td>\n      <td>1.0</td>\n      <td>1.0</td>\n      <td>...</td>\n      <td>1.0</td>\n      <td>1.0</td>\n      <td>1.0</td>\n      <td>1.0</td>\n      <td>1.0</td>\n      <td>1.0</td>\n      <td>1.0</td>\n      <td>1.0</td>\n      <td>0.0</td>\n      <td>1</td>\n    </tr>\n    <tr>\n      <th>19</th>\n      <td>0.005813</td>\n      <td>0.000574</td>\n      <td>0.008071</td>\n      <td>0.000583</td>\n      <td>20</td>\n      <td>{'n_neighbors': 20}</td>\n      <td>1.0</td>\n      <td>1.0</td>\n      <td>1.0</td>\n      <td>1.0</td>\n      <td>...</td>\n      <td>1.0</td>\n      <td>1.0</td>\n      <td>1.0</td>\n      <td>1.0</td>\n      <td>1.0</td>\n      <td>1.0</td>\n      <td>1.0</td>\n      <td>1.0</td>\n      <td>0.0</td>\n      <td>1</td>\n    </tr>\n    <tr>\n      <th>20</th>\n      <td>0.006177</td>\n      <td>0.000533</td>\n      <td>0.008313</td>\n      <td>0.000645</td>\n      <td>21</td>\n      <td>{'n_neighbors': 21}</td>\n      <td>1.0</td>\n      <td>1.0</td>\n      <td>1.0</td>\n      <td>1.0</td>\n      <td>...</td>\n      <td>1.0</td>\n      <td>1.0</td>\n      <td>1.0</td>\n      <td>1.0</td>\n      <td>1.0</td>\n      <td>1.0</td>\n      <td>1.0</td>\n      <td>1.0</td>\n      <td>0.0</td>\n      <td>1</td>\n    </tr>\n    <tr>\n      <th>21</th>\n      <td>0.005996</td>\n      <td>0.000567</td>\n      <td>0.008155</td>\n      <td>0.001254</td>\n      <td>22</td>\n      <td>{'n_neighbors': 22}</td>\n      <td>1.0</td>\n      <td>1.0</td>\n      <td>1.0</td>\n      <td>1.0</td>\n      <td>...</td>\n      <td>1.0</td>\n      <td>1.0</td>\n      <td>1.0</td>\n      <td>1.0</td>\n      <td>1.0</td>\n      <td>1.0</td>\n      <td>1.0</td>\n      <td>1.0</td>\n      <td>0.0</td>\n      <td>1</td>\n    </tr>\n    <tr>\n      <th>22</th>\n      <td>0.005917</td>\n      <td>0.000553</td>\n      <td>0.008264</td>\n      <td>0.000498</td>\n      <td>23</td>\n      <td>{'n_neighbors': 23}</td>\n      <td>1.0</td>\n      <td>1.0</td>\n      <td>1.0</td>\n      <td>1.0</td>\n      <td>...</td>\n      <td>1.0</td>\n      <td>1.0</td>\n      <td>1.0</td>\n      <td>1.0</td>\n      <td>1.0</td>\n      <td>1.0</td>\n      <td>1.0</td>\n      <td>1.0</td>\n      <td>0.0</td>\n      <td>1</td>\n    </tr>\n    <tr>\n      <th>23</th>\n      <td>0.006058</td>\n      <td>0.000404</td>\n      <td>0.008106</td>\n      <td>0.000670</td>\n      <td>24</td>\n      <td>{'n_neighbors': 24}</td>\n      <td>1.0</td>\n      <td>1.0</td>\n      <td>1.0</td>\n      <td>1.0</td>\n      <td>...</td>\n      <td>1.0</td>\n      <td>1.0</td>\n      <td>1.0</td>\n      <td>1.0</td>\n      <td>1.0</td>\n      <td>1.0</td>\n      <td>1.0</td>\n      <td>1.0</td>\n      <td>0.0</td>\n      <td>1</td>\n    </tr>\n    <tr>\n      <th>24</th>\n      <td>0.005893</td>\n      <td>0.000505</td>\n      <td>0.008429</td>\n      <td>0.000577</td>\n      <td>25</td>\n      <td>{'n_neighbors': 25}</td>\n      <td>1.0</td>\n      <td>1.0</td>\n      <td>1.0</td>\n      <td>1.0</td>\n      <td>...</td>\n      <td>1.0</td>\n      <td>1.0</td>\n      <td>1.0</td>\n      <td>1.0</td>\n      <td>1.0</td>\n      <td>1.0</td>\n      <td>1.0</td>\n      <td>1.0</td>\n      <td>0.0</td>\n      <td>1</td>\n    </tr>\n    <tr>\n      <th>25</th>\n      <td>0.006030</td>\n      <td>0.000666</td>\n      <td>0.008573</td>\n      <td>0.001076</td>\n      <td>26</td>\n      <td>{'n_neighbors': 26}</td>\n      <td>1.0</td>\n      <td>1.0</td>\n      <td>1.0</td>\n      <td>1.0</td>\n      <td>...</td>\n      <td>1.0</td>\n      <td>1.0</td>\n      <td>1.0</td>\n      <td>1.0</td>\n      <td>1.0</td>\n      <td>1.0</td>\n      <td>1.0</td>\n      <td>1.0</td>\n      <td>0.0</td>\n      <td>1</td>\n    </tr>\n    <tr>\n      <th>26</th>\n      <td>0.006179</td>\n      <td>0.000661</td>\n      <td>0.008978</td>\n      <td>0.001025</td>\n      <td>27</td>\n      <td>{'n_neighbors': 27}</td>\n      <td>1.0</td>\n      <td>1.0</td>\n      <td>1.0</td>\n      <td>1.0</td>\n      <td>...</td>\n      <td>1.0</td>\n      <td>1.0</td>\n      <td>1.0</td>\n      <td>1.0</td>\n      <td>1.0</td>\n      <td>1.0</td>\n      <td>1.0</td>\n      <td>1.0</td>\n      <td>0.0</td>\n      <td>1</td>\n    </tr>\n    <tr>\n      <th>27</th>\n      <td>0.005933</td>\n      <td>0.000553</td>\n      <td>0.008346</td>\n      <td>0.000619</td>\n      <td>28</td>\n      <td>{'n_neighbors': 28}</td>\n      <td>1.0</td>\n      <td>1.0</td>\n      <td>1.0</td>\n      <td>1.0</td>\n      <td>...</td>\n      <td>1.0</td>\n      <td>1.0</td>\n      <td>1.0</td>\n      <td>1.0</td>\n      <td>1.0</td>\n      <td>1.0</td>\n      <td>1.0</td>\n      <td>1.0</td>\n      <td>0.0</td>\n      <td>1</td>\n    </tr>\n    <tr>\n      <th>28</th>\n      <td>0.006065</td>\n      <td>0.000532</td>\n      <td>0.008527</td>\n      <td>0.000550</td>\n      <td>29</td>\n      <td>{'n_neighbors': 29}</td>\n      <td>1.0</td>\n      <td>1.0</td>\n      <td>1.0</td>\n      <td>1.0</td>\n      <td>...</td>\n      <td>1.0</td>\n      <td>1.0</td>\n      <td>1.0</td>\n      <td>1.0</td>\n      <td>1.0</td>\n      <td>1.0</td>\n      <td>1.0</td>\n      <td>1.0</td>\n      <td>0.0</td>\n      <td>1</td>\n    </tr>\n    <tr>\n      <th>29</th>\n      <td>0.006224</td>\n      <td>0.000622</td>\n      <td>0.008411</td>\n      <td>0.000403</td>\n      <td>30</td>\n      <td>{'n_neighbors': 30}</td>\n      <td>1.0</td>\n      <td>1.0</td>\n      <td>1.0</td>\n      <td>1.0</td>\n      <td>...</td>\n      <td>1.0</td>\n      <td>1.0</td>\n      <td>1.0</td>\n      <td>1.0</td>\n      <td>1.0</td>\n      <td>1.0</td>\n      <td>1.0</td>\n      <td>1.0</td>\n      <td>0.0</td>\n      <td>1</td>\n    </tr>\n    <tr>\n      <th>30</th>\n      <td>0.006078</td>\n      <td>0.000510</td>\n      <td>0.008415</td>\n      <td>0.000767</td>\n      <td>31</td>\n      <td>{'n_neighbors': 31}</td>\n      <td>1.0</td>\n      <td>1.0</td>\n      <td>1.0</td>\n      <td>1.0</td>\n      <td>...</td>\n      <td>1.0</td>\n      <td>1.0</td>\n      <td>1.0</td>\n      <td>1.0</td>\n      <td>1.0</td>\n      <td>1.0</td>\n      <td>1.0</td>\n      <td>1.0</td>\n      <td>0.0</td>\n      <td>1</td>\n    </tr>\n    <tr>\n      <th>31</th>\n      <td>0.005978</td>\n      <td>0.000605</td>\n      <td>0.008303</td>\n      <td>0.000559</td>\n      <td>32</td>\n      <td>{'n_neighbors': 32}</td>\n      <td>1.0</td>\n      <td>1.0</td>\n      <td>1.0</td>\n      <td>1.0</td>\n      <td>...</td>\n      <td>1.0</td>\n      <td>1.0</td>\n      <td>1.0</td>\n      <td>1.0</td>\n      <td>1.0</td>\n      <td>1.0</td>\n      <td>1.0</td>\n      <td>1.0</td>\n      <td>0.0</td>\n      <td>1</td>\n    </tr>\n    <tr>\n      <th>32</th>\n      <td>0.006214</td>\n      <td>0.000550</td>\n      <td>0.009088</td>\n      <td>0.000935</td>\n      <td>33</td>\n      <td>{'n_neighbors': 33}</td>\n      <td>1.0</td>\n      <td>1.0</td>\n      <td>1.0</td>\n      <td>1.0</td>\n      <td>...</td>\n      <td>1.0</td>\n      <td>1.0</td>\n      <td>1.0</td>\n      <td>1.0</td>\n      <td>1.0</td>\n      <td>1.0</td>\n      <td>1.0</td>\n      <td>1.0</td>\n      <td>0.0</td>\n      <td>1</td>\n    </tr>\n    <tr>\n      <th>33</th>\n      <td>0.006196</td>\n      <td>0.000507</td>\n      <td>0.009122</td>\n      <td>0.001141</td>\n      <td>34</td>\n      <td>{'n_neighbors': 34}</td>\n      <td>1.0</td>\n      <td>1.0</td>\n      <td>1.0</td>\n      <td>1.0</td>\n      <td>...</td>\n      <td>1.0</td>\n      <td>1.0</td>\n      <td>1.0</td>\n      <td>1.0</td>\n      <td>1.0</td>\n      <td>1.0</td>\n      <td>1.0</td>\n      <td>1.0</td>\n      <td>0.0</td>\n      <td>1</td>\n    </tr>\n    <tr>\n      <th>34</th>\n      <td>0.006007</td>\n      <td>0.000481</td>\n      <td>0.008378</td>\n      <td>0.000575</td>\n      <td>35</td>\n      <td>{'n_neighbors': 35}</td>\n      <td>1.0</td>\n      <td>1.0</td>\n      <td>1.0</td>\n      <td>1.0</td>\n      <td>...</td>\n      <td>1.0</td>\n      <td>1.0</td>\n      <td>1.0</td>\n      <td>1.0</td>\n      <td>1.0</td>\n      <td>1.0</td>\n      <td>1.0</td>\n      <td>1.0</td>\n      <td>0.0</td>\n      <td>1</td>\n    </tr>\n    <tr>\n      <th>35</th>\n      <td>0.005883</td>\n      <td>0.000419</td>\n      <td>0.008691</td>\n      <td>0.000729</td>\n      <td>36</td>\n      <td>{'n_neighbors': 36}</td>\n      <td>1.0</td>\n      <td>1.0</td>\n      <td>1.0</td>\n      <td>1.0</td>\n      <td>...</td>\n      <td>1.0</td>\n      <td>1.0</td>\n      <td>1.0</td>\n      <td>1.0</td>\n      <td>1.0</td>\n      <td>1.0</td>\n      <td>1.0</td>\n      <td>1.0</td>\n      <td>0.0</td>\n      <td>1</td>\n    </tr>\n    <tr>\n      <th>36</th>\n      <td>0.006051</td>\n      <td>0.000465</td>\n      <td>0.008587</td>\n      <td>0.000426</td>\n      <td>37</td>\n      <td>{'n_neighbors': 37}</td>\n      <td>1.0</td>\n      <td>1.0</td>\n      <td>1.0</td>\n      <td>1.0</td>\n      <td>...</td>\n      <td>1.0</td>\n      <td>1.0</td>\n      <td>1.0</td>\n      <td>1.0</td>\n      <td>1.0</td>\n      <td>1.0</td>\n      <td>1.0</td>\n      <td>1.0</td>\n      <td>0.0</td>\n      <td>1</td>\n    </tr>\n    <tr>\n      <th>37</th>\n      <td>0.005961</td>\n      <td>0.000661</td>\n      <td>0.008604</td>\n      <td>0.000664</td>\n      <td>38</td>\n      <td>{'n_neighbors': 38}</td>\n      <td>1.0</td>\n      <td>1.0</td>\n      <td>1.0</td>\n      <td>1.0</td>\n      <td>...</td>\n      <td>1.0</td>\n      <td>1.0</td>\n      <td>1.0</td>\n      <td>1.0</td>\n      <td>1.0</td>\n      <td>1.0</td>\n      <td>1.0</td>\n      <td>1.0</td>\n      <td>0.0</td>\n      <td>1</td>\n    </tr>\n    <tr>\n      <th>38</th>\n      <td>0.005910</td>\n      <td>0.000460</td>\n      <td>0.008655</td>\n      <td>0.000473</td>\n      <td>39</td>\n      <td>{'n_neighbors': 39}</td>\n      <td>1.0</td>\n      <td>1.0</td>\n      <td>1.0</td>\n      <td>1.0</td>\n      <td>...</td>\n      <td>1.0</td>\n      <td>1.0</td>\n      <td>1.0</td>\n      <td>1.0</td>\n      <td>1.0</td>\n      <td>1.0</td>\n      <td>1.0</td>\n      <td>1.0</td>\n      <td>0.0</td>\n      <td>1</td>\n    </tr>\n    <tr>\n      <th>39</th>\n      <td>0.006037</td>\n      <td>0.000448</td>\n      <td>0.008880</td>\n      <td>0.000563</td>\n      <td>40</td>\n      <td>{'n_neighbors': 40}</td>\n      <td>1.0</td>\n      <td>1.0</td>\n      <td>1.0</td>\n      <td>1.0</td>\n      <td>...</td>\n      <td>1.0</td>\n      <td>1.0</td>\n      <td>1.0</td>\n      <td>1.0</td>\n      <td>1.0</td>\n      <td>1.0</td>\n      <td>1.0</td>\n      <td>1.0</td>\n      <td>0.0</td>\n      <td>1</td>\n    </tr>\n    <tr>\n      <th>40</th>\n      <td>0.006344</td>\n      <td>0.000551</td>\n      <td>0.009836</td>\n      <td>0.000861</td>\n      <td>41</td>\n      <td>{'n_neighbors': 41}</td>\n      <td>1.0</td>\n      <td>1.0</td>\n      <td>1.0</td>\n      <td>1.0</td>\n      <td>...</td>\n      <td>1.0</td>\n      <td>1.0</td>\n      <td>1.0</td>\n      <td>1.0</td>\n      <td>1.0</td>\n      <td>1.0</td>\n      <td>1.0</td>\n      <td>1.0</td>\n      <td>0.0</td>\n      <td>1</td>\n    </tr>\n    <tr>\n      <th>41</th>\n      <td>0.006108</td>\n      <td>0.000463</td>\n      <td>0.008623</td>\n      <td>0.000623</td>\n      <td>42</td>\n      <td>{'n_neighbors': 42}</td>\n      <td>1.0</td>\n      <td>1.0</td>\n      <td>1.0</td>\n      <td>1.0</td>\n      <td>...</td>\n      <td>1.0</td>\n      <td>1.0</td>\n      <td>1.0</td>\n      <td>1.0</td>\n      <td>1.0</td>\n      <td>1.0</td>\n      <td>1.0</td>\n      <td>1.0</td>\n      <td>0.0</td>\n      <td>1</td>\n    </tr>\n    <tr>\n      <th>42</th>\n      <td>0.006106</td>\n      <td>0.000568</td>\n      <td>0.008895</td>\n      <td>0.000476</td>\n      <td>43</td>\n      <td>{'n_neighbors': 43}</td>\n      <td>1.0</td>\n      <td>1.0</td>\n      <td>1.0</td>\n      <td>1.0</td>\n      <td>...</td>\n      <td>1.0</td>\n      <td>1.0</td>\n      <td>1.0</td>\n      <td>1.0</td>\n      <td>1.0</td>\n      <td>1.0</td>\n      <td>1.0</td>\n      <td>1.0</td>\n      <td>0.0</td>\n      <td>1</td>\n    </tr>\n    <tr>\n      <th>43</th>\n      <td>0.006193</td>\n      <td>0.000519</td>\n      <td>0.009315</td>\n      <td>0.000586</td>\n      <td>44</td>\n      <td>{'n_neighbors': 44}</td>\n      <td>1.0</td>\n      <td>1.0</td>\n      <td>1.0</td>\n      <td>1.0</td>\n      <td>...</td>\n      <td>1.0</td>\n      <td>1.0</td>\n      <td>1.0</td>\n      <td>1.0</td>\n      <td>1.0</td>\n      <td>1.0</td>\n      <td>1.0</td>\n      <td>1.0</td>\n      <td>0.0</td>\n      <td>1</td>\n    </tr>\n    <tr>\n      <th>44</th>\n      <td>0.006099</td>\n      <td>0.000508</td>\n      <td>0.009532</td>\n      <td>0.000549</td>\n      <td>45</td>\n      <td>{'n_neighbors': 45}</td>\n      <td>1.0</td>\n      <td>1.0</td>\n      <td>1.0</td>\n      <td>1.0</td>\n      <td>...</td>\n      <td>1.0</td>\n      <td>1.0</td>\n      <td>1.0</td>\n      <td>1.0</td>\n      <td>1.0</td>\n      <td>1.0</td>\n      <td>1.0</td>\n      <td>1.0</td>\n      <td>0.0</td>\n      <td>1</td>\n    </tr>\n    <tr>\n      <th>45</th>\n      <td>0.006460</td>\n      <td>0.000769</td>\n      <td>0.009564</td>\n      <td>0.001109</td>\n      <td>46</td>\n      <td>{'n_neighbors': 46}</td>\n      <td>1.0</td>\n      <td>1.0</td>\n      <td>1.0</td>\n      <td>1.0</td>\n      <td>...</td>\n      <td>1.0</td>\n      <td>1.0</td>\n      <td>1.0</td>\n      <td>1.0</td>\n      <td>1.0</td>\n      <td>1.0</td>\n      <td>1.0</td>\n      <td>1.0</td>\n      <td>0.0</td>\n      <td>1</td>\n    </tr>\n    <tr>\n      <th>46</th>\n      <td>0.006253</td>\n      <td>0.001101</td>\n      <td>0.011235</td>\n      <td>0.007727</td>\n      <td>47</td>\n      <td>{'n_neighbors': 47}</td>\n      <td>1.0</td>\n      <td>1.0</td>\n      <td>1.0</td>\n      <td>1.0</td>\n      <td>...</td>\n      <td>1.0</td>\n      <td>1.0</td>\n      <td>1.0</td>\n      <td>1.0</td>\n      <td>1.0</td>\n      <td>1.0</td>\n      <td>1.0</td>\n      <td>1.0</td>\n      <td>0.0</td>\n      <td>1</td>\n    </tr>\n    <tr>\n      <th>47</th>\n      <td>0.006309</td>\n      <td>0.000437</td>\n      <td>0.010175</td>\n      <td>0.001088</td>\n      <td>48</td>\n      <td>{'n_neighbors': 48}</td>\n      <td>1.0</td>\n      <td>1.0</td>\n      <td>1.0</td>\n      <td>1.0</td>\n      <td>...</td>\n      <td>1.0</td>\n      <td>1.0</td>\n      <td>1.0</td>\n      <td>1.0</td>\n      <td>1.0</td>\n      <td>1.0</td>\n      <td>1.0</td>\n      <td>1.0</td>\n      <td>0.0</td>\n      <td>1</td>\n    </tr>\n    <tr>\n      <th>48</th>\n      <td>0.006254</td>\n      <td>0.000349</td>\n      <td>0.009247</td>\n      <td>0.000842</td>\n      <td>49</td>\n      <td>{'n_neighbors': 49}</td>\n      <td>1.0</td>\n      <td>1.0</td>\n      <td>1.0</td>\n      <td>1.0</td>\n      <td>...</td>\n      <td>1.0</td>\n      <td>1.0</td>\n      <td>1.0</td>\n      <td>1.0</td>\n      <td>1.0</td>\n      <td>1.0</td>\n      <td>1.0</td>\n      <td>1.0</td>\n      <td>0.0</td>\n      <td>1</td>\n    </tr>\n  </tbody>\n</table>\n<p>49 rows × 29 columns</p>\n</div>"
     },
     "execution_count": 46,
     "metadata": {},
     "output_type": "execute_result"
    }
   ],
   "source": [
    "scores"
   ],
   "metadata": {
    "collapsed": false,
    "ExecuteTime": {
     "end_time": "2023-09-25T15:29:07.352863400Z",
     "start_time": "2023-09-25T15:29:07.305727700Z"
    }
   },
   "id": "a53f93396199eb00"
  },
  {
   "cell_type": "markdown",
   "source": [
    "##### Plot the accuracy as a function of the k-value. You need to extract that information from the model. How sensitive is the performance of the model for different k-values?"
   ],
   "metadata": {
    "collapsed": false
   },
   "id": "45a2f13074af7a2b"
  },
  {
   "cell_type": "code",
   "execution_count": 47,
   "outputs": [],
   "source": [
    "mean_test_score = scores['mean_test_score']"
   ],
   "metadata": {
    "collapsed": false,
    "ExecuteTime": {
     "end_time": "2023-09-25T15:29:07.368946500Z",
     "start_time": "2023-09-25T15:29:07.352863400Z"
    }
   },
   "id": "fdbdf422e44d97e1"
  },
  {
   "cell_type": "code",
   "execution_count": 48,
   "outputs": [
    {
     "data": {
      "text/plain": "0     1.0\n1     1.0\n2     1.0\n3     1.0\n4     1.0\n5     1.0\n6     1.0\n7     1.0\n8     1.0\n9     1.0\n10    1.0\n11    1.0\n12    1.0\n13    1.0\n14    1.0\n15    1.0\n16    1.0\n17    1.0\n18    1.0\n19    1.0\n20    1.0\n21    1.0\n22    1.0\n23    1.0\n24    1.0\n25    1.0\n26    1.0\n27    1.0\n28    1.0\n29    1.0\n30    1.0\n31    1.0\n32    1.0\n33    1.0\n34    1.0\n35    1.0\n36    1.0\n37    1.0\n38    1.0\n39    1.0\n40    1.0\n41    1.0\n42    1.0\n43    1.0\n44    1.0\n45    1.0\n46    1.0\n47    1.0\n48    1.0\nName: mean_test_score, dtype: float64"
     },
     "execution_count": 48,
     "metadata": {},
     "output_type": "execute_result"
    }
   ],
   "source": [
    "mean_test_score"
   ],
   "metadata": {
    "collapsed": false,
    "ExecuteTime": {
     "end_time": "2023-09-25T15:29:07.410080300Z",
     "start_time": "2023-09-25T15:29:07.372456600Z"
    }
   },
   "id": "5768b9bab72500ca"
  },
  {
   "cell_type": "code",
   "execution_count": 49,
   "outputs": [
    {
     "data": {
      "text/plain": "<Axes: title={'center': 'Accuracy'}, xlabel='k'>"
     },
     "execution_count": 49,
     "metadata": {},
     "output_type": "execute_result"
    },
    {
     "data": {
      "text/plain": "<Figure size 640x480 with 1 Axes>",
      "image/png": "[encoded data removed]"
     },
     "metadata": {},
     "output_type": "display_data"
    }
   ],
   "source": [
    "mean_test_score.plot(title = 'Accuracy', xlabel='k')"
   ],
   "metadata": {
    "collapsed": false,
    "ExecuteTime": {
     "end_time": "2023-09-25T15:29:07.493034300Z",
     "start_time": "2023-09-25T15:29:07.385486Z"
    }
   },
   "id": "c91eb6fbfa244d03"
  },
  {
   "cell_type": "markdown",
   "source": [
    "#### Now it is time to look at the test set with the optimal k-value"
   ],
   "metadata": {
    "collapsed": false
   },
   "id": "efa8072fa80deb3e"
  },
  {
   "cell_type": "markdown",
   "source": [
    "##### Use the model on the test set and acquire both the accuracy and the plot the confusion matrix"
   ],
   "metadata": {
    "collapsed": false
   },
   "id": "229378e30ea60e96"
  },
  {
   "cell_type": "code",
   "execution_count": 50,
   "outputs": [],
   "source": [
    "y_pred = grid.predict(X=X_test)"
   ],
   "metadata": {
    "collapsed": false,
    "ExecuteTime": {
     "end_time": "2023-09-25T15:29:07.555702100Z",
     "start_time": "2023-09-25T15:29:07.494035Z"
    }
   },
   "id": "eff4a8d658b74dce"
  },
  {
   "cell_type": "code",
   "execution_count": 51,
   "outputs": [
    {
     "data": {
      "text/plain": "1.0"
     },
     "execution_count": 51,
     "metadata": {},
     "output_type": "execute_result"
    }
   ],
   "source": [
    "accuracy_score(y_true=y_test, y_pred=y_pred)"
   ],
   "metadata": {
    "collapsed": false,
    "ExecuteTime": {
     "end_time": "2023-09-25T15:29:07.571871500Z",
     "start_time": "2023-09-25T15:29:07.557207Z"
    }
   },
   "id": "a3ec4f0df6bb6bf6"
  },
  {
   "cell_type": "code",
   "execution_count": 52,
   "outputs": [],
   "source": [
    "X_test_sample = testing_set.drop('class', axis='columns')\n",
    "y_true_sample = testing_set['class']\n",
    "y_test_pred = grid.predict(X=X_test_sample)"
   ],
   "metadata": {
    "collapsed": false,
    "ExecuteTime": {
     "end_time": "2023-09-25T15:29:07.666238Z",
     "start_time": "2023-09-25T15:29:07.571871500Z"
    }
   },
   "id": "95ab247cb456cc58"
  },
  {
   "cell_type": "code",
   "execution_count": 53,
   "outputs": [
    {
     "name": "stdout",
     "output_type": "stream",
     "text": [
      "Validation set accuracy: 1.0\n",
      "Test set accuracy: 1.0\n"
     ]
    }
   ],
   "source": [
    "display_accuracy(accuracy_score(y_true=y_test, y_pred=y_pred), accuracy_score(y_true=y_true_sample, y_pred=y_test_pred))"
   ],
   "metadata": {
    "collapsed": false,
    "ExecuteTime": {
     "end_time": "2023-09-25T15:29:07.681840400Z",
     "start_time": "2023-09-25T15:29:07.667238800Z"
    }
   },
   "id": "f43ed1a0f4557285"
  },
  {
   "cell_type": "markdown",
   "source": [
    "##### Explain the result in the confusion matrix"
   ],
   "metadata": {
    "collapsed": false
   },
   "id": "6054195921d0157d"
  },
  {
   "cell_type": "code",
   "execution_count": 54,
   "outputs": [
    {
     "data": {
      "text/plain": "<Figure size 640x480 with 1 Axes>",
      "image/png": "[encoded data removed]"
     },
     "metadata": {},
     "output_type": "display_data"
    }
   ],
   "source": [
    "sns_cm(y_test, y_pred)"
   ],
   "metadata": {
    "collapsed": false,
    "ExecuteTime": {
     "end_time": "2023-09-25T15:29:07.758918200Z",
     "start_time": "2023-09-25T15:29:07.682898Z"
    }
   },
   "id": "5629cfbb66dc20b8"
  },
  {
   "cell_type": "code",
   "execution_count": 55,
   "outputs": [
    {
     "data": {
      "text/plain": "<Figure size 640x480 with 1 Axes>",
      "image/png": "[encoded data removed]"
     },
     "metadata": {},
     "output_type": "display_data"
    }
   ],
   "source": [
    "sns_cm(y_true_sample, y_test_pred)"
   ],
   "metadata": {
    "collapsed": false,
    "ExecuteTime": {
     "end_time": "2023-09-25T15:29:07.836170Z",
     "start_time": "2023-09-25T15:29:07.759922700Z"
    }
   },
   "id": "6960928fc65bdff0"
  },
  {
   "cell_type": "markdown",
   "source": [
    "##### Scatter plot of training sets\n",
    "The accelerometer values are spaced quite apart, and easily distinguishable. Hence, the 100% accuracy"
   ],
   "metadata": {
    "collapsed": false
   },
   "id": "f38c44f09723b086"
  },
  {
   "cell_type": "code",
   "execution_count": 56,
   "outputs": [
    {
     "data": {
      "text/plain": "<Axes: xlabel='ax', ylabel='ay'>"
     },
     "execution_count": 56,
     "metadata": {},
     "output_type": "execute_result"
    },
    {
     "data": {
      "text/plain": "<Figure size 640x480 with 1 Axes>",
      "image/png": "[encoded data removed]"
     },
     "metadata": {},
     "output_type": "display_data"
    }
   ],
   "source": [
    "scatter_plot(training_sets)"
   ],
   "metadata": {
    "collapsed": false,
    "ExecuteTime": {
     "end_time": "2023-09-25T15:29:08.037993300Z",
     "start_time": "2023-09-25T15:29:07.836170Z"
    }
   },
   "id": "a40beb0413cfe04c"
  },
  {
   "cell_type": "markdown",
   "source": [
    "##### Scatter plot of testing sets\n",
    "The same goes for the testing sets"
   ],
   "metadata": {
    "collapsed": false
   },
   "id": "8e31fd6723011571"
  },
  {
   "cell_type": "code",
   "execution_count": 58,
   "outputs": [
    {
     "data": {
      "text/plain": "<Axes: xlabel='ax', ylabel='ay'>"
     },
     "execution_count": 58,
     "metadata": {},
     "output_type": "execute_result"
    },
    {
     "data": {
      "text/plain": "<Figure size 640x480 with 1 Axes>",
      "image/png": "[encoded data removed]"
     },
     "metadata": {},
     "output_type": "display_data"
    }
   ],
   "source": [
    "scatter_plot(testing_sets)"
   ],
   "metadata": {
    "collapsed": false,
    "ExecuteTime": {
     "end_time": "2023-09-25T15:29:08.367043900Z",
     "start_time": "2023-09-25T15:29:08.197069100Z"
    }
   },
   "id": "f23d6841b90fc126"
  }
 ],
 "metadata": {
  "kernelspec": {
   "display_name": "Python 3",
   "language": "python",
   "name": "python3"
  },
  "language_info": {
   "codemirror_mode": {
    "name": "ipython",
    "version": 2
   },
   "file_extension": ".py",
   "mimetype": "text/x-python",
   "name": "python",
   "nbconvert_exporter": "python",
   "pygments_lexer": "ipython2",
   "version": "2.7.6"
  }
 },
 "nbformat": 4,
 "nbformat_minor": 5
}
