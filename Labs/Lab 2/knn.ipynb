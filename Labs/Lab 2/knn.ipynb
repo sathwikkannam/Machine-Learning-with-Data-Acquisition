{
 "cells": [
  {
   "cell_type": "code",
   "execution_count": null,
   "id": "initial_id",
   "metadata": {
    "collapsed": true
   },
   "outputs": [],
   "source": [
    "import import_ipynb as ipynb\n",
    "import os\n",
    "from pathlib import Path\n",
    "import pandas as pd\n",
    "\n",
    "from sklearn.model_selection import train_test_split\n",
    "from sklearn.neighbors import KNeighborsClassifier\n",
    "from sklearn.metrics import confusion_matrix, accuracy_score\n",
    "from sklearn.model_selection import GridSearchCV"
   ]
  },
  {
   "cell_type": "markdown",
   "source": [
    "##### Change directories and load Lab 1"
   ],
   "metadata": {
    "collapsed": false
   },
   "id": "60aa30163b7c9a2b"
  },
  {
   "cell_type": "code",
   "execution_count": null,
   "outputs": [],
   "source": [
    "os.chdir(\"../Lab 1\")\n",
    "lab_1 = ipynb.NotebookLoader().load_module('lab1')\n",
    "os.chdir(\"../Lab 2\")"
   ],
   "metadata": {
    "collapsed": false
   },
   "id": "323c4b1522734a"
  },
  {
   "cell_type": "markdown",
   "source": [
    "# Required Preparations"
   ],
   "metadata": {
    "collapsed": false
   },
   "id": "e450f61089170a96"
  },
  {
   "cell_type": "code",
   "execution_count": null,
   "outputs": [],
   "source": [
    "lab_2_positions = ['Sitting', 'Running', 'Jumping']"
   ],
   "metadata": {
    "collapsed": false
   },
   "id": "35a74c24fe8c1457"
  },
  {
   "cell_type": "markdown",
   "source": [
    "##### 'recordings' are used if we want to plot each recording."
   ],
   "metadata": {
    "collapsed": false
   },
   "id": "5493407bc397a4ef"
  },
  {
   "cell_type": "code",
   "execution_count": null,
   "outputs": [],
   "source": [
    "recordings : dict[str: pd.DataFrame] = lab_1.read_recordings(lab_2_positions)"
   ],
   "metadata": {
    "collapsed": false
   },
   "id": "b74e1779de76b009"
  },
  {
   "cell_type": "markdown",
   "source": [
    "##### merger() will read files based on the positions and concatenate the acceleratometer and rate_gyro columns, and a return a dictionary"
   ],
   "metadata": {
    "collapsed": false
   },
   "id": "b2cf62337477fd1a"
  },
  {
   "cell_type": "code",
   "execution_count": null,
   "outputs": [],
   "source": [
    "merged_dfs : dict = lab_1.merger(lab_2_positions)\n",
    "lab_1.split_train_test_sets(merged_dfs)"
   ],
   "metadata": {
    "collapsed": false
   },
   "id": "d861a772b10c838d"
  },
  {
   "cell_type": "markdown",
   "source": [
    "##### Display the four classes"
   ],
   "metadata": {
    "collapsed": false
   },
   "id": "749b2d2f62d931d2"
  },
  {
   "cell_type": "code",
   "execution_count": null,
   "outputs": [],
   "source": [
    "class_dfs = lab_1.merge_recordings_by_rows(lab_2_positions)"
   ],
   "metadata": {
    "collapsed": false
   },
   "id": "622745a387d4a5f"
  },
  {
   "cell_type": "code",
   "execution_count": null,
   "outputs": [],
   "source": [
    "print(*class_dfs, sep='\\n')"
   ],
   "metadata": {
    "collapsed": false
   },
   "id": "c97522183bdb6c0f"
  },
  {
   "cell_type": "markdown",
   "source": [
    "# Classification of different positions"
   ],
   "metadata": {
    "collapsed": false
   },
   "id": "16a0cb07ad43388d"
  },
  {
   "cell_type": "markdown",
   "source": [
    "#### We will use the K-nearest neighbor algorithm and decision trees in this lab. In this part you should only work with the stationary positions:\n",
    "- Standing\n",
    "- Sitting\n",
    "- Laying down"
   ],
   "metadata": {
    "collapsed": false
   },
   "id": "eb7ab2144325fded"
  },
  {
   "cell_type": "code",
   "execution_count": null,
   "outputs": [],
   "source": [
    "stationary_positions = ['Standing_up', 'Sitting', 'Laying_down']"
   ],
   "metadata": {
    "collapsed": false
   },
   "id": "a0af184b293f9703"
  },
  {
   "cell_type": "code",
   "execution_count": null,
   "outputs": [],
   "source": [
    "stationary_positions_dfs = []\n",
    "\n",
    "for _class in Path(\"../Binaries/Class dataframes\").rglob(\"*.pkl\"):\n",
    "    for stat_pos in stationary_positions:\n",
    "        if str(_class).__contains__(stat_pos):\n",
    "            stationary_positions.append(pd.read_pickle(_class))"
   ],
   "metadata": {
    "collapsed": false
   },
   "id": "a4b5b0f41ee5c97c"
  },
  {
   "cell_type": "markdown",
   "source": [
    "#### We start with working with the KNN algorithm. You should use crossvalidation for evaluating the model."
   ],
   "metadata": {
    "collapsed": false
   },
   "id": "5d675cb01468bb28"
  },
  {
   "cell_type": "code",
   "execution_count": null,
   "outputs": [],
   "source": [
    "knn = KNeighborsClassifier()"
   ],
   "metadata": {
    "collapsed": false
   },
   "id": "adf83d3c308db958"
  },
  {
   "cell_type": "code",
   "execution_count": null,
   "outputs": [],
   "source": [
    "df = pd.concat(stationary_positions_dfs, axis='rows', ignore_index=True)"
   ],
   "metadata": {
    "collapsed": false
   },
   "id": "384f17fafa7e037c"
  },
  {
   "cell_type": "code",
   "execution_count": null,
   "outputs": [],
   "source": [
    "X = df.drop('class', axis='columns')\n",
    "y = df['class']"
   ],
   "metadata": {
    "collapsed": false
   },
   "id": "f95d19cd1832869f"
  },
  {
   "cell_type": "code",
   "execution_count": null,
   "outputs": [],
   "source": [
    "df"
   ],
   "metadata": {
    "collapsed": false
   },
   "id": "f47d303866e81cc0"
  },
  {
   "cell_type": "markdown",
   "source": [
    "##### Make a choice of the number of subsets that you use for your crossvalidation. Motivate the choice"
   ],
   "metadata": {
    "collapsed": false
   },
   "id": "df86cc12782f8bbc"
  },
  {
   "cell_type": "code",
   "execution_count": null,
   "outputs": [],
   "source": [
    "folds=10"
   ],
   "metadata": {
    "collapsed": false
   },
   "id": "51d94ad8ba99d728"
  },
  {
   "cell_type": "markdown",
   "source": [
    "#### For the gridsearch use GridSearchCV which you find in the previous weeks ́ exercise. The hyperparameter you will use for the gridsearch is k, that is the number of neighbours."
   ],
   "metadata": {
    "collapsed": false
   },
   "id": "90fc18162e24940e"
  },
  {
   "cell_type": "markdown",
   "source": [
    "##### Make a choice of the range of k-values you will use. Motivate the choice."
   ],
   "metadata": {
    "collapsed": false
   },
   "id": "e96b7c053fe1f945"
  },
  {
   "cell_type": "code",
   "execution_count": null,
   "outputs": [],
   "source": [
    "k_range = list(range(1, 50))"
   ],
   "metadata": {
    "collapsed": false
   },
   "id": "b115c9ded8bba44c"
  },
  {
   "cell_type": "markdown",
   "source": [
    "##### Train the model."
   ],
   "metadata": {
    "collapsed": false
   },
   "id": "dec9eca329f2dba9"
  },
  {
   "cell_type": "code",
   "execution_count": null,
   "outputs": [],
   "source": [
    "X_train, X_test, y_train, y_test = train_test_split(X, y, test_size=0.25, random_state=100)\n",
    "\n",
    "grid = GridSearchCV(knn,\n",
    "                    param_grid=dict(n_neighbors=k_range),\n",
    "                    cv=folds,\n",
    "                    scoring='accuracy',\n",
    "                    return_train_score=False)"
   ],
   "metadata": {
    "collapsed": false
   },
   "id": "423518951fd83643"
  },
  {
   "cell_type": "code",
   "execution_count": null,
   "outputs": [],
   "source": [
    "grid_search = grid.fit(X_train, y_train)"
   ],
   "metadata": {
    "collapsed": false
   },
   "id": "a53b8cca5e1eb9ae"
  },
  {
   "cell_type": "markdown",
   "source": [
    "##### What is the optimal k-value?"
   ],
   "metadata": {
    "collapsed": false
   },
   "id": "e590eae3f03714b3"
  },
  {
   "cell_type": "code",
   "execution_count": null,
   "outputs": [],
   "source": [
    "grid.best_params_"
   ],
   "metadata": {
    "collapsed": false
   },
   "id": "f0bd8146a67d1291"
  },
  {
   "cell_type": "markdown",
   "source": [
    "##### What is the accuracy?"
   ],
   "metadata": {
    "collapsed": false
   },
   "id": "3c8ab563467e747d"
  },
  {
   "cell_type": "code",
   "execution_count": null,
   "outputs": [],
   "source": [
    "grid.best_score_"
   ],
   "metadata": {
    "collapsed": false
   },
   "id": "262150ccca472781"
  },
  {
   "cell_type": "markdown",
   "source": [
    "##### Plot the accuracy as a function of the k-value. You need to extract that information from the model. How sensitive is the performance of the model for different k-values?"
   ],
   "metadata": {
    "collapsed": false
   },
   "id": "45a2f13074af7a2b"
  },
  {
   "cell_type": "code",
   "execution_count": null,
   "outputs": [],
   "source": [
    "mean_test_score = pd.DataFrame(grid.cv_results_['mean_test_score'])\n",
    "mean_test_score.rename({0: \"Accuracy\"}, axis='columns',inplace=True)\n",
    "mean_test_score.index.names = ['k']"
   ],
   "metadata": {
    "collapsed": false
   },
   "id": "e9b0a25c6ad797f"
  },
  {
   "cell_type": "code",
   "execution_count": null,
   "outputs": [],
   "source": [
    "mean_test_score.plot(title = 'Accuracy')"
   ],
   "metadata": {
    "collapsed": false
   },
   "id": "c91eb6fbfa244d03"
  },
  {
   "cell_type": "markdown",
   "source": [
    "#### Now it is time to look at the test set with the optimal k-value"
   ],
   "metadata": {
    "collapsed": false
   },
   "id": "efa8072fa80deb3e"
  },
  {
   "cell_type": "markdown",
   "source": [
    "##### Use the model on the test set and acquire both the accuracy and the plot the confusion matrix"
   ],
   "metadata": {
    "collapsed": false
   },
   "id": "229378e30ea60e96"
  },
  {
   "cell_type": "code",
   "execution_count": null,
   "outputs": [],
   "source": [
    "y_pred = grid.predict(X_test)"
   ],
   "metadata": {
    "collapsed": false
   },
   "id": "eff4a8d658b74dce"
  },
  {
   "cell_type": "code",
   "execution_count": null,
   "outputs": [],
   "source": [
    "accuracy_score(y_true=y_test, y_pred=y_pred)"
   ],
   "metadata": {
    "collapsed": false
   },
   "id": "a3ec4f0df6bb6bf6"
  },
  {
   "cell_type": "markdown",
   "source": [
    "##### Explain the difference between the accuracy for the validation set and the test set"
   ],
   "metadata": {
    "collapsed": false
   },
   "id": "d1c78b8b6f18b09"
  },
  {
   "cell_type": "code",
   "execution_count": null,
   "outputs": [],
   "source": [
    "print(f\"Validation set accuracy: {grid.best_score_}\\nTest set accuracy: {accuracy_score(y_test, y_pred)}\")"
   ],
   "metadata": {
    "collapsed": false
   },
   "id": "f43ed1a0f4557285"
  },
  {
   "cell_type": "markdown",
   "source": [
    "##### Explain the result in the confusion matrix"
   ],
   "metadata": {
    "collapsed": false
   },
   "id": "6054195921d0157d"
  },
  {
   "cell_type": "code",
   "execution_count": null,
   "outputs": [],
   "source": [
    "confusion_matrix(y_test, y_pred)"
   ],
   "metadata": {
    "collapsed": false
   },
   "id": "832267dacab15092"
  }
 ],
 "metadata": {
  "kernelspec": {
   "display_name": "Python 3",
   "language": "python",
   "name": "python3"
  },
  "language_info": {
   "codemirror_mode": {
    "name": "ipython",
    "version": 2
   },
   "file_extension": ".py",
   "mimetype": "text/x-python",
   "name": "python",
   "nbconvert_exporter": "python",
   "pygments_lexer": "ipython2",
   "version": "2.7.6"
  }
 },
 "nbformat": 4,
 "nbformat_minor": 5
}
