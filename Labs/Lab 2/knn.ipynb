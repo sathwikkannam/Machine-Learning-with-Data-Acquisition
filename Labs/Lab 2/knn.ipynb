{
 "cells": [
  {
   "cell_type": "code",
   "execution_count": 1,
   "id": "initial_id",
   "metadata": {
    "collapsed": true,
    "ExecuteTime": {
     "end_time": "2023-10-01T15:04:42.926100500Z",
     "start_time": "2023-10-01T15:04:41.324248300Z"
    }
   },
   "outputs": [],
   "source": [
    "from common import sns_cm, get_set, display_accuracy, scatter_plot\n",
    "import import_ipynb as ipynb\n",
    "import os\n",
    "import pandas as pd\n",
    "\n",
    "from sklearn.model_selection import train_test_split\n",
    "from sklearn.neighbors import KNeighborsClassifier\n",
    "from sklearn.metrics import accuracy_score\n",
    "from sklearn.model_selection import GridSearchCV\n",
    "from sklearn.model_selection import KFold"
   ]
  },
  {
   "cell_type": "markdown",
   "source": [
    "##### Change directories and load Lab 1"
   ],
   "metadata": {
    "collapsed": false
   },
   "id": "60aa30163b7c9a2b"
  },
  {
   "cell_type": "code",
   "execution_count": 2,
   "outputs": [],
   "source": [
    "%%capture\n",
    "os.chdir(\"../Lab 1\")\n",
    "lab_1 = ipynb.NotebookLoader().load_module('lab1')\n",
    "os.chdir(\"../Lab 2\")"
   ],
   "metadata": {
    "collapsed": false,
    "ExecuteTime": {
     "end_time": "2023-10-01T15:04:45.659544800Z",
     "start_time": "2023-10-01T15:04:42.927100400Z"
    }
   },
   "id": "323c4b1522734a"
  },
  {
   "cell_type": "markdown",
   "source": [
    "# Required Preparations"
   ],
   "metadata": {
    "collapsed": false
   },
   "id": "e450f61089170a96"
  },
  {
   "cell_type": "code",
   "execution_count": 3,
   "outputs": [],
   "source": [
    "lab_2_positions = ['Sitting', 'Running', 'Jumping', 'Squats']"
   ],
   "metadata": {
    "collapsed": false,
    "ExecuteTime": {
     "end_time": "2023-10-01T15:04:45.677041900Z",
     "start_time": "2023-10-01T15:04:45.658544600Z"
    }
   },
   "id": "35a74c24fe8c1457"
  },
  {
   "cell_type": "markdown",
   "source": [
    "##### 'recordings' are used if we want to plot each recording."
   ],
   "metadata": {
    "collapsed": false
   },
   "id": "5493407bc397a4ef"
  },
  {
   "cell_type": "code",
   "execution_count": 4,
   "outputs": [],
   "source": [
    "recordings : dict[str: pd.DataFrame] = lab_1.read_recordings(positions=lab_2_positions)"
   ],
   "metadata": {
    "collapsed": false,
    "ExecuteTime": {
     "end_time": "2023-10-01T15:04:45.722130Z",
     "start_time": "2023-10-01T15:04:45.673323800Z"
    }
   },
   "id": "b74e1779de76b009"
  },
  {
   "cell_type": "markdown",
   "source": [
    "##### merger() will read files based on the positions and concatenate the acceleratometer and rate_gyro columns, and a return a dictionary."
   ],
   "metadata": {
    "collapsed": false
   },
   "id": "b2cf62337477fd1a"
  },
  {
   "cell_type": "code",
   "execution_count": 5,
   "outputs": [],
   "source": [
    "merged_dfs: dict = lab_1.merger(positions=lab_2_positions, remove_n=0)\n",
    "lab_1.split_train_test_sets(processed_dataframes=merged_dfs)"
   ],
   "metadata": {
    "collapsed": false,
    "ExecuteTime": {
     "end_time": "2023-10-01T15:04:45.799512200Z",
     "start_time": "2023-10-01T15:04:45.719624300Z"
    }
   },
   "id": "d861a772b10c838d"
  },
  {
   "cell_type": "markdown",
   "source": [
    "##### Display the four classes"
   ],
   "metadata": {
    "collapsed": false
   },
   "id": "749b2d2f62d931d2"
  },
  {
   "cell_type": "code",
   "execution_count": 6,
   "outputs": [],
   "source": [
    "class_dfs = lab_1.merge_recordings_by_rows(classes=lab_2_positions)"
   ],
   "metadata": {
    "collapsed": false,
    "ExecuteTime": {
     "end_time": "2023-10-01T15:04:46.049588500Z",
     "start_time": "2023-10-01T15:04:45.798511500Z"
    }
   },
   "id": "622745a387d4a5f"
  },
  {
   "cell_type": "code",
   "execution_count": 7,
   "outputs": [
    {
     "name": "stdout",
     "output_type": "stream",
     "text": [
      "            ax        ay        az        gx        gy        gz    class\n",
      "0    -2.004288 -1.069891 -9.671490 -0.000458  0.002291  0.003665  Sitting\n",
      "1    -1.987538 -1.077069 -9.657133 -0.000458  0.002291  0.003665  Sitting\n",
      "2    -1.982753 -1.081855 -9.649955  0.004429 -0.001374  0.004887  Sitting\n",
      "3    -1.989931 -1.079462 -9.645169  0.003207  0.001069  0.004887  Sitting\n",
      "4    -1.989931 -1.057927 -9.642776  0.004429  0.001069  0.002443  Sitting\n",
      "...        ...       ...       ...       ...       ...       ...      ...\n",
      "3071 -2.044966 -0.581456 -9.676275  0.003207  0.001069  0.002443  Sitting\n",
      "3072 -2.035395 -0.581456 -9.704989  0.003207  0.002291  0.002443  Sitting\n",
      "3073 -2.035395 -0.593420 -9.721740  0.003207  0.003512  0.002443  Sitting\n",
      "3074 -2.033002 -0.600598 -9.731311  0.003207  0.004734  0.002443  Sitting\n",
      "3075 -2.030609 -0.610170 -9.721740  0.003207  0.003512  0.003665  Sitting\n",
      "\n",
      "[3076 rows x 7 columns]\n",
      "            ax         ay         az        gx        gy        gz    class\n",
      "0     1.184746 -13.277473  -3.549752 -0.732100  0.454470  0.623980  Running\n",
      "1     1.191925 -11.752348  -4.715655 -1.487108  0.372617  0.487151  Running\n",
      "2     0.018843 -10.335199  -5.060521 -2.155375  0.207688  0.324665  Running\n",
      "3    -1.779064  -9.250652  -4.600800 -2.712467 -0.044134  0.158362  Running\n",
      "4    -3.490829  -9.025428  -4.320839 -3.143725 -0.282364  0.005650  Running\n",
      "...        ...        ...        ...       ...       ...       ...      ...\n",
      "3063 -3.342474  -7.124629 -13.724632 -4.725973  0.955365  1.084559  Running\n",
      "3064 -0.979562  -7.332805 -16.501802 -4.608690  1.480694  1.554912  Running\n",
      "3065  1.536491  -7.742277 -17.188841 -4.028232  1.638292  1.578124  Running\n",
      "3066  4.050450  -8.185248 -15.640087 -3.491908  1.323095  1.297134  Running\n",
      "3067  5.405386  -8.156534 -12.206985 -3.093636  0.642611  0.915965  Running\n",
      "\n",
      "[3068 rows x 7 columns]\n",
      "            ax         ay        az        gx        gy        gz    class\n",
      "0    -2.837289 -16.732111 -5.967700  1.946007  1.308435  0.363760  Jumping\n",
      "1    -2.212464 -14.917455 -4.124329  1.974106  1.288888  0.380863  Jumping\n",
      "2    -1.274178 -13.732409 -2.247459  1.916686  1.043327  0.395524  Jumping\n",
      "3    -0.354736 -12.463615 -0.779761  1.811620  0.621843  0.391859  Jumping\n",
      "4     0.516850 -11.177772  0.309571  1.704111  0.091474  0.361316  Jumping\n",
      "...        ...        ...       ...       ...       ...       ...      ...\n",
      "3085  0.835095  -1.941476 -1.268196 -0.249531  0.415376  0.511585  Jumping\n",
      "3086  1.642075  -2.108974 -0.983450 -0.385139  0.376282  0.459052  Jumping\n",
      "3087  2.443969  -2.298007 -0.569193 -0.517082  0.340853  0.351543  Jumping\n",
      "3088  2.855834  -2.432304 -0.018544 -0.618483  0.285877  0.213338  Jumping\n",
      "3089  3.066402  -2.657230  0.489033 -0.684454  0.175924  0.048410  Jumping\n",
      "\n",
      "[3090 rows x 7 columns]\n",
      "            ax        ay         az        gx        gy        gz   class\n",
      "0    -3.026622 -2.231008 -10.459028  2.388260 -0.229831  0.097277  Squats\n",
      "1    -2.918645 -2.645265 -10.100104  2.385817 -0.337340  0.072844  Squats\n",
      "2    -2.796612 -2.982953 -10.897213  2.338171 -0.510821 -0.023670  Squats\n",
      "3    -2.574079 -3.100201 -10.674681  2.306406 -0.667198 -0.142175  Squats\n",
      "4    -2.365604 -2.796013 -11.026426  2.295411 -0.771042 -0.247240  Squats\n",
      "...        ...       ...        ...       ...       ...       ...     ...\n",
      "3063 -1.175773 -8.599505  -3.578466  2.451788 -0.453401 -0.828767  Squats\n",
      "3064 -0.098405 -8.798110  -2.860320  2.461562 -0.425302 -0.781121  Squats\n",
      "3065  0.681954 -8.860323  -2.108675  2.417581 -0.525481 -0.737140  Squats\n",
      "3066  1.256531 -9.269794  -2.050948  2.318624 -0.569462 -0.721258  Squats\n",
      "3067  0.813560 -8.927322  -1.866701  2.191567 -0.402090 -0.728588  Squats\n",
      "\n",
      "[3068 rows x 7 columns]\n"
     ]
    }
   ],
   "source": [
    "print(*class_dfs, sep='\\n')"
   ],
   "metadata": {
    "collapsed": false,
    "ExecuteTime": {
     "end_time": "2023-10-01T15:04:46.067550200Z",
     "start_time": "2023-10-01T15:04:46.049588500Z"
    }
   },
   "id": "c97522183bdb6c0f"
  },
  {
   "cell_type": "markdown",
   "source": [
    "# Classification of different positions"
   ],
   "metadata": {
    "collapsed": false
   },
   "id": "16a0cb07ad43388d"
  },
  {
   "cell_type": "markdown",
   "source": [
    "#### We will use the K-nearest neighbor algorithm and decision trees in this lab. In this part you should only work with the stationary positions:\n",
    "- Standing\n",
    "- Sitting\n",
    "- Laying down"
   ],
   "metadata": {
    "collapsed": false
   },
   "id": "eb7ab2144325fded"
  },
  {
   "cell_type": "code",
   "execution_count": 8,
   "outputs": [],
   "source": [
    "stationary_positions : list[str] = ['Standing_up', 'Sitting', 'Laying_down']"
   ],
   "metadata": {
    "collapsed": false,
    "ExecuteTime": {
     "end_time": "2023-10-01T15:04:46.093078900Z",
     "start_time": "2023-10-01T15:04:46.065552200Z"
    }
   },
   "id": "a0af184b293f9703"
  },
  {
   "cell_type": "code",
   "execution_count": 9,
   "outputs": [],
   "source": [
    "training_sets = get_set(positions=stationary_positions, folder='Class Dataframes')\n",
    "testing_sets = get_set(positions=stationary_positions, folder='Test')"
   ],
   "metadata": {
    "collapsed": false,
    "ExecuteTime": {
     "end_time": "2023-10-01T15:04:46.128079500Z",
     "start_time": "2023-10-01T15:04:46.080560600Z"
    }
   },
   "id": "81e7755012181bad"
  },
  {
   "cell_type": "code",
   "execution_count": 10,
   "outputs": [],
   "source": [
    "testing_set = (pd.concat(testing_sets, axis='rows'))\n",
    "df = (pd.concat(training_sets, axis='rows'))"
   ],
   "metadata": {
    "collapsed": false,
    "ExecuteTime": {
     "end_time": "2023-10-01T15:04:46.140611400Z",
     "start_time": "2023-10-01T15:04:46.127081100Z"
    }
   },
   "id": "52c8eda27b27aa54"
  },
  {
   "cell_type": "markdown",
   "source": [
    "#### We start with working with the KNN algorithm. You should use crossvalidation for evaluating the model."
   ],
   "metadata": {
    "collapsed": false
   },
   "id": "5d675cb01468bb28"
  },
  {
   "cell_type": "code",
   "execution_count": 11,
   "outputs": [],
   "source": [
    "knn = KNeighborsClassifier()"
   ],
   "metadata": {
    "collapsed": false,
    "ExecuteTime": {
     "end_time": "2023-10-01T15:04:46.161494600Z",
     "start_time": "2023-10-01T15:04:46.142114900Z"
    }
   },
   "id": "adf83d3c308db958"
  },
  {
   "cell_type": "code",
   "execution_count": 12,
   "outputs": [
    {
     "data": {
      "text/plain": "            ax        ay        az        gx        gy        gz        class\n0     0.102592 -0.543171 -9.910772  0.004887 -0.001833 -0.005345  Laying_down\n1     0.095414 -0.538385 -9.954143 -0.000000 -0.003054 -0.006567  Laying_down\n2     0.061914 -0.519243 -9.978070 -0.003665  0.001833 -0.005345  Laying_down\n3     0.066700 -0.497707 -9.903594 -0.007330  0.003054 -0.004123  Laying_down\n4     0.021236 -0.492921 -9.970892 -0.007330 -0.001833 -0.000458  Laying_down\n...        ...       ...       ...       ...       ...       ...          ...\n3063 -2.806183 -9.434899  0.062812 -0.003665  0.040927 -0.005345  Standing_up\n3064 -2.825325 -9.430114  0.038883 -0.003665  0.028710 -0.002902  Standing_up\n3065 -2.815754 -9.427721 -0.008973 -0.003665  0.012828 -0.000458  Standing_up\n3066 -2.796612 -9.420543 -0.047258 -0.006108 -0.004276  0.001985  Standing_up\n3067 -2.815754 -9.406186 -0.073579 -0.007330 -0.021380  0.004429  Standing_up\n\n[9305 rows x 7 columns]",
      "text/html": "<div>\n<style scoped>\n    .dataframe tbody tr th:only-of-type {\n        vertical-align: middle;\n    }\n\n    .dataframe tbody tr th {\n        vertical-align: top;\n    }\n\n    .dataframe thead th {\n        text-align: right;\n    }\n</style>\n<table border=\"1\" class=\"dataframe\">\n  <thead>\n    <tr style=\"text-align: right;\">\n      <th></th>\n      <th>ax</th>\n      <th>ay</th>\n      <th>az</th>\n      <th>gx</th>\n      <th>gy</th>\n      <th>gz</th>\n      <th>class</th>\n    </tr>\n  </thead>\n  <tbody>\n    <tr>\n      <th>0</th>\n      <td>0.102592</td>\n      <td>-0.543171</td>\n      <td>-9.910772</td>\n      <td>0.004887</td>\n      <td>-0.001833</td>\n      <td>-0.005345</td>\n      <td>Laying_down</td>\n    </tr>\n    <tr>\n      <th>1</th>\n      <td>0.095414</td>\n      <td>-0.538385</td>\n      <td>-9.954143</td>\n      <td>-0.000000</td>\n      <td>-0.003054</td>\n      <td>-0.006567</td>\n      <td>Laying_down</td>\n    </tr>\n    <tr>\n      <th>2</th>\n      <td>0.061914</td>\n      <td>-0.519243</td>\n      <td>-9.978070</td>\n      <td>-0.003665</td>\n      <td>0.001833</td>\n      <td>-0.005345</td>\n      <td>Laying_down</td>\n    </tr>\n    <tr>\n      <th>3</th>\n      <td>0.066700</td>\n      <td>-0.497707</td>\n      <td>-9.903594</td>\n      <td>-0.007330</td>\n      <td>0.003054</td>\n      <td>-0.004123</td>\n      <td>Laying_down</td>\n    </tr>\n    <tr>\n      <th>4</th>\n      <td>0.021236</td>\n      <td>-0.492921</td>\n      <td>-9.970892</td>\n      <td>-0.007330</td>\n      <td>-0.001833</td>\n      <td>-0.000458</td>\n      <td>Laying_down</td>\n    </tr>\n    <tr>\n      <th>...</th>\n      <td>...</td>\n      <td>...</td>\n      <td>...</td>\n      <td>...</td>\n      <td>...</td>\n      <td>...</td>\n      <td>...</td>\n    </tr>\n    <tr>\n      <th>3063</th>\n      <td>-2.806183</td>\n      <td>-9.434899</td>\n      <td>0.062812</td>\n      <td>-0.003665</td>\n      <td>0.040927</td>\n      <td>-0.005345</td>\n      <td>Standing_up</td>\n    </tr>\n    <tr>\n      <th>3064</th>\n      <td>-2.825325</td>\n      <td>-9.430114</td>\n      <td>0.038883</td>\n      <td>-0.003665</td>\n      <td>0.028710</td>\n      <td>-0.002902</td>\n      <td>Standing_up</td>\n    </tr>\n    <tr>\n      <th>3065</th>\n      <td>-2.815754</td>\n      <td>-9.427721</td>\n      <td>-0.008973</td>\n      <td>-0.003665</td>\n      <td>0.012828</td>\n      <td>-0.000458</td>\n      <td>Standing_up</td>\n    </tr>\n    <tr>\n      <th>3066</th>\n      <td>-2.796612</td>\n      <td>-9.420543</td>\n      <td>-0.047258</td>\n      <td>-0.006108</td>\n      <td>-0.004276</td>\n      <td>0.001985</td>\n      <td>Standing_up</td>\n    </tr>\n    <tr>\n      <th>3067</th>\n      <td>-2.815754</td>\n      <td>-9.406186</td>\n      <td>-0.073579</td>\n      <td>-0.007330</td>\n      <td>-0.021380</td>\n      <td>0.004429</td>\n      <td>Standing_up</td>\n    </tr>\n  </tbody>\n</table>\n<p>9305 rows × 7 columns</p>\n</div>"
     },
     "execution_count": 12,
     "metadata": {},
     "output_type": "execute_result"
    }
   ],
   "source": [
    "df"
   ],
   "metadata": {
    "collapsed": false,
    "ExecuteTime": {
     "end_time": "2023-10-01T15:04:46.176079400Z",
     "start_time": "2023-10-01T15:04:46.158492900Z"
    }
   },
   "id": "c460097053886694"
  },
  {
   "cell_type": "code",
   "execution_count": 13,
   "outputs": [],
   "source": [
    "X = df.drop('class', axis='columns')\n",
    "y = df['class']"
   ],
   "metadata": {
    "collapsed": false,
    "ExecuteTime": {
     "end_time": "2023-10-01T15:04:46.194011700Z",
     "start_time": "2023-10-01T15:04:46.173075300Z"
    }
   },
   "id": "f95d19cd1832869f"
  },
  {
   "cell_type": "markdown",
   "source": [
    "##### Make a choice of the number of subsets that you use for your crossvalidation. Motivate the choice"
   ],
   "metadata": {
    "collapsed": false
   },
   "id": "df86cc12782f8bbc"
  },
  {
   "cell_type": "code",
   "execution_count": 14,
   "outputs": [],
   "source": [
    "folds = KFold(n_splits=20)"
   ],
   "metadata": {
    "collapsed": false,
    "ExecuteTime": {
     "end_time": "2023-10-01T15:04:46.250918800Z",
     "start_time": "2023-10-01T15:04:46.188646200Z"
    }
   },
   "id": "51d94ad8ba99d728"
  },
  {
   "cell_type": "markdown",
   "source": [
    "#### For the gridsearch use GridSearchCV which you find in the previous weeks ́ exercise. The hyperparameter you will use for the gridsearch is k, that is the number of neighbours."
   ],
   "metadata": {
    "collapsed": false
   },
   "id": "90fc18162e24940e"
  },
  {
   "cell_type": "markdown",
   "source": [
    "##### Make a choice of the range of k-values you will use. Motivate the choice.\n",
    "Too large K values will 'classify' each instance of 'df'."
   ],
   "metadata": {
    "collapsed": false
   },
   "id": "e96b7c053fe1f945"
  },
  {
   "cell_type": "code",
   "execution_count": 15,
   "outputs": [],
   "source": [
    "k_range = list(range(1, 50))"
   ],
   "metadata": {
    "collapsed": false,
    "ExecuteTime": {
     "end_time": "2023-10-01T15:04:46.280121400Z",
     "start_time": "2023-10-01T15:04:46.204443500Z"
    }
   },
   "id": "7f8cdf49095faf1e"
  },
  {
   "cell_type": "markdown",
   "source": [
    "##### Split data"
   ],
   "metadata": {
    "collapsed": false
   },
   "id": "844cd5182de68e6f"
  },
  {
   "cell_type": "code",
   "execution_count": 16,
   "outputs": [],
   "source": [
    "X_train, X_test, y_train, y_test = train_test_split(X, y, test_size=0.30, shuffle=True)"
   ],
   "metadata": {
    "collapsed": false,
    "ExecuteTime": {
     "end_time": "2023-10-01T15:04:46.281119100Z",
     "start_time": "2023-10-01T15:04:46.219548100Z"
    }
   },
   "id": "87176b2d87983a90"
  },
  {
   "cell_type": "markdown",
   "source": [
    "##### Train the model."
   ],
   "metadata": {
    "collapsed": false
   },
   "id": "dec9eca329f2dba9"
  },
  {
   "cell_type": "code",
   "execution_count": 17,
   "outputs": [],
   "source": [
    "grid = GridSearchCV(estimator=knn,\n",
    "                    param_grid=dict(n_neighbors=k_range),\n",
    "                    cv=folds,\n",
    "                    scoring='accuracy',\n",
    "                    return_train_score=False)"
   ],
   "metadata": {
    "collapsed": false,
    "ExecuteTime": {
     "end_time": "2023-10-01T15:04:46.281119100Z",
     "start_time": "2023-10-01T15:04:46.234222700Z"
    }
   },
   "id": "423518951fd83643"
  },
  {
   "cell_type": "code",
   "execution_count": 18,
   "outputs": [],
   "source": [
    "grid_search = grid.fit(X=X_train, y=y_train)"
   ],
   "metadata": {
    "collapsed": false,
    "ExecuteTime": {
     "end_time": "2023-10-01T15:05:00.639840900Z",
     "start_time": "2023-10-01T15:04:46.250918800Z"
    }
   },
   "id": "a53b8cca5e1eb9ae"
  },
  {
   "cell_type": "markdown",
   "source": [
    "##### What is the optimal k-value?"
   ],
   "metadata": {
    "collapsed": false
   },
   "id": "e590eae3f03714b3"
  },
  {
   "cell_type": "code",
   "execution_count": 19,
   "outputs": [
    {
     "data": {
      "text/plain": "{'n_neighbors': 1}"
     },
     "execution_count": 19,
     "metadata": {},
     "output_type": "execute_result"
    }
   ],
   "source": [
    "grid.best_params_"
   ],
   "metadata": {
    "collapsed": false,
    "ExecuteTime": {
     "end_time": "2023-10-01T15:05:00.655830300Z",
     "start_time": "2023-10-01T15:05:00.640842100Z"
    }
   },
   "id": "f0bd8146a67d1291"
  },
  {
   "cell_type": "markdown",
   "source": [
    "##### What is the accuracy?"
   ],
   "metadata": {
    "collapsed": false
   },
   "id": "3c8ab563467e747d"
  },
  {
   "cell_type": "code",
   "execution_count": 20,
   "outputs": [
    {
     "data": {
      "text/plain": "1.0"
     },
     "execution_count": 20,
     "metadata": {},
     "output_type": "execute_result"
    }
   ],
   "source": [
    "grid.best_score_"
   ],
   "metadata": {
    "collapsed": false,
    "ExecuteTime": {
     "end_time": "2023-10-01T15:05:00.692592200Z",
     "start_time": "2023-10-01T15:05:00.655830300Z"
    }
   },
   "id": "262150ccca472781"
  },
  {
   "cell_type": "code",
   "execution_count": 21,
   "outputs": [],
   "source": [
    "scores = pd.DataFrame(grid.cv_results_)"
   ],
   "metadata": {
    "collapsed": false,
    "ExecuteTime": {
     "end_time": "2023-10-01T15:05:00.693102300Z",
     "start_time": "2023-10-01T15:05:00.671455800Z"
    }
   },
   "id": "4402c46accebc9b8"
  },
  {
   "cell_type": "markdown",
   "source": [
    "##### Display scores"
   ],
   "metadata": {
    "collapsed": false
   },
   "id": "9e19bdd932e9b850"
  },
  {
   "cell_type": "code",
   "execution_count": 22,
   "outputs": [
    {
     "data": {
      "text/plain": "    mean_fit_time  std_fit_time  mean_score_time  std_score_time  \\\n0        0.006097      0.000563         0.006876        0.000746   \n1        0.008593      0.003589         0.011670        0.004371   \n2        0.006583      0.000878         0.008109        0.001500   \n3        0.006433      0.000454         0.007667        0.000539   \n4        0.006308      0.000567         0.007706        0.000629   \n5        0.006359      0.000437         0.008202        0.000916   \n6        0.006444      0.000571         0.008047        0.000678   \n7        0.006169      0.000281         0.008384        0.000701   \n8        0.006694      0.001597         0.007733        0.000604   \n9        0.005797      0.000536         0.007054        0.000487   \n10       0.005967      0.000499         0.007654        0.000670   \n11       0.005826      0.000534         0.007296        0.000821   \n12       0.005804      0.000377         0.007684        0.000669   \n13       0.006270      0.000568         0.007550        0.000478   \n14       0.006550      0.000462         0.008317        0.000631   \n15       0.006407      0.000531         0.008002        0.000625   \n16       0.006141      0.000489         0.007753        0.000489   \n17       0.006111      0.000680         0.008360        0.001269   \n18       0.006250      0.000508         0.007761        0.000775   \n19       0.006106      0.000505         0.007972        0.000645   \n20       0.006052      0.000497         0.007898        0.000426   \n21       0.006196      0.000656         0.008775        0.001880   \n22       0.005770      0.000483         0.007809        0.000647   \n23       0.005965      0.000409         0.007872        0.000578   \n24       0.006245      0.000596         0.008228        0.000580   \n25       0.006196      0.000540         0.007958        0.000575   \n26       0.006406      0.001325         0.008129        0.000566   \n27       0.006145      0.000497         0.008240        0.000540   \n28       0.006077      0.000578         0.008214        0.000530   \n29       0.005958      0.000525         0.008120        0.000621   \n30       0.005938      0.000435         0.008183        0.000641   \n31       0.005653      0.000415         0.007971        0.000598   \n32       0.005883      0.000885         0.007848        0.000604   \n33       0.005890      0.000498         0.008415        0.000860   \n34       0.005915      0.000422         0.008340        0.000707   \n35       0.005857      0.000448         0.008517        0.000723   \n36       0.006028      0.000451         0.008727        0.000620   \n37       0.006089      0.000584         0.008878        0.000708   \n38       0.005937      0.000585         0.008215        0.000662   \n39       0.006195      0.000926         0.009139        0.004089   \n40       0.006249      0.000786         0.009171        0.002247   \n41       0.006364      0.001523         0.009146        0.001765   \n42       0.006325      0.000427         0.009212        0.001151   \n43       0.006129      0.000520         0.008991        0.000738   \n44       0.005832      0.000583         0.008291        0.000511   \n45       0.005581      0.000478         0.008573        0.001215   \n46       0.005865      0.000563         0.008787        0.000506   \n47       0.006207      0.000922         0.009026        0.000867   \n48       0.006076      0.000552         0.009196        0.000747   \n\n   param_n_neighbors               params  split0_test_score  \\\n0                  1   {'n_neighbors': 1}                1.0   \n1                  2   {'n_neighbors': 2}                1.0   \n2                  3   {'n_neighbors': 3}                1.0   \n3                  4   {'n_neighbors': 4}                1.0   \n4                  5   {'n_neighbors': 5}                1.0   \n5                  6   {'n_neighbors': 6}                1.0   \n6                  7   {'n_neighbors': 7}                1.0   \n7                  8   {'n_neighbors': 8}                1.0   \n8                  9   {'n_neighbors': 9}                1.0   \n9                 10  {'n_neighbors': 10}                1.0   \n10                11  {'n_neighbors': 11}                1.0   \n11                12  {'n_neighbors': 12}                1.0   \n12                13  {'n_neighbors': 13}                1.0   \n13                14  {'n_neighbors': 14}                1.0   \n14                15  {'n_neighbors': 15}                1.0   \n15                16  {'n_neighbors': 16}                1.0   \n16                17  {'n_neighbors': 17}                1.0   \n17                18  {'n_neighbors': 18}                1.0   \n18                19  {'n_neighbors': 19}                1.0   \n19                20  {'n_neighbors': 20}                1.0   \n20                21  {'n_neighbors': 21}                1.0   \n21                22  {'n_neighbors': 22}                1.0   \n22                23  {'n_neighbors': 23}                1.0   \n23                24  {'n_neighbors': 24}                1.0   \n24                25  {'n_neighbors': 25}                1.0   \n25                26  {'n_neighbors': 26}                1.0   \n26                27  {'n_neighbors': 27}                1.0   \n27                28  {'n_neighbors': 28}                1.0   \n28                29  {'n_neighbors': 29}                1.0   \n29                30  {'n_neighbors': 30}                1.0   \n30                31  {'n_neighbors': 31}                1.0   \n31                32  {'n_neighbors': 32}                1.0   \n32                33  {'n_neighbors': 33}                1.0   \n33                34  {'n_neighbors': 34}                1.0   \n34                35  {'n_neighbors': 35}                1.0   \n35                36  {'n_neighbors': 36}                1.0   \n36                37  {'n_neighbors': 37}                1.0   \n37                38  {'n_neighbors': 38}                1.0   \n38                39  {'n_neighbors': 39}                1.0   \n39                40  {'n_neighbors': 40}                1.0   \n40                41  {'n_neighbors': 41}                1.0   \n41                42  {'n_neighbors': 42}                1.0   \n42                43  {'n_neighbors': 43}                1.0   \n43                44  {'n_neighbors': 44}                1.0   \n44                45  {'n_neighbors': 45}                1.0   \n45                46  {'n_neighbors': 46}                1.0   \n46                47  {'n_neighbors': 47}                1.0   \n47                48  {'n_neighbors': 48}                1.0   \n48                49  {'n_neighbors': 49}                1.0   \n\n    split1_test_score  split2_test_score  split3_test_score  ...  \\\n0                 1.0                1.0                1.0  ...   \n1                 1.0                1.0                1.0  ...   \n2                 1.0                1.0                1.0  ...   \n3                 1.0                1.0                1.0  ...   \n4                 1.0                1.0                1.0  ...   \n5                 1.0                1.0                1.0  ...   \n6                 1.0                1.0                1.0  ...   \n7                 1.0                1.0                1.0  ...   \n8                 1.0                1.0                1.0  ...   \n9                 1.0                1.0                1.0  ...   \n10                1.0                1.0                1.0  ...   \n11                1.0                1.0                1.0  ...   \n12                1.0                1.0                1.0  ...   \n13                1.0                1.0                1.0  ...   \n14                1.0                1.0                1.0  ...   \n15                1.0                1.0                1.0  ...   \n16                1.0                1.0                1.0  ...   \n17                1.0                1.0                1.0  ...   \n18                1.0                1.0                1.0  ...   \n19                1.0                1.0                1.0  ...   \n20                1.0                1.0                1.0  ...   \n21                1.0                1.0                1.0  ...   \n22                1.0                1.0                1.0  ...   \n23                1.0                1.0                1.0  ...   \n24                1.0                1.0                1.0  ...   \n25                1.0                1.0                1.0  ...   \n26                1.0                1.0                1.0  ...   \n27                1.0                1.0                1.0  ...   \n28                1.0                1.0                1.0  ...   \n29                1.0                1.0                1.0  ...   \n30                1.0                1.0                1.0  ...   \n31                1.0                1.0                1.0  ...   \n32                1.0                1.0                1.0  ...   \n33                1.0                1.0                1.0  ...   \n34                1.0                1.0                1.0  ...   \n35                1.0                1.0                1.0  ...   \n36                1.0                1.0                1.0  ...   \n37                1.0                1.0                1.0  ...   \n38                1.0                1.0                1.0  ...   \n39                1.0                1.0                1.0  ...   \n40                1.0                1.0                1.0  ...   \n41                1.0                1.0                1.0  ...   \n42                1.0                1.0                1.0  ...   \n43                1.0                1.0                1.0  ...   \n44                1.0                1.0                1.0  ...   \n45                1.0                1.0                1.0  ...   \n46                1.0                1.0                1.0  ...   \n47                1.0                1.0                1.0  ...   \n48                1.0                1.0                1.0  ...   \n\n    split13_test_score  split14_test_score  split15_test_score  \\\n0                  1.0                 1.0                 1.0   \n1                  1.0                 1.0                 1.0   \n2                  1.0                 1.0                 1.0   \n3                  1.0                 1.0                 1.0   \n4                  1.0                 1.0                 1.0   \n5                  1.0                 1.0                 1.0   \n6                  1.0                 1.0                 1.0   \n7                  1.0                 1.0                 1.0   \n8                  1.0                 1.0                 1.0   \n9                  1.0                 1.0                 1.0   \n10                 1.0                 1.0                 1.0   \n11                 1.0                 1.0                 1.0   \n12                 1.0                 1.0                 1.0   \n13                 1.0                 1.0                 1.0   \n14                 1.0                 1.0                 1.0   \n15                 1.0                 1.0                 1.0   \n16                 1.0                 1.0                 1.0   \n17                 1.0                 1.0                 1.0   \n18                 1.0                 1.0                 1.0   \n19                 1.0                 1.0                 1.0   \n20                 1.0                 1.0                 1.0   \n21                 1.0                 1.0                 1.0   \n22                 1.0                 1.0                 1.0   \n23                 1.0                 1.0                 1.0   \n24                 1.0                 1.0                 1.0   \n25                 1.0                 1.0                 1.0   \n26                 1.0                 1.0                 1.0   \n27                 1.0                 1.0                 1.0   \n28                 1.0                 1.0                 1.0   \n29                 1.0                 1.0                 1.0   \n30                 1.0                 1.0                 1.0   \n31                 1.0                 1.0                 1.0   \n32                 1.0                 1.0                 1.0   \n33                 1.0                 1.0                 1.0   \n34                 1.0                 1.0                 1.0   \n35                 1.0                 1.0                 1.0   \n36                 1.0                 1.0                 1.0   \n37                 1.0                 1.0                 1.0   \n38                 1.0                 1.0                 1.0   \n39                 1.0                 1.0                 1.0   \n40                 1.0                 1.0                 1.0   \n41                 1.0                 1.0                 1.0   \n42                 1.0                 1.0                 1.0   \n43                 1.0                 1.0                 1.0   \n44                 1.0                 1.0                 1.0   \n45                 1.0                 1.0                 1.0   \n46                 1.0                 1.0                 1.0   \n47                 1.0                 1.0                 1.0   \n48                 1.0                 1.0                 1.0   \n\n    split16_test_score  split17_test_score  split18_test_score  \\\n0                  1.0                 1.0                 1.0   \n1                  1.0                 1.0                 1.0   \n2                  1.0                 1.0                 1.0   \n3                  1.0                 1.0                 1.0   \n4                  1.0                 1.0                 1.0   \n5                  1.0                 1.0                 1.0   \n6                  1.0                 1.0                 1.0   \n7                  1.0                 1.0                 1.0   \n8                  1.0                 1.0                 1.0   \n9                  1.0                 1.0                 1.0   \n10                 1.0                 1.0                 1.0   \n11                 1.0                 1.0                 1.0   \n12                 1.0                 1.0                 1.0   \n13                 1.0                 1.0                 1.0   \n14                 1.0                 1.0                 1.0   \n15                 1.0                 1.0                 1.0   \n16                 1.0                 1.0                 1.0   \n17                 1.0                 1.0                 1.0   \n18                 1.0                 1.0                 1.0   \n19                 1.0                 1.0                 1.0   \n20                 1.0                 1.0                 1.0   \n21                 1.0                 1.0                 1.0   \n22                 1.0                 1.0                 1.0   \n23                 1.0                 1.0                 1.0   \n24                 1.0                 1.0                 1.0   \n25                 1.0                 1.0                 1.0   \n26                 1.0                 1.0                 1.0   \n27                 1.0                 1.0                 1.0   \n28                 1.0                 1.0                 1.0   \n29                 1.0                 1.0                 1.0   \n30                 1.0                 1.0                 1.0   \n31                 1.0                 1.0                 1.0   \n32                 1.0                 1.0                 1.0   \n33                 1.0                 1.0                 1.0   \n34                 1.0                 1.0                 1.0   \n35                 1.0                 1.0                 1.0   \n36                 1.0                 1.0                 1.0   \n37                 1.0                 1.0                 1.0   \n38                 1.0                 1.0                 1.0   \n39                 1.0                 1.0                 1.0   \n40                 1.0                 1.0                 1.0   \n41                 1.0                 1.0                 1.0   \n42                 1.0                 1.0                 1.0   \n43                 1.0                 1.0                 1.0   \n44                 1.0                 1.0                 1.0   \n45                 1.0                 1.0                 1.0   \n46                 1.0                 1.0                 1.0   \n47                 1.0                 1.0                 1.0   \n48                 1.0                 1.0                 1.0   \n\n    split19_test_score  mean_test_score  std_test_score  rank_test_score  \n0                  1.0              1.0             0.0                1  \n1                  1.0              1.0             0.0                1  \n2                  1.0              1.0             0.0                1  \n3                  1.0              1.0             0.0                1  \n4                  1.0              1.0             0.0                1  \n5                  1.0              1.0             0.0                1  \n6                  1.0              1.0             0.0                1  \n7                  1.0              1.0             0.0                1  \n8                  1.0              1.0             0.0                1  \n9                  1.0              1.0             0.0                1  \n10                 1.0              1.0             0.0                1  \n11                 1.0              1.0             0.0                1  \n12                 1.0              1.0             0.0                1  \n13                 1.0              1.0             0.0                1  \n14                 1.0              1.0             0.0                1  \n15                 1.0              1.0             0.0                1  \n16                 1.0              1.0             0.0                1  \n17                 1.0              1.0             0.0                1  \n18                 1.0              1.0             0.0                1  \n19                 1.0              1.0             0.0                1  \n20                 1.0              1.0             0.0                1  \n21                 1.0              1.0             0.0                1  \n22                 1.0              1.0             0.0                1  \n23                 1.0              1.0             0.0                1  \n24                 1.0              1.0             0.0                1  \n25                 1.0              1.0             0.0                1  \n26                 1.0              1.0             0.0                1  \n27                 1.0              1.0             0.0                1  \n28                 1.0              1.0             0.0                1  \n29                 1.0              1.0             0.0                1  \n30                 1.0              1.0             0.0                1  \n31                 1.0              1.0             0.0                1  \n32                 1.0              1.0             0.0                1  \n33                 1.0              1.0             0.0                1  \n34                 1.0              1.0             0.0                1  \n35                 1.0              1.0             0.0                1  \n36                 1.0              1.0             0.0                1  \n37                 1.0              1.0             0.0                1  \n38                 1.0              1.0             0.0                1  \n39                 1.0              1.0             0.0                1  \n40                 1.0              1.0             0.0                1  \n41                 1.0              1.0             0.0                1  \n42                 1.0              1.0             0.0                1  \n43                 1.0              1.0             0.0                1  \n44                 1.0              1.0             0.0                1  \n45                 1.0              1.0             0.0                1  \n46                 1.0              1.0             0.0                1  \n47                 1.0              1.0             0.0                1  \n48                 1.0              1.0             0.0                1  \n\n[49 rows x 29 columns]",
      "text/html": "<div>\n<style scoped>\n    .dataframe tbody tr th:only-of-type {\n        vertical-align: middle;\n    }\n\n    .dataframe tbody tr th {\n        vertical-align: top;\n    }\n\n    .dataframe thead th {\n        text-align: right;\n    }\n</style>\n<table border=\"1\" class=\"dataframe\">\n  <thead>\n    <tr style=\"text-align: right;\">\n      <th></th>\n      <th>mean_fit_time</th>\n      <th>std_fit_time</th>\n      <th>mean_score_time</th>\n      <th>std_score_time</th>\n      <th>param_n_neighbors</th>\n      <th>params</th>\n      <th>split0_test_score</th>\n      <th>split1_test_score</th>\n      <th>split2_test_score</th>\n      <th>split3_test_score</th>\n      <th>...</th>\n      <th>split13_test_score</th>\n      <th>split14_test_score</th>\n      <th>split15_test_score</th>\n      <th>split16_test_score</th>\n      <th>split17_test_score</th>\n      <th>split18_test_score</th>\n      <th>split19_test_score</th>\n      <th>mean_test_score</th>\n      <th>std_test_score</th>\n      <th>rank_test_score</th>\n    </tr>\n  </thead>\n  <tbody>\n    <tr>\n      <th>0</th>\n      <td>0.006097</td>\n      <td>0.000563</td>\n      <td>0.006876</td>\n      <td>0.000746</td>\n      <td>1</td>\n      <td>{'n_neighbors': 1}</td>\n      <td>1.0</td>\n      <td>1.0</td>\n      <td>1.0</td>\n      <td>1.0</td>\n      <td>...</td>\n      <td>1.0</td>\n      <td>1.0</td>\n      <td>1.0</td>\n      <td>1.0</td>\n      <td>1.0</td>\n      <td>1.0</td>\n      <td>1.0</td>\n      <td>1.0</td>\n      <td>0.0</td>\n      <td>1</td>\n    </tr>\n    <tr>\n      <th>1</th>\n      <td>0.008593</td>\n      <td>0.003589</td>\n      <td>0.011670</td>\n      <td>0.004371</td>\n      <td>2</td>\n      <td>{'n_neighbors': 2}</td>\n      <td>1.0</td>\n      <td>1.0</td>\n      <td>1.0</td>\n      <td>1.0</td>\n      <td>...</td>\n      <td>1.0</td>\n      <td>1.0</td>\n      <td>1.0</td>\n      <td>1.0</td>\n      <td>1.0</td>\n      <td>1.0</td>\n      <td>1.0</td>\n      <td>1.0</td>\n      <td>0.0</td>\n      <td>1</td>\n    </tr>\n    <tr>\n      <th>2</th>\n      <td>0.006583</td>\n      <td>0.000878</td>\n      <td>0.008109</td>\n      <td>0.001500</td>\n      <td>3</td>\n      <td>{'n_neighbors': 3}</td>\n      <td>1.0</td>\n      <td>1.0</td>\n      <td>1.0</td>\n      <td>1.0</td>\n      <td>...</td>\n      <td>1.0</td>\n      <td>1.0</td>\n      <td>1.0</td>\n      <td>1.0</td>\n      <td>1.0</td>\n      <td>1.0</td>\n      <td>1.0</td>\n      <td>1.0</td>\n      <td>0.0</td>\n      <td>1</td>\n    </tr>\n    <tr>\n      <th>3</th>\n      <td>0.006433</td>\n      <td>0.000454</td>\n      <td>0.007667</td>\n      <td>0.000539</td>\n      <td>4</td>\n      <td>{'n_neighbors': 4}</td>\n      <td>1.0</td>\n      <td>1.0</td>\n      <td>1.0</td>\n      <td>1.0</td>\n      <td>...</td>\n      <td>1.0</td>\n      <td>1.0</td>\n      <td>1.0</td>\n      <td>1.0</td>\n      <td>1.0</td>\n      <td>1.0</td>\n      <td>1.0</td>\n      <td>1.0</td>\n      <td>0.0</td>\n      <td>1</td>\n    </tr>\n    <tr>\n      <th>4</th>\n      <td>0.006308</td>\n      <td>0.000567</td>\n      <td>0.007706</td>\n      <td>0.000629</td>\n      <td>5</td>\n      <td>{'n_neighbors': 5}</td>\n      <td>1.0</td>\n      <td>1.0</td>\n      <td>1.0</td>\n      <td>1.0</td>\n      <td>...</td>\n      <td>1.0</td>\n      <td>1.0</td>\n      <td>1.0</td>\n      <td>1.0</td>\n      <td>1.0</td>\n      <td>1.0</td>\n      <td>1.0</td>\n      <td>1.0</td>\n      <td>0.0</td>\n      <td>1</td>\n    </tr>\n    <tr>\n      <th>5</th>\n      <td>0.006359</td>\n      <td>0.000437</td>\n      <td>0.008202</td>\n      <td>0.000916</td>\n      <td>6</td>\n      <td>{'n_neighbors': 6}</td>\n      <td>1.0</td>\n      <td>1.0</td>\n      <td>1.0</td>\n      <td>1.0</td>\n      <td>...</td>\n      <td>1.0</td>\n      <td>1.0</td>\n      <td>1.0</td>\n      <td>1.0</td>\n      <td>1.0</td>\n      <td>1.0</td>\n      <td>1.0</td>\n      <td>1.0</td>\n      <td>0.0</td>\n      <td>1</td>\n    </tr>\n    <tr>\n      <th>6</th>\n      <td>0.006444</td>\n      <td>0.000571</td>\n      <td>0.008047</td>\n      <td>0.000678</td>\n      <td>7</td>\n      <td>{'n_neighbors': 7}</td>\n      <td>1.0</td>\n      <td>1.0</td>\n      <td>1.0</td>\n      <td>1.0</td>\n      <td>...</td>\n      <td>1.0</td>\n      <td>1.0</td>\n      <td>1.0</td>\n      <td>1.0</td>\n      <td>1.0</td>\n      <td>1.0</td>\n      <td>1.0</td>\n      <td>1.0</td>\n      <td>0.0</td>\n      <td>1</td>\n    </tr>\n    <tr>\n      <th>7</th>\n      <td>0.006169</td>\n      <td>0.000281</td>\n      <td>0.008384</td>\n      <td>0.000701</td>\n      <td>8</td>\n      <td>{'n_neighbors': 8}</td>\n      <td>1.0</td>\n      <td>1.0</td>\n      <td>1.0</td>\n      <td>1.0</td>\n      <td>...</td>\n      <td>1.0</td>\n      <td>1.0</td>\n      <td>1.0</td>\n      <td>1.0</td>\n      <td>1.0</td>\n      <td>1.0</td>\n      <td>1.0</td>\n      <td>1.0</td>\n      <td>0.0</td>\n      <td>1</td>\n    </tr>\n    <tr>\n      <th>8</th>\n      <td>0.006694</td>\n      <td>0.001597</td>\n      <td>0.007733</td>\n      <td>0.000604</td>\n      <td>9</td>\n      <td>{'n_neighbors': 9}</td>\n      <td>1.0</td>\n      <td>1.0</td>\n      <td>1.0</td>\n      <td>1.0</td>\n      <td>...</td>\n      <td>1.0</td>\n      <td>1.0</td>\n      <td>1.0</td>\n      <td>1.0</td>\n      <td>1.0</td>\n      <td>1.0</td>\n      <td>1.0</td>\n      <td>1.0</td>\n      <td>0.0</td>\n      <td>1</td>\n    </tr>\n    <tr>\n      <th>9</th>\n      <td>0.005797</td>\n      <td>0.000536</td>\n      <td>0.007054</td>\n      <td>0.000487</td>\n      <td>10</td>\n      <td>{'n_neighbors': 10}</td>\n      <td>1.0</td>\n      <td>1.0</td>\n      <td>1.0</td>\n      <td>1.0</td>\n      <td>...</td>\n      <td>1.0</td>\n      <td>1.0</td>\n      <td>1.0</td>\n      <td>1.0</td>\n      <td>1.0</td>\n      <td>1.0</td>\n      <td>1.0</td>\n      <td>1.0</td>\n      <td>0.0</td>\n      <td>1</td>\n    </tr>\n    <tr>\n      <th>10</th>\n      <td>0.005967</td>\n      <td>0.000499</td>\n      <td>0.007654</td>\n      <td>0.000670</td>\n      <td>11</td>\n      <td>{'n_neighbors': 11}</td>\n      <td>1.0</td>\n      <td>1.0</td>\n      <td>1.0</td>\n      <td>1.0</td>\n      <td>...</td>\n      <td>1.0</td>\n      <td>1.0</td>\n      <td>1.0</td>\n      <td>1.0</td>\n      <td>1.0</td>\n      <td>1.0</td>\n      <td>1.0</td>\n      <td>1.0</td>\n      <td>0.0</td>\n      <td>1</td>\n    </tr>\n    <tr>\n      <th>11</th>\n      <td>0.005826</td>\n      <td>0.000534</td>\n      <td>0.007296</td>\n      <td>0.000821</td>\n      <td>12</td>\n      <td>{'n_neighbors': 12}</td>\n      <td>1.0</td>\n      <td>1.0</td>\n      <td>1.0</td>\n      <td>1.0</td>\n      <td>...</td>\n      <td>1.0</td>\n      <td>1.0</td>\n      <td>1.0</td>\n      <td>1.0</td>\n      <td>1.0</td>\n      <td>1.0</td>\n      <td>1.0</td>\n      <td>1.0</td>\n      <td>0.0</td>\n      <td>1</td>\n    </tr>\n    <tr>\n      <th>12</th>\n      <td>0.005804</td>\n      <td>0.000377</td>\n      <td>0.007684</td>\n      <td>0.000669</td>\n      <td>13</td>\n      <td>{'n_neighbors': 13}</td>\n      <td>1.0</td>\n      <td>1.0</td>\n      <td>1.0</td>\n      <td>1.0</td>\n      <td>...</td>\n      <td>1.0</td>\n      <td>1.0</td>\n      <td>1.0</td>\n      <td>1.0</td>\n      <td>1.0</td>\n      <td>1.0</td>\n      <td>1.0</td>\n      <td>1.0</td>\n      <td>0.0</td>\n      <td>1</td>\n    </tr>\n    <tr>\n      <th>13</th>\n      <td>0.006270</td>\n      <td>0.000568</td>\n      <td>0.007550</td>\n      <td>0.000478</td>\n      <td>14</td>\n      <td>{'n_neighbors': 14}</td>\n      <td>1.0</td>\n      <td>1.0</td>\n      <td>1.0</td>\n      <td>1.0</td>\n      <td>...</td>\n      <td>1.0</td>\n      <td>1.0</td>\n      <td>1.0</td>\n      <td>1.0</td>\n      <td>1.0</td>\n      <td>1.0</td>\n      <td>1.0</td>\n      <td>1.0</td>\n      <td>0.0</td>\n      <td>1</td>\n    </tr>\n    <tr>\n      <th>14</th>\n      <td>0.006550</td>\n      <td>0.000462</td>\n      <td>0.008317</td>\n      <td>0.000631</td>\n      <td>15</td>\n      <td>{'n_neighbors': 15}</td>\n      <td>1.0</td>\n      <td>1.0</td>\n      <td>1.0</td>\n      <td>1.0</td>\n      <td>...</td>\n      <td>1.0</td>\n      <td>1.0</td>\n      <td>1.0</td>\n      <td>1.0</td>\n      <td>1.0</td>\n      <td>1.0</td>\n      <td>1.0</td>\n      <td>1.0</td>\n      <td>0.0</td>\n      <td>1</td>\n    </tr>\n    <tr>\n      <th>15</th>\n      <td>0.006407</td>\n      <td>0.000531</td>\n      <td>0.008002</td>\n      <td>0.000625</td>\n      <td>16</td>\n      <td>{'n_neighbors': 16}</td>\n      <td>1.0</td>\n      <td>1.0</td>\n      <td>1.0</td>\n      <td>1.0</td>\n      <td>...</td>\n      <td>1.0</td>\n      <td>1.0</td>\n      <td>1.0</td>\n      <td>1.0</td>\n      <td>1.0</td>\n      <td>1.0</td>\n      <td>1.0</td>\n      <td>1.0</td>\n      <td>0.0</td>\n      <td>1</td>\n    </tr>\n    <tr>\n      <th>16</th>\n      <td>0.006141</td>\n      <td>0.000489</td>\n      <td>0.007753</td>\n      <td>0.000489</td>\n      <td>17</td>\n      <td>{'n_neighbors': 17}</td>\n      <td>1.0</td>\n      <td>1.0</td>\n      <td>1.0</td>\n      <td>1.0</td>\n      <td>...</td>\n      <td>1.0</td>\n      <td>1.0</td>\n      <td>1.0</td>\n      <td>1.0</td>\n      <td>1.0</td>\n      <td>1.0</td>\n      <td>1.0</td>\n      <td>1.0</td>\n      <td>0.0</td>\n      <td>1</td>\n    </tr>\n    <tr>\n      <th>17</th>\n      <td>0.006111</td>\n      <td>0.000680</td>\n      <td>0.008360</td>\n      <td>0.001269</td>\n      <td>18</td>\n      <td>{'n_neighbors': 18}</td>\n      <td>1.0</td>\n      <td>1.0</td>\n      <td>1.0</td>\n      <td>1.0</td>\n      <td>...</td>\n      <td>1.0</td>\n      <td>1.0</td>\n      <td>1.0</td>\n      <td>1.0</td>\n      <td>1.0</td>\n      <td>1.0</td>\n      <td>1.0</td>\n      <td>1.0</td>\n      <td>0.0</td>\n      <td>1</td>\n    </tr>\n    <tr>\n      <th>18</th>\n      <td>0.006250</td>\n      <td>0.000508</td>\n      <td>0.007761</td>\n      <td>0.000775</td>\n      <td>19</td>\n      <td>{'n_neighbors': 19}</td>\n      <td>1.0</td>\n      <td>1.0</td>\n      <td>1.0</td>\n      <td>1.0</td>\n      <td>...</td>\n      <td>1.0</td>\n      <td>1.0</td>\n      <td>1.0</td>\n      <td>1.0</td>\n      <td>1.0</td>\n      <td>1.0</td>\n      <td>1.0</td>\n      <td>1.0</td>\n      <td>0.0</td>\n      <td>1</td>\n    </tr>\n    <tr>\n      <th>19</th>\n      <td>0.006106</td>\n      <td>0.000505</td>\n      <td>0.007972</td>\n      <td>0.000645</td>\n      <td>20</td>\n      <td>{'n_neighbors': 20}</td>\n      <td>1.0</td>\n      <td>1.0</td>\n      <td>1.0</td>\n      <td>1.0</td>\n      <td>...</td>\n      <td>1.0</td>\n      <td>1.0</td>\n      <td>1.0</td>\n      <td>1.0</td>\n      <td>1.0</td>\n      <td>1.0</td>\n      <td>1.0</td>\n      <td>1.0</td>\n      <td>0.0</td>\n      <td>1</td>\n    </tr>\n    <tr>\n      <th>20</th>\n      <td>0.006052</td>\n      <td>0.000497</td>\n      <td>0.007898</td>\n      <td>0.000426</td>\n      <td>21</td>\n      <td>{'n_neighbors': 21}</td>\n      <td>1.0</td>\n      <td>1.0</td>\n      <td>1.0</td>\n      <td>1.0</td>\n      <td>...</td>\n      <td>1.0</td>\n      <td>1.0</td>\n      <td>1.0</td>\n      <td>1.0</td>\n      <td>1.0</td>\n      <td>1.0</td>\n      <td>1.0</td>\n      <td>1.0</td>\n      <td>0.0</td>\n      <td>1</td>\n    </tr>\n    <tr>\n      <th>21</th>\n      <td>0.006196</td>\n      <td>0.000656</td>\n      <td>0.008775</td>\n      <td>0.001880</td>\n      <td>22</td>\n      <td>{'n_neighbors': 22}</td>\n      <td>1.0</td>\n      <td>1.0</td>\n      <td>1.0</td>\n      <td>1.0</td>\n      <td>...</td>\n      <td>1.0</td>\n      <td>1.0</td>\n      <td>1.0</td>\n      <td>1.0</td>\n      <td>1.0</td>\n      <td>1.0</td>\n      <td>1.0</td>\n      <td>1.0</td>\n      <td>0.0</td>\n      <td>1</td>\n    </tr>\n    <tr>\n      <th>22</th>\n      <td>0.005770</td>\n      <td>0.000483</td>\n      <td>0.007809</td>\n      <td>0.000647</td>\n      <td>23</td>\n      <td>{'n_neighbors': 23}</td>\n      <td>1.0</td>\n      <td>1.0</td>\n      <td>1.0</td>\n      <td>1.0</td>\n      <td>...</td>\n      <td>1.0</td>\n      <td>1.0</td>\n      <td>1.0</td>\n      <td>1.0</td>\n      <td>1.0</td>\n      <td>1.0</td>\n      <td>1.0</td>\n      <td>1.0</td>\n      <td>0.0</td>\n      <td>1</td>\n    </tr>\n    <tr>\n      <th>23</th>\n      <td>0.005965</td>\n      <td>0.000409</td>\n      <td>0.007872</td>\n      <td>0.000578</td>\n      <td>24</td>\n      <td>{'n_neighbors': 24}</td>\n      <td>1.0</td>\n      <td>1.0</td>\n      <td>1.0</td>\n      <td>1.0</td>\n      <td>...</td>\n      <td>1.0</td>\n      <td>1.0</td>\n      <td>1.0</td>\n      <td>1.0</td>\n      <td>1.0</td>\n      <td>1.0</td>\n      <td>1.0</td>\n      <td>1.0</td>\n      <td>0.0</td>\n      <td>1</td>\n    </tr>\n    <tr>\n      <th>24</th>\n      <td>0.006245</td>\n      <td>0.000596</td>\n      <td>0.008228</td>\n      <td>0.000580</td>\n      <td>25</td>\n      <td>{'n_neighbors': 25}</td>\n      <td>1.0</td>\n      <td>1.0</td>\n      <td>1.0</td>\n      <td>1.0</td>\n      <td>...</td>\n      <td>1.0</td>\n      <td>1.0</td>\n      <td>1.0</td>\n      <td>1.0</td>\n      <td>1.0</td>\n      <td>1.0</td>\n      <td>1.0</td>\n      <td>1.0</td>\n      <td>0.0</td>\n      <td>1</td>\n    </tr>\n    <tr>\n      <th>25</th>\n      <td>0.006196</td>\n      <td>0.000540</td>\n      <td>0.007958</td>\n      <td>0.000575</td>\n      <td>26</td>\n      <td>{'n_neighbors': 26}</td>\n      <td>1.0</td>\n      <td>1.0</td>\n      <td>1.0</td>\n      <td>1.0</td>\n      <td>...</td>\n      <td>1.0</td>\n      <td>1.0</td>\n      <td>1.0</td>\n      <td>1.0</td>\n      <td>1.0</td>\n      <td>1.0</td>\n      <td>1.0</td>\n      <td>1.0</td>\n      <td>0.0</td>\n      <td>1</td>\n    </tr>\n    <tr>\n      <th>26</th>\n      <td>0.006406</td>\n      <td>0.001325</td>\n      <td>0.008129</td>\n      <td>0.000566</td>\n      <td>27</td>\n      <td>{'n_neighbors': 27}</td>\n      <td>1.0</td>\n      <td>1.0</td>\n      <td>1.0</td>\n      <td>1.0</td>\n      <td>...</td>\n      <td>1.0</td>\n      <td>1.0</td>\n      <td>1.0</td>\n      <td>1.0</td>\n      <td>1.0</td>\n      <td>1.0</td>\n      <td>1.0</td>\n      <td>1.0</td>\n      <td>0.0</td>\n      <td>1</td>\n    </tr>\n    <tr>\n      <th>27</th>\n      <td>0.006145</td>\n      <td>0.000497</td>\n      <td>0.008240</td>\n      <td>0.000540</td>\n      <td>28</td>\n      <td>{'n_neighbors': 28}</td>\n      <td>1.0</td>\n      <td>1.0</td>\n      <td>1.0</td>\n      <td>1.0</td>\n      <td>...</td>\n      <td>1.0</td>\n      <td>1.0</td>\n      <td>1.0</td>\n      <td>1.0</td>\n      <td>1.0</td>\n      <td>1.0</td>\n      <td>1.0</td>\n      <td>1.0</td>\n      <td>0.0</td>\n      <td>1</td>\n    </tr>\n    <tr>\n      <th>28</th>\n      <td>0.006077</td>\n      <td>0.000578</td>\n      <td>0.008214</td>\n      <td>0.000530</td>\n      <td>29</td>\n      <td>{'n_neighbors': 29}</td>\n      <td>1.0</td>\n      <td>1.0</td>\n      <td>1.0</td>\n      <td>1.0</td>\n      <td>...</td>\n      <td>1.0</td>\n      <td>1.0</td>\n      <td>1.0</td>\n      <td>1.0</td>\n      <td>1.0</td>\n      <td>1.0</td>\n      <td>1.0</td>\n      <td>1.0</td>\n      <td>0.0</td>\n      <td>1</td>\n    </tr>\n    <tr>\n      <th>29</th>\n      <td>0.005958</td>\n      <td>0.000525</td>\n      <td>0.008120</td>\n      <td>0.000621</td>\n      <td>30</td>\n      <td>{'n_neighbors': 30}</td>\n      <td>1.0</td>\n      <td>1.0</td>\n      <td>1.0</td>\n      <td>1.0</td>\n      <td>...</td>\n      <td>1.0</td>\n      <td>1.0</td>\n      <td>1.0</td>\n      <td>1.0</td>\n      <td>1.0</td>\n      <td>1.0</td>\n      <td>1.0</td>\n      <td>1.0</td>\n      <td>0.0</td>\n      <td>1</td>\n    </tr>\n    <tr>\n      <th>30</th>\n      <td>0.005938</td>\n      <td>0.000435</td>\n      <td>0.008183</td>\n      <td>0.000641</td>\n      <td>31</td>\n      <td>{'n_neighbors': 31}</td>\n      <td>1.0</td>\n      <td>1.0</td>\n      <td>1.0</td>\n      <td>1.0</td>\n      <td>...</td>\n      <td>1.0</td>\n      <td>1.0</td>\n      <td>1.0</td>\n      <td>1.0</td>\n      <td>1.0</td>\n      <td>1.0</td>\n      <td>1.0</td>\n      <td>1.0</td>\n      <td>0.0</td>\n      <td>1</td>\n    </tr>\n    <tr>\n      <th>31</th>\n      <td>0.005653</td>\n      <td>0.000415</td>\n      <td>0.007971</td>\n      <td>0.000598</td>\n      <td>32</td>\n      <td>{'n_neighbors': 32}</td>\n      <td>1.0</td>\n      <td>1.0</td>\n      <td>1.0</td>\n      <td>1.0</td>\n      <td>...</td>\n      <td>1.0</td>\n      <td>1.0</td>\n      <td>1.0</td>\n      <td>1.0</td>\n      <td>1.0</td>\n      <td>1.0</td>\n      <td>1.0</td>\n      <td>1.0</td>\n      <td>0.0</td>\n      <td>1</td>\n    </tr>\n    <tr>\n      <th>32</th>\n      <td>0.005883</td>\n      <td>0.000885</td>\n      <td>0.007848</td>\n      <td>0.000604</td>\n      <td>33</td>\n      <td>{'n_neighbors': 33}</td>\n      <td>1.0</td>\n      <td>1.0</td>\n      <td>1.0</td>\n      <td>1.0</td>\n      <td>...</td>\n      <td>1.0</td>\n      <td>1.0</td>\n      <td>1.0</td>\n      <td>1.0</td>\n      <td>1.0</td>\n      <td>1.0</td>\n      <td>1.0</td>\n      <td>1.0</td>\n      <td>0.0</td>\n      <td>1</td>\n    </tr>\n    <tr>\n      <th>33</th>\n      <td>0.005890</td>\n      <td>0.000498</td>\n      <td>0.008415</td>\n      <td>0.000860</td>\n      <td>34</td>\n      <td>{'n_neighbors': 34}</td>\n      <td>1.0</td>\n      <td>1.0</td>\n      <td>1.0</td>\n      <td>1.0</td>\n      <td>...</td>\n      <td>1.0</td>\n      <td>1.0</td>\n      <td>1.0</td>\n      <td>1.0</td>\n      <td>1.0</td>\n      <td>1.0</td>\n      <td>1.0</td>\n      <td>1.0</td>\n      <td>0.0</td>\n      <td>1</td>\n    </tr>\n    <tr>\n      <th>34</th>\n      <td>0.005915</td>\n      <td>0.000422</td>\n      <td>0.008340</td>\n      <td>0.000707</td>\n      <td>35</td>\n      <td>{'n_neighbors': 35}</td>\n      <td>1.0</td>\n      <td>1.0</td>\n      <td>1.0</td>\n      <td>1.0</td>\n      <td>...</td>\n      <td>1.0</td>\n      <td>1.0</td>\n      <td>1.0</td>\n      <td>1.0</td>\n      <td>1.0</td>\n      <td>1.0</td>\n      <td>1.0</td>\n      <td>1.0</td>\n      <td>0.0</td>\n      <td>1</td>\n    </tr>\n    <tr>\n      <th>35</th>\n      <td>0.005857</td>\n      <td>0.000448</td>\n      <td>0.008517</td>\n      <td>0.000723</td>\n      <td>36</td>\n      <td>{'n_neighbors': 36}</td>\n      <td>1.0</td>\n      <td>1.0</td>\n      <td>1.0</td>\n      <td>1.0</td>\n      <td>...</td>\n      <td>1.0</td>\n      <td>1.0</td>\n      <td>1.0</td>\n      <td>1.0</td>\n      <td>1.0</td>\n      <td>1.0</td>\n      <td>1.0</td>\n      <td>1.0</td>\n      <td>0.0</td>\n      <td>1</td>\n    </tr>\n    <tr>\n      <th>36</th>\n      <td>0.006028</td>\n      <td>0.000451</td>\n      <td>0.008727</td>\n      <td>0.000620</td>\n      <td>37</td>\n      <td>{'n_neighbors': 37}</td>\n      <td>1.0</td>\n      <td>1.0</td>\n      <td>1.0</td>\n      <td>1.0</td>\n      <td>...</td>\n      <td>1.0</td>\n      <td>1.0</td>\n      <td>1.0</td>\n      <td>1.0</td>\n      <td>1.0</td>\n      <td>1.0</td>\n      <td>1.0</td>\n      <td>1.0</td>\n      <td>0.0</td>\n      <td>1</td>\n    </tr>\n    <tr>\n      <th>37</th>\n      <td>0.006089</td>\n      <td>0.000584</td>\n      <td>0.008878</td>\n      <td>0.000708</td>\n      <td>38</td>\n      <td>{'n_neighbors': 38}</td>\n      <td>1.0</td>\n      <td>1.0</td>\n      <td>1.0</td>\n      <td>1.0</td>\n      <td>...</td>\n      <td>1.0</td>\n      <td>1.0</td>\n      <td>1.0</td>\n      <td>1.0</td>\n      <td>1.0</td>\n      <td>1.0</td>\n      <td>1.0</td>\n      <td>1.0</td>\n      <td>0.0</td>\n      <td>1</td>\n    </tr>\n    <tr>\n      <th>38</th>\n      <td>0.005937</td>\n      <td>0.000585</td>\n      <td>0.008215</td>\n      <td>0.000662</td>\n      <td>39</td>\n      <td>{'n_neighbors': 39}</td>\n      <td>1.0</td>\n      <td>1.0</td>\n      <td>1.0</td>\n      <td>1.0</td>\n      <td>...</td>\n      <td>1.0</td>\n      <td>1.0</td>\n      <td>1.0</td>\n      <td>1.0</td>\n      <td>1.0</td>\n      <td>1.0</td>\n      <td>1.0</td>\n      <td>1.0</td>\n      <td>0.0</td>\n      <td>1</td>\n    </tr>\n    <tr>\n      <th>39</th>\n      <td>0.006195</td>\n      <td>0.000926</td>\n      <td>0.009139</td>\n      <td>0.004089</td>\n      <td>40</td>\n      <td>{'n_neighbors': 40}</td>\n      <td>1.0</td>\n      <td>1.0</td>\n      <td>1.0</td>\n      <td>1.0</td>\n      <td>...</td>\n      <td>1.0</td>\n      <td>1.0</td>\n      <td>1.0</td>\n      <td>1.0</td>\n      <td>1.0</td>\n      <td>1.0</td>\n      <td>1.0</td>\n      <td>1.0</td>\n      <td>0.0</td>\n      <td>1</td>\n    </tr>\n    <tr>\n      <th>40</th>\n      <td>0.006249</td>\n      <td>0.000786</td>\n      <td>0.009171</td>\n      <td>0.002247</td>\n      <td>41</td>\n      <td>{'n_neighbors': 41}</td>\n      <td>1.0</td>\n      <td>1.0</td>\n      <td>1.0</td>\n      <td>1.0</td>\n      <td>...</td>\n      <td>1.0</td>\n      <td>1.0</td>\n      <td>1.0</td>\n      <td>1.0</td>\n      <td>1.0</td>\n      <td>1.0</td>\n      <td>1.0</td>\n      <td>1.0</td>\n      <td>0.0</td>\n      <td>1</td>\n    </tr>\n    <tr>\n      <th>41</th>\n      <td>0.006364</td>\n      <td>0.001523</td>\n      <td>0.009146</td>\n      <td>0.001765</td>\n      <td>42</td>\n      <td>{'n_neighbors': 42}</td>\n      <td>1.0</td>\n      <td>1.0</td>\n      <td>1.0</td>\n      <td>1.0</td>\n      <td>...</td>\n      <td>1.0</td>\n      <td>1.0</td>\n      <td>1.0</td>\n      <td>1.0</td>\n      <td>1.0</td>\n      <td>1.0</td>\n      <td>1.0</td>\n      <td>1.0</td>\n      <td>0.0</td>\n      <td>1</td>\n    </tr>\n    <tr>\n      <th>42</th>\n      <td>0.006325</td>\n      <td>0.000427</td>\n      <td>0.009212</td>\n      <td>0.001151</td>\n      <td>43</td>\n      <td>{'n_neighbors': 43}</td>\n      <td>1.0</td>\n      <td>1.0</td>\n      <td>1.0</td>\n      <td>1.0</td>\n      <td>...</td>\n      <td>1.0</td>\n      <td>1.0</td>\n      <td>1.0</td>\n      <td>1.0</td>\n      <td>1.0</td>\n      <td>1.0</td>\n      <td>1.0</td>\n      <td>1.0</td>\n      <td>0.0</td>\n      <td>1</td>\n    </tr>\n    <tr>\n      <th>43</th>\n      <td>0.006129</td>\n      <td>0.000520</td>\n      <td>0.008991</td>\n      <td>0.000738</td>\n      <td>44</td>\n      <td>{'n_neighbors': 44}</td>\n      <td>1.0</td>\n      <td>1.0</td>\n      <td>1.0</td>\n      <td>1.0</td>\n      <td>...</td>\n      <td>1.0</td>\n      <td>1.0</td>\n      <td>1.0</td>\n      <td>1.0</td>\n      <td>1.0</td>\n      <td>1.0</td>\n      <td>1.0</td>\n      <td>1.0</td>\n      <td>0.0</td>\n      <td>1</td>\n    </tr>\n    <tr>\n      <th>44</th>\n      <td>0.005832</td>\n      <td>0.000583</td>\n      <td>0.008291</td>\n      <td>0.000511</td>\n      <td>45</td>\n      <td>{'n_neighbors': 45}</td>\n      <td>1.0</td>\n      <td>1.0</td>\n      <td>1.0</td>\n      <td>1.0</td>\n      <td>...</td>\n      <td>1.0</td>\n      <td>1.0</td>\n      <td>1.0</td>\n      <td>1.0</td>\n      <td>1.0</td>\n      <td>1.0</td>\n      <td>1.0</td>\n      <td>1.0</td>\n      <td>0.0</td>\n      <td>1</td>\n    </tr>\n    <tr>\n      <th>45</th>\n      <td>0.005581</td>\n      <td>0.000478</td>\n      <td>0.008573</td>\n      <td>0.001215</td>\n      <td>46</td>\n      <td>{'n_neighbors': 46}</td>\n      <td>1.0</td>\n      <td>1.0</td>\n      <td>1.0</td>\n      <td>1.0</td>\n      <td>...</td>\n      <td>1.0</td>\n      <td>1.0</td>\n      <td>1.0</td>\n      <td>1.0</td>\n      <td>1.0</td>\n      <td>1.0</td>\n      <td>1.0</td>\n      <td>1.0</td>\n      <td>0.0</td>\n      <td>1</td>\n    </tr>\n    <tr>\n      <th>46</th>\n      <td>0.005865</td>\n      <td>0.000563</td>\n      <td>0.008787</td>\n      <td>0.000506</td>\n      <td>47</td>\n      <td>{'n_neighbors': 47}</td>\n      <td>1.0</td>\n      <td>1.0</td>\n      <td>1.0</td>\n      <td>1.0</td>\n      <td>...</td>\n      <td>1.0</td>\n      <td>1.0</td>\n      <td>1.0</td>\n      <td>1.0</td>\n      <td>1.0</td>\n      <td>1.0</td>\n      <td>1.0</td>\n      <td>1.0</td>\n      <td>0.0</td>\n      <td>1</td>\n    </tr>\n    <tr>\n      <th>47</th>\n      <td>0.006207</td>\n      <td>0.000922</td>\n      <td>0.009026</td>\n      <td>0.000867</td>\n      <td>48</td>\n      <td>{'n_neighbors': 48}</td>\n      <td>1.0</td>\n      <td>1.0</td>\n      <td>1.0</td>\n      <td>1.0</td>\n      <td>...</td>\n      <td>1.0</td>\n      <td>1.0</td>\n      <td>1.0</td>\n      <td>1.0</td>\n      <td>1.0</td>\n      <td>1.0</td>\n      <td>1.0</td>\n      <td>1.0</td>\n      <td>0.0</td>\n      <td>1</td>\n    </tr>\n    <tr>\n      <th>48</th>\n      <td>0.006076</td>\n      <td>0.000552</td>\n      <td>0.009196</td>\n      <td>0.000747</td>\n      <td>49</td>\n      <td>{'n_neighbors': 49}</td>\n      <td>1.0</td>\n      <td>1.0</td>\n      <td>1.0</td>\n      <td>1.0</td>\n      <td>...</td>\n      <td>1.0</td>\n      <td>1.0</td>\n      <td>1.0</td>\n      <td>1.0</td>\n      <td>1.0</td>\n      <td>1.0</td>\n      <td>1.0</td>\n      <td>1.0</td>\n      <td>0.0</td>\n      <td>1</td>\n    </tr>\n  </tbody>\n</table>\n<p>49 rows × 29 columns</p>\n</div>"
     },
     "execution_count": 22,
     "metadata": {},
     "output_type": "execute_result"
    }
   ],
   "source": [
    "scores"
   ],
   "metadata": {
    "collapsed": false,
    "ExecuteTime": {
     "end_time": "2023-10-01T15:05:00.733065100Z",
     "start_time": "2023-10-01T15:05:00.686580800Z"
    }
   },
   "id": "a53f93396199eb00"
  },
  {
   "cell_type": "markdown",
   "source": [
    "##### Plot the accuracy as a function of the k-value. You need to extract that information from the model. How sensitive is the performance of the model for different k-values?"
   ],
   "metadata": {
    "collapsed": false
   },
   "id": "45a2f13074af7a2b"
  },
  {
   "cell_type": "code",
   "execution_count": 23,
   "outputs": [],
   "source": [
    "mean_test_score = scores['mean_test_score']"
   ],
   "metadata": {
    "collapsed": false,
    "ExecuteTime": {
     "end_time": "2023-10-01T15:05:00.758932400Z",
     "start_time": "2023-10-01T15:05:00.733065100Z"
    }
   },
   "id": "fdbdf422e44d97e1"
  },
  {
   "cell_type": "code",
   "execution_count": 24,
   "outputs": [
    {
     "data": {
      "text/plain": "0     1.0\n1     1.0\n2     1.0\n3     1.0\n4     1.0\n5     1.0\n6     1.0\n7     1.0\n8     1.0\n9     1.0\n10    1.0\n11    1.0\n12    1.0\n13    1.0\n14    1.0\n15    1.0\n16    1.0\n17    1.0\n18    1.0\n19    1.0\n20    1.0\n21    1.0\n22    1.0\n23    1.0\n24    1.0\n25    1.0\n26    1.0\n27    1.0\n28    1.0\n29    1.0\n30    1.0\n31    1.0\n32    1.0\n33    1.0\n34    1.0\n35    1.0\n36    1.0\n37    1.0\n38    1.0\n39    1.0\n40    1.0\n41    1.0\n42    1.0\n43    1.0\n44    1.0\n45    1.0\n46    1.0\n47    1.0\n48    1.0\nName: mean_test_score, dtype: float64"
     },
     "execution_count": 24,
     "metadata": {},
     "output_type": "execute_result"
    }
   ],
   "source": [
    "mean_test_score"
   ],
   "metadata": {
    "collapsed": false,
    "ExecuteTime": {
     "end_time": "2023-10-01T15:05:00.805571700Z",
     "start_time": "2023-10-01T15:05:00.748198600Z"
    }
   },
   "id": "5768b9bab72500ca"
  },
  {
   "cell_type": "code",
   "execution_count": 25,
   "outputs": [
    {
     "data": {
      "text/plain": "<Axes: title={'center': 'Accuracy'}, xlabel='k'>"
     },
     "execution_count": 25,
     "metadata": {},
     "output_type": "execute_result"
    },
    {
     "data": {
      "text/plain": "<Figure size 640x480 with 1 Axes>",
      "image/png": "[encoded data removed]"
     },
     "metadata": {},
     "output_type": "display_data"
    }
   ],
   "source": [
    "mean_test_score.plot(title = 'Accuracy', xlabel='k')"
   ],
   "metadata": {
    "collapsed": false,
    "ExecuteTime": {
     "end_time": "2023-10-01T15:05:00.876558200Z",
     "start_time": "2023-10-01T15:05:00.765663900Z"
    }
   },
   "id": "c91eb6fbfa244d03"
  },
  {
   "cell_type": "markdown",
   "source": [
    "#### Now it is time to look at the test set with the optimal k-value"
   ],
   "metadata": {
    "collapsed": false
   },
   "id": "efa8072fa80deb3e"
  },
  {
   "cell_type": "markdown",
   "source": [
    "##### Use the model on the test set and acquire both the accuracy and the plot the confusion matrix"
   ],
   "metadata": {
    "collapsed": false
   },
   "id": "229378e30ea60e96"
  },
  {
   "cell_type": "code",
   "execution_count": 26,
   "outputs": [],
   "source": [
    "y_pred = grid.predict(X=X_test)"
   ],
   "metadata": {
    "collapsed": false,
    "ExecuteTime": {
     "end_time": "2023-10-01T15:05:00.935587200Z",
     "start_time": "2023-10-01T15:05:00.874562300Z"
    }
   },
   "id": "eff4a8d658b74dce"
  },
  {
   "cell_type": "code",
   "execution_count": 27,
   "outputs": [
    {
     "data": {
      "text/plain": "1.0"
     },
     "execution_count": 27,
     "metadata": {},
     "output_type": "execute_result"
    }
   ],
   "source": [
    "accuracy_score(y_true=y_test, y_pred=y_pred)"
   ],
   "metadata": {
    "collapsed": false,
    "ExecuteTime": {
     "end_time": "2023-10-01T15:05:00.950468700Z",
     "start_time": "2023-10-01T15:05:00.935587200Z"
    }
   },
   "id": "a3ec4f0df6bb6bf6"
  },
  {
   "cell_type": "code",
   "execution_count": 28,
   "outputs": [],
   "source": [
    "X_test_sample = testing_set.drop('class', axis='columns')\n",
    "y_true_sample = testing_set['class']\n",
    "y_test_pred = grid.predict(X=X_test_sample)"
   ],
   "metadata": {
    "collapsed": false,
    "ExecuteTime": {
     "end_time": "2023-10-01T15:05:01.044789700Z",
     "start_time": "2023-10-01T15:05:00.951468600Z"
    }
   },
   "id": "95ab247cb456cc58"
  },
  {
   "cell_type": "code",
   "execution_count": 29,
   "outputs": [
    {
     "name": "stdout",
     "output_type": "stream",
     "text": [
      "Validation set accuracy: 1.0\n",
      "Test set accuracy: 1.0\n"
     ]
    }
   ],
   "source": [
    "display_accuracy(accuracy_score(y_true=y_test, y_pred=y_pred), accuracy_score(y_true=y_true_sample, y_pred=y_test_pred))"
   ],
   "metadata": {
    "collapsed": false,
    "ExecuteTime": {
     "end_time": "2023-10-01T15:05:01.059876200Z",
     "start_time": "2023-10-01T15:05:01.045792200Z"
    }
   },
   "id": "f43ed1a0f4557285"
  },
  {
   "cell_type": "markdown",
   "source": [
    "##### Explain the result in the confusion matrix"
   ],
   "metadata": {
    "collapsed": false
   },
   "id": "6054195921d0157d"
  },
  {
   "cell_type": "code",
   "execution_count": 30,
   "outputs": [
    {
     "data": {
      "text/plain": "<Figure size 640x480 with 1 Axes>",
      "image/png": "[encoded data removed]"
     },
     "metadata": {},
     "output_type": "display_data"
    }
   ],
   "source": [
    "sns_cm(y_test, y_pred)"
   ],
   "metadata": {
    "collapsed": false,
    "ExecuteTime": {
     "end_time": "2023-10-01T15:05:01.126535500Z",
     "start_time": "2023-10-01T15:05:01.061380100Z"
    }
   },
   "id": "5629cfbb66dc20b8"
  },
  {
   "cell_type": "code",
   "execution_count": 31,
   "outputs": [
    {
     "data": {
      "text/plain": "<Figure size 640x480 with 1 Axes>",
      "image/png": "[encoded data removed]"
     },
     "metadata": {},
     "output_type": "display_data"
    }
   ],
   "source": [
    "sns_cm(y_true_sample, y_test_pred)"
   ],
   "metadata": {
    "collapsed": false,
    "ExecuteTime": {
     "end_time": "2023-10-01T15:05:01.200393600Z",
     "start_time": "2023-10-01T15:05:01.123531400Z"
    }
   },
   "id": "6960928fc65bdff0"
  },
  {
   "cell_type": "markdown",
   "source": [
    "##### Scatter plot of training sets\n",
    "The accelerometer values are spaced quite apart, and easily distinguishable. Hence, the 100% accuracy"
   ],
   "metadata": {
    "collapsed": false
   },
   "id": "f38c44f09723b086"
  },
  {
   "cell_type": "code",
   "execution_count": 32,
   "outputs": [
    {
     "data": {
      "text/plain": "<Axes: xlabel='ax', ylabel='ay'>"
     },
     "execution_count": 32,
     "metadata": {},
     "output_type": "execute_result"
    },
    {
     "data": {
      "text/plain": "<Figure size 640x480 with 1 Axes>",
      "image/png": "[encoded data removed]"
     },
     "metadata": {},
     "output_type": "display_data"
    }
   ],
   "source": [
    "scatter_plot(training_sets)"
   ],
   "metadata": {
    "collapsed": false,
    "ExecuteTime": {
     "end_time": "2023-10-01T15:05:01.407719100Z",
     "start_time": "2023-10-01T15:05:01.201394900Z"
    }
   },
   "id": "a40beb0413cfe04c"
  },
  {
   "cell_type": "markdown",
   "source": [
    "##### Scatter plot of testing sets\n",
    "The same goes for the testing sets"
   ],
   "metadata": {
    "collapsed": false
   },
   "id": "8e31fd6723011571"
  },
  {
   "cell_type": "code",
   "execution_count": 33,
   "outputs": [
    {
     "data": {
      "text/plain": "<Axes: xlabel='ax', ylabel='ay'>"
     },
     "execution_count": 33,
     "metadata": {},
     "output_type": "execute_result"
    },
    {
     "data": {
      "text/plain": "<Figure size 640x480 with 1 Axes>",
      "image/png": "[encoded data removed]"
     },
     "metadata": {},
     "output_type": "display_data"
    }
   ],
   "source": [
    "scatter_plot(testing_sets)"
   ],
   "metadata": {
    "collapsed": false,
    "ExecuteTime": {
     "end_time": "2023-10-01T15:05:01.570116700Z",
     "start_time": "2023-10-01T15:05:01.408719300Z"
    }
   },
   "id": "f23d6841b90fc126"
  }
 ],
 "metadata": {
  "kernelspec": {
   "display_name": "Python 3",
   "language": "python",
   "name": "python3"
  },
  "language_info": {
   "codemirror_mode": {
    "name": "ipython",
    "version": 2
   },
   "file_extension": ".py",
   "mimetype": "text/x-python",
   "name": "python",
   "nbconvert_exporter": "python",
   "pygments_lexer": "ipython2",
   "version": "2.7.6"
  }
 },
 "nbformat": 4,
 "nbformat_minor": 5
}
