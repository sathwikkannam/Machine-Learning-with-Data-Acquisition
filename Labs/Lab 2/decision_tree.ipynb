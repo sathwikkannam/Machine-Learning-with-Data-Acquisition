{
 "cells": [
  {
   "cell_type": "code",
   "execution_count": null,
   "outputs": [],
   "source": [
    "import import_ipynb as ipynb\n",
    "import pandas as pd\n",
    "\n",
    "from sklearn.tree import DecisionTreeClassifier, plot_tree\n",
    "from sklearn.metrics import confusion_matrix, accuracy_score\n",
    "from sklearn.model_selection import GridSearchCV"
   ],
   "metadata": {
    "collapsed": false
   },
   "id": "b2408eb95f514d53"
  },
  {
   "cell_type": "code",
   "execution_count": null,
   "outputs": [],
   "source": [
    "knn = ipynb.NotebookLoader().load_module('knn')"
   ],
   "metadata": {
    "collapsed": false
   },
   "id": "74529d8c18fcb7bb"
  },
  {
   "cell_type": "markdown",
   "source": [
    "#### Now we continue with the decision tree. You should use the decision tree classifier you find in scikit-learn."
   ],
   "metadata": {
    "collapsed": false
   },
   "id": "322c8b0d00084023"
  },
  {
   "cell_type": "markdown",
   "source": [
    "##### Use the gridsearchCV as you did for KNN. As hyperparameters use max_depth and criterion. Use accuracy as previously"
   ],
   "metadata": {
    "collapsed": false
   },
   "id": "605599cc134067cf"
  },
  {
   "cell_type": "code",
   "execution_count": null,
   "outputs": [],
   "source": [
    "dt = DecisionTreeClassifier()"
   ],
   "metadata": {
    "collapsed": false
   },
   "id": "c0ef17ff5fa41b38"
  },
  {
   "cell_type": "markdown",
   "source": [
    "##### hyperparameters"
   ],
   "metadata": {
    "collapsed": false
   },
   "id": "4a831a1e8d894d39"
  },
  {
   "cell_type": "code",
   "execution_count": null,
   "outputs": [],
   "source": [
    "param_grid = {\n",
    "    'max_depth': list(range(1, 50)),\n",
    "    'criterion': ['gini', 'entropy']\n",
    "}"
   ],
   "metadata": {
    "collapsed": false
   },
   "id": "f244ae4d6028c979"
  },
  {
   "cell_type": "code",
   "execution_count": null,
   "outputs": [],
   "source": [
    "grid = GridSearchCV(estimator=dt,\n",
    "                    param_grid=param_grid,\n",
    "                    cv=knn.folds,\n",
    "                    scoring='accuracy',\n",
    "                    return_train_score=False)"
   ],
   "metadata": {
    "collapsed": false
   },
   "id": "7ac9a29ed3bc48ed"
  },
  {
   "cell_type": "code",
   "execution_count": null,
   "outputs": [],
   "source": [
    "grid.fit(knn.X_train, knn.y_train)"
   ],
   "metadata": {
    "collapsed": false
   },
   "id": "9659977e802e28dc"
  },
  {
   "cell_type": "markdown",
   "source": [
    "##### Does the criterion have an impact on the accuracy? Make an investigation so you can answer this question"
   ],
   "metadata": {
    "collapsed": false
   },
   "id": "b6acaaa404bc6b70"
  },
  {
   "cell_type": "code",
   "execution_count": null,
   "outputs": [],
   "source": [
    "pd.DataFrame(grid.cv_results_)"
   ],
   "metadata": {
    "collapsed": false
   },
   "id": "df567d630fa37016"
  },
  {
   "cell_type": "markdown",
   "source": [
    "##### Plot the tree with the optimal hyperparameters"
   ],
   "metadata": {
    "collapsed": false
   },
   "id": "be9b4dff46c69a99"
  },
  {
   "cell_type": "code",
   "execution_count": null,
   "outputs": [],
   "source": [
    "plot_tree(\n",
    "    decision_tree=grid.best_estimator_,\n",
    "    feature_names=['ax', 'ay', 'az', 'gx', 'gy', 'gz'],\n",
    "    class_names=knn.stationary_positions\n",
    ")"
   ],
   "metadata": {
    "collapsed": false
   },
   "id": "10d96cad25cfa686"
  },
  {
   "cell_type": "markdown",
   "source": [
    "#### Now it is time you look at the test set."
   ],
   "metadata": {
    "collapsed": false
   },
   "id": "f106859a02e36c2d"
  },
  {
   "cell_type": "markdown",
   "source": [
    "##### Using the tree-model above to predict the accuracy."
   ],
   "metadata": {
    "collapsed": false
   },
   "id": "5c36ca4de51b591e"
  },
  {
   "cell_type": "code",
   "execution_count": null,
   "outputs": [],
   "source": [
    "y_pred = grid.predict(X=knn.X_test)"
   ],
   "metadata": {
    "collapsed": false
   },
   "id": "95d4028de6553296"
  },
  {
   "cell_type": "code",
   "execution_count": null,
   "outputs": [],
   "source": [
    "accuracy_score(y_true=knn.y_test, y_pred=y_pred)"
   ],
   "metadata": {
    "collapsed": false
   },
   "id": "b5b14471f1c112ff"
  },
  {
   "cell_type": "markdown",
   "source": [
    "##### Plot the confusion matrix as well"
   ],
   "metadata": {
    "collapsed": false
   },
   "id": "951f71ea151e10fe"
  },
  {
   "cell_type": "code",
   "execution_count": null,
   "outputs": [],
   "source": [
    "confusion_matrix(y_true=knn.y_test, y_pred=y_pred)"
   ],
   "metadata": {
    "collapsed": false
   },
   "id": "3ca7f209d53e8aac"
  },
  {
   "cell_type": "markdown",
   "source": [
    "##### Explain the difference between the accuracy for the validation set and the test set"
   ],
   "metadata": {
    "collapsed": false
   },
   "id": "93ed878bebb2a67c"
  },
  {
   "cell_type": "markdown",
   "source": [
    "##### Explain the result you see in the confusion matrix"
   ],
   "metadata": {
    "collapsed": false
   },
   "id": "9e2b5b368c027f7c"
  },
  {
   "cell_type": "markdown",
   "source": [
    "#### As a last step, it is time to compare the results from the KNN-model and the decision tree."
   ],
   "metadata": {
    "collapsed": false
   },
   "id": "b877e2b6949c45d"
  },
  {
   "cell_type": "markdown",
   "source": [
    "##### What is the difference between the accuracies?"
   ],
   "metadata": {
    "collapsed": false
   },
   "id": "cd806a7de10e1f3b"
  },
  {
   "cell_type": "markdown",
   "source": [
    "##### What is the difference between the confusion matrices?"
   ],
   "metadata": {
    "collapsed": false
   },
   "id": "584ddb66e677d2e7"
  }
 ],
 "metadata": {
  "kernelspec": {
   "display_name": "Python 3",
   "language": "python",
   "name": "python3"
  },
  "language_info": {
   "codemirror_mode": {
    "name": "ipython",
    "version": 2
   },
   "file_extension": ".py",
   "mimetype": "text/x-python",
   "name": "python",
   "nbconvert_exporter": "python",
   "pygments_lexer": "ipython2",
   "version": "2.7.6"
  }
 },
 "nbformat": 4,
 "nbformat_minor": 5
}
