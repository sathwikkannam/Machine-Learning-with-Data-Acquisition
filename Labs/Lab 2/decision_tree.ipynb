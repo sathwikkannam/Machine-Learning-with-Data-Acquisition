{
 "cells": [
  {
   "cell_type": "code",
   "execution_count": 1,
   "outputs": [],
   "source": [
    "import import_ipynb as ipynb\n",
    "import pandas as pd\n",
    "\n",
    "from sklearn.tree import DecisionTreeClassifier, plot_tree\n",
    "from sklearn.metrics import confusion_matrix, accuracy_score\n",
    "from sklearn.model_selection import GridSearchCV"
   ],
   "metadata": {
    "collapsed": false,
    "ExecuteTime": {
     "end_time": "2023-09-18T14:42:33.718383400Z",
     "start_time": "2023-09-18T14:42:32.923380400Z"
    }
   },
   "id": "b2408eb95f514d53"
  },
  {
   "cell_type": "code",
   "execution_count": 2,
   "outputs": [],
   "source": [
    "%%capture\n",
    "knn = ipynb.NotebookLoader().load_module('knn')"
   ],
   "metadata": {
    "collapsed": false,
    "ExecuteTime": {
     "end_time": "2023-09-18T14:42:50.977341Z",
     "start_time": "2023-09-18T14:42:33.719383300Z"
    }
   },
   "id": "74529d8c18fcb7bb"
  },
  {
   "cell_type": "markdown",
   "source": [
    "#### Now we continue with the decision tree. You should use the decision tree classifier you find in scikit-learn."
   ],
   "metadata": {
    "collapsed": false
   },
   "id": "322c8b0d00084023"
  },
  {
   "cell_type": "markdown",
   "source": [
    "##### Use the gridsearchCV as you did for KNN. As hyperparameters use max_depth and criterion. Use accuracy as previously"
   ],
   "metadata": {
    "collapsed": false
   },
   "id": "605599cc134067cf"
  },
  {
   "cell_type": "code",
   "execution_count": 3,
   "outputs": [],
   "source": [
    "dt = DecisionTreeClassifier()"
   ],
   "metadata": {
    "collapsed": false,
    "ExecuteTime": {
     "end_time": "2023-09-18T14:42:50.994427Z",
     "start_time": "2023-09-18T14:42:50.979835600Z"
    }
   },
   "id": "c0ef17ff5fa41b38"
  },
  {
   "cell_type": "markdown",
   "source": [
    "##### hyperparameters"
   ],
   "metadata": {
    "collapsed": false
   },
   "id": "4a831a1e8d894d39"
  },
  {
   "cell_type": "code",
   "execution_count": 4,
   "outputs": [],
   "source": [
    "param_grid = {\n",
    "    'max_depth': list(range(1, 50)),\n",
    "    'criterion': ['gini', 'entropy']\n",
    "}"
   ],
   "metadata": {
    "collapsed": false,
    "ExecuteTime": {
     "end_time": "2023-09-18T14:42:51.010936600Z",
     "start_time": "2023-09-18T14:42:50.994427Z"
    }
   },
   "id": "f244ae4d6028c979"
  },
  {
   "cell_type": "code",
   "execution_count": 5,
   "outputs": [],
   "source": [
    "grid = GridSearchCV(estimator=dt,\n",
    "                    param_grid=param_grid,\n",
    "                    cv=knn.folds,\n",
    "                    scoring='accuracy',\n",
    "                    return_train_score=False)"
   ],
   "metadata": {
    "collapsed": false,
    "ExecuteTime": {
     "end_time": "2023-09-18T14:42:51.032936200Z",
     "start_time": "2023-09-18T14:42:51.012936500Z"
    }
   },
   "id": "7ac9a29ed3bc48ed"
  },
  {
   "cell_type": "code",
   "execution_count": 6,
   "outputs": [
    {
     "data": {
      "text/plain": "GridSearchCV(cv=KFold(n_splits=20, random_state=None, shuffle=False),\n             estimator=DecisionTreeClassifier(),\n             param_grid={'criterion': ['gini', 'entropy'],\n                         'max_depth': [1, 2, 3, 4, 5, 6, 7, 8, 9, 10, 11, 12,\n                                       13, 14, 15, 16, 17, 18, 19, 20, 21, 22,\n                                       23, 24, 25, 26, 27, 28, 29, 30, ...]},\n             scoring='accuracy')",
      "text/html": "<style>#sk-container-id-1 {color: black;}#sk-container-id-1 pre{padding: 0;}#sk-container-id-1 div.sk-toggleable {background-color: white;}#sk-container-id-1 label.sk-toggleable__label {cursor: pointer;display: block;width: 100%;margin-bottom: 0;padding: 0.3em;box-sizing: border-box;text-align: center;}#sk-container-id-1 label.sk-toggleable__label-arrow:before {content: \"▸\";float: left;margin-right: 0.25em;color: #696969;}#sk-container-id-1 label.sk-toggleable__label-arrow:hover:before {color: black;}#sk-container-id-1 div.sk-estimator:hover label.sk-toggleable__label-arrow:before {color: black;}#sk-container-id-1 div.sk-toggleable__content {max-height: 0;max-width: 0;overflow: hidden;text-align: left;background-color: #f0f8ff;}#sk-container-id-1 div.sk-toggleable__content pre {margin: 0.2em;color: black;border-radius: 0.25em;background-color: #f0f8ff;}#sk-container-id-1 input.sk-toggleable__control:checked~div.sk-toggleable__content {max-height: 200px;max-width: 100%;overflow: auto;}#sk-container-id-1 input.sk-toggleable__control:checked~label.sk-toggleable__label-arrow:before {content: \"▾\";}#sk-container-id-1 div.sk-estimator input.sk-toggleable__control:checked~label.sk-toggleable__label {background-color: #d4ebff;}#sk-container-id-1 div.sk-label input.sk-toggleable__control:checked~label.sk-toggleable__label {background-color: #d4ebff;}#sk-container-id-1 input.sk-hidden--visually {border: 0;clip: rect(1px 1px 1px 1px);clip: rect(1px, 1px, 1px, 1px);height: 1px;margin: -1px;overflow: hidden;padding: 0;position: absolute;width: 1px;}#sk-container-id-1 div.sk-estimator {font-family: monospace;background-color: #f0f8ff;border: 1px dotted black;border-radius: 0.25em;box-sizing: border-box;margin-bottom: 0.5em;}#sk-container-id-1 div.sk-estimator:hover {background-color: #d4ebff;}#sk-container-id-1 div.sk-parallel-item::after {content: \"\";width: 100%;border-bottom: 1px solid gray;flex-grow: 1;}#sk-container-id-1 div.sk-label:hover label.sk-toggleable__label {background-color: #d4ebff;}#sk-container-id-1 div.sk-serial::before {content: \"\";position: absolute;border-left: 1px solid gray;box-sizing: border-box;top: 0;bottom: 0;left: 50%;z-index: 0;}#sk-container-id-1 div.sk-serial {display: flex;flex-direction: column;align-items: center;background-color: white;padding-right: 0.2em;padding-left: 0.2em;position: relative;}#sk-container-id-1 div.sk-item {position: relative;z-index: 1;}#sk-container-id-1 div.sk-parallel {display: flex;align-items: stretch;justify-content: center;background-color: white;position: relative;}#sk-container-id-1 div.sk-item::before, #sk-container-id-1 div.sk-parallel-item::before {content: \"\";position: absolute;border-left: 1px solid gray;box-sizing: border-box;top: 0;bottom: 0;left: 50%;z-index: -1;}#sk-container-id-1 div.sk-parallel-item {display: flex;flex-direction: column;z-index: 1;position: relative;background-color: white;}#sk-container-id-1 div.sk-parallel-item:first-child::after {align-self: flex-end;width: 50%;}#sk-container-id-1 div.sk-parallel-item:last-child::after {align-self: flex-start;width: 50%;}#sk-container-id-1 div.sk-parallel-item:only-child::after {width: 0;}#sk-container-id-1 div.sk-dashed-wrapped {border: 1px dashed gray;margin: 0 0.4em 0.5em 0.4em;box-sizing: border-box;padding-bottom: 0.4em;background-color: white;}#sk-container-id-1 div.sk-label label {font-family: monospace;font-weight: bold;display: inline-block;line-height: 1.2em;}#sk-container-id-1 div.sk-label-container {text-align: center;}#sk-container-id-1 div.sk-container {/* jupyter's `normalize.less` sets `[hidden] { display: none; }` but bootstrap.min.css set `[hidden] { display: none !important; }` so we also need the `!important` here to be able to override the default hidden behavior on the sphinx rendered scikit-learn.org. See: https://github.com/scikit-learn/scikit-learn/issues/21755 */display: inline-block !important;position: relative;}#sk-container-id-1 div.sk-text-repr-fallback {display: none;}</style><div id=\"sk-container-id-1\" class=\"sk-top-container\"><div class=\"sk-text-repr-fallback\"><pre>GridSearchCV(cv=KFold(n_splits=20, random_state=None, shuffle=False),\n             estimator=DecisionTreeClassifier(),\n             param_grid={&#x27;criterion&#x27;: [&#x27;gini&#x27;, &#x27;entropy&#x27;],\n                         &#x27;max_depth&#x27;: [1, 2, 3, 4, 5, 6, 7, 8, 9, 10, 11, 12,\n                                       13, 14, 15, 16, 17, 18, 19, 20, 21, 22,\n                                       23, 24, 25, 26, 27, 28, 29, 30, ...]},\n             scoring=&#x27;accuracy&#x27;)</pre><b>In a Jupyter environment, please rerun this cell to show the HTML representation or trust the notebook. <br />On GitHub, the HTML representation is unable to render, please try loading this page with nbviewer.org.</b></div><div class=\"sk-container\" hidden><div class=\"sk-item sk-dashed-wrapped\"><div class=\"sk-label-container\"><div class=\"sk-label sk-toggleable\"><input class=\"sk-toggleable__control sk-hidden--visually\" id=\"sk-estimator-id-1\" type=\"checkbox\" ><label for=\"sk-estimator-id-1\" class=\"sk-toggleable__label sk-toggleable__label-arrow\">GridSearchCV</label><div class=\"sk-toggleable__content\"><pre>GridSearchCV(cv=KFold(n_splits=20, random_state=None, shuffle=False),\n             estimator=DecisionTreeClassifier(),\n             param_grid={&#x27;criterion&#x27;: [&#x27;gini&#x27;, &#x27;entropy&#x27;],\n                         &#x27;max_depth&#x27;: [1, 2, 3, 4, 5, 6, 7, 8, 9, 10, 11, 12,\n                                       13, 14, 15, 16, 17, 18, 19, 20, 21, 22,\n                                       23, 24, 25, 26, 27, 28, 29, 30, ...]},\n             scoring=&#x27;accuracy&#x27;)</pre></div></div></div><div class=\"sk-parallel\"><div class=\"sk-parallel-item\"><div class=\"sk-item\"><div class=\"sk-label-container\"><div class=\"sk-label sk-toggleable\"><input class=\"sk-toggleable__control sk-hidden--visually\" id=\"sk-estimator-id-2\" type=\"checkbox\" ><label for=\"sk-estimator-id-2\" class=\"sk-toggleable__label sk-toggleable__label-arrow\">estimator: DecisionTreeClassifier</label><div class=\"sk-toggleable__content\"><pre>DecisionTreeClassifier()</pre></div></div></div><div class=\"sk-serial\"><div class=\"sk-item\"><div class=\"sk-estimator sk-toggleable\"><input class=\"sk-toggleable__control sk-hidden--visually\" id=\"sk-estimator-id-3\" type=\"checkbox\" ><label for=\"sk-estimator-id-3\" class=\"sk-toggleable__label sk-toggleable__label-arrow\">DecisionTreeClassifier</label><div class=\"sk-toggleable__content\"><pre>DecisionTreeClassifier()</pre></div></div></div></div></div></div></div></div></div></div>"
     },
     "execution_count": 6,
     "metadata": {},
     "output_type": "execute_result"
    }
   ],
   "source": [
    "grid.fit(knn.X_train, knn.y_train)"
   ],
   "metadata": {
    "collapsed": false,
    "ExecuteTime": {
     "end_time": "2023-09-18T14:43:03.933409500Z",
     "start_time": "2023-09-18T14:42:51.026936700Z"
    }
   },
   "id": "9659977e802e28dc"
  },
  {
   "cell_type": "code",
   "execution_count": 7,
   "outputs": [
    {
     "data": {
      "text/plain": "{'criterion': 'gini', 'max_depth': 2}"
     },
     "execution_count": 7,
     "metadata": {},
     "output_type": "execute_result"
    }
   ],
   "source": [
    "grid.best_params_"
   ],
   "metadata": {
    "collapsed": false,
    "ExecuteTime": {
     "end_time": "2023-09-18T14:43:03.953844600Z",
     "start_time": "2023-09-18T14:43:03.933409500Z"
    }
   },
   "id": "fef0a5107742c409"
  },
  {
   "cell_type": "code",
   "execution_count": 8,
   "outputs": [
    {
     "data": {
      "text/plain": "1.0"
     },
     "execution_count": 8,
     "metadata": {},
     "output_type": "execute_result"
    }
   ],
   "source": [
    "grid.best_score_"
   ],
   "metadata": {
    "collapsed": false,
    "ExecuteTime": {
     "end_time": "2023-09-18T14:43:03.963842900Z",
     "start_time": "2023-09-18T14:43:03.948467100Z"
    }
   },
   "id": "75e2a69661204e76"
  },
  {
   "cell_type": "markdown",
   "source": [
    "##### Does the criterion have an impact on the accuracy? Make an investigation so you can answer this question"
   ],
   "metadata": {
    "collapsed": false
   },
   "id": "b6acaaa404bc6b70"
  },
  {
   "cell_type": "code",
   "execution_count": 9,
   "outputs": [
    {
     "data": {
      "text/plain": "    mean_fit_time  std_fit_time  mean_score_time  std_score_time  \\\n0        0.005031      0.001490         0.000976        0.000512   \n1        0.005623      0.000655         0.001052        0.000387   \n2        0.006099      0.001062         0.001249        0.000433   \n3        0.005760      0.000576         0.001161        0.000572   \n4        0.007391      0.003229         0.001350        0.000653   \n..            ...           ...              ...             ...   \n93       0.005205      0.000409         0.000851        0.000357   \n94       0.005001      0.000318         0.000826        0.000427   \n95       0.005254      0.000535         0.000682        0.000512   \n96       0.005066      0.000237         0.000903        0.000437   \n97       0.004976      0.000335         0.000692        0.000523   \n\n   param_criterion param_max_depth                                     params  \\\n0             gini               1      {'criterion': 'gini', 'max_depth': 1}   \n1             gini               2      {'criterion': 'gini', 'max_depth': 2}   \n2             gini               3      {'criterion': 'gini', 'max_depth': 3}   \n3             gini               4      {'criterion': 'gini', 'max_depth': 4}   \n4             gini               5      {'criterion': 'gini', 'max_depth': 5}   \n..             ...             ...                                        ...   \n93         entropy              45  {'criterion': 'entropy', 'max_depth': 45}   \n94         entropy              46  {'criterion': 'entropy', 'max_depth': 46}   \n95         entropy              47  {'criterion': 'entropy', 'max_depth': 47}   \n96         entropy              48  {'criterion': 'entropy', 'max_depth': 48}   \n97         entropy              49  {'criterion': 'entropy', 'max_depth': 49}   \n\n    split0_test_score  split1_test_score  split2_test_score  ...  \\\n0            0.664615           0.673846           0.643077  ...   \n1            1.000000           1.000000           1.000000  ...   \n2            1.000000           1.000000           1.000000  ...   \n3            1.000000           1.000000           1.000000  ...   \n4            1.000000           1.000000           1.000000  ...   \n..                ...                ...                ...  ...   \n93           1.000000           1.000000           1.000000  ...   \n94           1.000000           1.000000           1.000000  ...   \n95           1.000000           1.000000           1.000000  ...   \n96           1.000000           1.000000           1.000000  ...   \n97           1.000000           1.000000           1.000000  ...   \n\n    split13_test_score  split14_test_score  split15_test_score  \\\n0             0.695385            0.624615            0.689231   \n1             1.000000            1.000000            1.000000   \n2             1.000000            1.000000            1.000000   \n3             1.000000            1.000000            1.000000   \n4             1.000000            1.000000            1.000000   \n..                 ...                 ...                 ...   \n93            1.000000            1.000000            1.000000   \n94            1.000000            1.000000            1.000000   \n95            1.000000            1.000000            1.000000   \n96            1.000000            1.000000            1.000000   \n97            1.000000            1.000000            1.000000   \n\n    split16_test_score  split17_test_score  split18_test_score  \\\n0             0.635802             0.62037            0.648148   \n1             1.000000             1.00000            1.000000   \n2             1.000000             1.00000            1.000000   \n3             1.000000             1.00000            1.000000   \n4             1.000000             1.00000            1.000000   \n..                 ...                 ...                 ...   \n93            1.000000             1.00000            1.000000   \n94            1.000000             1.00000            1.000000   \n95            1.000000             1.00000            1.000000   \n96            1.000000             1.00000            1.000000   \n97            1.000000             1.00000            1.000000   \n\n    split19_test_score  mean_test_score  std_test_score  rank_test_score  \n0              0.66358         0.660241        0.022143               97  \n1              1.00000         1.000000        0.000000                1  \n2              1.00000         1.000000        0.000000                1  \n3              1.00000         1.000000        0.000000                1  \n4              1.00000         1.000000        0.000000                1  \n..                 ...              ...             ...              ...  \n93             1.00000         1.000000        0.000000                1  \n94             1.00000         1.000000        0.000000                1  \n95             1.00000         1.000000        0.000000                1  \n96             1.00000         1.000000        0.000000                1  \n97             1.00000         1.000000        0.000000                1  \n\n[98 rows x 30 columns]",
      "text/html": "<div>\n<style scoped>\n    .dataframe tbody tr th:only-of-type {\n        vertical-align: middle;\n    }\n\n    .dataframe tbody tr th {\n        vertical-align: top;\n    }\n\n    .dataframe thead th {\n        text-align: right;\n    }\n</style>\n<table border=\"1\" class=\"dataframe\">\n  <thead>\n    <tr style=\"text-align: right;\">\n      <th></th>\n      <th>mean_fit_time</th>\n      <th>std_fit_time</th>\n      <th>mean_score_time</th>\n      <th>std_score_time</th>\n      <th>param_criterion</th>\n      <th>param_max_depth</th>\n      <th>params</th>\n      <th>split0_test_score</th>\n      <th>split1_test_score</th>\n      <th>split2_test_score</th>\n      <th>...</th>\n      <th>split13_test_score</th>\n      <th>split14_test_score</th>\n      <th>split15_test_score</th>\n      <th>split16_test_score</th>\n      <th>split17_test_score</th>\n      <th>split18_test_score</th>\n      <th>split19_test_score</th>\n      <th>mean_test_score</th>\n      <th>std_test_score</th>\n      <th>rank_test_score</th>\n    </tr>\n  </thead>\n  <tbody>\n    <tr>\n      <th>0</th>\n      <td>0.005031</td>\n      <td>0.001490</td>\n      <td>0.000976</td>\n      <td>0.000512</td>\n      <td>gini</td>\n      <td>1</td>\n      <td>{'criterion': 'gini', 'max_depth': 1}</td>\n      <td>0.664615</td>\n      <td>0.673846</td>\n      <td>0.643077</td>\n      <td>...</td>\n      <td>0.695385</td>\n      <td>0.624615</td>\n      <td>0.689231</td>\n      <td>0.635802</td>\n      <td>0.62037</td>\n      <td>0.648148</td>\n      <td>0.66358</td>\n      <td>0.660241</td>\n      <td>0.022143</td>\n      <td>97</td>\n    </tr>\n    <tr>\n      <th>1</th>\n      <td>0.005623</td>\n      <td>0.000655</td>\n      <td>0.001052</td>\n      <td>0.000387</td>\n      <td>gini</td>\n      <td>2</td>\n      <td>{'criterion': 'gini', 'max_depth': 2}</td>\n      <td>1.000000</td>\n      <td>1.000000</td>\n      <td>1.000000</td>\n      <td>...</td>\n      <td>1.000000</td>\n      <td>1.000000</td>\n      <td>1.000000</td>\n      <td>1.000000</td>\n      <td>1.00000</td>\n      <td>1.000000</td>\n      <td>1.00000</td>\n      <td>1.000000</td>\n      <td>0.000000</td>\n      <td>1</td>\n    </tr>\n    <tr>\n      <th>2</th>\n      <td>0.006099</td>\n      <td>0.001062</td>\n      <td>0.001249</td>\n      <td>0.000433</td>\n      <td>gini</td>\n      <td>3</td>\n      <td>{'criterion': 'gini', 'max_depth': 3}</td>\n      <td>1.000000</td>\n      <td>1.000000</td>\n      <td>1.000000</td>\n      <td>...</td>\n      <td>1.000000</td>\n      <td>1.000000</td>\n      <td>1.000000</td>\n      <td>1.000000</td>\n      <td>1.00000</td>\n      <td>1.000000</td>\n      <td>1.00000</td>\n      <td>1.000000</td>\n      <td>0.000000</td>\n      <td>1</td>\n    </tr>\n    <tr>\n      <th>3</th>\n      <td>0.005760</td>\n      <td>0.000576</td>\n      <td>0.001161</td>\n      <td>0.000572</td>\n      <td>gini</td>\n      <td>4</td>\n      <td>{'criterion': 'gini', 'max_depth': 4}</td>\n      <td>1.000000</td>\n      <td>1.000000</td>\n      <td>1.000000</td>\n      <td>...</td>\n      <td>1.000000</td>\n      <td>1.000000</td>\n      <td>1.000000</td>\n      <td>1.000000</td>\n      <td>1.00000</td>\n      <td>1.000000</td>\n      <td>1.00000</td>\n      <td>1.000000</td>\n      <td>0.000000</td>\n      <td>1</td>\n    </tr>\n    <tr>\n      <th>4</th>\n      <td>0.007391</td>\n      <td>0.003229</td>\n      <td>0.001350</td>\n      <td>0.000653</td>\n      <td>gini</td>\n      <td>5</td>\n      <td>{'criterion': 'gini', 'max_depth': 5}</td>\n      <td>1.000000</td>\n      <td>1.000000</td>\n      <td>1.000000</td>\n      <td>...</td>\n      <td>1.000000</td>\n      <td>1.000000</td>\n      <td>1.000000</td>\n      <td>1.000000</td>\n      <td>1.00000</td>\n      <td>1.000000</td>\n      <td>1.00000</td>\n      <td>1.000000</td>\n      <td>0.000000</td>\n      <td>1</td>\n    </tr>\n    <tr>\n      <th>...</th>\n      <td>...</td>\n      <td>...</td>\n      <td>...</td>\n      <td>...</td>\n      <td>...</td>\n      <td>...</td>\n      <td>...</td>\n      <td>...</td>\n      <td>...</td>\n      <td>...</td>\n      <td>...</td>\n      <td>...</td>\n      <td>...</td>\n      <td>...</td>\n      <td>...</td>\n      <td>...</td>\n      <td>...</td>\n      <td>...</td>\n      <td>...</td>\n      <td>...</td>\n      <td>...</td>\n    </tr>\n    <tr>\n      <th>93</th>\n      <td>0.005205</td>\n      <td>0.000409</td>\n      <td>0.000851</td>\n      <td>0.000357</td>\n      <td>entropy</td>\n      <td>45</td>\n      <td>{'criterion': 'entropy', 'max_depth': 45}</td>\n      <td>1.000000</td>\n      <td>1.000000</td>\n      <td>1.000000</td>\n      <td>...</td>\n      <td>1.000000</td>\n      <td>1.000000</td>\n      <td>1.000000</td>\n      <td>1.000000</td>\n      <td>1.00000</td>\n      <td>1.000000</td>\n      <td>1.00000</td>\n      <td>1.000000</td>\n      <td>0.000000</td>\n      <td>1</td>\n    </tr>\n    <tr>\n      <th>94</th>\n      <td>0.005001</td>\n      <td>0.000318</td>\n      <td>0.000826</td>\n      <td>0.000427</td>\n      <td>entropy</td>\n      <td>46</td>\n      <td>{'criterion': 'entropy', 'max_depth': 46}</td>\n      <td>1.000000</td>\n      <td>1.000000</td>\n      <td>1.000000</td>\n      <td>...</td>\n      <td>1.000000</td>\n      <td>1.000000</td>\n      <td>1.000000</td>\n      <td>1.000000</td>\n      <td>1.00000</td>\n      <td>1.000000</td>\n      <td>1.00000</td>\n      <td>1.000000</td>\n      <td>0.000000</td>\n      <td>1</td>\n    </tr>\n    <tr>\n      <th>95</th>\n      <td>0.005254</td>\n      <td>0.000535</td>\n      <td>0.000682</td>\n      <td>0.000512</td>\n      <td>entropy</td>\n      <td>47</td>\n      <td>{'criterion': 'entropy', 'max_depth': 47}</td>\n      <td>1.000000</td>\n      <td>1.000000</td>\n      <td>1.000000</td>\n      <td>...</td>\n      <td>1.000000</td>\n      <td>1.000000</td>\n      <td>1.000000</td>\n      <td>1.000000</td>\n      <td>1.00000</td>\n      <td>1.000000</td>\n      <td>1.00000</td>\n      <td>1.000000</td>\n      <td>0.000000</td>\n      <td>1</td>\n    </tr>\n    <tr>\n      <th>96</th>\n      <td>0.005066</td>\n      <td>0.000237</td>\n      <td>0.000903</td>\n      <td>0.000437</td>\n      <td>entropy</td>\n      <td>48</td>\n      <td>{'criterion': 'entropy', 'max_depth': 48}</td>\n      <td>1.000000</td>\n      <td>1.000000</td>\n      <td>1.000000</td>\n      <td>...</td>\n      <td>1.000000</td>\n      <td>1.000000</td>\n      <td>1.000000</td>\n      <td>1.000000</td>\n      <td>1.00000</td>\n      <td>1.000000</td>\n      <td>1.00000</td>\n      <td>1.000000</td>\n      <td>0.000000</td>\n      <td>1</td>\n    </tr>\n    <tr>\n      <th>97</th>\n      <td>0.004976</td>\n      <td>0.000335</td>\n      <td>0.000692</td>\n      <td>0.000523</td>\n      <td>entropy</td>\n      <td>49</td>\n      <td>{'criterion': 'entropy', 'max_depth': 49}</td>\n      <td>1.000000</td>\n      <td>1.000000</td>\n      <td>1.000000</td>\n      <td>...</td>\n      <td>1.000000</td>\n      <td>1.000000</td>\n      <td>1.000000</td>\n      <td>1.000000</td>\n      <td>1.00000</td>\n      <td>1.000000</td>\n      <td>1.00000</td>\n      <td>1.000000</td>\n      <td>0.000000</td>\n      <td>1</td>\n    </tr>\n  </tbody>\n</table>\n<p>98 rows × 30 columns</p>\n</div>"
     },
     "execution_count": 9,
     "metadata": {},
     "output_type": "execute_result"
    }
   ],
   "source": [
    "pd.DataFrame(grid.cv_results_)"
   ],
   "metadata": {
    "collapsed": false,
    "ExecuteTime": {
     "end_time": "2023-09-18T14:43:03.994857200Z",
     "start_time": "2023-09-18T14:43:03.964843700Z"
    }
   },
   "id": "df567d630fa37016"
  },
  {
   "cell_type": "markdown",
   "source": [
    "##### Plot the tree with the optimal hyperparameters"
   ],
   "metadata": {
    "collapsed": false
   },
   "id": "be9b4dff46c69a99"
  },
  {
   "cell_type": "code",
   "execution_count": 15,
   "outputs": [
    {
     "data": {
      "text/plain": "[Text(0.6, 0.8333333333333334, 'ax <= -1.011\\ngini = 0.667\\nsamples = 6496\\nvalue = [2175, 2153, 2168]\\nclass = Standing_up'),\n Text(0.4, 0.5, 'ay <= -5.098\\ngini = 0.5\\nsamples = 4321\\nvalue = [0, 2153, 2168]\\nclass = Laying_down'),\n Text(0.2, 0.16666666666666666, 'gini = 0.0\\nsamples = 2168\\nvalue = [0, 0, 2168]\\nclass = Laying_down'),\n Text(0.6, 0.16666666666666666, 'gini = 0.0\\nsamples = 2153\\nvalue = [0, 2153, 0]\\nclass = Sitting'),\n Text(0.8, 0.5, 'gini = 0.0\\nsamples = 2175\\nvalue = [2175, 0, 0]\\nclass = Standing_up')]"
     },
     "execution_count": 15,
     "metadata": {},
     "output_type": "execute_result"
    },
    {
     "data": {
      "text/plain": "<Figure size 640x480 with 1 Axes>",
      "image/png": "[encoded data removed]"
     },
     "metadata": {},
     "output_type": "display_data"
    }
   ],
   "source": [
    "plot_tree(\n",
    "    decision_tree=grid.best_estimator_,\n",
    "    feature_names=['ax', 'ay', 'az', 'gx', 'gy', 'gz'],\n",
    "    class_names=knn.stationary_positions\n",
    ")"
   ],
   "metadata": {
    "collapsed": false,
    "ExecuteTime": {
     "end_time": "2023-09-18T14:43:34.781234800Z",
     "start_time": "2023-09-18T14:43:34.667723200Z"
    }
   },
   "id": "10d96cad25cfa686"
  },
  {
   "cell_type": "markdown",
   "source": [
    "#### Now it is time you look at the test set."
   ],
   "metadata": {
    "collapsed": false
   },
   "id": "f106859a02e36c2d"
  },
  {
   "cell_type": "markdown",
   "source": [
    "##### Using the tree-model above to predict the accuracy."
   ],
   "metadata": {
    "collapsed": false
   },
   "id": "5c36ca4de51b591e"
  },
  {
   "cell_type": "code",
   "execution_count": 11,
   "outputs": [],
   "source": [
    "y_pred = grid.predict(X=knn.X_test)"
   ],
   "metadata": {
    "collapsed": false,
    "ExecuteTime": {
     "end_time": "2023-09-18T14:43:04.137673900Z",
     "start_time": "2023-09-18T14:43:04.123675100Z"
    }
   },
   "id": "95d4028de6553296"
  },
  {
   "cell_type": "code",
   "execution_count": 12,
   "outputs": [
    {
     "data": {
      "text/plain": "1.0"
     },
     "execution_count": 12,
     "metadata": {},
     "output_type": "execute_result"
    }
   ],
   "source": [
    "accuracy_score(y_true=knn.y_test, y_pred=y_pred)"
   ],
   "metadata": {
    "collapsed": false,
    "ExecuteTime": {
     "end_time": "2023-09-18T14:43:04.160457Z",
     "start_time": "2023-09-18T14:43:04.139679700Z"
    }
   },
   "id": "b5b14471f1c112ff"
  },
  {
   "cell_type": "markdown",
   "source": [
    "##### Plot the confusion matrix as well"
   ],
   "metadata": {
    "collapsed": false
   },
   "id": "951f71ea151e10fe"
  },
  {
   "cell_type": "code",
   "execution_count": 13,
   "outputs": [
    {
     "data": {
      "text/plain": "array([[974,   0,   0],\n       [  0, 923,   0],\n       [  0,   0, 888]], dtype=int64)"
     },
     "execution_count": 13,
     "metadata": {},
     "output_type": "execute_result"
    }
   ],
   "source": [
    "confusion_matrix(y_true=knn.y_test, y_pred=y_pred)"
   ],
   "metadata": {
    "collapsed": false,
    "ExecuteTime": {
     "end_time": "2023-09-18T14:43:04.169462300Z",
     "start_time": "2023-09-18T14:43:04.155147100Z"
    }
   },
   "id": "3ca7f209d53e8aac"
  },
  {
   "cell_type": "markdown",
   "source": [
    "##### Explain the difference between the accuracy for the validation set and the test set"
   ],
   "metadata": {
    "collapsed": false
   },
   "id": "93ed878bebb2a67c"
  },
  {
   "cell_type": "markdown",
   "source": [
    "##### Explain the result you see in the confusion matrix"
   ],
   "metadata": {
    "collapsed": false
   },
   "id": "9e2b5b368c027f7c"
  },
  {
   "cell_type": "markdown",
   "source": [
    "#### As a last step, it is time to compare the results from the KNN-model and the decision tree."
   ],
   "metadata": {
    "collapsed": false
   },
   "id": "b877e2b6949c45d"
  },
  {
   "cell_type": "markdown",
   "source": [
    "##### What is the difference between the accuracies?"
   ],
   "metadata": {
    "collapsed": false
   },
   "id": "cd806a7de10e1f3b"
  },
  {
   "cell_type": "markdown",
   "source": [
    "##### What is the difference between the confusion matrices?"
   ],
   "metadata": {
    "collapsed": false
   },
   "id": "584ddb66e677d2e7"
  }
 ],
 "metadata": {
  "kernelspec": {
   "display_name": "Python 3",
   "language": "python",
   "name": "python3"
  },
  "language_info": {
   "codemirror_mode": {
    "name": "ipython",
    "version": 2
   },
   "file_extension": ".py",
   "mimetype": "text/x-python",
   "name": "python",
   "nbconvert_exporter": "python",
   "pygments_lexer": "ipython2",
   "version": "2.7.6"
  }
 },
 "nbformat": 4,
 "nbformat_minor": 5
}
