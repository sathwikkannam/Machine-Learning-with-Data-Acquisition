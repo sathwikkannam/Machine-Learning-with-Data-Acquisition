{
 "cells": [
  {
   "cell_type": "code",
   "execution_count": 11,
   "id": "initial_id",
   "metadata": {
    "collapsed": true,
    "ExecuteTime": {
     "end_time": "2023-09-14T16:27:30.475670200Z",
     "start_time": "2023-09-14T16:27:30.464672Z"
    }
   },
   "outputs": [],
   "source": [
    "import import_ipynb as ipynb\n",
    "import os\n",
    "from pathlib import Path\n",
    "import pandas as pd\n",
    "\n",
    "from sklearn.model_selection import train_test_split\n",
    "from sklearn.neighbors import KNeighborsClassifier\n",
    "from sklearn.preprocessing import MinMaxScaler\n",
    "from sklearn.metrics import confusion_matrix\n",
    "from sklearn.model_selection import GridSearchCV"
   ]
  },
  {
   "cell_type": "markdown",
   "source": [
    "##### Change directories and load Lab 1"
   ],
   "metadata": {
    "collapsed": false
   },
   "id": "60aa30163b7c9a2b"
  },
  {
   "cell_type": "code",
   "execution_count": null,
   "outputs": [],
   "source": [
    "os.chdir(\"../Lab 1\")\n",
    "lab_1 = ipynb.NotebookLoader().load_module('lab1')\n",
    "os.chdir(\"../Lab 2\")"
   ],
   "metadata": {
    "collapsed": false
   },
   "id": "323c4b1522734a"
  },
  {
   "cell_type": "code",
   "execution_count": 8,
   "outputs": [],
   "source": [
    "training_set = [pd.read_pickle(_class) for _class in Path(\"../Lab 1/Binaries/Class dataframes\").rglob(\"*.pkl\")]"
   ],
   "metadata": {
    "collapsed": false,
    "ExecuteTime": {
     "end_time": "2023-09-14T16:21:54.461922200Z",
     "start_time": "2023-09-14T16:21:54.446938500Z"
    }
   },
   "id": "7ad63351c0127eb7"
  },
  {
   "cell_type": "code",
   "execution_count": 9,
   "outputs": [],
   "source": [
    "df = pd.concat(training_set, axis='rows', ignore_index=True)"
   ],
   "metadata": {
    "collapsed": false,
    "ExecuteTime": {
     "end_time": "2023-09-14T16:21:54.945849900Z",
     "start_time": "2023-09-14T16:21:54.930842100Z"
    }
   },
   "id": "8e98d46299f6d596"
  },
  {
   "cell_type": "code",
   "execution_count": 10,
   "outputs": [
    {
     "data": {
      "text/plain": "            ax         ay         az        gx        gy        gz  \\\n0     0.066700  -0.497707  -9.903594 -0.007330  0.003054 -0.004123   \n1     0.021236  -0.492921  -9.970892 -0.007330 -0.001833 -0.000458   \n2    -0.007478  -0.500100 -10.028319 -0.004887 -0.015271  0.003207   \n3    -0.019442  -0.512064  -9.822238 -0.002443 -0.021380  0.006872   \n4    -0.050548  -0.524028  -9.800702 -0.000000 -0.007941  0.009315   \n...        ...        ...        ...       ...       ...       ...   \n9255 -4.175775  -9.944870  -0.786940  1.016450 -0.075134 -0.100637   \n9256 -4.398307 -11.419746  -1.720739  1.186265  0.442864  0.005650   \n9257 -2.854039 -12.147463  -2.383850  1.271784  0.937651  0.170579   \n9258 -0.661017 -11.979965  -3.434897  1.299883  1.327371  0.337951   \n9259 -0.168096 -11.295020  -4.801797  1.297440  1.537503  0.467451   \n\n            class  \n0     Laying_down  \n1     Laying_down  \n2     Laying_down  \n3     Laying_down  \n4     Laying_down  \n...           ...  \n9255      Walking  \n9256      Walking  \n9257      Walking  \n9258      Walking  \n9259      Walking  \n\n[9260 rows x 7 columns]",
      "text/html": "<div>\n<style scoped>\n    .dataframe tbody tr th:only-of-type {\n        vertical-align: middle;\n    }\n\n    .dataframe tbody tr th {\n        vertical-align: top;\n    }\n\n    .dataframe thead th {\n        text-align: right;\n    }\n</style>\n<table border=\"1\" class=\"dataframe\">\n  <thead>\n    <tr style=\"text-align: right;\">\n      <th></th>\n      <th>ax</th>\n      <th>ay</th>\n      <th>az</th>\n      <th>gx</th>\n      <th>gy</th>\n      <th>gz</th>\n      <th>class</th>\n    </tr>\n  </thead>\n  <tbody>\n    <tr>\n      <th>0</th>\n      <td>0.066700</td>\n      <td>-0.497707</td>\n      <td>-9.903594</td>\n      <td>-0.007330</td>\n      <td>0.003054</td>\n      <td>-0.004123</td>\n      <td>Laying_down</td>\n    </tr>\n    <tr>\n      <th>1</th>\n      <td>0.021236</td>\n      <td>-0.492921</td>\n      <td>-9.970892</td>\n      <td>-0.007330</td>\n      <td>-0.001833</td>\n      <td>-0.000458</td>\n      <td>Laying_down</td>\n    </tr>\n    <tr>\n      <th>2</th>\n      <td>-0.007478</td>\n      <td>-0.500100</td>\n      <td>-10.028319</td>\n      <td>-0.004887</td>\n      <td>-0.015271</td>\n      <td>0.003207</td>\n      <td>Laying_down</td>\n    </tr>\n    <tr>\n      <th>3</th>\n      <td>-0.019442</td>\n      <td>-0.512064</td>\n      <td>-9.822238</td>\n      <td>-0.002443</td>\n      <td>-0.021380</td>\n      <td>0.006872</td>\n      <td>Laying_down</td>\n    </tr>\n    <tr>\n      <th>4</th>\n      <td>-0.050548</td>\n      <td>-0.524028</td>\n      <td>-9.800702</td>\n      <td>-0.000000</td>\n      <td>-0.007941</td>\n      <td>0.009315</td>\n      <td>Laying_down</td>\n    </tr>\n    <tr>\n      <th>...</th>\n      <td>...</td>\n      <td>...</td>\n      <td>...</td>\n      <td>...</td>\n      <td>...</td>\n      <td>...</td>\n      <td>...</td>\n    </tr>\n    <tr>\n      <th>9255</th>\n      <td>-4.175775</td>\n      <td>-9.944870</td>\n      <td>-0.786940</td>\n      <td>1.016450</td>\n      <td>-0.075134</td>\n      <td>-0.100637</td>\n      <td>Walking</td>\n    </tr>\n    <tr>\n      <th>9256</th>\n      <td>-4.398307</td>\n      <td>-11.419746</td>\n      <td>-1.720739</td>\n      <td>1.186265</td>\n      <td>0.442864</td>\n      <td>0.005650</td>\n      <td>Walking</td>\n    </tr>\n    <tr>\n      <th>9257</th>\n      <td>-2.854039</td>\n      <td>-12.147463</td>\n      <td>-2.383850</td>\n      <td>1.271784</td>\n      <td>0.937651</td>\n      <td>0.170579</td>\n      <td>Walking</td>\n    </tr>\n    <tr>\n      <th>9258</th>\n      <td>-0.661017</td>\n      <td>-11.979965</td>\n      <td>-3.434897</td>\n      <td>1.299883</td>\n      <td>1.327371</td>\n      <td>0.337951</td>\n      <td>Walking</td>\n    </tr>\n    <tr>\n      <th>9259</th>\n      <td>-0.168096</td>\n      <td>-11.295020</td>\n      <td>-4.801797</td>\n      <td>1.297440</td>\n      <td>1.537503</td>\n      <td>0.467451</td>\n      <td>Walking</td>\n    </tr>\n  </tbody>\n</table>\n<p>9260 rows × 7 columns</p>\n</div>"
     },
     "execution_count": 10,
     "metadata": {},
     "output_type": "execute_result"
    }
   ],
   "source": [
    "df"
   ],
   "metadata": {
    "collapsed": false,
    "ExecuteTime": {
     "end_time": "2023-09-14T16:21:55.415344600Z",
     "start_time": "2023-09-14T16:21:55.357763800Z"
    }
   },
   "id": "f05400b9903c8946"
  },
  {
   "cell_type": "code",
   "execution_count": 15,
   "outputs": [],
   "source": [
    "X = df.drop('class', axis='columns')\n",
    "y = df['class']"
   ],
   "metadata": {
    "collapsed": false,
    "ExecuteTime": {
     "end_time": "2023-09-14T16:28:13.687714Z",
     "start_time": "2023-09-14T16:28:13.664132900Z"
    }
   },
   "id": "667cf1dfe890d087"
  },
  {
   "cell_type": "code",
   "execution_count": 31,
   "outputs": [],
   "source": [
    "X_train, X_test, y_train, y_test = train_test_split(X, y, test_size=0.2,random_state=100)"
   ],
   "metadata": {
    "collapsed": false,
    "ExecuteTime": {
     "end_time": "2023-09-14T16:41:29.655994700Z",
     "start_time": "2023-09-14T16:41:29.641987100Z"
    }
   },
   "id": "6f7d48da7a942bbd"
  },
  {
   "cell_type": "code",
   "execution_count": 44,
   "outputs": [],
   "source": [
    "knn = KNeighborsClassifier()\n",
    "k_range = list(range(1, 50))\n",
    "param_grid = dict(n_neighbors=k_range)\n"
   ],
   "metadata": {
    "collapsed": false,
    "ExecuteTime": {
     "end_time": "2023-09-14T17:10:07.912241100Z",
     "start_time": "2023-09-14T17:10:07.902659800Z"
    }
   },
   "id": "4507cbef8942bf72"
  },
  {
   "cell_type": "code",
   "execution_count": 45,
   "outputs": [
    {
     "name": "stdout",
     "output_type": "stream",
     "text": [
      "Fitting 10 folds for each of 49 candidates, totalling 490 fits\n"
     ]
    }
   ],
   "source": [
    "# defining parameter range\n",
    "grid = GridSearchCV(knn, param_grid, cv=10, scoring='accuracy', return_train_score=False,verbose=1)\n",
    "\n",
    "# fitting the model for grid search\n",
    "grid_search=grid.fit(X_train, y_train)\n"
   ],
   "metadata": {
    "collapsed": false,
    "ExecuteTime": {
     "end_time": "2023-09-14T17:10:19.994040700Z",
     "start_time": "2023-09-14T17:10:08.313506800Z"
    }
   },
   "id": "1a91a36ac3455e5"
  },
  {
   "cell_type": "code",
   "execution_count": 87,
   "outputs": [],
   "source": [
    "mean_test_score = pd.DataFrame(grid.cv_results_['mean_test_score'])"
   ],
   "metadata": {
    "collapsed": false,
    "ExecuteTime": {
     "end_time": "2023-09-14T17:18:44.457979400Z",
     "start_time": "2023-09-14T17:18:44.424975Z"
    }
   },
   "id": "57876f06e8d0cba0"
  },
  {
   "cell_type": "code",
   "execution_count": 88,
   "outputs": [],
   "source": [
    "mean_test_score.rename({0: \"Accuracy\"}, axis='columns',inplace=True)\n",
    "mean_test_score.index.names = ['k']"
   ],
   "metadata": {
    "collapsed": false,
    "ExecuteTime": {
     "end_time": "2023-09-14T17:18:44.463979700Z",
     "start_time": "2023-09-14T17:18:44.445973600Z"
    }
   },
   "id": "c8ad59b8e2da087c"
  },
  {
   "cell_type": "code",
   "execution_count": 89,
   "outputs": [
    {
     "data": {
      "text/plain": "    Accuracy\nk           \n0   0.999325\n1   0.998785\n2   0.998785\n3   0.998650\n4   0.998650\n5   0.997975\n6   0.997975\n7   0.997840\n8   0.997840\n9   0.997570\n10  0.997570\n11  0.997165\n12  0.997300\n13  0.997030\n14  0.997030\n15  0.996625\n16  0.996625\n17  0.996490\n18  0.996490\n19  0.996490\n20  0.996490\n21  0.996490\n22  0.996490\n23  0.996490\n24  0.996490\n25  0.996220\n26  0.996220\n27  0.996220\n28  0.996220\n29  0.995950\n30  0.995950\n31  0.995950\n32  0.995950\n33  0.995815\n34  0.995815\n35  0.995815\n36  0.995815\n37  0.995680\n38  0.995680\n39  0.995545\n40  0.995545\n41  0.995410\n42  0.995410\n43  0.995140\n44  0.995140\n45  0.994735\n46  0.994735\n47  0.994330\n48  0.994465",
      "text/html": "<div>\n<style scoped>\n    .dataframe tbody tr th:only-of-type {\n        vertical-align: middle;\n    }\n\n    .dataframe tbody tr th {\n        vertical-align: top;\n    }\n\n    .dataframe thead th {\n        text-align: right;\n    }\n</style>\n<table border=\"1\" class=\"dataframe\">\n  <thead>\n    <tr style=\"text-align: right;\">\n      <th></th>\n      <th>Accuracy</th>\n    </tr>\n    <tr>\n      <th>k</th>\n      <th></th>\n    </tr>\n  </thead>\n  <tbody>\n    <tr>\n      <th>0</th>\n      <td>0.999325</td>\n    </tr>\n    <tr>\n      <th>1</th>\n      <td>0.998785</td>\n    </tr>\n    <tr>\n      <th>2</th>\n      <td>0.998785</td>\n    </tr>\n    <tr>\n      <th>3</th>\n      <td>0.998650</td>\n    </tr>\n    <tr>\n      <th>4</th>\n      <td>0.998650</td>\n    </tr>\n    <tr>\n      <th>5</th>\n      <td>0.997975</td>\n    </tr>\n    <tr>\n      <th>6</th>\n      <td>0.997975</td>\n    </tr>\n    <tr>\n      <th>7</th>\n      <td>0.997840</td>\n    </tr>\n    <tr>\n      <th>8</th>\n      <td>0.997840</td>\n    </tr>\n    <tr>\n      <th>9</th>\n      <td>0.997570</td>\n    </tr>\n    <tr>\n      <th>10</th>\n      <td>0.997570</td>\n    </tr>\n    <tr>\n      <th>11</th>\n      <td>0.997165</td>\n    </tr>\n    <tr>\n      <th>12</th>\n      <td>0.997300</td>\n    </tr>\n    <tr>\n      <th>13</th>\n      <td>0.997030</td>\n    </tr>\n    <tr>\n      <th>14</th>\n      <td>0.997030</td>\n    </tr>\n    <tr>\n      <th>15</th>\n      <td>0.996625</td>\n    </tr>\n    <tr>\n      <th>16</th>\n      <td>0.996625</td>\n    </tr>\n    <tr>\n      <th>17</th>\n      <td>0.996490</td>\n    </tr>\n    <tr>\n      <th>18</th>\n      <td>0.996490</td>\n    </tr>\n    <tr>\n      <th>19</th>\n      <td>0.996490</td>\n    </tr>\n    <tr>\n      <th>20</th>\n      <td>0.996490</td>\n    </tr>\n    <tr>\n      <th>21</th>\n      <td>0.996490</td>\n    </tr>\n    <tr>\n      <th>22</th>\n      <td>0.996490</td>\n    </tr>\n    <tr>\n      <th>23</th>\n      <td>0.996490</td>\n    </tr>\n    <tr>\n      <th>24</th>\n      <td>0.996490</td>\n    </tr>\n    <tr>\n      <th>25</th>\n      <td>0.996220</td>\n    </tr>\n    <tr>\n      <th>26</th>\n      <td>0.996220</td>\n    </tr>\n    <tr>\n      <th>27</th>\n      <td>0.996220</td>\n    </tr>\n    <tr>\n      <th>28</th>\n      <td>0.996220</td>\n    </tr>\n    <tr>\n      <th>29</th>\n      <td>0.995950</td>\n    </tr>\n    <tr>\n      <th>30</th>\n      <td>0.995950</td>\n    </tr>\n    <tr>\n      <th>31</th>\n      <td>0.995950</td>\n    </tr>\n    <tr>\n      <th>32</th>\n      <td>0.995950</td>\n    </tr>\n    <tr>\n      <th>33</th>\n      <td>0.995815</td>\n    </tr>\n    <tr>\n      <th>34</th>\n      <td>0.995815</td>\n    </tr>\n    <tr>\n      <th>35</th>\n      <td>0.995815</td>\n    </tr>\n    <tr>\n      <th>36</th>\n      <td>0.995815</td>\n    </tr>\n    <tr>\n      <th>37</th>\n      <td>0.995680</td>\n    </tr>\n    <tr>\n      <th>38</th>\n      <td>0.995680</td>\n    </tr>\n    <tr>\n      <th>39</th>\n      <td>0.995545</td>\n    </tr>\n    <tr>\n      <th>40</th>\n      <td>0.995545</td>\n    </tr>\n    <tr>\n      <th>41</th>\n      <td>0.995410</td>\n    </tr>\n    <tr>\n      <th>42</th>\n      <td>0.995410</td>\n    </tr>\n    <tr>\n      <th>43</th>\n      <td>0.995140</td>\n    </tr>\n    <tr>\n      <th>44</th>\n      <td>0.995140</td>\n    </tr>\n    <tr>\n      <th>45</th>\n      <td>0.994735</td>\n    </tr>\n    <tr>\n      <th>46</th>\n      <td>0.994735</td>\n    </tr>\n    <tr>\n      <th>47</th>\n      <td>0.994330</td>\n    </tr>\n    <tr>\n      <th>48</th>\n      <td>0.994465</td>\n    </tr>\n  </tbody>\n</table>\n</div>"
     },
     "execution_count": 89,
     "metadata": {},
     "output_type": "execute_result"
    }
   ],
   "source": [
    "mean_test_score"
   ],
   "metadata": {
    "collapsed": false,
    "ExecuteTime": {
     "end_time": "2023-09-14T17:18:44.476959200Z",
     "start_time": "2023-09-14T17:18:44.460984200Z"
    }
   },
   "id": "dbb3e881217d10be"
  },
  {
   "cell_type": "code",
   "execution_count": 90,
   "outputs": [
    {
     "data": {
      "text/plain": "<Axes: title={'center': 'Accuracy'}, xlabel='k'>"
     },
     "execution_count": 90,
     "metadata": {},
     "output_type": "execute_result"
    },
    {
     "data": {
      "text/plain": "<Figure size 640x480 with 1 Axes>",
      "image/png": "[encoded data removed]"
     },
     "metadata": {},
     "output_type": "display_data"
    }
   ],
   "source": [
    "mean_test_score.plot(title = 'Accuracy')"
   ],
   "metadata": {
    "collapsed": false,
    "ExecuteTime": {
     "end_time": "2023-09-14T17:18:44.586723400Z",
     "start_time": "2023-09-14T17:18:44.476959200Z"
    }
   },
   "id": "c91eb6fbfa244d03"
  },
  {
   "cell_type": "code",
   "execution_count": 90,
   "outputs": [],
   "source": [],
   "metadata": {
    "collapsed": false,
    "ExecuteTime": {
     "end_time": "2023-09-14T17:18:44.643801800Z",
     "start_time": "2023-09-14T17:18:44.586723400Z"
    }
   },
   "id": "4a973526ca283833"
  }
 ],
 "metadata": {
  "kernelspec": {
   "display_name": "Python 3",
   "language": "python",
   "name": "python3"
  },
  "language_info": {
   "codemirror_mode": {
    "name": "ipython",
    "version": 2
   },
   "file_extension": ".py",
   "mimetype": "text/x-python",
   "name": "python",
   "nbconvert_exporter": "python",
   "pygments_lexer": "ipython2",
   "version": "2.7.6"
  }
 },
 "nbformat": 4,
 "nbformat_minor": 5
}
