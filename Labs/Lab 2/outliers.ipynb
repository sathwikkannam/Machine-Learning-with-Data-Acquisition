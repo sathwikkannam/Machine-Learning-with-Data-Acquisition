{
 "cells": [
  {
   "cell_type": "code",
   "execution_count": null,
   "id": "initial_id",
   "metadata": {
    "collapsed": true
   },
   "outputs": [],
   "source": [
    "from pathlib import Path\n",
    "import pandas as pd"
   ]
  },
  {
   "cell_type": "code",
   "execution_count": null,
   "outputs": [],
   "source": [
    "all_training_set: {str: pd.DataFrame} = {\n",
    "    _class.replace(\".pkl\", \"\"): pd.read_pickle(_class)\n",
    "    for _class in Path(\"../Binaries/Class dataframes\").rglob(\"*.pkl\")\n",
    "}"
   ],
   "metadata": {
    "collapsed": false
   },
   "id": "e03b8b7ac478556c"
  },
  {
   "cell_type": "markdown",
   "source": [
    "# Normalisation"
   ],
   "metadata": {
    "collapsed": false
   },
   "id": "97dbee41d0a7ad13"
  },
  {
   "cell_type": "markdown",
   "source": [
    "#### We will work with the minmax scaler in the Scikit-learn package. Before scale the data we will look at some statistics. Below we will work with the training files only."
   ],
   "metadata": {
    "collapsed": false
   },
   "id": "720f725e1eb6d7d2"
  },
  {
   "cell_type": "markdown",
   "source": [
    "##### Use the describe method for all seven classes. What are the differences between all classes? What statistic measure is different for the classes?"
   ],
   "metadata": {
    "collapsed": false
   },
   "id": "b58d52d1f10cee21"
  },
  {
   "cell_type": "code",
   "execution_count": null,
   "outputs": [],
   "source": [
    "describe()"
   ],
   "metadata": {
    "collapsed": false
   },
   "id": "28e3d9d7ddbc0272"
  },
  {
   "cell_type": "markdown",
   "source": [
    "##### Make boxplots of each class as well."
   ],
   "metadata": {
    "collapsed": false
   },
   "id": "a31d5e4b383a3e49"
  },
  {
   "cell_type": "code",
   "execution_count": null,
   "outputs": [],
   "source": [
    "for i in all_training_set:\n",
    "    all_training_set[i].boxplot(column=all_training_set[i].columns.values, grid=True, title=i)"
   ],
   "metadata": {
    "collapsed": false
   },
   "id": "f41d9f5b1ee91792"
  }
 ],
 "metadata": {
  "kernelspec": {
   "display_name": "Python 3",
   "language": "python",
   "name": "python3"
  },
  "language_info": {
   "codemirror_mode": {
    "name": "ipython",
    "version": 2
   },
   "file_extension": ".py",
   "mimetype": "text/x-python",
   "name": "python",
   "nbconvert_exporter": "python",
   "pygments_lexer": "ipython2",
   "version": "2.7.6"
  }
 },
 "nbformat": 4,
 "nbformat_minor": 5
}
