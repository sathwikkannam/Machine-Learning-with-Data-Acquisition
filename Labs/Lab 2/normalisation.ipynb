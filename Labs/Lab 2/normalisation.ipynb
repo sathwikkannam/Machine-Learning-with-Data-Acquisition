{
 "cells": [
  {
   "cell_type": "code",
   "execution_count": 1,
   "outputs": [],
   "source": [
    "import pandas as pd\n",
    "from sklearn.preprocessing import MinMaxScaler\n",
    "\n",
    "import import_ipynb as ipynb\n",
    "from sklearn.model_selection import GridSearchCV\n",
    "from sklearn.neighbors import KNeighborsClassifier\n",
    "from sklearn.metrics import accuracy_score\n",
    "from common import display_accuracy, sns_cm"
   ],
   "metadata": {
    "collapsed": false,
    "ExecuteTime": {
     "end_time": "2023-09-24T14:06:57.799042Z",
     "start_time": "2023-09-24T14:06:56.671937600Z"
    }
   },
   "id": "fc7d310293202fc2"
  },
  {
   "cell_type": "code",
   "execution_count": 2,
   "outputs": [],
   "source": [
    "%%capture\n",
    "knn = ipynb.NotebookLoader().load_module('knn')"
   ],
   "metadata": {
    "collapsed": false,
    "ExecuteTime": {
     "end_time": "2023-09-24T14:07:16.415598300Z",
     "start_time": "2023-09-24T14:06:57.799042Z"
    }
   },
   "id": "aef344afcf4094f8"
  },
  {
   "cell_type": "code",
   "execution_count": 3,
   "outputs": [],
   "source": [
    "knn_ = KNeighborsClassifier()\n",
    "grid = GridSearchCV(estimator=knn_,\n",
    "                    param_grid=dict(n_neighbors=knn.k_range),\n",
    "                    cv=knn.folds,\n",
    "                    scoring='accuracy',\n",
    "                    return_train_score=False)"
   ],
   "metadata": {
    "collapsed": false,
    "ExecuteTime": {
     "end_time": "2023-09-24T14:07:16.415598300Z",
     "start_time": "2023-09-24T14:07:15.582680800Z"
    }
   },
   "id": "5a5e6a781e7b90c"
  },
  {
   "cell_type": "markdown",
   "source": [
    "# Normalisation"
   ],
   "metadata": {
    "collapsed": false
   },
   "id": "db5c2d026924788"
  },
  {
   "cell_type": "markdown",
   "source": [
    "#### Time for normalisation"
   ],
   "metadata": {
    "collapsed": false
   },
   "id": "82147ebb4fb4b7f2"
  },
  {
   "cell_type": "markdown",
   "source": [
    "##### Is it needed using normalization for the decision tree classifier? Why or why not?\n",
    "Normalisation for a decision tree is unnecessary as it makes decisions on the values of the features. "
   ],
   "metadata": {
    "collapsed": false
   },
   "id": "8ba18c1850ff8cae"
  },
  {
   "cell_type": "markdown",
   "source": [
    "##### Is it needed using normalization for the KNN classifier? Why or why not?\n",
    "Since KNN classification is based on distances between the datapoints. In most cases, features don't follow a similar range or have same units. Therefore, dominant features (features with large values) will significantly affect the distance calculation.\n",
    "\n",
    "In this case, the accelerometer values significantly dominate the distance calculation as the rate_gyro values are clustered within a small range. Therefore, the accelerometer values are the dominating factor. Hence, scaling/normalising the data is useful as it puts the rate_gyro features in a similar range as accelerometer features. "
   ],
   "metadata": {
    "collapsed": false
   },
   "id": "f446529168abded4"
  },
  {
   "cell_type": "markdown",
   "source": [
    "#### Independent of you answer below we will evaluate the minmax-scaler for the KNN algorithm. You are free to use a pipeline for organising the steps."
   ],
   "metadata": {
    "collapsed": false
   },
   "id": "606097f3f7047db2"
  },
  {
   "cell_type": "markdown",
   "source": [
    "##### Normalise the features so they all in the range from -1 to 1."
   ],
   "metadata": {
    "collapsed": false
   },
   "id": "9f4297ac0f005be6"
  },
  {
   "cell_type": "code",
   "execution_count": 4,
   "outputs": [],
   "source": [
    "def scale(df):\n",
    "    scaler = MinMaxScaler(feature_range=(-1, 1)).fit(df)\n",
    "    return scaler.fit_transform(df)"
   ],
   "metadata": {
    "collapsed": false,
    "ExecuteTime": {
     "end_time": "2023-09-24T14:07:16.415598300Z",
     "start_time": "2023-09-24T14:07:15.597879500Z"
    }
   },
   "id": "11fd32a5fae262fa"
  },
  {
   "cell_type": "code",
   "execution_count": 5,
   "outputs": [],
   "source": [
    "X_train_scaled = scale(knn.X_train)\n",
    "X_test_scaled = scale(knn.X_test)"
   ],
   "metadata": {
    "collapsed": false,
    "ExecuteTime": {
     "end_time": "2023-09-24T14:07:16.416597700Z",
     "start_time": "2023-09-24T14:07:15.616021900Z"
    }
   },
   "id": "7602122bdc49e192"
  },
  {
   "cell_type": "code",
   "execution_count": 6,
   "outputs": [],
   "source": [
    "X_test_sample_scaled = scale(knn.X_test_sample)"
   ],
   "metadata": {
    "collapsed": false,
    "ExecuteTime": {
     "end_time": "2023-09-24T14:07:16.416597700Z",
     "start_time": "2023-09-24T14:07:15.629560400Z"
    }
   },
   "id": "62d2c7e69b69dcb9"
  },
  {
   "cell_type": "code",
   "execution_count": 7,
   "outputs": [
    {
     "data": {
      "text/plain": "GridSearchCV(cv=KFold(n_splits=20, random_state=None, shuffle=False),\n             estimator=KNeighborsClassifier(),\n             param_grid={'n_neighbors': [1, 2, 3, 4, 5, 6, 7, 8, 9, 10, 11, 12,\n                                         13, 14, 15, 16, 17, 18, 19, 20, 21, 22,\n                                         23, 24, 25, 26, 27, 28, 29, 30, ...]},\n             scoring='accuracy')",
      "text/html": "<style>#sk-container-id-1 {color: black;}#sk-container-id-1 pre{padding: 0;}#sk-container-id-1 div.sk-toggleable {background-color: white;}#sk-container-id-1 label.sk-toggleable__label {cursor: pointer;display: block;width: 100%;margin-bottom: 0;padding: 0.3em;box-sizing: border-box;text-align: center;}#sk-container-id-1 label.sk-toggleable__label-arrow:before {content: \"▸\";float: left;margin-right: 0.25em;color: #696969;}#sk-container-id-1 label.sk-toggleable__label-arrow:hover:before {color: black;}#sk-container-id-1 div.sk-estimator:hover label.sk-toggleable__label-arrow:before {color: black;}#sk-container-id-1 div.sk-toggleable__content {max-height: 0;max-width: 0;overflow: hidden;text-align: left;background-color: #f0f8ff;}#sk-container-id-1 div.sk-toggleable__content pre {margin: 0.2em;color: black;border-radius: 0.25em;background-color: #f0f8ff;}#sk-container-id-1 input.sk-toggleable__control:checked~div.sk-toggleable__content {max-height: 200px;max-width: 100%;overflow: auto;}#sk-container-id-1 input.sk-toggleable__control:checked~label.sk-toggleable__label-arrow:before {content: \"▾\";}#sk-container-id-1 div.sk-estimator input.sk-toggleable__control:checked~label.sk-toggleable__label {background-color: #d4ebff;}#sk-container-id-1 div.sk-label input.sk-toggleable__control:checked~label.sk-toggleable__label {background-color: #d4ebff;}#sk-container-id-1 input.sk-hidden--visually {border: 0;clip: rect(1px 1px 1px 1px);clip: rect(1px, 1px, 1px, 1px);height: 1px;margin: -1px;overflow: hidden;padding: 0;position: absolute;width: 1px;}#sk-container-id-1 div.sk-estimator {font-family: monospace;background-color: #f0f8ff;border: 1px dotted black;border-radius: 0.25em;box-sizing: border-box;margin-bottom: 0.5em;}#sk-container-id-1 div.sk-estimator:hover {background-color: #d4ebff;}#sk-container-id-1 div.sk-parallel-item::after {content: \"\";width: 100%;border-bottom: 1px solid gray;flex-grow: 1;}#sk-container-id-1 div.sk-label:hover label.sk-toggleable__label {background-color: #d4ebff;}#sk-container-id-1 div.sk-serial::before {content: \"\";position: absolute;border-left: 1px solid gray;box-sizing: border-box;top: 0;bottom: 0;left: 50%;z-index: 0;}#sk-container-id-1 div.sk-serial {display: flex;flex-direction: column;align-items: center;background-color: white;padding-right: 0.2em;padding-left: 0.2em;position: relative;}#sk-container-id-1 div.sk-item {position: relative;z-index: 1;}#sk-container-id-1 div.sk-parallel {display: flex;align-items: stretch;justify-content: center;background-color: white;position: relative;}#sk-container-id-1 div.sk-item::before, #sk-container-id-1 div.sk-parallel-item::before {content: \"\";position: absolute;border-left: 1px solid gray;box-sizing: border-box;top: 0;bottom: 0;left: 50%;z-index: -1;}#sk-container-id-1 div.sk-parallel-item {display: flex;flex-direction: column;z-index: 1;position: relative;background-color: white;}#sk-container-id-1 div.sk-parallel-item:first-child::after {align-self: flex-end;width: 50%;}#sk-container-id-1 div.sk-parallel-item:last-child::after {align-self: flex-start;width: 50%;}#sk-container-id-1 div.sk-parallel-item:only-child::after {width: 0;}#sk-container-id-1 div.sk-dashed-wrapped {border: 1px dashed gray;margin: 0 0.4em 0.5em 0.4em;box-sizing: border-box;padding-bottom: 0.4em;background-color: white;}#sk-container-id-1 div.sk-label label {font-family: monospace;font-weight: bold;display: inline-block;line-height: 1.2em;}#sk-container-id-1 div.sk-label-container {text-align: center;}#sk-container-id-1 div.sk-container {/* jupyter's `normalize.less` sets `[hidden] { display: none; }` but bootstrap.min.css set `[hidden] { display: none !important; }` so we also need the `!important` here to be able to override the default hidden behavior on the sphinx rendered scikit-learn.org. See: https://github.com/scikit-learn/scikit-learn/issues/21755 */display: inline-block !important;position: relative;}#sk-container-id-1 div.sk-text-repr-fallback {display: none;}</style><div id=\"sk-container-id-1\" class=\"sk-top-container\"><div class=\"sk-text-repr-fallback\"><pre>GridSearchCV(cv=KFold(n_splits=20, random_state=None, shuffle=False),\n             estimator=KNeighborsClassifier(),\n             param_grid={&#x27;n_neighbors&#x27;: [1, 2, 3, 4, 5, 6, 7, 8, 9, 10, 11, 12,\n                                         13, 14, 15, 16, 17, 18, 19, 20, 21, 22,\n                                         23, 24, 25, 26, 27, 28, 29, 30, ...]},\n             scoring=&#x27;accuracy&#x27;)</pre><b>In a Jupyter environment, please rerun this cell to show the HTML representation or trust the notebook. <br />On GitHub, the HTML representation is unable to render, please try loading this page with nbviewer.org.</b></div><div class=\"sk-container\" hidden><div class=\"sk-item sk-dashed-wrapped\"><div class=\"sk-label-container\"><div class=\"sk-label sk-toggleable\"><input class=\"sk-toggleable__control sk-hidden--visually\" id=\"sk-estimator-id-1\" type=\"checkbox\" ><label for=\"sk-estimator-id-1\" class=\"sk-toggleable__label sk-toggleable__label-arrow\">GridSearchCV</label><div class=\"sk-toggleable__content\"><pre>GridSearchCV(cv=KFold(n_splits=20, random_state=None, shuffle=False),\n             estimator=KNeighborsClassifier(),\n             param_grid={&#x27;n_neighbors&#x27;: [1, 2, 3, 4, 5, 6, 7, 8, 9, 10, 11, 12,\n                                         13, 14, 15, 16, 17, 18, 19, 20, 21, 22,\n                                         23, 24, 25, 26, 27, 28, 29, 30, ...]},\n             scoring=&#x27;accuracy&#x27;)</pre></div></div></div><div class=\"sk-parallel\"><div class=\"sk-parallel-item\"><div class=\"sk-item\"><div class=\"sk-label-container\"><div class=\"sk-label sk-toggleable\"><input class=\"sk-toggleable__control sk-hidden--visually\" id=\"sk-estimator-id-2\" type=\"checkbox\" ><label for=\"sk-estimator-id-2\" class=\"sk-toggleable__label sk-toggleable__label-arrow\">estimator: KNeighborsClassifier</label><div class=\"sk-toggleable__content\"><pre>KNeighborsClassifier()</pre></div></div></div><div class=\"sk-serial\"><div class=\"sk-item\"><div class=\"sk-estimator sk-toggleable\"><input class=\"sk-toggleable__control sk-hidden--visually\" id=\"sk-estimator-id-3\" type=\"checkbox\" ><label for=\"sk-estimator-id-3\" class=\"sk-toggleable__label sk-toggleable__label-arrow\">KNeighborsClassifier</label><div class=\"sk-toggleable__content\"><pre>KNeighborsClassifier()</pre></div></div></div></div></div></div></div></div></div></div>"
     },
     "execution_count": 7,
     "metadata": {},
     "output_type": "execute_result"
    }
   ],
   "source": [
    "grid.fit(X=X_train_scaled, y=knn.y_train)"
   ],
   "metadata": {
    "collapsed": false,
    "ExecuteTime": {
     "start_time": "2023-09-24T14:07:15.645635400Z"
    }
   },
   "id": "2a7ba584607335c4"
  },
  {
   "cell_type": "markdown",
   "source": [
    "##### What is the optimal k-value?"
   ],
   "metadata": {
    "collapsed": false
   },
   "id": "e8e408d76f239120"
  },
  {
   "cell_type": "code",
   "execution_count": 8,
   "outputs": [
    {
     "data": {
      "text/plain": "{'n_neighbors': 1}"
     },
     "execution_count": 8,
     "metadata": {},
     "output_type": "execute_result"
    }
   ],
   "source": [
    "grid.best_params_"
   ],
   "metadata": {
    "collapsed": false,
    "ExecuteTime": {
     "start_time": "2023-09-24T14:07:30.329422500Z"
    }
   },
   "id": "4fa9673fbab605dd"
  },
  {
   "cell_type": "markdown",
   "source": [
    "##### What is the accuracy?"
   ],
   "metadata": {
    "collapsed": false
   },
   "id": "d02f28e2e243291b"
  },
  {
   "cell_type": "code",
   "execution_count": 9,
   "outputs": [
    {
     "data": {
      "text/plain": "1.0"
     },
     "execution_count": 9,
     "metadata": {},
     "output_type": "execute_result"
    }
   ],
   "source": [
    "grid.best_score_"
   ],
   "metadata": {
    "collapsed": false,
    "ExecuteTime": {
     "start_time": "2023-09-24T14:07:30.345857800Z"
    }
   },
   "id": "393c93556543e9da"
  },
  {
   "cell_type": "markdown",
   "source": [
    "#### Now it is time to look at the test set with the optimal k-value"
   ],
   "metadata": {
    "collapsed": false
   },
   "id": "e06ac05e03fda15e"
  },
  {
   "cell_type": "markdown",
   "source": [
    "##### Use the model on the test set and acquire both the accuracy and the plot the confusion matrix."
   ],
   "metadata": {
    "collapsed": false
   },
   "id": "b3392253fe6f27b6"
  },
  {
   "cell_type": "code",
   "execution_count": 10,
   "outputs": [],
   "source": [
    "y_scaled_pred_validation = grid.predict(X_test_scaled)"
   ],
   "metadata": {
    "collapsed": false,
    "ExecuteTime": {
     "start_time": "2023-09-24T14:07:30.360863600Z"
    }
   },
   "id": "94fc0b09891b2c0c"
  },
  {
   "cell_type": "code",
   "execution_count": 11,
   "outputs": [],
   "source": [
    "y_scaled_pred = grid.predict(X_test_sample_scaled)"
   ],
   "metadata": {
    "collapsed": false,
    "ExecuteTime": {
     "start_time": "2023-09-24T14:07:30.438964600Z"
    }
   },
   "id": "2b46159aa4e0a20c"
  },
  {
   "cell_type": "markdown",
   "source": [
    "##### Explain the difference between the accuracy for the validation set and the test set"
   ],
   "metadata": {
    "collapsed": false
   },
   "id": "1df937920a319235"
  },
  {
   "cell_type": "code",
   "execution_count": 12,
   "outputs": [
    {
     "name": "stdout",
     "output_type": "stream",
     "text": [
      "Validation set accuracy: 1.0\n",
      "Test set accuracy: 1.0\n"
     ]
    }
   ],
   "source": [
    "display_accuracy(accuracy_score(knn.y_test, y_scaled_pred_validation),\n",
    "                 accuracy_score(knn.y_true_sample, y_scaled_pred))"
   ],
   "metadata": {
    "collapsed": false,
    "ExecuteTime": {
     "start_time": "2023-09-24T14:07:30.556180900Z"
    }
   },
   "id": "64a9b7f8e3e437da"
  },
  {
   "cell_type": "markdown",
   "source": [
    "##### Explain the result in the confusion matrix"
   ],
   "metadata": {
    "collapsed": false
   },
   "id": "213a321cb299b46a"
  },
  {
   "cell_type": "markdown",
   "source": [
    "##### Validation"
   ],
   "metadata": {
    "collapsed": false
   },
   "id": "b9e8e921e6ffe67b"
  },
  {
   "cell_type": "code",
   "execution_count": 13,
   "outputs": [
    {
     "data": {
      "text/plain": "<Figure size 640x480 with 1 Axes>",
      "image/png": "[encoded data removed]"
     },
     "metadata": {},
     "output_type": "display_data"
    }
   ],
   "source": [
    "sns_cm(knn.y_test, y_scaled_pred_validation)"
   ],
   "metadata": {
    "collapsed": false,
    "ExecuteTime": {
     "start_time": "2023-09-24T14:07:30.592838600Z"
    }
   },
   "id": "35bb37b7c9d60bc1"
  },
  {
   "cell_type": "markdown",
   "source": [
    "##### Test set"
   ],
   "metadata": {
    "collapsed": false
   },
   "id": "1d4609befb041099"
  },
  {
   "cell_type": "code",
   "execution_count": 14,
   "outputs": [
    {
     "data": {
      "text/plain": "<Figure size 640x480 with 1 Axes>",
      "image/png": "[encoded data removed]"
     },
     "metadata": {},
     "output_type": "display_data"
    }
   ],
   "source": [
    "sns_cm(knn.y_true_sample, y_scaled_pred)"
   ],
   "metadata": {
    "collapsed": false,
    "ExecuteTime": {
     "start_time": "2023-09-24T14:07:30.671743700Z"
    }
   },
   "id": "fc0f77acecb853fa"
  },
  {
   "cell_type": "markdown",
   "source": [
    "##### Plot the accuracy as a function of the k-value. You need to extract that information from the model. How sensitive is the performance of the model for different k-values?"
   ],
   "metadata": {
    "collapsed": false
   },
   "id": "8bc7f04bbeb45faf"
  },
  {
   "cell_type": "code",
   "execution_count": 15,
   "outputs": [
    {
     "data": {
      "text/plain": "<Axes: title={'center': 'Accuracy'}, xlabel='k'>"
     },
     "execution_count": 15,
     "metadata": {},
     "output_type": "execute_result"
    },
    {
     "data": {
      "text/plain": "<Figure size 640x480 with 1 Axes>",
      "image/png": "[encoded data removed]"
     },
     "metadata": {},
     "output_type": "display_data"
    }
   ],
   "source": [
    "pd.DataFrame(grid.cv_results_['mean_test_score']).plot(title = 'Accuracy', xlabel='k')"
   ],
   "metadata": {
    "collapsed": false,
    "ExecuteTime": {
     "start_time": "2023-09-24T14:07:30.747950Z"
    }
   },
   "id": "c542bd30822a562e"
  },
  {
   "cell_type": "markdown",
   "source": [
    "##### Which one give the best result, KNN, KNN-normalised or Decision tree?\n",
    "They all give the same result. However, Decision Tree (criterion = 'gini', max_depth = 1) ~ 0.6 accuracy"
   ],
   "metadata": {
    "collapsed": false
   },
   "id": "466167299cf9695d"
  }
 ],
 "metadata": {
  "kernelspec": {
   "display_name": "Python 3",
   "language": "python",
   "name": "python3"
  },
  "language_info": {
   "codemirror_mode": {
    "name": "ipython",
    "version": 2
   },
   "file_extension": ".py",
   "mimetype": "text/x-python",
   "name": "python",
   "nbconvert_exporter": "python",
   "pygments_lexer": "ipython2",
   "version": "2.7.6"
  }
 },
 "nbformat": 4,
 "nbformat_minor": 5
}
