{
 "cells": [
  {
   "cell_type": "code",
   "execution_count": null,
   "outputs": [],
   "source": [
    "from sklearn.preprocessing import MinMaxScaler\n",
    "import pandas as pd\n",
    "import import_ipynb as ipynb"
   ],
   "metadata": {
    "collapsed": false
   },
   "id": "fc7d310293202fc2"
  },
  {
   "cell_type": "code",
   "execution_count": null,
   "outputs": [],
   "source": [
    "%%capture\n",
    "knn = ipynb.NotebookLoader().load_module('knn')"
   ],
   "metadata": {
    "collapsed": false
   },
   "id": "aef344afcf4094f8"
  },
  {
   "cell_type": "code",
   "execution_count": null,
   "outputs": [],
   "source": [
    "grid = knn.grid"
   ],
   "metadata": {
    "collapsed": false
   },
   "id": "5a5e6a781e7b90c"
  },
  {
   "cell_type": "markdown",
   "source": [
    "# Normalisation"
   ],
   "metadata": {
    "collapsed": false
   },
   "id": "db5c2d026924788"
  },
  {
   "cell_type": "markdown",
   "source": [
    "#### Time for normalisation"
   ],
   "metadata": {
    "collapsed": false
   },
   "id": "82147ebb4fb4b7f2"
  },
  {
   "cell_type": "markdown",
   "source": [
    "##### Is it needed using normalisation for the decision tree classifier? Why or why not?"
   ],
   "metadata": {
    "collapsed": false
   },
   "id": "8ba18c1850ff8cae"
  },
  {
   "cell_type": "markdown",
   "source": [
    "##### Is it needed using normalisation for the KNN classifier? Why or why not?"
   ],
   "metadata": {
    "collapsed": false
   },
   "id": "f446529168abded4"
  },
  {
   "cell_type": "markdown",
   "source": [
    "#### Independent of you answer below we will evaluate the minmax-scaler for the KNN algorithm. You are free to use a pipeline for organising the steps."
   ],
   "metadata": {
    "collapsed": false
   },
   "id": "606097f3f7047db2"
  },
  {
   "cell_type": "markdown",
   "source": [],
   "metadata": {
    "collapsed": false
   },
   "id": "5fe074ef39023204"
  },
  {
   "cell_type": "markdown",
   "source": [
    "##### Normalise the features so they all in the range from -1 to 1."
   ],
   "metadata": {
    "collapsed": false
   },
   "id": "9f4297ac0f005be6"
  },
  {
   "cell_type": "code",
   "execution_count": null,
   "outputs": [],
   "source": [
    "scaler = MinMaxScaler(feature_range=(-1, 1)).fit(knn.X_train)"
   ],
   "metadata": {
    "collapsed": false
   },
   "id": "initial_id"
  },
  {
   "cell_type": "code",
   "execution_count": null,
   "outputs": [],
   "source": [
    "X_train_scaled = scaler.transform(knn.X_train)"
   ],
   "metadata": {
    "collapsed": false
   },
   "id": "3d7b2dc2f6a46ca0"
  },
  {
   "cell_type": "code",
   "execution_count": null,
   "outputs": [],
   "source": [
    "scaler = MinMaxScaler(feature_range=(-1, 1)).fit(knn.X_test)"
   ],
   "metadata": {
    "collapsed": false
   },
   "id": "b4ab771e86b7bdd4"
  },
  {
   "cell_type": "code",
   "execution_count": null,
   "outputs": [],
   "source": [
    "X_test_scaled = scaler.transform(knn.X_test)"
   ],
   "metadata": {
    "collapsed": false
   },
   "id": "dae2201d4efc2a98"
  },
  {
   "cell_type": "code",
   "execution_count": null,
   "outputs": [],
   "source": [
    "grid.fit(X=X_train_scaled, y=knn.y_train)"
   ],
   "metadata": {
    "collapsed": false
   },
   "id": "2a7ba584607335c4"
  },
  {
   "cell_type": "markdown",
   "source": [
    "##### What is the optimal k-value?"
   ],
   "metadata": {
    "collapsed": false
   },
   "id": "e8e408d76f239120"
  },
  {
   "cell_type": "markdown",
   "source": [
    "grid.best_params_"
   ],
   "metadata": {
    "collapsed": false
   },
   "id": "97e4f554c6380fa6"
  },
  {
   "cell_type": "markdown",
   "source": [
    "##### What is the accuracy?"
   ],
   "metadata": {
    "collapsed": false
   },
   "id": "d02f28e2e243291b"
  },
  {
   "cell_type": "code",
   "execution_count": null,
   "outputs": [],
   "source": [
    "grid.best_score_"
   ],
   "metadata": {
    "collapsed": false
   },
   "id": "393c93556543e9da"
  }
 ],
 "metadata": {
  "kernelspec": {
   "display_name": "Python 3",
   "language": "python",
   "name": "python3"
  },
  "language_info": {
   "codemirror_mode": {
    "name": "ipython",
    "version": 2
   },
   "file_extension": ".py",
   "mimetype": "text/x-python",
   "name": "python",
   "nbconvert_exporter": "python",
   "pygments_lexer": "ipython2",
   "version": "2.7.6"
  }
 },
 "nbformat": 4,
 "nbformat_minor": 5
}
